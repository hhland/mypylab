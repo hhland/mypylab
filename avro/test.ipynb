{
 "metadata": {
  "name": "",
  "signature": "sha256:9a520c7a8e7ceeb5973901c57c5e8954c0c117418bb8ff0ffb39f07671a8fc62"
 },
 "nbformat": 3,
 "nbformat_minor": 0,
 "worksheets": [
  {
   "cells": [
    {
     "cell_type": "code",
     "collapsed": false,
     "input": [
      "import avro\n",
      "from avro.datafile import DataFileReader, DataFileWriter\n",
      "from avro.io import DatumReader, DatumWriter"
     ],
     "language": "python",
     "metadata": {},
     "outputs": [],
     "prompt_number": 6
    },
    {
     "cell_type": "code",
     "collapsed": false,
     "input": [
      "schema = avro.schema.parse(open(\"user.avsc\").read())\n",
      "\n",
      "writer = DataFileWriter(open(\"users.avro\", \"w\"), DatumWriter(), schema)\n",
      "writer.append({\"name\": \"Alyssa\", \"favorite_number\": 256})\n",
      "writer.append({\"name\": \"Ben\", \"favorite_number\": 7, \"favorite_color\": \"red\"})\n",
      "writer.close()\n",
      "\n"
     ],
     "language": "python",
     "metadata": {},
     "outputs": [],
     "prompt_number": 11
    },
    {
     "cell_type": "code",
     "collapsed": false,
     "input": [
      "reader = DataFileReader(open(\"users.avro\", \"r\"), DatumReader())\n",
      "for user in reader:\n",
      "    print user\n",
      "reader.close()"
     ],
     "language": "python",
     "metadata": {},
     "outputs": [
      {
       "output_type": "stream",
       "stream": "stdout",
       "text": [
        "{u'favorite_color': None, u'favorite_number': 256, u'name': u'Alyssa'}\n",
        "{u'favorite_color': u'red', u'favorite_number': 7, u'name': u'Ben'}\n"
       ]
      }
     ],
     "prompt_number": 12
    },
    {
     "cell_type": "code",
     "collapsed": false,
     "input": [],
     "language": "python",
     "metadata": {},
     "outputs": []
    }
   ],
   "metadata": {}
  }
 ]
}