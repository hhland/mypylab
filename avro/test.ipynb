{
 "metadata": {
  "name": "",
  "signature": "sha256:1dc2ab7abbb6cbe1a5145e78beca2864542ad0729a27b93ba15da5b7cb27336d"
 },
 "nbformat": 3,
 "nbformat_minor": 0,
 "worksheets": [
  {
   "cells": [
    {
     "cell_type": "code",
     "collapsed": false,
     "input": [
      "import avro\n",
      "from avro.datafile import DataFileReader, DataFileWriter\n",
      "from avro.io import DatumReader, DatumWriter"
     ],
     "language": "python",
     "metadata": {},
     "outputs": [],
     "prompt_number": 1
    },
    {
     "cell_type": "code",
     "collapsed": false,
     "input": [
      "schema = avro.schema.parse(open(\"user.avsc\").read())\n",
      "\n",
      "writer = DataFileWriter(open(\"users.avro\", \"w\"), DatumWriter(), schema)\n",
      "writer.append({\"name\": \"Alyssa\", \"favorite_number\": 256})\n",
      "writer.append({\"name\": \"Ben\", \"favorite_number\": 7, \"favorite_color\": \"red\"})\n",
      "writer.close()\n",
      "\n"
     ],
     "language": "python",
     "metadata": {},
     "outputs": [],
     "prompt_number": 2
    },
    {
     "cell_type": "code",
     "collapsed": false,
     "input": [
      "reader = DataFileReader(open(\"users.avro\", \"r\"), DatumReader())\n",
      "for user in reader:\n",
      "    print user\n",
      "reader.close()"
     ],
     "language": "python",
     "metadata": {},
     "outputs": [
      {
       "output_type": "stream",
       "stream": "stdout",
       "text": [
        "{u'favorite_color': None, u'favorite_number': 256, u'name': u'Alyssa'}\n",
        "{u'favorite_color': u'red', u'favorite_number': 7, u'name': u'Ben'}\n"
       ]
      }
     ],
     "prompt_number": 3
    },
    {
     "cell_type": "code",
     "collapsed": false,
     "input": [],
     "language": "python",
     "metadata": {},
     "outputs": []
    }
   ],
   "metadata": {}
  }
 ]
}