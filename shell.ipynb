{
 "metadata": {
  "name": "",
  "signature": "sha256:ab740ba6527f60a67998e3f7b7a90a7ffd939e5431e240cde2cada9b36fca8e3"
 },
 "nbformat": 3,
 "nbformat_minor": 0,
 "worksheets": [
  {
   "cells": [
    {
     "cell_type": "code",
     "collapsed": false,
     "input": [
      "!git add .\n",
      "!git commit -a -m \"....\""
     ],
     "language": "python",
     "metadata": {},
     "outputs": [
      {
       "output_type": "stream",
       "stream": "stdout",
       "text": [
        "[master 7792221] ....\r\n",
        " 14 files changed, 727 insertions(+), 196 deletions(-)\r\n",
        " create mode 100644 .Rhistory\r\n",
        " create mode 100644 DataMingAlgorithms/.ipynb_checkpoints/Decision trees-checkpoint.ipynb\r\n",
        " create mode 100644 DataMingAlgorithms/Decision trees.ipynb\r\n",
        " create mode 100644 MATLABOptimizationTechniques/.ipynb_checkpoints/Optimization Using Symbolic  Computation-checkpoint.ipynb\r\n",
        " create mode 100644 MATLABOptimizationTechniques/.ipynb_checkpoints/Optimization by Numerical Methods Solving Equations-checkpoint.ipynb\r\n",
        " create mode 100644 MATLABOptimizationTechniques/Optimization Using Symbolic  Computation.ipynb\r\n",
        " create mode 100644 MATLABOptimizationTechniques/Optimization by Numerical Methods Solving Equations.ipynb\r\n",
        " create mode 100644 MATLABOptimizationTechniques/tmp/fixedpoint.m\r\n",
        " create mode 100644 MATLABOptimizationTechniques/tmp/g1.m\r\n",
        " create mode 100644 MATLABOptimizationTechniques/tmp/newton.m\r\n",
        " create mode 100644 PracticalDataScienceCookbook/Driving Visual  Analysis with Automobile Data.ipynb\r\n",
        " rewrite shell.ipynb (72%)\r\n"
       ]
      }
     ],
     "prompt_number": 3
    },
    {
     "cell_type": "code",
     "collapsed": false,
     "input": [
      "!git push"
     ],
     "language": "python",
     "metadata": {},
     "outputs": [
      {
       "output_type": "stream",
       "stream": "stdout",
       "text": [
        "Everything up-to-date\r\n"
       ]
      }
     ],
     "prompt_number": 5
    },
    {
     "cell_type": "code",
     "collapsed": false,
     "input": [
      "!mkdir ScipyAndNumpy"
     ],
     "language": "python",
     "metadata": {},
     "outputs": [],
     "prompt_number": 3
    },
    {
     "cell_type": "code",
     "collapsed": false,
     "input": [
      "!cat oct2py/roundtrip.m"
     ],
     "language": "python",
     "metadata": {},
     "outputs": [
      {
       "output_type": "stream",
       "stream": "stdout",
       "text": [
        "\r",
        "\r\n",
        "function x, class = roundtrip(y)\r",
        "\r\n",
        "\r",
        "\r\n",
        "  % returns the variable it was given, and optionally the class\r",
        "\r\n",
        "\r",
        "\r\n",
        "  x = y\r",
        "\r\n",
        "\r",
        "\r\n",
        "  if nargout == 2\r",
        "\r\n",
        "\r",
        "\r\n",
        "\t class = class(x)\r",
        "\r\n",
        "\r",
        "\r\n",
        "  end\r",
        "\r\n",
        "\r",
        "\r\n",
        "end\r",
        "\r\n"
       ]
      }
     ],
     "prompt_number": 15
    },
    {
     "cell_type": "code",
     "collapsed": false,
     "input": [
      "import IPython.html.nbextensions as nb\n",
      "ext= 'https://github.com/ipython-contrib/IPython-notebook-extensions/archive/master.zip'\n",
      "nb.install_nbextension(ext)"
     ],
     "language": "python",
     "metadata": {},
     "outputs": [
      {
       "output_type": "stream",
       "stream": "stdout",
       "text": [
        "downloading https://github.com/ipython-contrib/IPython-notebook-extensions/archive/master.zip to /tmp/tmpQf3d22/master.zip\n",
        "extracting /tmp/tmpQf3d22/master.zip to /root/.ipython/nbextensions"
       ]
      },
      {
       "output_type": "stream",
       "stream": "stdout",
       "text": [
        "\n"
       ]
      }
     ],
     "prompt_number": 4
    },
    {
     "cell_type": "code",
     "collapsed": false,
     "input": [],
     "language": "python",
     "metadata": {},
     "outputs": []
    }
   ],
   "metadata": {}
  }
 ]
}