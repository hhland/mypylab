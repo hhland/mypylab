{
 "metadata": {
  "name": "",
  "signature": "sha256:5d06b752224fcdd63df88ebc2603b533ff969a0c29ee916488aa63b0d127792a"
 },
 "nbformat": 3,
 "nbformat_minor": 0,
 "worksheets": [
  {
   "cells": [
    {
     "cell_type": "code",
     "collapsed": false,
     "input": [
      "!git add .\n",
      "!git commit -a -m \"....\""
     ],
     "language": "python",
     "metadata": {},
     "outputs": [
      {
       "output_type": "stream",
       "stream": "stdout",
       "text": [
        "[master 53ca8dc] ....\r\n",
        " 72 files changed, 4619 insertions(+), 482 deletions(-)\r\n",
        " rename spark/shell.ipynb => CookbookForR/.ipynb_checkpoints/Basics-checkpoint.ipynb (50%)\r\n",
        " create mode 100644 CookbookForR/.ipynb_checkpoints/Graphs-checkpoint.ipynb\r\n",
        " create mode 100644 CookbookForR/Basics.ipynb\r\n",
        " create mode 100644 CookbookForR/Graphs.ipynb\r\n",
        " create mode 100644 PracticalDataScienceWithR/.ipynb_checkpoints/5 Choosing and evaluating models-checkpoint.ipynb\r\n",
        " rename spark/wordcount.ipynb => PracticalDataScienceWithR/5 Choosing and evaluating models.ipynb (56%)\r\n",
        " create mode 100644 ThinkPython/.ipynb_checkpoints/Fruitful Functions-checkpoint.ipynb\r\n",
        " create mode 100644 ThinkPython/.ipynb_checkpoints/Lists-checkpoint.ipynb\r\n",
        " rename sympy/.ipynb_checkpoints/Gotchas-checkpoint.ipynb => ThinkPython/Fruitful Functions.ipynb (54%)\r\n",
        " mode change 100755 => 100644\r\n",
        " rename sympy/Gotchas.ipynb => ThinkPython/Lists.ipynb (50%)\r\n",
        " mode change 100755 => 100644\r\n",
        " create mode 100644 example/.ipynb_checkpoints/R-checkpoint.ipynb\r\n",
        " create mode 100644 example/.ipynb_checkpoints/sympy-checkpoint.ipynb\r\n",
        " create mode 100644 example/R.ipynb\r\n",
        " create mode 100644 example/sympy.ipynb\r\n",
        " delete mode 100755 oct2py/.ipynb_checkpoints/test-checkpoint.ipynb\r\n",
        " delete mode 100755 oct2py/roundtrip.m\r\n",
        " rename {spark/pyspark => pyspark}/__init__.py (100%)\r\n",
        " rename {spark/pyspark => pyspark}/__init__.pyc (100%)\r\n",
        " rename {spark/pyspark => pyspark}/accumulators.py (100%)\r\n",
        " rename {spark/pyspark => pyspark}/accumulators.pyc (100%)\r\n",
        " rename {spark/pyspark => pyspark}/broadcast.py (100%)\r\n",
        " rename {spark/pyspark => pyspark}/broadcast.pyc (100%)\r\n",
        " rename {spark/pyspark => pyspark}/cloudpickle.py (100%)\r\n",
        " rename {spark/pyspark => pyspark}/cloudpickle.pyc (100%)\r\n",
        " rename {spark/pyspark => pyspark}/conf.py (100%)\r\n",
        " rename {spark/pyspark => pyspark}/conf.pyc (100%)\r\n",
        " rename {spark/pyspark => pyspark}/context.py (100%)\r\n",
        " rename {spark/pyspark => pyspark}/context.pyc (100%)\r\n",
        " rename {spark/pyspark => pyspark}/daemon.py (100%)\r\n",
        " rename {spark/pyspark => pyspark}/files.py (100%)\r\n",
        " rename {spark/pyspark => pyspark}/files.pyc (100%)\r\n",
        " rename {spark/pyspark => pyspark}/java_gateway.py (100%)\r\n",
        " rename {spark/pyspark => pyspark}/java_gateway.pyc (100%)\r\n",
        " rename {spark/pyspark => pyspark}/join.py (100%)\r\n",
        " rename {spark/pyspark => pyspark}/join.pyc (100%)\r\n",
        " rename {spark/pyspark => pyspark}/mllib/__init__.py (100%)\r\n",
        " rename {spark/pyspark => pyspark}/mllib/__init__.pyc (100%)\r\n",
        " rename {spark/pyspark => pyspark}/mllib/_common.py (100%)\r\n",
        " rename {spark/pyspark => pyspark}/mllib/_common.pyc (100%)\r\n",
        " rename {spark/pyspark => pyspark}/mllib/classification.py (100%)\r\n",
        " rename {spark/pyspark => pyspark}/mllib/clustering.py (100%)\r\n",
        " rename {spark/pyspark => pyspark}/mllib/linalg.py (100%)\r\n",
        " rename {spark/pyspark => pyspark}/mllib/linalg.pyc (100%)\r\n",
        " rename {spark/pyspark => pyspark}/mllib/recommendation.py (100%)\r\n",
        " rename {spark/pyspark => pyspark}/mllib/regression.py (100%)\r\n",
        " rename {spark/pyspark => pyspark}/mllib/regression.pyc (100%)\r\n",
        " rename {spark/pyspark => pyspark}/mllib/tests.py (100%)\r\n",
        " rename {spark/pyspark => pyspark}/mllib/util.py (100%)\r\n",
        " rename {spark/pyspark => pyspark}/rdd.py (100%)\r\n",
        " rename {spark/pyspark => pyspark}/rdd.pyc (100%)\r\n",
        " rename {spark/pyspark => pyspark}/rddsampler.py (100%)\r\n",
        " rename {spark/pyspark => pyspark}/rddsampler.pyc (100%)\r\n",
        " rename {spark/pyspark => pyspark}/resultiterable.py (100%)\r\n",
        " rename {spark/pyspark => pyspark}/resultiterable.pyc (100%)\r\n",
        " rename {spark/pyspark => pyspark}/serializers.py (100%)\r\n",
        " rename {spark/pyspark => pyspark}/serializers.pyc (100%)\r\n",
        " rename {spark/pyspark => pyspark}/shell.py (100%)\r\n",
        " rename {spark/pyspark => pyspark}/sql.py (100%)\r\n",
        " rename {spark/pyspark => pyspark}/sql.pyc (100%)\r\n",
        " rename {spark/pyspark => pyspark}/statcounter.py (100%)\r\n",
        " rename {spark/pyspark => pyspark}/statcounter.pyc (100%)\r\n",
        " rename {spark/pyspark => pyspark}/storagelevel.py (100%)\r\n",
        " rename {spark/pyspark => pyspark}/storagelevel.pyc (100%)\r\n",
        " rename {spark/pyspark => pyspark}/tests.py (100%)\r\n",
        " rename {spark/pyspark => pyspark}/worker.py (100%)\r\n",
        " rename {spark/pyspark => pyspark}/worker.pyc (100%)\r\n",
        " delete mode 100644 spark/.ipynb_checkpoints/wordcount-checkpoint.ipynb\r\n",
        " delete mode 100755 sympy/.ipynb_checkpoints/Printing-checkpoint.ipynb\r\n",
        " delete mode 100755 sympy/Printing.ipynb\r\n"
       ]
      }
     ],
     "prompt_number": 6
    },
    {
     "cell_type": "code",
     "collapsed": false,
     "input": [
      "!git push"
     ],
     "language": "python",
     "metadata": {},
     "outputs": [
      {
       "output_type": "stream",
       "stream": "stdout",
       "text": [
        "To https://github.com/hhland/mypylab.git\r\n",
        "   9c4d8a3..53ca8dc  master -> master\r\n"
       ]
      }
     ],
     "prompt_number": 7
    },
    {
     "cell_type": "code",
     "collapsed": false,
     "input": [
      "!mkdir RinAction"
     ],
     "language": "python",
     "metadata": {},
     "outputs": [],
     "prompt_number": 5
    },
    {
     "cell_type": "code",
     "collapsed": false,
     "input": [
      "!cat oct2py/roundtrip.m"
     ],
     "language": "python",
     "metadata": {},
     "outputs": [
      {
       "output_type": "stream",
       "stream": "stdout",
       "text": [
        "\r",
        "\r\n",
        "function x, class = roundtrip(y)\r",
        "\r\n",
        "\r",
        "\r\n",
        "  % returns the variable it was given, and optionally the class\r",
        "\r\n",
        "\r",
        "\r\n",
        "  x = y\r",
        "\r\n",
        "\r",
        "\r\n",
        "  if nargout == 2\r",
        "\r\n",
        "\r",
        "\r\n",
        "\t class = class(x)\r",
        "\r\n",
        "\r",
        "\r\n",
        "  end\r",
        "\r\n",
        "\r",
        "\r\n",
        "end\r",
        "\r\n"
       ]
      }
     ],
     "prompt_number": 15
    },
    {
     "cell_type": "code",
     "collapsed": false,
     "input": [],
     "language": "python",
     "metadata": {},
     "outputs": []
    }
   ],
   "metadata": {}
  }
 ]
}