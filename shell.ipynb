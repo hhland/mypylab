{
 "metadata": {
  "name": "",
  "signature": "sha256:566704d53fcbd89f55306903fe1d58990c2f426f9b7a4a1e4717861ce13c30de"
 },
 "nbformat": 3,
 "nbformat_minor": 0,
 "worksheets": [
  {
   "cells": [
    {
     "cell_type": "code",
     "collapsed": false,
     "input": [
      "!git add .\n",
      "!git commit -a -m \"....\""
     ],
     "language": "python",
     "metadata": {},
     "outputs": [
      {
       "output_type": "stream",
       "stream": "stdout",
       "text": [
        "[master 32396fa] ....\r\n",
        " 11 files changed, 691 insertions(+), 218 deletions(-)\r\n",
        " create mode 100644 CircuitAndSystemAnalysis/.ipynb_checkpoints/Resistance circuit-checkpoint.ipynb\r\n",
        " create mode 100644 CircuitAndSystemAnalysis/Frequency domain analysis.ipynb\r\n",
        " create mode 100644 CircuitAndSystemAnalysis/Resistance circuit.ipynb\r\n",
        " create mode 100644 CircuitAndSystemAnalysis/The time domain analysis of dynamic circuit.ipynb\r\n",
        " create mode 100644 CircuitAndSystemAnalysis/The visual signal.ipynb\r\n",
        " create mode 100644 EffectiveAwkProgramming3rd/tmp/BBS-list\r\n",
        " create mode 100644 EffectiveAwkProgramming3rd/tmp/inventory-shipped\r\n",
        " create mode 100644 LearningCythonProgramming/Extending Applications.ipynb\r\n",
        " rewrite shell.ipynb (78%)\r\n"
       ]
      }
     ],
     "prompt_number": 5
    },
    {
     "cell_type": "code",
     "collapsed": false,
     "input": [
      "!git push"
     ],
     "language": "python",
     "metadata": {},
     "outputs": [
      {
       "output_type": "stream",
       "stream": "stdout",
       "text": [
        "To https://github.com/hhland/mypylab.git\r\n",
        "   dee9dc6..31b251e  master -> master\r\n"
       ]
      }
     ],
     "prompt_number": 9
    },
    {
     "cell_type": "code",
     "collapsed": false,
     "input": [
      "!mkdir ScipyAndNumpy"
     ],
     "language": "python",
     "metadata": {},
     "outputs": [],
     "prompt_number": 3
    },
    {
     "cell_type": "code",
     "collapsed": false,
     "input": [
      "!cat oct2py/roundtrip.m"
     ],
     "language": "python",
     "metadata": {},
     "outputs": [
      {
       "output_type": "stream",
       "stream": "stdout",
       "text": [
        "\r",
        "\r\n",
        "function x, class = roundtrip(y)\r",
        "\r\n",
        "\r",
        "\r\n",
        "  % returns the variable it was given, and optionally the class\r",
        "\r\n",
        "\r",
        "\r\n",
        "  x = y\r",
        "\r\n",
        "\r",
        "\r\n",
        "  if nargout == 2\r",
        "\r\n",
        "\r",
        "\r\n",
        "\t class = class(x)\r",
        "\r\n",
        "\r",
        "\r\n",
        "  end\r",
        "\r\n",
        "\r",
        "\r\n",
        "end\r",
        "\r\n"
       ]
      }
     ],
     "prompt_number": 15
    },
    {
     "cell_type": "code",
     "collapsed": false,
     "input": [
      "import IPython.html.nbextensions as nb\n",
      "ext= 'https://github.com/ipython-contrib/IPython-notebook-extensions/archive/master.zip'\n",
      "nb.install_nbextension(ext)"
     ],
     "language": "python",
     "metadata": {},
     "outputs": [
      {
       "output_type": "stream",
       "stream": "stdout",
       "text": [
        "downloading https://github.com/ipython-contrib/IPython-notebook-extensions/archive/master.zip to /tmp/tmpQf3d22/master.zip\n",
        "extracting /tmp/tmpQf3d22/master.zip to /root/.ipython/nbextensions"
       ]
      },
      {
       "output_type": "stream",
       "stream": "stdout",
       "text": [
        "\n"
       ]
      }
     ],
     "prompt_number": 4
    },
    {
     "cell_type": "code",
     "collapsed": false,
     "input": [],
     "language": "python",
     "metadata": {},
     "outputs": []
    }
   ],
   "metadata": {}
  }
 ]
}