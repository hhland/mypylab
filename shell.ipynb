{
 "metadata": {
  "name": "",
  "signature": "sha256:dd175870bfcc20877b44594f7458b32b9785233fc56050ce4492150575837ac2"
 },
 "nbformat": 3,
 "nbformat_minor": 0,
 "worksheets": [
  {
   "cells": [
    {
     "cell_type": "code",
     "collapsed": false,
     "input": [
      "!git add . && git commit -a -m \"....\""
     ],
     "language": "python",
     "metadata": {},
     "outputs": [
      {
       "output_type": "stream",
       "stream": "stdout",
       "text": [
        "[master 25d1b3c] ....\r\n",
        " 7 files changed, 869 insertions(+), 41 deletions(-)\r\n",
        " create mode 100644 .ipynb_checkpoints/apriori-checkpoint.ipynb\r\n",
        " create mode 100644 RinAction/.ipynb_checkpoints/Analysis of variance-checkpoint.ipynb\r\n",
        " create mode 100644 RinAction/Analysis of variance.ipynb\r\n",
        " create mode 100644 RinAction/Power analysis.ipynb\r\n",
        " create mode 100644 apriori.ipynb\r\n",
        " create mode 100644 script/apriori.py\r\n"
       ]
      }
     ],
     "prompt_number": 1
    },
    {
     "cell_type": "code",
     "collapsed": false,
     "input": [
      "!git push"
     ],
     "language": "python",
     "metadata": {},
     "outputs": [
      {
       "output_type": "stream",
       "stream": "stdout",
       "text": [
        "Username for 'https://github.com': "
       ]
      }
     ]
    },
    {
     "cell_type": "code",
     "collapsed": false,
     "input": [
      "!git config --global credential.helper store"
     ],
     "language": "python",
     "metadata": {},
     "outputs": []
    },
    {
     "cell_type": "code",
     "collapsed": false,
     "input": [
      "!cat oct2py/roundtrip.m"
     ],
     "language": "python",
     "metadata": {},
     "outputs": [
      {
       "output_type": "stream",
       "stream": "stdout",
       "text": [
        "\r",
        "\r\n",
        "function x, class = roundtrip(y)\r",
        "\r\n",
        "\r",
        "\r\n",
        "  % returns the variable it was given, and optionally the class\r",
        "\r\n",
        "\r",
        "\r\n",
        "  x = y\r",
        "\r\n",
        "\r",
        "\r\n",
        "  if nargout == 2\r",
        "\r\n",
        "\r",
        "\r\n",
        "\t class = class(x)\r",
        "\r\n",
        "\r",
        "\r\n",
        "  end\r",
        "\r\n",
        "\r",
        "\r\n",
        "end\r",
        "\r\n"
       ]
      }
     ],
     "prompt_number": 15
    },
    {
     "cell_type": "code",
     "collapsed": false,
     "input": [
      "import IPython.html.nbextensions as nb\n",
      "ext= 'https://github.com/ipython-contrib/IPython-notebook-extensions/archive/master.zip'\n",
      "nb.install_nbextension(ext)"
     ],
     "language": "python",
     "metadata": {},
     "outputs": [
      {
       "output_type": "stream",
       "stream": "stdout",
       "text": [
        "downloading https://github.com/ipython-contrib/IPython-notebook-extensions/archive/master.zip to /tmp/tmpQf3d22/master.zip\n",
        "extracting /tmp/tmpQf3d22/master.zip to /root/.ipython/nbextensions"
       ]
      },
      {
       "output_type": "stream",
       "stream": "stdout",
       "text": [
        "\n"
       ]
      }
     ],
     "prompt_number": 4
    },
    {
     "cell_type": "code",
     "collapsed": false,
     "input": [
      "!rm -rf pig/tmp/script1-local-results*"
     ],
     "language": "python",
     "metadata": {},
     "outputs": [],
     "prompt_number": 3
    },
    {
     "cell_type": "code",
     "collapsed": false,
     "input": [
      "!cd /d/git/MyClojureLab && mkdir ClojureForMachineLearning"
     ],
     "language": "python",
     "metadata": {},
     "outputs": [],
     "prompt_number": 1
    },
    {
     "cell_type": "code",
     "collapsed": false,
     "input": [
      "!cd /d/git/MyClojureLab && git add . && git commit -a -m \"...\" && git push\n"
     ],
     "language": "python",
     "metadata": {},
     "outputs": [
      {
       "output_type": "stream",
       "stream": "stdout",
       "text": [
        "[master 29c377c] ...\r\n",
        " 2 files changed, 140 insertions(+)\r\n",
        " create mode 100644 .ipynb_checkpoints/Untitled0-checkpoint.ipynb\r\n",
        " create mode 100644 Untitled0.ipynb\r\n"
       ]
      },
      {
       "output_type": "stream",
       "stream": "stdout",
       "text": [
        "To https://github.com/hhland/MyClojureLab.git\r\n",
        " ! [rejected]        master -> master (non-fast-forward)\r\n",
        "error: failed to push some refs to 'https://github.com/hhland/MyClojureLab.git'\r\n"
       ]
      },
      {
       "output_type": "stream",
       "stream": "stdout",
       "text": [
        "To prevent you from losing history, non-fast-forward updates were rejected\r\n",
        "Merge the remote changes (e.g. 'git pull') before pushing again.  See the\r\n",
        "'Note about fast-forwards' section of 'git push --help' for details.\r\n"
       ]
      }
     ],
     "prompt_number": 1
    },
    {
     "cell_type": "code",
     "collapsed": false,
     "input": [
      "!cd /d/git/MyScalaLab && git add . && git commit -a -m \"...\" && git push"
     ],
     "language": "python",
     "metadata": {},
     "outputs": []
    },
    {
     "cell_type": "code",
     "collapsed": false,
     "input": [
      "!mkdir scikit-learnCookbook"
     ],
     "language": "python",
     "metadata": {},
     "outputs": [],
     "prompt_number": 1
    },
    {
     "cell_type": "code",
     "collapsed": false,
     "input": [],
     "language": "python",
     "metadata": {},
     "outputs": []
    }
   ],
   "metadata": {}
  }
 ]
}