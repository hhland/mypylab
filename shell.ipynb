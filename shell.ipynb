{
 "metadata": {
  "name": "",
  "signature": "sha256:ae08e80e42835958871368c7620b144a2bfd1deaddb868ce2d2b298229ee5753"
 },
 "nbformat": 3,
 "nbformat_minor": 0,
 "worksheets": [
  {
   "cells": [
    {
     "cell_type": "code",
     "collapsed": false,
     "input": [
      "!git add .\n",
      "!git commit -a -m \"....\""
     ],
     "language": "python",
     "metadata": {},
     "outputs": [
      {
       "output_type": "stream",
       "stream": "stdout",
       "text": [
        "[master 184bc18] ....\r\n",
        " 17 files changed, 1049 insertions(+), 17 deletions(-)\r\n",
        " create mode 100644 BuildingMachineLearningSystemWithPython/.ipynb_checkpoints/Clustering look for the relevant posts-checkpoint.ipynb\r\n",
        " create mode 100644 BuildingMachineLearningSystemWithPython/.ipynb_checkpoints/How to classify the real samples-checkpoint.ipynb\r\n",
        " create mode 100644 BuildingMachineLearningSystemWithPython/Classify Detecting inferior answer.ipynb\r\n",
        " create mode 100644 BuildingMachineLearningSystemWithPython/Clustering look for the relevant posts.ipynb\r\n",
        " create mode 100644 BuildingMachineLearningSystemWithPython/Computer vision pattern recognition.ipynb\r\n",
        " create mode 100644 BuildingMachineLearningSystemWithPython/Dimension reduction.ipynb\r\n",
        " create mode 100644 BuildingMachineLearningSystemWithPython/How to classify the real samples.ipynb\r\n",
        " create mode 100644 BuildingMachineLearningSystemWithPython/Topic model.ipynb\r\n",
        " create mode 100644 LearningSciPyForNumericalAndScientifiComputing/.ipynb_checkpoints/SciPy for Linear Algebra-checkpoint.ipynb\r\n",
        " create mode 100644 LearningSciPyForNumericalAndScientifiComputing/SciPy for Linear Algebra.ipynb\r\n",
        " create mode 100644 LearningSciPyForNumericalAndScientifiComputing/SciPy for Numerical Analysis.ipynb\r\n",
        " create mode 100644 MasteringPythonRegularExpressions/.ipynb_checkpoints/Grouping-checkpoint.ipynb\r\n",
        " create mode 100644 MasteringPythonRegularExpressions/.ipynb_checkpoints/Regular Expressions with Python-checkpoint.ipynb\r\n",
        " create mode 100644 MasteringPythonRegularExpressions/Grouping.ipynb\r\n",
        " create mode 100644 MasteringPythonRegularExpressions/Regular Expressions with Python.ipynb\r\n"
       ]
      }
     ],
     "prompt_number": 1
    },
    {
     "cell_type": "code",
     "collapsed": false,
     "input": [
      "!git push"
     ],
     "language": "python",
     "metadata": {},
     "outputs": [
      {
       "output_type": "stream",
       "stream": "stdout",
       "text": [
        "To https://github.com/hhland/mypylab.git\r\n",
        "   b58c59a..87b136c  master -> master\r\n"
       ]
      }
     ],
     "prompt_number": 5
    },
    {
     "cell_type": "code",
     "collapsed": false,
     "input": [
      "!mkdir pig"
     ],
     "language": "python",
     "metadata": {},
     "outputs": [],
     "prompt_number": 9
    },
    {
     "cell_type": "code",
     "collapsed": false,
     "input": [
      "!cat oct2py/roundtrip.m"
     ],
     "language": "python",
     "metadata": {},
     "outputs": [
      {
       "output_type": "stream",
       "stream": "stdout",
       "text": [
        "\r",
        "\r\n",
        "function x, class = roundtrip(y)\r",
        "\r\n",
        "\r",
        "\r\n",
        "  % returns the variable it was given, and optionally the class\r",
        "\r\n",
        "\r",
        "\r\n",
        "  x = y\r",
        "\r\n",
        "\r",
        "\r\n",
        "  if nargout == 2\r",
        "\r\n",
        "\r",
        "\r\n",
        "\t class = class(x)\r",
        "\r\n",
        "\r",
        "\r\n",
        "  end\r",
        "\r\n",
        "\r",
        "\r\n",
        "end\r",
        "\r\n"
       ]
      }
     ],
     "prompt_number": 15
    },
    {
     "cell_type": "code",
     "collapsed": false,
     "input": [
      "import IPython.html.nbextensions as nb\n",
      "ext= 'https://github.com/ipython-contrib/IPython-notebook-extensions/archive/master.zip'\n",
      "nb.install_nbextension(ext)"
     ],
     "language": "python",
     "metadata": {},
     "outputs": [
      {
       "output_type": "stream",
       "stream": "stdout",
       "text": [
        "downloading https://github.com/ipython-contrib/IPython-notebook-extensions/archive/master.zip to /tmp/tmpQf3d22/master.zip\n",
        "extracting /tmp/tmpQf3d22/master.zip to /root/.ipython/nbextensions"
       ]
      },
      {
       "output_type": "stream",
       "stream": "stdout",
       "text": [
        "\n"
       ]
      }
     ],
     "prompt_number": 4
    },
    {
     "cell_type": "code",
     "collapsed": false,
     "input": [
      "!rm -rf example/dejavu"
     ],
     "language": "python",
     "metadata": {},
     "outputs": [],
     "prompt_number": 11
    },
    {
     "cell_type": "code",
     "collapsed": false,
     "input": [],
     "language": "python",
     "metadata": {},
     "outputs": []
    }
   ],
   "metadata": {}
  }
 ]
}