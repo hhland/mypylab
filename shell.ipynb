{
 "metadata": {
  "name": "",
  "signature": "sha256:cc52ffe1a8717a35834e20588618051fa503ec51eecdc9e4385404895fe2884f"
 },
 "nbformat": 3,
 "nbformat_minor": 0,
 "worksheets": [
  {
   "cells": [
    {
     "cell_type": "code",
     "collapsed": false,
     "input": [
      "!git add . && git commit -a -m \"....\""
     ],
     "language": "python",
     "metadata": {},
     "outputs": [
      {
       "output_type": "stream",
       "stream": "stdout",
       "text": [
        "[master 47b5664] ....\r\n"
       ]
      },
      {
       "output_type": "stream",
       "stream": "stdout",
       "text": [
        " 29 files changed, 43754 insertions(+), 56 deletions(-)\r\n",
        " rename graphlab/.ipynb_checkpoints/{follow_the_cryptocurrency-checkpoint.ipynb => Follow the Cryptocurrency-checkpoint.ipynb} (100%)\r\n",
        " create mode 100644 graphlab/.ipynb_checkpoints/Introduction to Regression & Classification-checkpoint.ipynb\r\n",
        " create mode 100644 graphlab/.ipynb_checkpoints/Winning ACM RecSys Challenge 2014 with GraphLab Create  An ensemble of binary classifiers and matrix factorization-checkpoint.ipynb\r\n",
        " create mode 100644 graphlab/.ipynb_checkpoints/Working with data-checkpoint.ipynb\r\n",
        " create mode 100644 graphlab/.ipynb_checkpoints/deeplearning-checkpoint.ipynb\r\n",
        " create mode 100644 graphlab/Automatically analyzing buildings and architectural styles.ipynb\r\n",
        " create mode 100644 graphlab/Basic Recommender Functionalities.ipynb\r\n",
        " rename graphlab/{follow_the_cryptocurrency.ipynb => Follow the Cryptocurrency.ipynb} (100%)\r\n",
        " create mode 100644 graphlab/Forecast Use of a City Bikeshare System using GraphLab Create.ipynb\r\n",
        " create mode 100644 graphlab/Generate and Save Batch Recommendations in the Cloud.ipynb\r\n",
        " create mode 100644 graphlab/Introduction to Feature Engineering.ipynb\r\n",
        " create mode 100644 graphlab/Introduction to Regression & Classification.ipynb\r\n",
        " create mode 100644 graphlab/Introduction to SFrames.ipynb\r\n",
        " create mode 100644 graphlab/Similar Image Search on Caltech-101.ipynb\r\n",
        " create mode 100644 graphlab/Six Degrees of Kevin Bacon.ipynb\r\n",
        " create mode 100644 graphlab/Training a Deep Convolutional Neural Network on ImageNet.ipynb\r\n",
        " create mode 100644 graphlab/Who Survived the Titanic.ipynb\r\n",
        " create mode 100644 graphlab/Winning ACM RecSys Challenge 2014 with GraphLab Create  An ensemble of binary classifiers and matrix factorization.ipynb\r\n",
        " create mode 100644 graphlab/Working with data.ipynb\r\n",
        " create mode 100644 graphlab/backtrace.0\r\n",
        " create mode 100644 graphlab/deeplearning.ipynb\r\n",
        " create mode 100644 graphlab/tmp/music_usage_data/dir_archive.ini\r\n",
        " create mode 100644 graphlab/tmp/music_usage_data/m_c55471201f14dbee.0000\r\n",
        " create mode 100644 graphlab/tmp/music_usage_data/m_c55471201f14dbee.frame_idx\r\n",
        " create mode 100644 graphlab/tmp/music_usage_data/m_c55471201f14dbee.sidx\r\n",
        " create mode 100644 graphlab/tmp/music_usage_data/objects.bin\r\n"
       ]
      }
     ],
     "prompt_number": 1
    },
    {
     "cell_type": "code",
     "collapsed": false,
     "input": [
      "!git push"
     ],
     "language": "python",
     "metadata": {},
     "outputs": [
      {
       "output_type": "stream",
       "stream": "stdout",
       "text": [
        "To https://github.com/hhland/mypylab.git\r\n",
        "   2159918..47b5664  master -> master\r\n"
       ]
      }
     ],
     "prompt_number": 2
    },
    {
     "cell_type": "code",
     "collapsed": false,
     "input": [
      "!git config --global credential.helper store"
     ],
     "language": "python",
     "metadata": {},
     "outputs": []
    },
    {
     "cell_type": "code",
     "collapsed": false,
     "input": [
      "!cat oct2py/roundtrip.m"
     ],
     "language": "python",
     "metadata": {},
     "outputs": [
      {
       "output_type": "stream",
       "stream": "stdout",
       "text": [
        "\r",
        "\r\n",
        "function x, class = roundtrip(y)\r",
        "\r\n",
        "\r",
        "\r\n",
        "  % returns the variable it was given, and optionally the class\r",
        "\r\n",
        "\r",
        "\r\n",
        "  x = y\r",
        "\r\n",
        "\r",
        "\r\n",
        "  if nargout == 2\r",
        "\r\n",
        "\r",
        "\r\n",
        "\t class = class(x)\r",
        "\r\n",
        "\r",
        "\r\n",
        "  end\r",
        "\r\n",
        "\r",
        "\r\n",
        "end\r",
        "\r\n"
       ]
      }
     ],
     "prompt_number": 15
    },
    {
     "cell_type": "code",
     "collapsed": false,
     "input": [
      "import IPython.html.nbextensions as nb\n",
      "ext= 'https://github.com/ipython-contrib/IPython-notebook-extensions/archive/master.zip'\n",
      "nb.install_nbextension(ext)"
     ],
     "language": "python",
     "metadata": {},
     "outputs": [
      {
       "output_type": "stream",
       "stream": "stdout",
       "text": [
        "downloading https://github.com/ipython-contrib/IPython-notebook-extensions/archive/master.zip to /tmp/tmpQf3d22/master.zip\n",
        "extracting /tmp/tmpQf3d22/master.zip to /root/.ipython/nbextensions"
       ]
      },
      {
       "output_type": "stream",
       "stream": "stdout",
       "text": [
        "\n"
       ]
      }
     ],
     "prompt_number": 4
    },
    {
     "cell_type": "code",
     "collapsed": false,
     "input": [
      "!rm -rf pig/tmp/script1-local-results*"
     ],
     "language": "python",
     "metadata": {},
     "outputs": [],
     "prompt_number": 3
    },
    {
     "cell_type": "code",
     "collapsed": false,
     "input": [
      "!cd /d/git/MyClojureLab && mkdir ClojureForMachineLearning"
     ],
     "language": "python",
     "metadata": {},
     "outputs": [],
     "prompt_number": 1
    },
    {
     "cell_type": "code",
     "collapsed": false,
     "input": [
      "!cd /d/git/MyClojureLab && git add . && git commit -a -m \"...\" && git push\n"
     ],
     "language": "python",
     "metadata": {},
     "outputs": [
      {
       "output_type": "stream",
       "stream": "stdout",
       "text": [
        "[master 29c377c] ...\r\n",
        " 2 files changed, 140 insertions(+)\r\n",
        " create mode 100644 .ipynb_checkpoints/Untitled0-checkpoint.ipynb\r\n",
        " create mode 100644 Untitled0.ipynb\r\n"
       ]
      },
      {
       "output_type": "stream",
       "stream": "stdout",
       "text": [
        "To https://github.com/hhland/MyClojureLab.git\r\n",
        " ! [rejected]        master -> master (non-fast-forward)\r\n",
        "error: failed to push some refs to 'https://github.com/hhland/MyClojureLab.git'\r\n"
       ]
      },
      {
       "output_type": "stream",
       "stream": "stdout",
       "text": [
        "To prevent you from losing history, non-fast-forward updates were rejected\r\n",
        "Merge the remote changes (e.g. 'git pull') before pushing again.  See the\r\n",
        "'Note about fast-forwards' section of 'git push --help' for details.\r\n"
       ]
      }
     ],
     "prompt_number": 1
    },
    {
     "cell_type": "code",
     "collapsed": false,
     "input": [
      "!cd /d/git/MyScalaLab && git add . && git commit -a -m \"...\" && git push"
     ],
     "language": "python",
     "metadata": {},
     "outputs": []
    },
    {
     "cell_type": "code",
     "collapsed": false,
     "input": [
      "!mkdir MATLABGraphicalProgramming"
     ],
     "language": "python",
     "metadata": {},
     "outputs": [],
     "prompt_number": 4
    },
    {
     "cell_type": "code",
     "collapsed": false,
     "input": [
      "%%file .gitignore\n",
      "*.pyc"
     ],
     "language": "python",
     "metadata": {},
     "outputs": [
      {
       "output_type": "stream",
       "stream": "stdout",
       "text": [
        "Writing .gitignore\n"
       ]
      }
     ],
     "prompt_number": 1
    },
    {
     "cell_type": "code",
     "collapsed": false,
     "input": [],
     "language": "python",
     "metadata": {},
     "outputs": []
    }
   ],
   "metadata": {}
  }
 ]
}