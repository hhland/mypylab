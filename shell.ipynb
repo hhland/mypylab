{
 "metadata": {
  "name": "",
  "signature": "sha256:09c17ff282bd361bb3975755c406369ca4b03a515c5cd6e72a7b8f47effd0b87"
 },
 "nbformat": 3,
 "nbformat_minor": 0,
 "worksheets": [
  {
   "cells": [
    {
     "cell_type": "code",
     "collapsed": false,
     "input": [
      "!git add .\n",
      "!git commit -a -m \"....\""
     ],
     "language": "python",
     "metadata": {},
     "outputs": [
      {
       "output_type": "stream",
       "stream": "stdout",
       "text": [
        "[master 0fbf62f] ....\r\n",
        " 95 files changed, 7344 insertions(+), 45 deletions(-)\r\n",
        " create mode 100644 EffectiveAwkProgramming3rd/.ipynb_checkpoints/Getting Started with awk-checkpoint.ipynb\r\n",
        " create mode 100644 EffectiveAwkProgramming3rd/Getting Started with awk.ipynb\r\n",
        " create mode 100644 EffectiveAwkProgramming3rd/Regular Expressions .ipynb\r\n",
        " create mode 100644 MATLABMatrixAlgebra/.ipynb_checkpoints/Chapter 1 Matrix and Vector Variables (Numeric and Symbolic)-checkpoint.ipynb\r\n",
        " create mode 100644 MATLABMatrixAlgebra/.ipynb_checkpoints/Chapter 2 Matrix Algebra-checkpoint.ipynb\r\n",
        " create mode 100644 MATLABMatrixAlgebra/Chapter 1 Matrix and Vector Variables (Numeric and Symbolic).ipynb\r\n",
        " create mode 100644 MATLABMatrixAlgebra/Chapter 2 Matrix Algebra.ipynb\r\n",
        " create mode 100644 SedAwk2nd/.ipynb_checkpoints/Understanding Basic Operations-checkpoint.ipynb\r\n",
        " create mode 100644 SedAwk2nd/Understanding Basic Operations.ipynb\r\n",
        " create mode 100644 SedAwk2nd/Understanding Regular Expression Syntax.ipynb\r\n",
        " create mode 100644 SedAwk2nd/Writing sed Scripts.ipynb\r\n",
        " create mode 100644 SedAwk2nd/awkprogs/README\r\n",
        " create mode 100644 SedAwk2nd/awkprogs/acronyms\r\n",
        " create mode 100755 SedAwk2nd/awkprogs/awkro\r\n",
        " create mode 100644 SedAwk2nd/awkprogs/bitmap.awk\r\n",
        " create mode 100755 SedAwk2nd/awkprogs/contrib/adj\r\n",
        " create mode 100644 SedAwk2nd/awkprogs/contrib/adj.nawk\r\n",
        " create mode 100644 SedAwk2nd/awkprogs/contrib/free\r\n",
        " create mode 100755 SedAwk2nd/awkprogs/contrib/gent\r\n",
        " create mode 100755 SedAwk2nd/awkprogs/contrib/mailavg\r\n",
        " create mode 100644 SedAwk2nd/awkprogs/contrib/mailin.awk\r\n",
        " create mode 100644 SedAwk2nd/awkprogs/contrib/phonebill\r\n",
        " create mode 100644 SedAwk2nd/awkprogs/contrib/plpr\r\n",
        " create mode 100755 SedAwk2nd/awkprogs/contrib/readsource\r\n",
        " create mode 100755 SedAwk2nd/awkprogs/contrib/transpose\r\n",
        " create mode 100644 SedAwk2nd/awkprogs/contrib/uutot.awk\r\n",
        " create mode 100644 SedAwk2nd/awkprogs/contrib2/rupley/MANIFEST\r\n",
        " create mode 100644 SedAwk2nd/awkprogs/contrib2/rupley/README\r\n",
        " create mode 100755 SedAwk2nd/awkprogs/contrib2/rupley/misc/blone\r\n",
        " create mode 100755 SedAwk2nd/awkprogs/contrib2/rupley/misc/blout\r\n",
        " create mode 100755 SedAwk2nd/awkprogs/contrib2/rupley/misc/free\r\n",
        " create mode 100755 SedAwk2nd/awkprogs/contrib2/rupley/misc/intounix\r\n",
        " create mode 100644 SedAwk2nd/awkprogs/contrib2/rupley/roff/README\r\n",
        " create mode 100755 SedAwk2nd/awkprogs/contrib2/rupley/roff/roff\r\n",
        " create mode 100755 SedAwk2nd/awkprogs/contrib2/rupley/roff/roff.awk\r\n",
        " create mode 100644 SedAwk2nd/awkprogs/contrib2/rupley/scrunch/Makefile\r\n",
        " create mode 100644 SedAwk2nd/awkprogs/contrib2/rupley/scrunch/README\r\n",
        " create mode 100644 SedAwk2nd/awkprogs/contrib2/rupley/scrunch/post.awk\r\n",
        " create mode 100755 SedAwk2nd/awkprogs/contrib2/rupley/scrunch/scrunchAwk\r\n",
        " create mode 100644 SedAwk2nd/awkprogs/contrib2/rupley/scrunch/scrunchLex.l\r\n",
        " create mode 100644 SedAwk2nd/awkprogs/contrib2/rupley/uncomment/Makefile\r\n",
        " create mode 100644 SedAwk2nd/awkprogs/contrib2/rupley/uncomment/README\r\n",
        " create mode 100644 SedAwk2nd/awkprogs/contrib2/rupley/uncomment/eatC.c\r\n",
        " create mode 100644 SedAwk2nd/awkprogs/contrib2/rupley/uncomment/eatLex.l\r\n",
        " create mode 100644 SedAwk2nd/awkprogs/contrib2/rupley/uncomment/eatSed\r\n",
        " create mode 100644 SedAwk2nd/awkprogs/contrib2/rupley/uncomment/post.litmaath\r\n",
        " create mode 100644 SedAwk2nd/awkprogs/contrib2/rupley/uncomment/uncomment.tst2\r\n",
        " create mode 100644 SedAwk2nd/awkprogs/contrib2/unpackmaps/README\r\n",
        " create mode 100755 SedAwk2nd/awkprogs/contrib2/unpackmaps/unpackmaps\r\n",
        " create mode 100755 SedAwk2nd/awkprogs/contrib2/unpackmaps/uuwhere\r\n",
        " create mode 100755 SedAwk2nd/awkprogs/date-month\r\n",
        " create mode 100755 SedAwk2nd/awkprogs/do.outline.awk\r\n",
        " create mode 100755 SedAwk2nd/awkprogs/do.outline.sed\r\n",
        " create mode 100755 SedAwk2nd/awkprogs/factorial\r\n",
        " create mode 100755 SedAwk2nd/awkprogs/filesum\r\n",
        " create mode 100755 SedAwk2nd/awkprogs/getmac\r\n",
        " create mode 100644 SedAwk2nd/awkprogs/glossary\r\n",
        " create mode 100644 SedAwk2nd/awkprogs/grades.awk\r\n",
        " create mode 100755 SedAwk2nd/awkprogs/gres\r\n",
        " create mode 100755 SedAwk2nd/awkprogs/index.edit\r\n",
        " create mode 100755 SedAwk2nd/awkprogs/index/combine.idx\r\n",
        " create mode 100755 SedAwk2nd/awkprogs/index/format.idx\r\n",
        " create mode 100644 SedAwk2nd/awkprogs/index/indexmacs\r\n",
        " create mode 100755 SedAwk2nd/awkprogs/index/input.idx\r\n",
        " create mode 100755 SedAwk2nd/awkprogs/index/masterindex\r\n",
        " create mode 100644 SedAwk2nd/awkprogs/index/masterindex.1\r\n",
        " create mode 100755 SedAwk2nd/awkprogs/index/pagenums.idx\r\n",
        " create mode 100755 SedAwk2nd/awkprogs/index/romanum\r\n",
        " create mode 100755 SedAwk2nd/awkprogs/invoke\r\n",
        " create mode 100755 SedAwk2nd/awkprogs/lookup\r\n",
        " create mode 100755 SedAwk2nd/awkprogs/lotto\r\n",
        " create mode 100755 SedAwk2nd/awkprogs/match\r\n",
        " create mode 100755 SedAwk2nd/awkprogs/phone\r\n",
        " create mode 100755 SedAwk2nd/awkprogs/phones.data\r\n",
        " create mode 100755 SedAwk2nd/awkprogs/phrase\r\n",
        " create mode 100755 SedAwk2nd/awkprogs/romanum\r\n",
        " create mode 100755 SedAwk2nd/awkprogs/runsed\r\n",
        " create mode 100644 SedAwk2nd/awkprogs/sedman\r\n",
        " create mode 100644 SedAwk2nd/awkprogs/soelim.awk\r\n",
        " create mode 100644 SedAwk2nd/awkprogs/sp_input\r\n",
        " create mode 100644 SedAwk2nd/awkprogs/sp_out\r\n",
        " create mode 100644 SedAwk2nd/awkprogs/sp_wordlist\r\n",
        " create mode 100755 SedAwk2nd/awkprogs/spellcheck\r\n",
        " create mode 100644 SedAwk2nd/awkprogs/spellcheck.awk\r\n",
        " create mode 100644 SedAwk2nd/awkprogs/words\r\n",
        " create mode 100755 SedAwk2nd/tmp/byState\r\n",
        " create mode 100644 SedAwk2nd/tmp/list\r\n",
        " create mode 100644 SedAwk2nd/tmp/nameState\r\n",
        " create mode 100644 SedAwk2nd/tmp/sedscr\r\n",
        " create mode 100644 example/.ipynb_checkpoints/erlang-checkpoint.ipynb\r\n",
        " create mode 100644 example/tmp/erlangTest.py\r\n",
        " create mode 100644 example/tmp/erlangTest.pyc\r\n"
       ]
      }
     ],
     "prompt_number": 1
    },
    {
     "cell_type": "code",
     "collapsed": false,
     "input": [
      "!git push"
     ],
     "language": "python",
     "metadata": {},
     "outputs": [
      {
       "output_type": "stream",
       "stream": "stdout",
       "text": [
        "To https://github.com/hhland/mypylab.git\r\n",
        "   53ca8dc..0fbf62f  master -> master\r\n"
       ]
      }
     ],
     "prompt_number": 2
    },
    {
     "cell_type": "code",
     "collapsed": false,
     "input": [
      "!mkdir PracticalDataScienceCookbook"
     ],
     "language": "python",
     "metadata": {},
     "outputs": [],
     "prompt_number": 2
    },
    {
     "cell_type": "code",
     "collapsed": false,
     "input": [
      "!cat oct2py/roundtrip.m"
     ],
     "language": "python",
     "metadata": {},
     "outputs": [
      {
       "output_type": "stream",
       "stream": "stdout",
       "text": [
        "\r",
        "\r\n",
        "function x, class = roundtrip(y)\r",
        "\r\n",
        "\r",
        "\r\n",
        "  % returns the variable it was given, and optionally the class\r",
        "\r\n",
        "\r",
        "\r\n",
        "  x = y\r",
        "\r\n",
        "\r",
        "\r\n",
        "  if nargout == 2\r",
        "\r\n",
        "\r",
        "\r\n",
        "\t class = class(x)\r",
        "\r\n",
        "\r",
        "\r\n",
        "  end\r",
        "\r\n",
        "\r",
        "\r\n",
        "end\r",
        "\r\n"
       ]
      }
     ],
     "prompt_number": 15
    },
    {
     "cell_type": "code",
     "collapsed": false,
     "input": [],
     "language": "python",
     "metadata": {},
     "outputs": []
    }
   ],
   "metadata": {}
  }
 ]
}