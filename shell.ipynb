{
 "metadata": {
  "name": "",
  "signature": "sha256:b628cb5423531ebc79f20a7af7c6a759067f7f09cd8298706995bc34fb0dcc5a"
 },
 "nbformat": 3,
 "nbformat_minor": 0,
 "worksheets": [
  {
   "cells": [
    {
     "cell_type": "code",
     "collapsed": false,
     "input": [
      "!git add . && git commit -a -m \"....\""
     ],
     "language": "python",
     "metadata": {},
     "outputs": [
      {
       "output_type": "stream",
       "stream": "stdout",
       "text": [
        "[master dd8f12e] ....\r\n",
        " 20 files changed, 9421 insertions(+), 265 deletions(-)\r\n",
        " create mode 100644 BioinformaticsWithRCookbook/.ipynb_checkpoints/Analyzing GWAS Data-checkpoint.ipynb\r\n",
        " create mode 100644 BioinformaticsWithRCookbook/Analyzing GWAS Data.ipynb\r\n",
        " create mode 100644 BioinformaticsWithRCookbook/script/biocLite.R\r\n",
        " create mode 100644 MATLABProgrammingForNumericalAnalysis/script/schroder.m\r\n",
        " create mode 100755 pandas/.ipynb_checkpoints/10 Minutes to Pandas-checkpoint.ipynb\r\n",
        " create mode 100644 pandas/.ipynb_checkpoints/COMPUTATIONAL TOOLS-checkpoint.ipynb\r\n",
        " create mode 100644 pandas/.ipynb_checkpoints/GROUP BY SPLIT-APPLY-COMBINE-checkpoint.ipynb\r\n",
        " create mode 100644 pandas/.ipynb_checkpoints/INDEXING AND SELECTING DATA-checkpoint.ipynb\r\n",
        " create mode 100644 pandas/.ipynb_checkpoints/MULTIINDEX ADVANCED INDEXING-checkpoint.ipynb\r\n",
        " create mode 100644 pandas/.ipynb_checkpoints/REMOTE DATA ACCESS-checkpoint.ipynb\r\n",
        " rewrite pandas/10 Minutes to Pandas.ipynb (87%)\r\n",
        " create mode 100644 pandas/COMPUTATIONAL TOOLS.ipynb\r\n",
        " create mode 100644 pandas/GROUP BY SPLIT-APPLY-COMBINE.ipynb\r\n",
        " create mode 100644 pandas/INDEXING AND SELECTING DATA.ipynb\r\n",
        " create mode 100644 pandas/MULTIINDEX ADVANCED INDEXING.ipynb\r\n",
        " create mode 100644 pandas/REMOTE DATA ACCESS.ipynb\r\n",
        " create mode 100644 pandas/WORKING WITH MISSING DATA.ipynb\r\n"
       ]
      }
     ],
     "prompt_number": 1
    },
    {
     "cell_type": "code",
     "collapsed": false,
     "input": [
      "!git push"
     ],
     "language": "python",
     "metadata": {},
     "outputs": [
      {
       "output_type": "stream",
       "stream": "stdout",
       "text": [
        "To https://github.com/hhland/mypylab.git\r\n",
        "   c28cf2a..dd8f12e  master -> master\r\n"
       ]
      }
     ],
     "prompt_number": 2
    },
    {
     "cell_type": "code",
     "collapsed": false,
     "input": [
      "!mkdir pig"
     ],
     "language": "python",
     "metadata": {},
     "outputs": [],
     "prompt_number": 9
    },
    {
     "cell_type": "code",
     "collapsed": false,
     "input": [
      "!cat oct2py/roundtrip.m"
     ],
     "language": "python",
     "metadata": {},
     "outputs": [
      {
       "output_type": "stream",
       "stream": "stdout",
       "text": [
        "\r",
        "\r\n",
        "function x, class = roundtrip(y)\r",
        "\r\n",
        "\r",
        "\r\n",
        "  % returns the variable it was given, and optionally the class\r",
        "\r\n",
        "\r",
        "\r\n",
        "  x = y\r",
        "\r\n",
        "\r",
        "\r\n",
        "  if nargout == 2\r",
        "\r\n",
        "\r",
        "\r\n",
        "\t class = class(x)\r",
        "\r\n",
        "\r",
        "\r\n",
        "  end\r",
        "\r\n",
        "\r",
        "\r\n",
        "end\r",
        "\r\n"
       ]
      }
     ],
     "prompt_number": 15
    },
    {
     "cell_type": "code",
     "collapsed": false,
     "input": [
      "import IPython.html.nbextensions as nb\n",
      "ext= 'https://github.com/ipython-contrib/IPython-notebook-extensions/archive/master.zip'\n",
      "nb.install_nbextension(ext)"
     ],
     "language": "python",
     "metadata": {},
     "outputs": [
      {
       "output_type": "stream",
       "stream": "stdout",
       "text": [
        "downloading https://github.com/ipython-contrib/IPython-notebook-extensions/archive/master.zip to /tmp/tmpQf3d22/master.zip\n",
        "extracting /tmp/tmpQf3d22/master.zip to /root/.ipython/nbextensions"
       ]
      },
      {
       "output_type": "stream",
       "stream": "stdout",
       "text": [
        "\n"
       ]
      }
     ],
     "prompt_number": 4
    },
    {
     "cell_type": "code",
     "collapsed": false,
     "input": [
      "!rm -rf pig/tmp/script1-local-results*"
     ],
     "language": "python",
     "metadata": {},
     "outputs": [],
     "prompt_number": 3
    },
    {
     "cell_type": "code",
     "collapsed": false,
     "input": [
      "!cd /d/git/MyClojureLab && mkdir ClojureForMachineLearning"
     ],
     "language": "python",
     "metadata": {},
     "outputs": [],
     "prompt_number": 1
    },
    {
     "cell_type": "code",
     "collapsed": false,
     "input": [
      "!cd /d/git/MyClojureLab && git add . && git commit -a -m \"...\" && git push\n"
     ],
     "language": "python",
     "metadata": {},
     "outputs": [
      {
       "output_type": "stream",
       "stream": "stdout",
       "text": [
        "[master 29c377c] ...\r\n",
        " 2 files changed, 140 insertions(+)\r\n",
        " create mode 100644 .ipynb_checkpoints/Untitled0-checkpoint.ipynb\r\n",
        " create mode 100644 Untitled0.ipynb\r\n"
       ]
      },
      {
       "output_type": "stream",
       "stream": "stdout",
       "text": [
        "To https://github.com/hhland/MyClojureLab.git\r\n",
        " ! [rejected]        master -> master (non-fast-forward)\r\n",
        "error: failed to push some refs to 'https://github.com/hhland/MyClojureLab.git'\r\n"
       ]
      },
      {
       "output_type": "stream",
       "stream": "stdout",
       "text": [
        "To prevent you from losing history, non-fast-forward updates were rejected\r\n",
        "Merge the remote changes (e.g. 'git pull') before pushing again.  See the\r\n",
        "'Note about fast-forwards' section of 'git push --help' for details.\r\n"
       ]
      }
     ],
     "prompt_number": 1
    },
    {
     "cell_type": "code",
     "collapsed": false,
     "input": [
      "!cd /d/git/MyScalaLab && git add . && git commit -a -m \"...\" && git push"
     ],
     "language": "python",
     "metadata": {},
     "outputs": []
    },
    {
     "cell_type": "code",
     "collapsed": false,
     "input": [
      "!mkdir ThinkComplexity"
     ],
     "language": "python",
     "metadata": {},
     "outputs": [],
     "prompt_number": 1
    },
    {
     "cell_type": "code",
     "collapsed": false,
     "input": [],
     "language": "python",
     "metadata": {},
     "outputs": []
    }
   ],
   "metadata": {}
  }
 ]
}