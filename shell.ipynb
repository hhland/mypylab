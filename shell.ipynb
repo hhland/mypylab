{
 "metadata": {
  "name": "",
  "signature": "sha256:b3d293135abd588b1a7dbea258c5e6f96cee33726fcdf02654f48794c8c4497e"
 },
 "nbformat": 3,
 "nbformat_minor": 0,
 "worksheets": [
  {
   "cells": [
    {
     "cell_type": "code",
     "collapsed": false,
     "input": [
      "!git add . && git commit -a -m \"....\""
     ],
     "language": "python",
     "metadata": {},
     "outputs": [
      {
       "output_type": "stream",
       "stream": "stdout",
       "text": [
        "[master 299db0d] ....\r\n",
        " 29 files changed, 7585 insertions(+), 29 deletions(-)\r\n",
        " rename MATLABMatrixAlgebra/.ipynb_checkpoints/{Chapter 2 Matrix Algebra-checkpoint.ipynb => Matrix Algebra-checkpoint.ipynb} (100%)\r\n",
        " rename MATLABMatrixAlgebra/{Chapter 2 Matrix Algebra.ipynb => Matrix Algebra.ipynb} (54%)\r\n",
        " create mode 100644 MATLABMatrixAlgebra/Sequences Arrays Tables Lists and Sets.ipynb\r\n",
        " create mode 100644 NaturalLanguageProcessingWithPython/.ipynb_checkpoints/Accessing Text Corpora and Lexical Resources-checkpoint.ipynb\r\n",
        " create mode 100644 NaturalLanguageProcessingWithPython/.ipynb_checkpoints/Language Processing and Python-checkpoint.ipynb\r\n",
        " create mode 100644 NaturalLanguageProcessingWithPython/.ipynb_checkpoints/Processing Raw Text-checkpoint.ipynb\r\n",
        " create mode 100644 NaturalLanguageProcessingWithPython/Accessing Text Corpora and Lexical Resources.ipynb\r\n",
        " create mode 100644 NaturalLanguageProcessingWithPython/Language Processing and Python.ipynb\r\n",
        " create mode 100644 NaturalLanguageProcessingWithPython/Processing Raw Text.ipynb\r\n",
        " create mode 100644 PythonGeospatialDevelopment2ndEdition/.ipynb_checkpoints/GIS-checkpoint.ipynb\r\n",
        " create mode 100755 PythonGeospatialDevelopment2ndEdition/.ipynb_checkpoints/Geospatial Development Using Python-checkpoint.ipynb\r\n",
        " create mode 100644 PythonGeospatialDevelopment2ndEdition/.ipynb_checkpoints/Python Libraries for Geospatial Development-checkpoint.ipynb\r\n",
        " create mode 100644 PythonGeospatialDevelopment2ndEdition/GIS.ipynb\r\n",
        " create mode 100755 PythonGeospatialDevelopment2ndEdition/Geospatial Development Using Python.ipynb\r\n",
        " create mode 100644 PythonGeospatialDevelopment2ndEdition/Python Libraries for Geospatial Development.ipynb\r\n",
        " create mode 100755 PythonGeospatialDevelopment2ndEdition/build/pip-delete-this-directory.txt\r\n",
        " create mode 100644 PythonGeospatialDevelopment2ndEdition/tmp/tl_2012_us_state.dbf\r\n",
        " create mode 100644 PythonGeospatialDevelopment2ndEdition/tmp/tl_2012_us_state.prj\r\n",
        " create mode 100644 PythonGeospatialDevelopment2ndEdition/tmp/tl_2012_us_state.shp\r\n",
        " create mode 100644 PythonGeospatialDevelopment2ndEdition/tmp/tl_2012_us_state.shp.xml\r\n",
        " create mode 100644 PythonGeospatialDevelopment2ndEdition/tmp/tl_2012_us_state.shx\r\n",
        " create mode 100644 RinAction/.ipynb_checkpoints/Basic statistics-checkpoint.ipynb\r\n",
        " create mode 100644 RinAction/.ipynb_checkpoints/Principal components and factor analysis-checkpoint.ipynb\r\n",
        " create mode 100644 RinAction/.ipynb_checkpoints/Regression-checkpoint.ipynb\r\n",
        " create mode 100644 RinAction/Basic statistics.ipynb\r\n",
        " create mode 100644 RinAction/Principal components and factor analysis.ipynb\r\n",
        " create mode 100644 RinAction/Regression.ipynb\r\n",
        " create mode 100644 RinAction/script/mystats.R\r\n"
       ]
      }
     ],
     "prompt_number": 1
    },
    {
     "cell_type": "code",
     "collapsed": false,
     "input": [
      "!git push"
     ],
     "language": "python",
     "metadata": {},
     "outputs": []
    },
    {
     "cell_type": "code",
     "collapsed": false,
     "input": [
      "!mkdir pig"
     ],
     "language": "python",
     "metadata": {},
     "outputs": [],
     "prompt_number": 9
    },
    {
     "cell_type": "code",
     "collapsed": false,
     "input": [
      "!cat oct2py/roundtrip.m"
     ],
     "language": "python",
     "metadata": {},
     "outputs": [
      {
       "output_type": "stream",
       "stream": "stdout",
       "text": [
        "\r",
        "\r\n",
        "function x, class = roundtrip(y)\r",
        "\r\n",
        "\r",
        "\r\n",
        "  % returns the variable it was given, and optionally the class\r",
        "\r\n",
        "\r",
        "\r\n",
        "  x = y\r",
        "\r\n",
        "\r",
        "\r\n",
        "  if nargout == 2\r",
        "\r\n",
        "\r",
        "\r\n",
        "\t class = class(x)\r",
        "\r\n",
        "\r",
        "\r\n",
        "  end\r",
        "\r\n",
        "\r",
        "\r\n",
        "end\r",
        "\r\n"
       ]
      }
     ],
     "prompt_number": 15
    },
    {
     "cell_type": "code",
     "collapsed": false,
     "input": [
      "import IPython.html.nbextensions as nb\n",
      "ext= 'https://github.com/ipython-contrib/IPython-notebook-extensions/archive/master.zip'\n",
      "nb.install_nbextension(ext)"
     ],
     "language": "python",
     "metadata": {},
     "outputs": [
      {
       "output_type": "stream",
       "stream": "stdout",
       "text": [
        "downloading https://github.com/ipython-contrib/IPython-notebook-extensions/archive/master.zip to /tmp/tmpQf3d22/master.zip\n",
        "extracting /tmp/tmpQf3d22/master.zip to /root/.ipython/nbextensions"
       ]
      },
      {
       "output_type": "stream",
       "stream": "stdout",
       "text": [
        "\n"
       ]
      }
     ],
     "prompt_number": 4
    },
    {
     "cell_type": "code",
     "collapsed": false,
     "input": [
      "!rm -rf pig/tmp/script1-local-results*"
     ],
     "language": "python",
     "metadata": {},
     "outputs": [],
     "prompt_number": 3
    },
    {
     "cell_type": "code",
     "collapsed": false,
     "input": [
      "!cd /d/git/MyClojureLab && mkdir ClojureForMachineLearning"
     ],
     "language": "python",
     "metadata": {},
     "outputs": [],
     "prompt_number": 1
    },
    {
     "cell_type": "code",
     "collapsed": false,
     "input": [
      "!cd /d/git/MyClojureLab && git add . && git commit -a -m \"...\" && git push\n"
     ],
     "language": "python",
     "metadata": {},
     "outputs": [
      {
       "output_type": "stream",
       "stream": "stdout",
       "text": [
        "[master 29c377c] ...\r\n",
        " 2 files changed, 140 insertions(+)\r\n",
        " create mode 100644 .ipynb_checkpoints/Untitled0-checkpoint.ipynb\r\n",
        " create mode 100644 Untitled0.ipynb\r\n"
       ]
      },
      {
       "output_type": "stream",
       "stream": "stdout",
       "text": [
        "To https://github.com/hhland/MyClojureLab.git\r\n",
        " ! [rejected]        master -> master (non-fast-forward)\r\n",
        "error: failed to push some refs to 'https://github.com/hhland/MyClojureLab.git'\r\n"
       ]
      },
      {
       "output_type": "stream",
       "stream": "stdout",
       "text": [
        "To prevent you from losing history, non-fast-forward updates were rejected\r\n",
        "Merge the remote changes (e.g. 'git pull') before pushing again.  See the\r\n",
        "'Note about fast-forwards' section of 'git push --help' for details.\r\n"
       ]
      }
     ],
     "prompt_number": 1
    },
    {
     "cell_type": "code",
     "collapsed": false,
     "input": [
      "!cd /d/git/MyScalaLab && git add . && git commit -a -m \"...\" && git push"
     ],
     "language": "python",
     "metadata": {},
     "outputs": []
    },
    {
     "cell_type": "code",
     "collapsed": false,
     "input": [
      "!mkdir PythonGeospatialDevelopment2ndEdition"
     ],
     "language": "python",
     "metadata": {},
     "outputs": [],
     "prompt_number": 1
    },
    {
     "cell_type": "code",
     "collapsed": false,
     "input": [],
     "language": "python",
     "metadata": {},
     "outputs": []
    }
   ],
   "metadata": {}
  }
 ]
}