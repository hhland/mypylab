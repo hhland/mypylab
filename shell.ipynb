{
 "metadata": {
  "name": "",
  "signature": "sha256:5f760e728cc32761211dcf57886d3b189fd75ea5bf3b5c6280e44a0e95bb4381"
 },
 "nbformat": 3,
 "nbformat_minor": 0,
 "worksheets": [
  {
   "cells": [
    {
     "cell_type": "code",
     "collapsed": false,
     "input": [
      "!git add . && git commit -a -m \"....\""
     ],
     "language": "python",
     "metadata": {},
     "outputs": [
      {
       "output_type": "stream",
       "stream": "stdout",
       "text": [
        "[master c28cf2a] ....\r\n",
        " 35 files changed, 3868 insertions(+), 221 deletions(-)\r\n",
        " create mode 100644 BioinformaticsWithRCookbook/.ipynb_checkpoints/install-checkpoint.ipynb\r\n",
        " create mode 100644 BioinformaticsWithRCookbook/install.ipynb\r\n",
        " create mode 100644 CookbookForR/.ipynb_checkpoints/Formulas-checkpoint.ipynb\r\n",
        " create mode 100644 CookbookForR/.ipynb_checkpoints/Graphs Miscellaneous-checkpoint.ipynb\r\n",
        " create mode 100644 CookbookForR/.ipynb_checkpoints/Manipulating Data General-checkpoint.ipynb\r\n",
        " create mode 100644 CookbookForR/.ipynb_checkpoints/Statistical analysis-checkpoint.ipynb\r\n",
        " create mode 100644 CookbookForR/Formulas.ipynb\r\n",
        " create mode 100644 CookbookForR/Graphs Miscellaneous.ipynb\r\n",
        " create mode 100644 CookbookForR/Manipulating Data General.ipynb\r\n",
        " create mode 100644 CookbookForR/Statistical analysis.ipynb\r\n",
        " create mode 100644 CookbookForR/tmp/linetypes.png\r\n",
        " create mode 100644 CookbookForR/tmp/pch.png\r\n",
        " create mode 100644 CookbookForR/tmp/sleep.txt\r\n",
        " create mode 100644 MATLABProgrammingForNumericalAnalysis/.ipynb_checkpoints/Development  Environment Features-checkpoint.ipynb\r\n",
        " create mode 100644 MATLABProgrammingForNumericalAnalysis/.ipynb_checkpoints/Solving Non-Linear Equations-checkpoint.ipynb\r\n",
        " create mode 100644 MATLABProgrammingForNumericalAnalysis/Development  Environment Features.ipynb\r\n",
        " create mode 100644 MATLABProgrammingForNumericalAnalysis/Solving Non-Linear Equations.ipynb\r\n",
        " create mode 100644 MATLABProgrammingForNumericalAnalysis/script/derf1.m\r\n",
        " create mode 100644 MATLABProgrammingForNumericalAnalysis/script/f1.m\r\n",
        " create mode 100644 MATLABProgrammingForNumericalAnalysis/script/fixedpoint.m\r\n",
        " create mode 100644 MATLABProgrammingForNumericalAnalysis/script/g1.m\r\n",
        " create mode 100644 MATLABProgrammingForNumericalAnalysis/script/newton.m\r\n",
        " create mode 100644 PracticalDataScienceCookbook/.ipynb_checkpoints/Simulating American  Football Data (R)-checkpoint.ipynb\r\n",
        " create mode 100644 PracticalDataScienceCookbook/Simulating American  Football Data (R).ipynb\r\n",
        " rename pig/.ipynb_checkpoints/{pig_magic-checkpoint.ipynb => magic-checkpoint.ipynb} (100%)\r\n",
        " rename pig/{pig_magic.ipynb => magic.ipynb} (100%)\r\n",
        " create mode 100644 pig/pig_1418800208834.log\r\n",
        " create mode 100644 pig/pig_1418801677729.log\r\n",
        " create mode 100644 pig/pig_1418801717990.log\r\n",
        " create mode 100644 pig/pig_1418801987395.log\r\n",
        " create mode 100644 pig/pig_1418802063591.log\r\n",
        " create mode 100644 pig/script/tutorial.pig\r\n"
       ]
      }
     ],
     "prompt_number": 6
    },
    {
     "cell_type": "code",
     "collapsed": false,
     "input": [
      "!git push"
     ],
     "language": "python",
     "metadata": {},
     "outputs": [
      {
       "output_type": "stream",
       "stream": "stdout",
       "text": [
        "To https://github.com/hhland/mypylab.git\r\n",
        "   e9adffc..c28cf2a  master -> master\r\n"
       ]
      }
     ],
     "prompt_number": 1
    },
    {
     "cell_type": "code",
     "collapsed": false,
     "input": [
      "!mkdir pig"
     ],
     "language": "python",
     "metadata": {},
     "outputs": [],
     "prompt_number": 9
    },
    {
     "cell_type": "code",
     "collapsed": false,
     "input": [
      "!cat oct2py/roundtrip.m"
     ],
     "language": "python",
     "metadata": {},
     "outputs": [
      {
       "output_type": "stream",
       "stream": "stdout",
       "text": [
        "\r",
        "\r\n",
        "function x, class = roundtrip(y)\r",
        "\r\n",
        "\r",
        "\r\n",
        "  % returns the variable it was given, and optionally the class\r",
        "\r\n",
        "\r",
        "\r\n",
        "  x = y\r",
        "\r\n",
        "\r",
        "\r\n",
        "  if nargout == 2\r",
        "\r\n",
        "\r",
        "\r\n",
        "\t class = class(x)\r",
        "\r\n",
        "\r",
        "\r\n",
        "  end\r",
        "\r\n",
        "\r",
        "\r\n",
        "end\r",
        "\r\n"
       ]
      }
     ],
     "prompt_number": 15
    },
    {
     "cell_type": "code",
     "collapsed": false,
     "input": [
      "import IPython.html.nbextensions as nb\n",
      "ext= 'https://github.com/ipython-contrib/IPython-notebook-extensions/archive/master.zip'\n",
      "nb.install_nbextension(ext)"
     ],
     "language": "python",
     "metadata": {},
     "outputs": [
      {
       "output_type": "stream",
       "stream": "stdout",
       "text": [
        "downloading https://github.com/ipython-contrib/IPython-notebook-extensions/archive/master.zip to /tmp/tmpQf3d22/master.zip\n",
        "extracting /tmp/tmpQf3d22/master.zip to /root/.ipython/nbextensions"
       ]
      },
      {
       "output_type": "stream",
       "stream": "stdout",
       "text": [
        "\n"
       ]
      }
     ],
     "prompt_number": 4
    },
    {
     "cell_type": "code",
     "collapsed": false,
     "input": [
      "!rm -rf pig/tmp/script1-local-results*"
     ],
     "language": "python",
     "metadata": {},
     "outputs": [],
     "prompt_number": 3
    },
    {
     "cell_type": "code",
     "collapsed": false,
     "input": [
      "!cd /d/git/MyClojureLab && mkdir ClojureForMachineLearning"
     ],
     "language": "python",
     "metadata": {},
     "outputs": [],
     "prompt_number": 1
    },
    {
     "cell_type": "code",
     "collapsed": false,
     "input": [
      "!cd /d/git/MyClojureLab && git add . && git commit -a -m \"...\" && git push\n"
     ],
     "language": "python",
     "metadata": {},
     "outputs": [
      {
       "output_type": "stream",
       "stream": "stdout",
       "text": [
        "[master 29c377c] ...\r\n",
        " 2 files changed, 140 insertions(+)\r\n",
        " create mode 100644 .ipynb_checkpoints/Untitled0-checkpoint.ipynb\r\n",
        " create mode 100644 Untitled0.ipynb\r\n"
       ]
      },
      {
       "output_type": "stream",
       "stream": "stdout",
       "text": [
        "To https://github.com/hhland/MyClojureLab.git\r\n",
        " ! [rejected]        master -> master (non-fast-forward)\r\n",
        "error: failed to push some refs to 'https://github.com/hhland/MyClojureLab.git'\r\n"
       ]
      },
      {
       "output_type": "stream",
       "stream": "stdout",
       "text": [
        "To prevent you from losing history, non-fast-forward updates were rejected\r\n",
        "Merge the remote changes (e.g. 'git pull') before pushing again.  See the\r\n",
        "'Note about fast-forwards' section of 'git push --help' for details.\r\n"
       ]
      }
     ],
     "prompt_number": 1
    },
    {
     "cell_type": "code",
     "collapsed": false,
     "input": [
      "!cd /d/git/MyScalaLab && git add . && git commit -a -m \"...\" && git push"
     ],
     "language": "python",
     "metadata": {},
     "outputs": []
    },
    {
     "cell_type": "code",
     "collapsed": false,
     "input": [
      "!mkdir MATLABProgrammingForNumericalAnalysis"
     ],
     "language": "python",
     "metadata": {},
     "outputs": [],
     "prompt_number": 5
    },
    {
     "cell_type": "code",
     "collapsed": false,
     "input": [],
     "language": "python",
     "metadata": {},
     "outputs": []
    }
   ],
   "metadata": {}
  }
 ]
}