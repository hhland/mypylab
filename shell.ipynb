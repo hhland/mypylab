{
 "metadata": {
  "name": "",
  "signature": "sha256:c35278ab86bc02eec3e4a913effcd26e1c840d1fedc64d3b2b82e657a8295647"
 },
 "nbformat": 3,
 "nbformat_minor": 0,
 "worksheets": [
  {
   "cells": [
    {
     "cell_type": "code",
     "collapsed": false,
     "input": [
      "!git add . && git commit -a -m \"....\""
     ],
     "language": "python",
     "metadata": {},
     "outputs": [
      {
       "output_type": "stream",
       "stream": "stdout",
       "text": [
        "[master 2159918] ....\r\n",
        " 36 files changed, 13198 insertions(+), 30 deletions(-)\r\n",
        " create mode 100644 .gitignore\r\n",
        " create mode 100644 BuildingMachineLearningSystemWithPython/tmp/01.txt\r\n",
        " create mode 100644 BuildingMachineLearningSystemWithPython/tmp/02.txt\r\n",
        " create mode 100644 BuildingMachineLearningSystemWithPython/tmp/03.txt\r\n",
        " create mode 100644 BuildingMachineLearningSystemWithPython/tmp/04.txt\r\n",
        " create mode 100644 BuildingMachineLearningSystemWithPython/tmp/05.txt\r\n",
        " create mode 100644 BuildingProbabilisticGraphicalModelsWithPython/.ipynb_checkpoints/Structure Learning-checkpoint.ipynb\r\n",
        " create mode 100644 BuildingProbabilisticGraphicalModelsWithPython/Structure Learning.ipynb\r\n",
        " create mode 100644 MATLABGraphicalProgramming/.ipynb_checkpoints/Display Volumes and Specialized Graphics-checkpoint.ipynb\r\n",
        " create mode 100644 MATLABGraphicalProgramming/.ipynb_checkpoints/Graphics Special Commands-checkpoint.ipynb\r\n",
        " create mode 100644 MATLABGraphicalProgramming/.ipynb_checkpoints/Three-Dimensional Graphics, Warped Curves and Surfaces Contour Graphics-checkpoint.ipynb\r\n",
        " create mode 100644 MATLABGraphicalProgramming/.ipynb_checkpoints/Two-Dimensional Graphics. Statistics Graphics and Curves in Explicit Parametric and Polar Coordinates-checkpoint.ipynb\r\n",
        " create mode 100644 MATLABGraphicalProgramming/Display Volumes and Specialized Graphics.ipynb\r\n",
        " create mode 100644 MATLABGraphicalProgramming/Graphics Special Commands.ipynb\r\n",
        " create mode 100644 MATLABGraphicalProgramming/Three-Dimensional Graphics, Warped Curves and Surfaces Contour Graphics.ipynb\r\n",
        " create mode 100644 MATLABGraphicalProgramming/Two-Dimensional Graphics. Statistics Graphics and Curves in Explicit Parametric and Polar Coordinates.ipynb\r\n",
        " create mode 100644 PythonForFinance/.ipynb_checkpoints/Introductory Examples-checkpoint.ipynb\r\n",
        " create mode 100644 PythonForFinance/Introductory Examples.ipynb\r\n",
        " create mode 100644 PythonForFinance/script/bsm.py\r\n",
        " create mode 100644 ThinkStats/.ipynb_checkpoints/Continuous distribution-checkpoint.ipynb\r\n",
        " create mode 100644 ThinkStats/.ipynb_checkpoints/Cumulative Distribution Function-checkpoint.ipynb\r\n",
        " create mode 100644 ThinkStats/Continuous distribution.ipynb\r\n",
        " create mode 100644 ThinkStats/Cumulative Distribution Function.ipynb\r\n",
        " create mode 100644 ThinkStats/observed_speeds.eps\r\n",
        " create mode 100644 ThinkStats/observed_speeds.pdf\r\n",
        " create mode 100644 ThinkStats/observed_speeds_cdf.eps\r\n",
        " create mode 100644 ThinkStats/observed_speeds_cdf.pdf\r\n",
        " create mode 100644 ThinkStats/script/Cdf.py\r\n",
        " create mode 100644 ThinkStats/script/Pmf.py\r\n",
        " create mode 100644 ThinkStats/script/erf.py\r\n",
        " create mode 100644 ThinkStats/script/myplot.py\r\n",
        " create mode 100644 ThinkStats/script/relay.py\r\n",
        " create mode 100644 ThinkStats/script/relay_cdf.py\r\n",
        " create mode 100644 ThinkStats/script/relay_soln.py\r\n"
       ]
      }
     ],
     "prompt_number": 2
    },
    {
     "cell_type": "code",
     "collapsed": false,
     "input": [
      "!git push"
     ],
     "language": "python",
     "metadata": {},
     "outputs": [
      {
       "output_type": "stream",
       "stream": "stdout",
       "text": [
        "To https://github.com/hhland/mypylab.git\r\n",
        "   66a4852..2159918  master -> master\r\n"
       ]
      }
     ],
     "prompt_number": 3
    },
    {
     "cell_type": "code",
     "collapsed": false,
     "input": [
      "!git config --global credential.helper store"
     ],
     "language": "python",
     "metadata": {},
     "outputs": []
    },
    {
     "cell_type": "code",
     "collapsed": false,
     "input": [
      "!cat oct2py/roundtrip.m"
     ],
     "language": "python",
     "metadata": {},
     "outputs": [
      {
       "output_type": "stream",
       "stream": "stdout",
       "text": [
        "\r",
        "\r\n",
        "function x, class = roundtrip(y)\r",
        "\r\n",
        "\r",
        "\r\n",
        "  % returns the variable it was given, and optionally the class\r",
        "\r\n",
        "\r",
        "\r\n",
        "  x = y\r",
        "\r\n",
        "\r",
        "\r\n",
        "  if nargout == 2\r",
        "\r\n",
        "\r",
        "\r\n",
        "\t class = class(x)\r",
        "\r\n",
        "\r",
        "\r\n",
        "  end\r",
        "\r\n",
        "\r",
        "\r\n",
        "end\r",
        "\r\n"
       ]
      }
     ],
     "prompt_number": 15
    },
    {
     "cell_type": "code",
     "collapsed": false,
     "input": [
      "import IPython.html.nbextensions as nb\n",
      "ext= 'https://github.com/ipython-contrib/IPython-notebook-extensions/archive/master.zip'\n",
      "nb.install_nbextension(ext)"
     ],
     "language": "python",
     "metadata": {},
     "outputs": [
      {
       "output_type": "stream",
       "stream": "stdout",
       "text": [
        "downloading https://github.com/ipython-contrib/IPython-notebook-extensions/archive/master.zip to /tmp/tmpQf3d22/master.zip\n",
        "extracting /tmp/tmpQf3d22/master.zip to /root/.ipython/nbextensions"
       ]
      },
      {
       "output_type": "stream",
       "stream": "stdout",
       "text": [
        "\n"
       ]
      }
     ],
     "prompt_number": 4
    },
    {
     "cell_type": "code",
     "collapsed": false,
     "input": [
      "!rm -rf pig/tmp/script1-local-results*"
     ],
     "language": "python",
     "metadata": {},
     "outputs": [],
     "prompt_number": 3
    },
    {
     "cell_type": "code",
     "collapsed": false,
     "input": [
      "!cd /d/git/MyClojureLab && mkdir ClojureForMachineLearning"
     ],
     "language": "python",
     "metadata": {},
     "outputs": [],
     "prompt_number": 1
    },
    {
     "cell_type": "code",
     "collapsed": false,
     "input": [
      "!cd /d/git/MyClojureLab && git add . && git commit -a -m \"...\" && git push\n"
     ],
     "language": "python",
     "metadata": {},
     "outputs": [
      {
       "output_type": "stream",
       "stream": "stdout",
       "text": [
        "[master 29c377c] ...\r\n",
        " 2 files changed, 140 insertions(+)\r\n",
        " create mode 100644 .ipynb_checkpoints/Untitled0-checkpoint.ipynb\r\n",
        " create mode 100644 Untitled0.ipynb\r\n"
       ]
      },
      {
       "output_type": "stream",
       "stream": "stdout",
       "text": [
        "To https://github.com/hhland/MyClojureLab.git\r\n",
        " ! [rejected]        master -> master (non-fast-forward)\r\n",
        "error: failed to push some refs to 'https://github.com/hhland/MyClojureLab.git'\r\n"
       ]
      },
      {
       "output_type": "stream",
       "stream": "stdout",
       "text": [
        "To prevent you from losing history, non-fast-forward updates were rejected\r\n",
        "Merge the remote changes (e.g. 'git pull') before pushing again.  See the\r\n",
        "'Note about fast-forwards' section of 'git push --help' for details.\r\n"
       ]
      }
     ],
     "prompt_number": 1
    },
    {
     "cell_type": "code",
     "collapsed": false,
     "input": [
      "!cd /d/git/MyScalaLab && git add . && git commit -a -m \"...\" && git push"
     ],
     "language": "python",
     "metadata": {},
     "outputs": []
    },
    {
     "cell_type": "code",
     "collapsed": false,
     "input": [
      "!mkdir MATLABGraphicalProgramming"
     ],
     "language": "python",
     "metadata": {},
     "outputs": [],
     "prompt_number": 4
    },
    {
     "cell_type": "code",
     "collapsed": false,
     "input": [
      "%%file .gitignore\n",
      "*.pyc"
     ],
     "language": "python",
     "metadata": {},
     "outputs": [
      {
       "output_type": "stream",
       "stream": "stdout",
       "text": [
        "Writing .gitignore\n"
       ]
      }
     ],
     "prompt_number": 1
    },
    {
     "cell_type": "code",
     "collapsed": false,
     "input": [],
     "language": "python",
     "metadata": {},
     "outputs": []
    }
   ],
   "metadata": {}
  }
 ]
}