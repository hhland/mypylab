{
 "cells": [
  {
   "cell_type": "code",
   "execution_count": 1,
   "metadata": {
    "collapsed": false
   },
   "outputs": [
    {
     "name": "stdout",
     "output_type": "stream",
     "text": [
      "[master d844c92] ....\n",
      " 54 files changed, 39238 insertions(+), 1663 deletions(-)\n",
      " create mode 100644 .ipynb_checkpoints/email-checkpoint.ipynb\n",
      " create mode 100644 .ipynb_checkpoints/keras-checkpoint.ipynb\n",
      " create mode 100644 .ipynb_checkpoints/lasagne-checkpoint.ipynb\n",
      " create mode 100644 .ipynb_checkpoints/pulp-checkpoint.ipynb\n",
      " create mode 100644 DataScienceAtTheCommandLine/.ipynb_checkpoints/Chapter 4 Creating Reusable Command-Line Tools-checkpoint.ipynb\n",
      " create mode 100644 DataScienceAtTheCommandLine/.ipynb_checkpoints/Chapter 5 Scrubbing Data-checkpoint.ipynb\n",
      " create mode 100644 DataScienceAtTheCommandLine/Chapter 4 Creating Reusable Command-Line Tools.ipynb\n",
      " create mode 100644 DataScienceAtTheCommandLine/Chapter 5 Scrubbing Data.ipynb\n",
      " rewrite DataScienceAtTheCommandLine/Obtaining Data.ipynb (99%)\n",
      " create mode 100755 DataScienceAtTheCommandLine/lines\n",
      " create mode 100755 DataScienceAtTheCommandLine/tool/header\n",
      " rename DataScienceAtTheCommandLine/{ => tool}/unpack.sh (100%)\n",
      " create mode 100644 \"MasteringRforQuantitativeFinance/.ipynb_checkpoints/Chapter 4 Big Data \\342\\200\\223 Advanced Analytics-checkpoint.ipynb\"\n",
      " create mode 100644 \"MasteringRforQuantitativeFinance/Chapter 4 Big Data \\342\\200\\223 Advanced Analytics.ipynb\"\n",
      " create mode 100644 \"RforDataScience/.ipynb_checkpoints/Data Analysis \\342\\200\\223 Clustering-checkpoint.ipynb\"\n",
      " create mode 100644 \"RforDataScience/Data Analysis \\342\\200\\223 Clustering.ipynb\"\n",
      " create mode 100644 ScipyAndNumpy/.ipynb_checkpoints/Numpy-checkpoint.ipynb\n",
      " create mode 100644 ScipyAndNumpy/.ipynb_checkpoints/SciPy-checkpoint.ipynb\n",
      " create mode 100644 ScipyAndNumpy/Numpy.ipynb\n",
      " create mode 100644 ScipyAndNumpy/SciPy.ipynb\n",
      " create mode 100644 \"ThinkBayes/.ipynb_checkpoints/Chapter\\302\\2403\\302\\240Estimation-checkpoint.ipynb\"\n",
      " create mode 100644 ThinkBayes/.ipynb_checkpoints/sh-checkpoint.ipynb\n",
      " create mode 100644 \"ThinkBayes/Chapter\\302\\2403\\302\\240Estimation.ipynb\"\n",
      " create mode 100644 ThinkBayes/script/dice.py\n",
      " create mode 100644 ThinkBayes/script/thinkplot.py\n",
      " create mode 100644 ThinkBayes/sh.ipynb\n",
      " create mode 100644 ThinkBayes/train1.eps\n",
      " create mode 100644 ThinkBayes/train1.pdf\n",
      " create mode 100644 email.ipynb\n",
      " rewrite keen.ipynb (90%)\n",
      " create mode 100644 keras.ipynb\n",
      " create mode 100644 lasagne.ipynb\n",
      " delete mode 100644 pig/pig_magic.pyc\n",
      " create mode 100644 pulp.ipynb\n",
      " delete mode 100644 pyspark/__init__.pyc\n",
      " delete mode 100644 pyspark/accumulators.pyc\n",
      " delete mode 100644 pyspark/broadcast.pyc\n",
      " delete mode 100644 pyspark/cloudpickle.pyc\n",
      " delete mode 100644 pyspark/conf.pyc\n",
      " delete mode 100644 pyspark/context.pyc\n",
      " delete mode 100644 pyspark/files.pyc\n",
      " delete mode 100644 pyspark/java_gateway.pyc\n",
      " delete mode 100644 pyspark/join.pyc\n",
      " delete mode 100644 pyspark/rdd.pyc\n",
      " delete mode 100644 pyspark/rddsampler.pyc\n",
      " delete mode 100644 pyspark/resultiterable.pyc\n",
      " delete mode 100644 pyspark/serializers.pyc\n",
      " delete mode 100644 pyspark/sql.pyc\n",
      " delete mode 100644 pyspark/statcounter.pyc\n",
      " delete mode 100644 pyspark/storagelevel.pyc\n",
      " delete mode 100644 pyspark/worker.pyc\n",
      " create mode 100644 scikit-learnCookbook/.ipynb_checkpoints/Building Models with Distance Metrics-checkpoint.ipynb\n",
      " create mode 100644 scikit-learnCookbook/Building Models with Distance Metrics.ipynb\n"
     ]
    }
   ],
   "source": [
    "!git add . && git commit -a -m \"....\""
   ]
  },
  {
   "cell_type": "code",
   "execution_count": 2,
   "metadata": {
    "collapsed": false
   },
   "outputs": [
    {
     "name": "stdout",
     "output_type": "stream",
     "text": [
      "To https://github.com/hhland/mypylab.git\r\n",
      "   47b5664..d844c92  master -> master\r\n"
     ]
    }
   ],
   "source": [
    "!git push"
   ]
  },
  {
   "cell_type": "code",
   "execution_count": null,
   "metadata": {
    "collapsed": false
   },
   "outputs": [],
   "source": [
    "!git config --global credential.helper store"
   ]
  },
  {
   "cell_type": "code",
   "execution_count": 15,
   "metadata": {
    "collapsed": false
   },
   "outputs": [
    {
     "name": "stdout",
     "output_type": "stream",
     "text": [
      "\r",
      "\r\n",
      "function x, class = roundtrip(y)\r",
      "\r\n",
      "\r",
      "\r\n",
      "  % returns the variable it was given, and optionally the class\r",
      "\r\n",
      "\r",
      "\r\n",
      "  x = y\r",
      "\r\n",
      "\r",
      "\r\n",
      "  if nargout == 2\r",
      "\r\n",
      "\r",
      "\r\n",
      "\t class = class(x)\r",
      "\r\n",
      "\r",
      "\r\n",
      "  end\r",
      "\r\n",
      "\r",
      "\r\n",
      "end\r",
      "\r\n"
     ]
    }
   ],
   "source": [
    "!cat oct2py/roundtrip.m"
   ]
  },
  {
   "cell_type": "code",
   "execution_count": 4,
   "metadata": {
    "collapsed": false
   },
   "outputs": [
    {
     "name": "stdout",
     "output_type": "stream",
     "text": [
      "downloading https://github.com/ipython-contrib/IPython-notebook-extensions/archive/master.zip to /tmp/tmpQf3d22/master.zip\n",
      "extracting /tmp/tmpQf3d22/master.zip to /root/.ipython/nbextensions\n"
     ]
    }
   ],
   "source": [
    "import IPython.html.nbextensions as nb\n",
    "ext= 'https://github.com/ipython-contrib/IPython-notebook-extensions/archive/master.zip'\n",
    "nb.install_nbextension(ext)"
   ]
  },
  {
   "cell_type": "code",
   "execution_count": 3,
   "metadata": {
    "collapsed": false
   },
   "outputs": [],
   "source": [
    "!rm -rf pig/tmp/script1-local-results*"
   ]
  },
  {
   "cell_type": "code",
   "execution_count": 1,
   "metadata": {
    "collapsed": false
   },
   "outputs": [],
   "source": [
    "!cd /d/git/MyClojureLab && mkdir ClojureForMachineLearning"
   ]
  },
  {
   "cell_type": "code",
   "execution_count": 1,
   "metadata": {
    "collapsed": false
   },
   "outputs": [
    {
     "name": "stdout",
     "output_type": "stream",
     "text": [
      "[master 29c377c] ...\n",
      " 2 files changed, 140 insertions(+)\n",
      " create mode 100644 .ipynb_checkpoints/Untitled0-checkpoint.ipynb\n",
      " create mode 100644 Untitled0.ipynb\n",
      "To https://github.com/hhland/MyClojureLab.git\n",
      " ! [rejected]        master -> master (non-fast-forward)\n",
      "error: failed to push some refs to 'https://github.com/hhland/MyClojureLab.git'\n",
      "To prevent you from losing history, non-fast-forward updates were rejected\n",
      "Merge the remote changes (e.g. 'git pull') before pushing again.  See the\n",
      "'Note about fast-forwards' section of 'git push --help' for details.\n"
     ]
    }
   ],
   "source": [
    "!cd /d/git/MyClojureLab && git add . && git commit -a -m \"...\" && git push\n"
   ]
  },
  {
   "cell_type": "code",
   "execution_count": null,
   "metadata": {
    "collapsed": false
   },
   "outputs": [],
   "source": [
    "!cd /d/git/MyScalaLab && git add . && git commit -a -m \"...\" && git push"
   ]
  },
  {
   "cell_type": "code",
   "execution_count": 4,
   "metadata": {
    "collapsed": false
   },
   "outputs": [],
   "source": [
    "!mkdir MATLABGraphicalProgramming"
   ]
  },
  {
   "cell_type": "code",
   "execution_count": 1,
   "metadata": {
    "collapsed": false
   },
   "outputs": [
    {
     "name": "stdout",
     "output_type": "stream",
     "text": [
      "Writing .gitignore\n"
     ]
    }
   ],
   "source": [
    "%%file .gitignore\n",
    "*.pyc"
   ]
  },
  {
   "cell_type": "code",
   "execution_count": null,
   "metadata": {
    "collapsed": false
   },
   "outputs": [],
   "source": []
  }
 ],
 "metadata": {
  "kernelspec": {
   "display_name": "Python 2",
   "language": "python",
   "name": "python2"
  },
  "language_info": {
   "codemirror_mode": {
    "name": "ipython",
    "version": 2
   },
   "file_extension": ".py",
   "mimetype": "text/x-python",
   "name": "python",
   "nbconvert_exporter": "python",
   "pygments_lexer": "ipython2",
   "version": "2.7.3"
  }
 },
 "nbformat": 4,
 "nbformat_minor": 0
}
