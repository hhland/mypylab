{
 "metadata": {
  "name": "",
  "signature": "sha256:c000d49e73edb79434a271ace789a27edf0b64927d114343f267af5afb0091d3"
 },
 "nbformat": 3,
 "nbformat_minor": 0,
 "worksheets": [
  {
   "cells": [
    {
     "cell_type": "code",
     "collapsed": false,
     "input": [
      "!git add . && git commit -a -m \"....\""
     ],
     "language": "python",
     "metadata": {},
     "outputs": [
      {
       "output_type": "stream",
       "stream": "stdout",
       "text": [
        "[master 3b7c28b] ....\r\n",
        " 27 files changed, 5517 insertions(+)\r\n",
        " create mode 100644 ThinkComplexity/.ipynb_checkpoints/Analysis of algorithms-checkpoint.ipynb\r\n",
        " create mode 100644 ThinkComplexity/.ipynb_checkpoints/Case study Directed graphs and knots-checkpoint.ipynb\r\n",
        " create mode 100644 ThinkComplexity/.ipynb_checkpoints/Fractals-checkpoint.ipynb\r\n",
        " create mode 100644 ThinkComplexity/.ipynb_checkpoints/Graph-checkpoint.ipynb\r\n",
        " create mode 100644 ThinkComplexity/.ipynb_checkpoints/Scale-free networks-checkpoint.ipynb\r\n",
        " create mode 100644 ThinkComplexity/.ipynb_checkpoints/Small world graphs-checkpoint.ipynb\r\n",
        " create mode 100644 ThinkComplexity/Analysis of algorithms.ipynb\r\n",
        " create mode 100644 ThinkComplexity/Case study Directed graphs and knots.ipynb\r\n",
        " create mode 100644 ThinkComplexity/Fractals.ipynb\r\n",
        " create mode 100644 ThinkComplexity/Graph.ipynb\r\n",
        " create mode 100644 ThinkComplexity/Scale-free networks.ipynb\r\n",
        " create mode 100644 ThinkComplexity/Small world graphs.ipynb\r\n",
        " create mode 100644 ThinkComplexity/script/Cdf.py\r\n",
        " create mode 100644 ThinkComplexity/script/DirectedGraph.py\r\n",
        " create mode 100644 ThinkComplexity/script/Graph.py\r\n",
        " create mode 100644 ThinkComplexity/script/Graph.pyc\r\n",
        " create mode 100644 ThinkComplexity/script/GraphWorld.py\r\n",
        " create mode 100644 ThinkComplexity/script/GraphWorld.pyc\r\n",
        " create mode 100644 ThinkComplexity/script/Heap.py\r\n",
        " create mode 100644 ThinkComplexity/script/Heap.pyc\r\n",
        " create mode 100644 ThinkComplexity/script/Life.py\r\n",
        " create mode 100644 ThinkComplexity/script/Pmf.py\r\n",
        " create mode 100644 ThinkComplexity/script/Pmf.pyc\r\n",
        " create mode 100644 ThinkComplexity/script/RandomGraph.py\r\n",
        " create mode 100644 ThinkComplexity/script/SmallWorldGraph.py\r\n",
        " create mode 100644 ThinkComplexity/script/Zipf.py\r\n",
        " create mode 100644 ThinkComplexity/tmp/gatsby.txt\r\n"
       ]
      }
     ],
     "prompt_number": 1
    },
    {
     "cell_type": "code",
     "collapsed": false,
     "input": [
      "!git push"
     ],
     "language": "python",
     "metadata": {},
     "outputs": [
      {
       "output_type": "stream",
       "stream": "stdout",
       "text": [
        "To https://github.com/hhland/mypylab.git\r\n",
        "   302de68..3b7c28b  master -> master\r\n"
       ]
      }
     ],
     "prompt_number": 2
    },
    {
     "cell_type": "code",
     "collapsed": false,
     "input": [
      "!mkdir pig"
     ],
     "language": "python",
     "metadata": {},
     "outputs": [],
     "prompt_number": 9
    },
    {
     "cell_type": "code",
     "collapsed": false,
     "input": [
      "!cat oct2py/roundtrip.m"
     ],
     "language": "python",
     "metadata": {},
     "outputs": [
      {
       "output_type": "stream",
       "stream": "stdout",
       "text": [
        "\r",
        "\r\n",
        "function x, class = roundtrip(y)\r",
        "\r\n",
        "\r",
        "\r\n",
        "  % returns the variable it was given, and optionally the class\r",
        "\r\n",
        "\r",
        "\r\n",
        "  x = y\r",
        "\r\n",
        "\r",
        "\r\n",
        "  if nargout == 2\r",
        "\r\n",
        "\r",
        "\r\n",
        "\t class = class(x)\r",
        "\r\n",
        "\r",
        "\r\n",
        "  end\r",
        "\r\n",
        "\r",
        "\r\n",
        "end\r",
        "\r\n"
       ]
      }
     ],
     "prompt_number": 15
    },
    {
     "cell_type": "code",
     "collapsed": false,
     "input": [
      "import IPython.html.nbextensions as nb\n",
      "ext= 'https://github.com/ipython-contrib/IPython-notebook-extensions/archive/master.zip'\n",
      "nb.install_nbextension(ext)"
     ],
     "language": "python",
     "metadata": {},
     "outputs": [
      {
       "output_type": "stream",
       "stream": "stdout",
       "text": [
        "downloading https://github.com/ipython-contrib/IPython-notebook-extensions/archive/master.zip to /tmp/tmpQf3d22/master.zip\n",
        "extracting /tmp/tmpQf3d22/master.zip to /root/.ipython/nbextensions"
       ]
      },
      {
       "output_type": "stream",
       "stream": "stdout",
       "text": [
        "\n"
       ]
      }
     ],
     "prompt_number": 4
    },
    {
     "cell_type": "code",
     "collapsed": false,
     "input": [
      "!rm -rf pig/tmp/script1-local-results*"
     ],
     "language": "python",
     "metadata": {},
     "outputs": [],
     "prompt_number": 3
    },
    {
     "cell_type": "code",
     "collapsed": false,
     "input": [
      "!cd /d/git/MyClojureLab && mkdir ClojureForMachineLearning"
     ],
     "language": "python",
     "metadata": {},
     "outputs": [],
     "prompt_number": 1
    },
    {
     "cell_type": "code",
     "collapsed": false,
     "input": [
      "!cd /d/git/MyClojureLab && git add . && git commit -a -m \"...\" && git push\n"
     ],
     "language": "python",
     "metadata": {},
     "outputs": [
      {
       "output_type": "stream",
       "stream": "stdout",
       "text": [
        "[master 29c377c] ...\r\n",
        " 2 files changed, 140 insertions(+)\r\n",
        " create mode 100644 .ipynb_checkpoints/Untitled0-checkpoint.ipynb\r\n",
        " create mode 100644 Untitled0.ipynb\r\n"
       ]
      },
      {
       "output_type": "stream",
       "stream": "stdout",
       "text": [
        "To https://github.com/hhland/MyClojureLab.git\r\n",
        " ! [rejected]        master -> master (non-fast-forward)\r\n",
        "error: failed to push some refs to 'https://github.com/hhland/MyClojureLab.git'\r\n"
       ]
      },
      {
       "output_type": "stream",
       "stream": "stdout",
       "text": [
        "To prevent you from losing history, non-fast-forward updates were rejected\r\n",
        "Merge the remote changes (e.g. 'git pull') before pushing again.  See the\r\n",
        "'Note about fast-forwards' section of 'git push --help' for details.\r\n"
       ]
      }
     ],
     "prompt_number": 1
    },
    {
     "cell_type": "code",
     "collapsed": false,
     "input": [
      "!cd /d/git/MyScalaLab && git add . && git commit -a -m \"...\" && git push"
     ],
     "language": "python",
     "metadata": {},
     "outputs": []
    },
    {
     "cell_type": "code",
     "collapsed": false,
     "input": [
      "!mkdir PythonGeospatialDevelopment2ndEdition"
     ],
     "language": "python",
     "metadata": {},
     "outputs": [],
     "prompt_number": 1
    },
    {
     "cell_type": "code",
     "collapsed": false,
     "input": [],
     "language": "python",
     "metadata": {},
     "outputs": []
    }
   ],
   "metadata": {}
  }
 ]
}