{
 "metadata": {
  "name": "",
  "signature": "sha256:0ed7097dc39e44ba74aea633c777ea4aa0cf7dc2c2e379adcd28c92841eb693e"
 },
 "nbformat": 3,
 "nbformat_minor": 0,
 "worksheets": [
  {
   "cells": [
    {
     "cell_type": "code",
     "collapsed": false,
     "input": [
      "!git add .\n",
      "!git commit -a -m \"....\""
     ],
     "language": "python",
     "metadata": {},
     "outputs": [
      {
       "output_type": "stream",
       "stream": "stdout",
       "text": [
        "[master c97a967] ....\r\n",
        " 3 files changed, 18 insertions(+), 19 deletions(-)"
       ]
      },
      {
       "output_type": "stream",
       "stream": "stdout",
       "text": [
        "\r\n",
        " delete mode 160000 example/dejavu\r\n"
       ]
      }
     ],
     "prompt_number": 12
    },
    {
     "cell_type": "code",
     "collapsed": false,
     "input": [
      "!git push"
     ],
     "language": "python",
     "metadata": {},
     "outputs": [
      {
       "output_type": "stream",
       "stream": "stdout",
       "text": [
        "To https://github.com/hhland/mypylab.git\r\n",
        "   31b251e..c97a967  master -> master\r\n"
       ]
      }
     ],
     "prompt_number": 14
    },
    {
     "cell_type": "code",
     "collapsed": false,
     "input": [
      "!mkdir BuildingMachineLearningSystemWithPython"
     ],
     "language": "python",
     "metadata": {},
     "outputs": [],
     "prompt_number": 1
    },
    {
     "cell_type": "code",
     "collapsed": false,
     "input": [
      "!cat oct2py/roundtrip.m"
     ],
     "language": "python",
     "metadata": {},
     "outputs": [
      {
       "output_type": "stream",
       "stream": "stdout",
       "text": [
        "\r",
        "\r\n",
        "function x, class = roundtrip(y)\r",
        "\r\n",
        "\r",
        "\r\n",
        "  % returns the variable it was given, and optionally the class\r",
        "\r\n",
        "\r",
        "\r\n",
        "  x = y\r",
        "\r\n",
        "\r",
        "\r\n",
        "  if nargout == 2\r",
        "\r\n",
        "\r",
        "\r\n",
        "\t class = class(x)\r",
        "\r\n",
        "\r",
        "\r\n",
        "  end\r",
        "\r\n",
        "\r",
        "\r\n",
        "end\r",
        "\r\n"
       ]
      }
     ],
     "prompt_number": 15
    },
    {
     "cell_type": "code",
     "collapsed": false,
     "input": [
      "import IPython.html.nbextensions as nb\n",
      "ext= 'https://github.com/ipython-contrib/IPython-notebook-extensions/archive/master.zip'\n",
      "nb.install_nbextension(ext)"
     ],
     "language": "python",
     "metadata": {},
     "outputs": [
      {
       "output_type": "stream",
       "stream": "stdout",
       "text": [
        "downloading https://github.com/ipython-contrib/IPython-notebook-extensions/archive/master.zip to /tmp/tmpQf3d22/master.zip\n",
        "extracting /tmp/tmpQf3d22/master.zip to /root/.ipython/nbextensions"
       ]
      },
      {
       "output_type": "stream",
       "stream": "stdout",
       "text": [
        "\n"
       ]
      }
     ],
     "prompt_number": 4
    },
    {
     "cell_type": "code",
     "collapsed": false,
     "input": [
      "!rm -rf example/dejavu"
     ],
     "language": "python",
     "metadata": {},
     "outputs": [],
     "prompt_number": 11
    },
    {
     "cell_type": "code",
     "collapsed": false,
     "input": [],
     "language": "python",
     "metadata": {},
     "outputs": []
    }
   ],
   "metadata": {}
  }
 ]
}