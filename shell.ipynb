{
 "metadata": {
  "name": "",
  "signature": "sha256:6f59d480a4f04b174025066449e6e9f2d2336bca3734228bb51c5fda0d459731"
 },
 "nbformat": 3,
 "nbformat_minor": 0,
 "worksheets": [
  {
   "cells": [
    {
     "cell_type": "code",
     "collapsed": false,
     "input": [
      "!git add .\n",
      "!git commit -a -m \"....\""
     ],
     "language": "python",
     "metadata": {},
     "outputs": [
      {
       "output_type": "stream",
       "stream": "stdout",
       "text": [
        "[master 21c5c0e] ....\r\n"
       ]
      },
      {
       "output_type": "stream",
       "stream": "stdout",
       "text": [
        " 74 files changed, 1623313 insertions(+), 18 deletions(-)\r\n",
        " rename CookbookForR/.ipynb_checkpoints/Graphs-checkpoint.ipynb => BuildingMachineLearningSystemWithPython/.ipynb_checkpoints/Dimension reduction-checkpoint.ipynb (100%)\r\n",
        " create mode 100644 CookbookForR/.ipynb_checkpoints/Basic graphs with standard graphics-checkpoint.ipynb\r\n",
        " create mode 100644 CookbookForR/.ipynb_checkpoints/DataInputAndOutput-checkpoint.ipynb\r\n",
        " create mode 100644 CookbookForR/.ipynb_checkpoints/Graphs with ggplot2-checkpoint.ipynb\r\n",
        " create mode 100644 CookbookForR/.ipynb_checkpoints/Manipulating data General-checkpoint.ipynb\r\n",
        " create mode 100644 CookbookForR/Basic graphs with standard graphics.ipynb\r\n",
        " create mode 100644 CookbookForR/DataInputAndOutput.ipynb\r\n",
        " rename CookbookForR/{Graphs.ipynb => Graphs with ggplot2.ipynb} (100%)\r\n",
        " create mode 100644 CookbookForR/Manipulating data General.ipynb\r\n",
        " create mode 100644 CookbookForR/tmp/datafile-noheader.csv\r\n",
        " create mode 100644 CookbookForR/tmp/datafile.csv\r\n",
        " create mode 100644 LinuxShellScriptingCookbook/.ipynb_checkpoints/Have a try-checkpoint.ipynb\r\n",
        " create mode 100644 LinuxShellScriptingCookbook/Have a try.ipynb\r\n",
        " create mode 100644 LinuxShellScriptingCookbook/tmp/prinf.sh\r\n",
        " create mode 100644 RecommendationSystemPractice/.ipynb_checkpoints/Using the user behavior data-checkpoint.ipynb\r\n",
        " create mode 100644 RecommendationSystemPractice/Using the user behavior data.ipynb\r\n",
        " create mode 100644 RecommendationSystemPractice/ml-100k.zip\r\n",
        " create mode 100644 RecommendationSystemPractice/tmp/ml-100k/README\r\n",
        " create mode 100755 RecommendationSystemPractice/tmp/ml-100k/allbut.pl\r\n",
        " create mode 100755 RecommendationSystemPractice/tmp/ml-100k/mku.sh\r\n",
        " create mode 100644 RecommendationSystemPractice/tmp/ml-100k/u.data\r\n",
        " create mode 100644 RecommendationSystemPractice/tmp/ml-100k/u.genre\r\n",
        " create mode 100644 RecommendationSystemPractice/tmp/ml-100k/u.info\r\n",
        " create mode 100644 RecommendationSystemPractice/tmp/ml-100k/u.item\r\n",
        " create mode 100644 RecommendationSystemPractice/tmp/ml-100k/u.occupation\r\n",
        " create mode 100644 RecommendationSystemPractice/tmp/ml-100k/u.user\r\n",
        " create mode 100644 RecommendationSystemPractice/tmp/ml-100k/u1.base\r\n",
        " create mode 100644 RecommendationSystemPractice/tmp/ml-100k/u1.test\r\n",
        " create mode 100644 RecommendationSystemPractice/tmp/ml-100k/u2.base\r\n",
        " create mode 100644 RecommendationSystemPractice/tmp/ml-100k/u2.test\r\n",
        " create mode 100644 RecommendationSystemPractice/tmp/ml-100k/u3.base\r\n",
        " create mode 100644 RecommendationSystemPractice/tmp/ml-100k/u3.test\r\n",
        " create mode 100644 RecommendationSystemPractice/tmp/ml-100k/u4.base\r\n",
        " create mode 100644 RecommendationSystemPractice/tmp/ml-100k/u4.test\r\n",
        " create mode 100644 RecommendationSystemPractice/tmp/ml-100k/u5.base\r\n",
        " create mode 100644 RecommendationSystemPractice/tmp/ml-100k/u5.test\r\n",
        " create mode 100644 RecommendationSystemPractice/tmp/ml-100k/ua.base\r\n",
        " create mode 100644 RecommendationSystemPractice/tmp/ml-100k/ua.test\r\n",
        " create mode 100644 RecommendationSystemPractice/tmp/ml-100k/ub.base\r\n",
        " create mode 100644 RecommendationSystemPractice/tmp/ml-100k/ub.test\r\n",
        " create mode 100644 pig/.ipynb_checkpoints/pig_magic-checkpoint.ipynb\r\n",
        " create mode 100644 pig/.ipynb_checkpoints/shell-checkpoint.ipynb\r\n",
        " create mode 100644 pig/.tmp_pig_script.pig\r\n",
        " create mode 100644 pig/pig_magic.ipynb\r\n",
        " create mode 100644 pig/pig_magic.py\r\n",
        " create mode 100644 pig/pig_magic.pyc\r\n",
        " create mode 100644 pig/shell.ipynb\r\n",
        " create mode 100644 pig/tmp/excite-small.log\r\n",
        " create mode 100644 pig/tmp/ml-100k/README\r\n",
        " create mode 100755 pig/tmp/ml-100k/allbut.pl\r\n",
        " create mode 100755 pig/tmp/ml-100k/mku.sh\r\n",
        " create mode 100644 pig/tmp/ml-100k/u.data\r\n",
        " create mode 100644 pig/tmp/ml-100k/u.genre\r\n",
        " create mode 100644 pig/tmp/ml-100k/u.info\r\n",
        " create mode 100644 pig/tmp/ml-100k/u.item\r\n",
        " create mode 100644 pig/tmp/ml-100k/u.occupation\r\n",
        " create mode 100644 pig/tmp/ml-100k/u.user\r\n",
        " create mode 100644 pig/tmp/ml-100k/u1.base\r\n",
        " create mode 100644 pig/tmp/ml-100k/u1.test\r\n",
        " create mode 100644 pig/tmp/ml-100k/u2.base\r\n",
        " create mode 100644 pig/tmp/ml-100k/u2.test\r\n",
        " create mode 100644 pig/tmp/ml-100k/u3.base\r\n",
        " create mode 100644 pig/tmp/ml-100k/u3.test\r\n",
        " create mode 100644 pig/tmp/ml-100k/u4.base\r\n",
        " create mode 100644 pig/tmp/ml-100k/u4.test\r\n",
        " create mode 100644 pig/tmp/ml-100k/u5.base\r\n",
        " create mode 100644 pig/tmp/ml-100k/u5.test\r\n",
        " create mode 100644 pig/tmp/ml-100k/ua.base\r\n",
        " create mode 100644 pig/tmp/ml-100k/ua.test\r\n",
        " create mode 100644 pig/tmp/ml-100k/ub.base\r\n",
        " create mode 100644 pig/tmp/ml-100k/ub.test\r\n"
       ]
      }
     ],
     "prompt_number": 1
    },
    {
     "cell_type": "code",
     "collapsed": false,
     "input": [
      "!git push"
     ],
     "language": "python",
     "metadata": {},
     "outputs": []
    },
    {
     "cell_type": "code",
     "collapsed": false,
     "input": [
      "!mkdir pig"
     ],
     "language": "python",
     "metadata": {},
     "outputs": [],
     "prompt_number": 9
    },
    {
     "cell_type": "code",
     "collapsed": false,
     "input": [
      "!cat oct2py/roundtrip.m"
     ],
     "language": "python",
     "metadata": {},
     "outputs": [
      {
       "output_type": "stream",
       "stream": "stdout",
       "text": [
        "\r",
        "\r\n",
        "function x, class = roundtrip(y)\r",
        "\r\n",
        "\r",
        "\r\n",
        "  % returns the variable it was given, and optionally the class\r",
        "\r\n",
        "\r",
        "\r\n",
        "  x = y\r",
        "\r\n",
        "\r",
        "\r\n",
        "  if nargout == 2\r",
        "\r\n",
        "\r",
        "\r\n",
        "\t class = class(x)\r",
        "\r\n",
        "\r",
        "\r\n",
        "  end\r",
        "\r\n",
        "\r",
        "\r\n",
        "end\r",
        "\r\n"
       ]
      }
     ],
     "prompt_number": 15
    },
    {
     "cell_type": "code",
     "collapsed": false,
     "input": [
      "import IPython.html.nbextensions as nb\n",
      "ext= 'https://github.com/ipython-contrib/IPython-notebook-extensions/archive/master.zip'\n",
      "nb.install_nbextension(ext)"
     ],
     "language": "python",
     "metadata": {},
     "outputs": [
      {
       "output_type": "stream",
       "stream": "stdout",
       "text": [
        "downloading https://github.com/ipython-contrib/IPython-notebook-extensions/archive/master.zip to /tmp/tmpQf3d22/master.zip\n",
        "extracting /tmp/tmpQf3d22/master.zip to /root/.ipython/nbextensions"
       ]
      },
      {
       "output_type": "stream",
       "stream": "stdout",
       "text": [
        "\n"
       ]
      }
     ],
     "prompt_number": 4
    },
    {
     "cell_type": "code",
     "collapsed": false,
     "input": [
      "!rm -rf example/dejavu"
     ],
     "language": "python",
     "metadata": {},
     "outputs": [],
     "prompt_number": 11
    },
    {
     "cell_type": "code",
     "collapsed": false,
     "input": [],
     "language": "python",
     "metadata": {},
     "outputs": []
    }
   ],
   "metadata": {}
  }
 ]
}