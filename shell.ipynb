{
 "metadata": {
  "name": "",
  "signature": "sha256:837cc672e4719459f960735e053f9f655b268741a2c4a8e07699a70d6e92e141"
 },
 "nbformat": 3,
 "nbformat_minor": 0,
 "worksheets": [
  {
   "cells": [
    {
     "cell_type": "code",
     "collapsed": false,
     "input": [
      "!git add .\n",
      "!git commit -a -m \"....\""
     ],
     "language": "python",
     "metadata": {},
     "outputs": [
      {
       "output_type": "stream",
       "stream": "stdout",
       "text": [
        "[master 9c4d8a3] ....\r\n",
        " 36 files changed, 3516 insertions(+), 2563 deletions(-)\r\n",
        " rename cython/helloworld/.ipynb_checkpoints/sh-checkpoint.ipynb => AgileDataScience/.ipynb_checkpoints/Data Agile Tools-checkpoint.ipynb (100%)\r\n",
        " create mode 100644 AgileDataScience/Data Agile Tools.ipynb\r\n",
        " create mode 100644 AgileDataScience/build/pip-delete-this-directory.txt\r\n",
        " create mode 100644 AgileDataScience/tmp/email.avro.schema\r\n",
        " create mode 100644 AgileDataScience/tmp/messages.avro\r\n",
        " rename erlang/.ipynb_checkpoints/test-checkpoint.ipynb => BuildingProbabilisticGraphicalModelsWithPython/.ipynb_checkpoints/Directed Graphical Models-checkpoint.ipynb (50%)\r\n",
        " create mode 100644 BuildingProbabilisticGraphicalModelsWithPython/Directed Graphical Models.ipynb\r\n",
        " create mode 100644 BuildingProbabilisticGraphicalModelsWithPython/data/job_interview.json\r\n",
        " create mode 100644 DataAnalysisWithOpenSourceTools/Chapter 2. A Single Variable Shape and Distribution.ipynb\r\n",
        " create mode 100644 ThinkBayes/.ipynb_checkpoints/Chapter 2 Computational Statistics-checkpoint.ipynb\r\n",
        " create mode 100644 ThinkBayes/Chapter 2 Computational Statistics.ipynb\r\n",
        " create mode 100644 ThinkBayes/thinkbayes.py\r\n",
        " create mode 100644 ThinkBayes/thinkbayes.pyc\r\n",
        " delete mode 100644 avro/.ipynb_checkpoints/test-checkpoint.ipynb\r\n",
        " delete mode 100644 avro/bacon.log\r\n",
        " delete mode 100644 avro/user.avsc\r\n",
        " delete mode 100644 avro/users.avro\r\n",
        " delete mode 100644 cython/helloworld/build/temp.linux-x86_64-2.7/hello.o\r\n",
        " delete mode 100644 cython/helloworld/hello.c\r\n",
        " delete mode 100644 cython/helloworld/hello.pyx\r\n",
        " delete mode 100755 cython/helloworld/hello.so\r\n",
        " delete mode 100644 cython/helloworld/setup.py\r\n",
        " delete mode 100644 cython/helloworld/sh.ipynb\r\n",
        " rename avro/test.ipynb => example/.ipynb_checkpoints/avro-checkpoint.ipynb (51%)\r\n",
        " rename oct2py/test.ipynb => example/.ipynb_checkpoints/oct2py-checkpoint.ipynb (100%)\r\n",
        " create mode 100644 example/avro.ipynb\r\n",
        " rename dejavu => example/dejavu (100%)\r\n",
        " create mode 100755 example/dejavu.py\r\n",
        " rename erlang/test.ipynb => example/erlang.ipynb (100%)\r\n",
        " create mode 100755 example/oct2py.ipynb\r\n",
        " create mode 100644 example/tmp/roundtrip.m\r\n",
        " create mode 100644 example/tmp/roundtrip.py\r\n",
        " create mode 100644 example/tmp/user.avsc\r\n",
        " create mode 100644 example/tmp/users.avro\r\n",
        " rewrite shell.ipynb (95%)\r\n"
       ]
      }
     ],
     "prompt_number": 1
    },
    {
     "cell_type": "code",
     "collapsed": false,
     "input": [
      "!git push"
     ],
     "language": "python",
     "metadata": {},
     "outputs": [
      {
       "output_type": "stream",
       "stream": "stdout",
       "text": [
        "To https://github.com/hhland/mypylab.git\r\n",
        "   cc77118..9c4d8a3  master -> master\r\n"
       ]
      }
     ],
     "prompt_number": 2
    },
    {
     "cell_type": "code",
     "collapsed": false,
     "input": [
      "!mkdir RinAction"
     ],
     "language": "python",
     "metadata": {},
     "outputs": [],
     "prompt_number": 5
    },
    {
     "cell_type": "code",
     "collapsed": false,
     "input": [
      "!cat oct2py/roundtrip.m"
     ],
     "language": "python",
     "metadata": {},
     "outputs": [
      {
       "output_type": "stream",
       "stream": "stdout",
       "text": [
        "\r",
        "\r\n",
        "function x, class = roundtrip(y)\r",
        "\r\n",
        "\r",
        "\r\n",
        "  % returns the variable it was given, and optionally the class\r",
        "\r\n",
        "\r",
        "\r\n",
        "  x = y\r",
        "\r\n",
        "\r",
        "\r\n",
        "  if nargout == 2\r",
        "\r\n",
        "\r",
        "\r\n",
        "\t class = class(x)\r",
        "\r\n",
        "\r",
        "\r\n",
        "  end\r",
        "\r\n",
        "\r",
        "\r\n",
        "end\r",
        "\r\n"
       ]
      }
     ],
     "prompt_number": 15
    },
    {
     "cell_type": "code",
     "collapsed": false,
     "input": [],
     "language": "python",
     "metadata": {},
     "outputs": []
    }
   ],
   "metadata": {}
  }
 ]
}