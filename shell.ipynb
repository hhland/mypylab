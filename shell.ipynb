{
 "metadata": {
  "name": "",
  "signature": "sha256:cd569bfa2532ebc489f622bf595eb21d437cd9a2fe54b4b907aa71f8e59a0a2d"
 },
 "nbformat": 3,
 "nbformat_minor": 0,
 "worksheets": [
  {
   "cells": [
    {
     "cell_type": "code",
     "collapsed": false,
     "input": [
      "!git add .\n",
      "!git commit -a -m \"....\""
     ],
     "language": "python",
     "metadata": {},
     "outputs": [
      {
       "output_type": "stream",
       "stream": "stdout",
       "text": [
        "[master cc77118] ....\r\n"
       ]
      },
      {
       "output_type": "stream",
       "stream": "stdout",
       "text": [
        " 21 files changed, 3093 insertions(+), 170 deletions(-)\r\n",
        " create mode 100644 DataScienceAtTheCommandLine/.ipynb_checkpoints/Creating Reusable Command-Line Tools-checkpoint.ipynb\r\n",
        " create mode 100644 DataScienceAtTheCommandLine/.ipynb_checkpoints/Getting Started-checkpoint.ipynb\r\n",
        " create mode 100644 DataScienceAtTheCommandLine/.ipynb_checkpoints/Obtaining Data-checkpoint.ipynb\r\n",
        " create mode 100644 DataScienceAtTheCommandLine/Creating Reusable Command-Line Tools.ipynb\r\n",
        " create mode 100644 DataScienceAtTheCommandLine/Getting Started.ipynb\r\n",
        " create mode 100644 DataScienceAtTheCommandLine/Obtaining Data.ipynb\r\n",
        " create mode 100644 DataScienceAtTheCommandLine/data/.ipynb_checkpoints/shell-checkpoint.ipynb\r\n",
        " create mode 100644 DataScienceAtTheCommandLine/data/hello-world\r\n",
        " create mode 100644 DataScienceAtTheCommandLine/data/imdb-250.csv\r\n",
        " create mode 100644 DataScienceAtTheCommandLine/data/imdb-250.xlsx\r\n",
        " create mode 100644 DataScienceAtTheCommandLine/data/shell.ipynb\r\n",
        " create mode 100644 DataScienceAtTheCommandLine/data/ten-numbers.txt\r\n",
        " create mode 100755 DataScienceAtTheCommandLine/jq\r\n",
        " create mode 100644 DataScienceAtTheCommandLine/jq.1\r\n",
        " create mode 100644 DataScienceAtTheCommandLine/unpack.sh\r\n",
        " create mode 100644 numpy/.ipynb_checkpoints/Matrix and General functions-checkpoint.ipynb\r\n",
        " delete mode 100644 numpy/.ipynb_checkpoints/lissajous-checkpoint.ipynb\r\n",
        " create mode 100644 numpy/Matrix and General functions.ipynb\r\n",
        " delete mode 100644 numpy/lissajous.ipynb\r\n"
       ]
      }
     ],
     "prompt_number": 2
    },
    {
     "cell_type": "code",
     "collapsed": false,
     "input": [
      "!git push"
     ],
     "language": "python",
     "metadata": {},
     "outputs": [
      {
       "output_type": "stream",
       "stream": "stdout",
       "text": [
        "To https://github.com/hhland/mypylab.git\r\n",
        "   9a63145..cc77118  master -> master\r\n"
       ]
      }
     ],
     "prompt_number": 3
    },
    {
     "cell_type": "code",
     "collapsed": false,
     "input": [
      "!mv oct2py/test.ipynb example/oct2py.ipynb"
     ],
     "language": "python",
     "metadata": {},
     "outputs": [],
     "prompt_number": 13
    },
    {
     "cell_type": "code",
     "collapsed": false,
     "input": [
      "!cat oct2py/roundtrip.m"
     ],
     "language": "python",
     "metadata": {},
     "outputs": [
      {
       "output_type": "stream",
       "stream": "stdout",
       "text": [
        "\r",
        "\r\n",
        "function x, class = roundtrip(y)\r",
        "\r\n",
        "\r",
        "\r\n",
        "  % returns the variable it was given, and optionally the class\r",
        "\r\n",
        "\r",
        "\r\n",
        "  x = y\r",
        "\r\n",
        "\r",
        "\r\n",
        "  if nargout == 2\r",
        "\r\n",
        "\r",
        "\r\n",
        "\t class = class(x)\r",
        "\r\n",
        "\r",
        "\r\n",
        "  end\r",
        "\r\n",
        "\r",
        "\r\n",
        "end\r",
        "\r\n"
       ]
      }
     ],
     "prompt_number": 15
    },
    {
     "cell_type": "code",
     "collapsed": false,
     "input": [],
     "language": "python",
     "metadata": {},
     "outputs": []
    }
   ],
   "metadata": {}
  }
 ]
}