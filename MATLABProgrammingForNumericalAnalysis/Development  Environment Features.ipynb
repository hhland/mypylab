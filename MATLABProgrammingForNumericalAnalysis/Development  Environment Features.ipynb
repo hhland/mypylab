{
 "metadata": {
  "name": "",
  "signature": "sha256:f9ef27af8cf8276ecdd2bb455c1f13016e00d46f1d62139bc74a882e4c284c51"
 },
 "nbformat": 3,
 "nbformat_minor": 0,
 "worksheets": [
  {
   "cells": [
    {
     "cell_type": "code",
     "collapsed": false,
     "input": [
      "%pylab inline\n",
      "%load_ext oct2py.ipython"
     ],
     "language": "python",
     "metadata": {},
     "outputs": [
      {
       "output_type": "stream",
       "stream": "stdout",
       "text": [
        "Populating the interactive namespace from numpy and matplotlib\n"
       ]
      }
     ],
     "prompt_number": 1
    },
    {
     "cell_type": "code",
     "collapsed": false,
     "input": [
      "%%octave\n",
      "A=inv(rand(3))\n",
      "B=inv(2*ones(3)-eye(3))"
     ],
     "language": "python",
     "metadata": {},
     "outputs": [
      {
       "metadata": {},
       "output_type": "display_data",
       "text": [
        "A =\n",
        "\n",
        "  1.0e+01  *\n",
        "\n",
        "  -1.34740  -0.41658  0.71580\n",
        "  1.08380  0.44713  -0.57675\n",
        "  0.67290  0.12257  -0.22170\n",
        "\n",
        "B =\n",
        "\n",
        "  -0.60000  0.40000  0.40000\n",
        "  0.40000  -0.60000  0.40000\n",
        "  0.40000  0.40000  -0.60000"
       ]
      }
     ],
     "prompt_number": 3
    },
    {
     "cell_type": "code",
     "collapsed": false,
     "input": [],
     "language": "python",
     "metadata": {},
     "outputs": []
    }
   ],
   "metadata": {}
  }
 ]
}