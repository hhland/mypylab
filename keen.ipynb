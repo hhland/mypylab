{
 "cells": [
  {
   "cell_type": "code",
   "execution_count": 1,
   "metadata": {
    "collapsed": false
   },
   "outputs": [
    {
     "name": "stdout",
     "output_type": "stream",
     "text": [
      "Populating the interactive namespace from numpy and matplotlib\n"
     ]
    }
   ],
   "source": [
    "%pylab inline\n",
    "import keen\n",
    "from keen.client import KeenClient"
   ]
  },
  {
   "cell_type": "code",
   "execution_count": 2,
   "metadata": {
    "collapsed": false
   },
   "outputs": [
    {
     "data": {
      "text/plain": [
       "<keen.client.KeenClient at 0x31da590>"
      ]
     },
     "execution_count": 2,
     "metadata": {},
     "output_type": "execute_result"
    }
   ],
   "source": [
    "hr =\"-\"*120\n",
    "keen.project_id=\"54ae852396773d4055967a6a\"\n",
    "keen.write_key=\"fcb5e556789749196a281d9ea5051eb1ee29da5eaec675757678a3cd875c15dee24e6bdd5b031cc2e2954eebc4a20f7462e31df9ad8ac301844fef0cab86cd8cadb05e13ab2a0aa10022f4ff6dd39b0bf9f46ebdb134b61e31b35d8c633b915bf7d4be4a9112ef48a7e8e4eb3fa60c00\"\n",
    "keen.read_key=\"e213e4d189fc7edcd46841b9fb1a83e77aa284b63f55afa1f123304e876bc63bc3ad806ea648b06d01bb051ebea7d8d6edd05ab9931a96dc225d791e4f4a3851038379ffd4b61c17132ec3dc5d34a264c31c317eec66b53924a57a5d8c158f9d1b69b65a21c56a22e17428429649035c\"\n",
    "\n",
    "client = KeenClient(\n",
    "        project_id=keen.project_id,\n",
    "        write_key=keen.write_key,\n",
    "        read_key=keen.read_key\n",
    ")\n",
    "\n",
    "client"
   ]
  },
  {
   "cell_type": "code",
   "execution_count": 3,
   "metadata": {
    "collapsed": false
   },
   "outputs": [],
   "source": [
    "client.add_event(\"sign_ups\", {\n",
    "        \"username\": \"lloyd\",\n",
    "        \"referred_by\": \"harry\"\n",
    "})"
   ]
  },
  {
   "cell_type": "code",
   "execution_count": 4,
   "metadata": {
    "collapsed": false
   },
   "outputs": [],
   "source": [
    "keen.add_events({\n",
    "        \"sign_ups\": [\n",
    "            { \"username\": \"nameuser1\" },\n",
    "            { \"username\": \"nameuser2\" } \n",
    "        ],\n",
    "        \"purchases\": [\n",
    "            { \"price\": 5 },\n",
    "            { \"price\": 6 }\n",
    "        ]\n",
    "})"
   ]
  },
  {
   "cell_type": "code",
   "execution_count": 5,
   "metadata": {
    "collapsed": false
   },
   "outputs": [
    {
     "data": {
      "text/plain": [
       "(4,\n",
       " '------------------------------------------------------------------------------------------------------------------------',\n",
       " 22)"
      ]
     },
     "execution_count": 5,
     "metadata": {},
     "output_type": "execute_result"
    }
   ],
   "source": [
    "keen.count(\"purchases\"),hr,keen.sum(\"purchases\", target_property=\"price\") # => 10000"
   ]
  },
  {
   "cell_type": "code",
   "execution_count": 23,
   "metadata": {
    "collapsed": false
   },
   "outputs": [
    {
     "data": {
      "text/plain": [
       "(5,\n",
       " '------------------------------------------------------------------------------------------------------------------------',\n",
       " 6,\n",
       " '------------------------------------------------------------------------------------------------------------------------',\n",
       " 5.5)"
      ]
     },
     "execution_count": 23,
     "metadata": {},
     "output_type": "execute_result"
    }
   ],
   "source": [
    "keen.minimum(\"purchases\", target_property=\"price\") ,hr \\\n",
    ",keen.maximum(\"purchases\", target_property=\"price\") ,hr\\\n",
    ",keen.average(\"purchases\", target_property=\"price\")\n"
   ]
  },
  {
   "cell_type": "code",
   "execution_count": 26,
   "metadata": {
    "collapsed": false
   },
   "outputs": [
    {
     "data": {
      "text/plain": [
       "([{u'item.id': None, u'result': 22}],\n",
       " '------------------------------------------------------------------------------------------------------------------------',\n",
       " 1,\n",
       " '------------------------------------------------------------------------------------------------------------------------',\n",
       " [None],\n",
       " '------------------------------------------------------------------------------------------------------------------------',\n",
       " [{u'keen': {u'created_at': u'2015-01-10T08:16:33.713Z',\n",
       "    u'id': u'54b0dfe1c2266c2f9531560e',\n",
       "    u'timestamp': u'2015-01-10T08:16:33.713Z'},\n",
       "   u'price': 5},\n",
       "  {u'keen': {u'created_at': u'2015-01-10T08:16:33.713Z',\n",
       "    u'id': u'54b0dfe1c2266c2f9531560f',\n",
       "    u'timestamp': u'2015-01-10T08:16:33.713Z'},\n",
       "   u'price': 6},\n",
       "  {u'keen': {u'created_at': u'2015-01-10T09:29:51.365Z',\n",
       "    u'id': u'54b0f10fe08557219e3084ba',\n",
       "    u'timestamp': u'2015-01-10T09:29:51.365Z'},\n",
       "   u'price': 5},\n",
       "  {u'keen': {u'created_at': u'2015-01-10T09:29:51.365Z',\n",
       "    u'id': u'54b0f10fe08557219e3084bb',\n",
       "    u'timestamp': u'2015-01-10T09:29:51.365Z'},\n",
       "   u'price': 6}])"
      ]
     },
     "execution_count": 26,
     "metadata": {},
     "output_type": "execute_result"
    }
   ],
   "source": [
    "\n",
    "\n",
    "keen.sum(\"purchases\", target_property=\"price\", group_by=\"item.id\")\\\n",
    ",hr, \\\n",
    "keen.count_unique(\"purchases\", target_property=\"user.id\") \\\n",
    ",hr, \\\n",
    "keen.select_unique(\"purchases\", target_property=\"user.email\") \\\n",
    ",hr, \\\n",
    "keen.extraction(\"purchases\", timeframe=\"today\") \n",
    "\n"
   ]
  },
  {
   "cell_type": "code",
   "execution_count": 27,
   "metadata": {
    "collapsed": false
   },
   "outputs": [
    {
     "data": {
      "text/plain": [
       "{u'average': 5.5, u'total': 22}"
      ]
     },
     "execution_count": 27,
     "metadata": {},
     "output_type": "execute_result"
    }
   ],
   "source": [
    "keen.multi_analysis(\"purchases\", \n",
    "                    analyses={\"total\":{\"analysis_type\":\"sum\", \"target_property\":\"price\"}, \"average\":{\"analysis_type\":\"average\", \"target_property\":\"price\"}\n",
    "                              }) # => {\"total\":10329.03, \"average\":933.93}\n",
    "\n"
   ]
  },
  {
   "cell_type": "code",
   "execution_count": 28,
   "metadata": {
    "collapsed": false
   },
   "outputs": [
    {
     "data": {
      "text/plain": [
       "[0, 0]"
      ]
     },
     "execution_count": 28,
     "metadata": {},
     "output_type": "execute_result"
    }
   ],
   "source": [
    "step1 = {\n",
    "        \"event_collection\": \"signup\",\n",
    "        \"actor_property\": \"user.email\"\n",
    "}\n",
    "step2 = {\n",
    "        \"event_collection\": \"purchase\",\n",
    "        \"actor_property\": \"user.email\"\n",
    "}\n",
    "\n",
    "keen.funnel([step1, step2], timeframe=\"today\") # => [2039, 201]"
   ]
  },
  {
   "cell_type": "code",
   "execution_count": null,
   "metadata": {
    "collapsed": false
   },
   "outputs": [],
   "source": []
  }
 ],
 "metadata": {
  "kernelspec": {
   "display_name": "Python 2",
   "language": "python",
   "name": "python2"
  },
  "language_info": {
   "codemirror_mode": {
    "name": "ipython",
    "version": 2
   },
   "file_extension": ".py",
   "mimetype": "text/x-python",
   "name": "python",
   "nbconvert_exporter": "python",
   "pygments_lexer": "ipython2",
   "version": "2.7.3"
  }
 },
 "nbformat": 4,
 "nbformat_minor": 0
}
