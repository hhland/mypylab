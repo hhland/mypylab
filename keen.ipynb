{
 "metadata": {
  "name": "",
  "signature": "sha256:6d8a310ebe9ccda548be75118bcc0f1999d093388013ba43bdcd216e7c773860"
 },
 "nbformat": 3,
 "nbformat_minor": 0,
 "worksheets": [
  {
   "cells": [
    {
     "cell_type": "code",
     "collapsed": false,
     "input": [
      "%pylab inline\n",
      "import keen\n",
      "from keen.client import KeenClient"
     ],
     "language": "python",
     "metadata": {},
     "outputs": [
      {
       "output_type": "stream",
       "stream": "stdout",
       "text": [
        "Populating the interactive namespace from numpy and matplotlib\n"
       ]
      }
     ],
     "prompt_number": 6
    },
    {
     "cell_type": "code",
     "collapsed": false,
     "input": [
      "hr =\"-\"*120\n",
      "keen.project_id=\"54ae852396773d4055967a6a\"\n",
      "keen.write_key=\"fcb5e556789749196a281d9ea5051eb1ee29da5eaec675757678a3cd875c15dee24e6bdd5b031cc2e2954eebc4a20f7462e31df9ad8ac301844fef0cab86cd8cadb05e13ab2a0aa10022f4ff6dd39b0bf9f46ebdb134b61e31b35d8c633b915bf7d4be4a9112ef48a7e8e4eb3fa60c00\"\n",
      "keen.read_key=\"e213e4d189fc7edcd46841b9fb1a83e77aa284b63f55afa1f123304e876bc63bc3ad806ea648b06d01bb051ebea7d8d6edd05ab9931a96dc225d791e4f4a3851038379ffd4b61c17132ec3dc5d34a264c31c317eec66b53924a57a5d8c158f9d1b69b65a21c56a22e17428429649035c\"\n",
      "\n",
      "client = KeenClient(\n",
      "        project_id=keen.project_id,\n",
      "        write_key=keen.write_key,\n",
      "        read_key=keen.read_key\n",
      ")\n",
      "\n",
      "client"
     ],
     "language": "python",
     "metadata": {},
     "outputs": [
      {
       "metadata": {},
       "output_type": "pyout",
       "prompt_number": 18,
       "text": [
        "<keen.client.KeenClient at 0x31f0390>"
       ]
      }
     ],
     "prompt_number": 18
    },
    {
     "cell_type": "code",
     "collapsed": false,
     "input": [
      "client.add_event(\"sign_ups\", {\n",
      "        \"username\": \"lloyd\",\n",
      "        \"referred_by\": \"harry\"\n",
      "})"
     ],
     "language": "python",
     "metadata": {},
     "outputs": [],
     "prompt_number": 19
    },
    {
     "cell_type": "code",
     "collapsed": false,
     "input": [
      "keen.add_events({\n",
      "        \"sign_ups\": [\n",
      "            { \"username\": \"nameuser1\" },\n",
      "            { \"username\": \"nameuser2\" } \n",
      "        ],\n",
      "        \"purchases\": [\n",
      "            { \"price\": 5 },\n",
      "            { \"price\": 6 }\n",
      "        ]\n",
      "})"
     ],
     "language": "python",
     "metadata": {},
     "outputs": [],
     "prompt_number": 20
    },
    {
     "cell_type": "code",
     "collapsed": false,
     "input": [
      "keen.count(\"purchases\"),hr,keen.sum(\"purchases\", target_property=\"price\") # => 10000"
     ],
     "language": "python",
     "metadata": {},
     "outputs": [
      {
       "metadata": {},
       "output_type": "pyout",
       "prompt_number": 22,
       "text": [
        "(4,\n",
        " '------------------------------------------------------------------------------------------------------------------------',\n",
        " 22)"
       ]
      }
     ],
     "prompt_number": 22
    },
    {
     "cell_type": "code",
     "collapsed": false,
     "input": [
      "keen.minimum(\"purchases\", target_property=\"price\") ,hr \\\n",
      ",keen.maximum(\"purchases\", target_property=\"price\") ,hr\\\n",
      ",keen.average(\"purchases\", target_property=\"price\")\n"
     ],
     "language": "python",
     "metadata": {},
     "outputs": [
      {
       "metadata": {},
       "output_type": "pyout",
       "prompt_number": 23,
       "text": [
        "(5,\n",
        " '------------------------------------------------------------------------------------------------------------------------',\n",
        " 6,\n",
        " '------------------------------------------------------------------------------------------------------------------------',\n",
        " 5.5)"
       ]
      }
     ],
     "prompt_number": 23
    },
    {
     "cell_type": "code",
     "collapsed": false,
     "input": [
      "\n",
      "\n",
      "keen.sum(\"purchases\", target_property=\"price\", group_by=\"item.id\")\\\n",
      ",hr, \\\n",
      "keen.count_unique(\"purchases\", target_property=\"user.id\") \\\n",
      ",hr, \\\n",
      "keen.select_unique(\"purchases\", target_property=\"user.email\") \\\n",
      ",hr, \\\n",
      "keen.extraction(\"purchases\", timeframe=\"today\") \n",
      "\n"
     ],
     "language": "python",
     "metadata": {},
     "outputs": [
      {
       "metadata": {},
       "output_type": "pyout",
       "prompt_number": 26,
       "text": [
        "([{u'item.id': None, u'result': 22}],\n",
        " '------------------------------------------------------------------------------------------------------------------------',\n",
        " 1,\n",
        " '------------------------------------------------------------------------------------------------------------------------',\n",
        " [None],\n",
        " '------------------------------------------------------------------------------------------------------------------------',\n",
        " [{u'keen': {u'created_at': u'2015-01-10T08:16:33.713Z',\n",
        "    u'id': u'54b0dfe1c2266c2f9531560e',\n",
        "    u'timestamp': u'2015-01-10T08:16:33.713Z'},\n",
        "   u'price': 5},\n",
        "  {u'keen': {u'created_at': u'2015-01-10T08:16:33.713Z',\n",
        "    u'id': u'54b0dfe1c2266c2f9531560f',\n",
        "    u'timestamp': u'2015-01-10T08:16:33.713Z'},\n",
        "   u'price': 6},\n",
        "  {u'keen': {u'created_at': u'2015-01-10T09:29:51.365Z',\n",
        "    u'id': u'54b0f10fe08557219e3084ba',\n",
        "    u'timestamp': u'2015-01-10T09:29:51.365Z'},\n",
        "   u'price': 5},\n",
        "  {u'keen': {u'created_at': u'2015-01-10T09:29:51.365Z',\n",
        "    u'id': u'54b0f10fe08557219e3084bb',\n",
        "    u'timestamp': u'2015-01-10T09:29:51.365Z'},\n",
        "   u'price': 6}])"
       ]
      }
     ],
     "prompt_number": 26
    },
    {
     "cell_type": "code",
     "collapsed": false,
     "input": [
      "keen.multi_analysis(\"purchases\", \n",
      "                    analyses={\"total\":{\"analysis_type\":\"sum\", \"target_property\":\"price\"}, \"average\":{\"analysis_type\":\"average\", \"target_property\":\"price\"}\n",
      "                              }) # => {\"total\":10329.03, \"average\":933.93}\n",
      "\n"
     ],
     "language": "python",
     "metadata": {},
     "outputs": [
      {
       "metadata": {},
       "output_type": "pyout",
       "prompt_number": 27,
       "text": [
        "{u'average': 5.5, u'total': 22}"
       ]
      }
     ],
     "prompt_number": 27
    },
    {
     "cell_type": "code",
     "collapsed": false,
     "input": [
      "step1 = {\n",
      "        \"event_collection\": \"signup\",\n",
      "        \"actor_property\": \"user.email\"\n",
      "}\n",
      "step2 = {\n",
      "        \"event_collection\": \"purchase\",\n",
      "        \"actor_property\": \"user.email\"\n",
      "}\n",
      "\n",
      "keen.funnel([step1, step2], timeframe=\"today\") # => [2039, 201]"
     ],
     "language": "python",
     "metadata": {},
     "outputs": [
      {
       "metadata": {},
       "output_type": "pyout",
       "prompt_number": 28,
       "text": [
        "[0, 0]"
       ]
      }
     ],
     "prompt_number": 28
    },
    {
     "cell_type": "code",
     "collapsed": false,
     "input": [],
     "language": "python",
     "metadata": {},
     "outputs": []
    }
   ],
   "metadata": {}
  }
 ]
}