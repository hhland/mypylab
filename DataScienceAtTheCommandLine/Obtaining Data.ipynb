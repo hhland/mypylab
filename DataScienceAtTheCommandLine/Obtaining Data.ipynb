{
 "metadata": {
  "name": "",
  "signature": "sha256:7b41dddfc4c8914bbd8fbf3d4175faf01bd78f06f5ff12c4b761caa3e0c0f9f4"
 },
 "nbformat": 3,
 "nbformat_minor": 0,
 "worksheets": [
  {
   "cells": [
    {
     "cell_type": "code",
     "collapsed": false,
     "input": [
      "%%file unpack.sh\n",
      "  if [[ -z \"$@\" ]]; then\n",
      "    echo \" ${0##*/} <archive> - extract common file formats)\"\n",
      "    exit\n",
      "  fi\n",
      "# Required program(s)\n",
      "  req_progs=(7z unrar unzip)\n",
      "  for p in ${req_progs[@]}; do\n",
      "    hash \"$p\" 2>&- || \\\n",
      "    { echo >&2 \" Required program \\\"$p\\\" not installed.\"; exit 1; }\n",
      "  done\n",
      "# Test if file exists\n",
      "  if [ ! -f \"$@\" ]; then\n",
      "    echo \"File \"$@\" doesn't exist\"\n",
      "    exit\n",
      "  fi\n",
      "# Extract file by using extension as reference\n",
      "  case \"$@\" in\n",
      "    *.7z ) 7z x \"$@\" ;;\n",
      "    *.tar.bz2 ) tar xvjf \"$@\" ;;\n",
      "    *.bz2 ) bunzip2 \"$@\" ;;\n",
      "    *.deb ) ar vx \"$@\" ;;\n",
      "    *.tar.gz ) tar xvf \"$@\" ;;\n",
      "    *.gz ) gunzip \"$@\" ;;\n",
      "    *.tar ) tar xvf \"$@\" ;;\n",
      "    *.tbz2 ) tar xvjf \"$@\" ;;\n",
      "    *.tar.xz ) tar xvf \"$@\" ;;\n",
      "    *.tgz ) tar xvzf \"$@\" ;;\n",
      "    *.rar ) unrar x \"$@\" ;;\n",
      "    *.zip ) unzip \"$@\" ;;\n",
      "    *.Z ) uncompress \"$@\" ;;\n",
      "    * ) echo \" Unsupported file format\" ;;\n",
      "  esac"
     ],
     "language": "python",
     "metadata": {},
     "outputs": [
      {
       "output_type": "stream",
       "stream": "stdout",
       "text": [
        "Writing unpack.sh\n"
       ]
      }
     ],
     "prompt_number": 3
    },
    {
     "cell_type": "code",
     "collapsed": false,
     "input": [
      "\"\"\"Converting Microsoft Excel Spreadsheets\"\"\"\n",
      "#!pip install csvkit\n",
      "!in2csv data/imdb-250.xlsx > data/imdb-250.csv\n",
      "!in2csv data/imdb-250.xlsx | head | cut -c1-80\n",
      "!in2csv data/imdb-250.xlsx | head | csvcut -c Title,Year,Rating | csvlook"
     ],
     "language": "python",
     "metadata": {},
     "outputs": [
      {
       "output_type": "stream",
       "stream": "stdout",
       "text": [
        "/usr/local/lib/python2.7/dist-packages/openpyxl/workbook/names/named_range.py:121: UserWarning: Discarded range with reserved name\r\n",
        "  warnings.warn(\"Discarded range with reserved name\")\r\n"
       ]
      },
      {
       "output_type": "stream",
       "stream": "stdout",
       "text": [
        "/usr/local/lib/python2.7/dist-packages/openpyxl/workbook/names/named_range.py:121: UserWarning: Discarded range with reserved name\r\n",
        "  warnings.warn(\"Discarded range with reserved name\")\r\n"
       ]
      },
      {
       "output_type": "stream",
       "stream": "stdout",
       "text": [
        "Title,title trim,Year,Rank,Rank (desc),Rating,New in 2011 from 2010?,2010 rank,R\r\n",
        "Sherlock Jr. (1924),SherlockJr.(1924),1924,221,30,8,y,n/a,n/a,\r\n",
        "The Passion of Joan of Arc (1928),ThePassionofJoanofArc(1928),1928,212,39,8,y,n/\r\n",
        "His Girl Friday (1940),HisGirlFriday(1940),1940,250,1,8,y,n/a,n/a,\r\n",
        "Tokyo Story (1953),TokyoStory(1953),1953,248,3,8,y,n/a,n/a,\r\n",
        "The Man Who Shot Liberty Valance (1962),TheManWhoShotLibertyValance(1962),1962,2\r\n",
        "Persona (1966),Persona(1966),1966,200,51,8,y,n/a,n/a,\r\n",
        "Stalker (1979),Stalker(1979),1979,243,8,8,y,n/a,n/a,\r\n",
        "Fanny and Alexander (1982),FannyandAlexander(1982),1982,210,41,8,y,n/a,n/a,\r\n",
        "Beauty and the Beast (1991),BeautyandtheBeast(1991),1991,249,2,8,y,n/a,n/a,\r\n"
       ]
      },
      {
       "output_type": "stream",
       "stream": "stdout",
       "text": [
        "/usr/local/lib/python2.7/dist-packages/openpyxl/workbook/names/named_range.py:121: UserWarning: Discarded range with reserved name\r\n",
        "  warnings.warn(\"Discarded range with reserved name\")\r\n"
       ]
      },
      {
       "output_type": "stream",
       "stream": "stdout",
       "text": [
        "|------------------------------------------+------+---------|\r\n",
        "|  Title                                   | Year | Rating  |\r\n",
        "|------------------------------------------+------+---------|\r\n",
        "|  Sherlock Jr. (1924)                     | 1924 | 8       |\r\n",
        "|  The Passion of Joan of Arc (1928)       | 1928 | 8       |\r\n",
        "|  His Girl Friday (1940)                  | 1940 | 8       |\r\n",
        "|  Tokyo Story (1953)                      | 1953 | 8       |\r\n",
        "|  The Man Who Shot Liberty Valance (1962) | 1962 | 8       |\r\n",
        "|  Persona (1966)                          | 1966 | 8       |\r\n",
        "|  Stalker (1979)                          | 1979 | 8       |\r\n",
        "|  Fanny and Alexander (1982)              | 1982 | 8       |\r\n",
        "|  Beauty and the Beast (1991)             | 1991 | 8       |\r\n",
        "|------------------------------------------+------+---------|\r\n"
       ]
      }
     ],
     "prompt_number": 8
    },
    {
     "cell_type": "code",
     "collapsed": false,
     "input": [
      "!curl -s http://api.randomuser.me | jq '.'"
     ],
     "language": "python",
     "metadata": {},
     "outputs": [
      {
       "output_type": "stream",
       "stream": "stdout",
       "text": [
        "/bin/sh: 1: jq: not found\r\n"
       ]
      }
     ],
     "prompt_number": 9
    },
    {
     "cell_type": "code",
     "collapsed": false,
     "input": [
      "#stedolan.github.io/jq/\n",
      "#!wget http://stedolan.github.io/jq/download/linux64/jq && chmod +x jq  && cp jq /usr/bin/\n",
      "!curl -s http://api.randomuser.me | jq '.'"
     ],
     "language": "python",
     "metadata": {},
     "outputs": [
      {
       "output_type": "stream",
       "stream": "stdout",
       "text": [
        "--2014-12-07 22:20:57--  http://stedolan.github.io/jq/download/linux64/jq\r\n",
        "Resolving stedolan.github.io (stedolan.github.io)... 103.245.222.133\r\n",
        "Connecting to stedolan.github.io (stedolan.github.io)|103.245.222.133|:80... "
       ]
      },
      {
       "output_type": "stream",
       "stream": "stdout",
       "text": [
        "connected.\r\n",
        "HTTP request sent, awaiting response... "
       ]
      },
      {
       "output_type": "stream",
       "stream": "stdout",
       "text": [
        "200 OK\r\n",
        "Length: 497799 (486K) [application/octet-stream]\r\n",
        "Saving to: `jq.1'\r\n",
        "\r\n",
        "\r",
        " 0% [                                       ] 0           --.-K/s              "
       ]
      },
      {
       "output_type": "stream",
       "stream": "stdout",
       "text": [
        "\r",
        " 2% [                                       ] 10,600      18.8K/s              "
       ]
      },
      {
       "output_type": "stream",
       "stream": "stdout",
       "text": [
        "\r",
        " 5% [=>                                     ] 29,540      33.9K/s              "
       ]
      },
      {
       "output_type": "stream",
       "stream": "stdout",
       "text": [
        "\r",
        " 9% [==>                                    ] 49,532      42.4K/s              "
       ]
      },
      {
       "output_type": "stream",
       "stream": "stdout",
       "text": [
        "\r",
        "13% [====>                                  ] 69,524      49.9K/s              "
       ]
      },
      {
       "output_type": "stream",
       "stream": "stdout",
       "text": [
        "\r",
        "17% [=====>                                 ] 86,660      54.1K/s              "
       ]
      },
      {
       "output_type": "stream",
       "stream": "stdout",
       "text": [
        "\r",
        "22% [=======>                               ] 113,792     62.6K/s              "
       ]
      },
      {
       "output_type": "stream",
       "stream": "stdout",
       "text": [
        "\r",
        "26% [=========>                             ] 133,784     65.8K/s              "
       ]
      },
      {
       "output_type": "stream",
       "stream": "stdout",
       "text": [
        "\r",
        "33% [============>                          ] 168,056     74.0K/s              "
       ]
      },
      {
       "output_type": "stream",
       "stream": "stdout",
       "text": [
        "\r",
        "38% [==============>                        ] 193,760     77.7K/s              "
       ]
      },
      {
       "output_type": "stream",
       "stream": "stdout",
       "text": [
        "\r",
        "48% [=================>                     ] 239,456     87.4K/s              "
       ]
      },
      {
       "output_type": "stream",
       "stream": "stdout",
       "text": [
        "\r",
        "54% [====================>                  ] 273,728     92.0K/s              "
       ]
      },
      {
       "output_type": "stream",
       "stream": "stdout",
       "text": [
        "\r",
        "59% [======================>                ] 293,720     72.8K/s  eta 3s      "
       ]
      },
      {
       "output_type": "stream",
       "stream": "stdout",
       "text": [
        "\r",
        "60% [======================>                ] 301,912     65.8K/s  eta 3s      "
       ]
      },
      {
       "output_type": "stream",
       "stream": "stdout",
       "text": [
        "\r",
        "66% [========================>              ] 330,472     64.4K/s  eta 3s      "
       ]
      },
      {
       "output_type": "stream",
       "stream": "stdout",
       "text": [
        "\r",
        "70% [==========================>            ] 352,268     64.2K/s  eta 3s      "
       ]
      },
      {
       "output_type": "stream",
       "stream": "stdout",
       "text": [
        "\r",
        "71% [===========================>           ] 357,980     62.8K/s  eta 3s      "
       ]
      },
      {
       "output_type": "stream",
       "stream": "stdout",
       "text": [
        "\r",
        "72% [===========================>           ] 362,264     60.9K/s  eta 3s      "
       ]
      },
      {
       "output_type": "stream",
       "stream": "stdout",
       "text": [
        "\r",
        "74% [===========================>           ] 369,404     63.7K/s  eta 2s      "
       ]
      },
      {
       "output_type": "stream",
       "stream": "stdout",
       "text": [
        "\r",
        "76% [============================>          ] 380,828     62.6K/s  eta 2s      "
       ]
      },
      {
       "output_type": "stream",
       "stream": "stdout",
       "text": [
        "\r",
        "78% [=============================>         ] 390,824     60.2K/s  eta 2s      "
       ]
      },
      {
       "output_type": "stream",
       "stream": "stdout",
       "text": [
        "\r",
        "80% [==============================>        ] 402,248     58.3K/s  eta 2s      "
       ]
      },
      {
       "output_type": "stream",
       "stream": "stdout",
       "text": [
        "\r",
        "83% [===============================>       ] 413,672     55.5K/s  eta 1s      "
       ]
      },
      {
       "output_type": "stream",
       "stream": "stdout",
       "text": [
        "\r",
        "85% [================================>      ] 425,096     43.9K/s  eta 1s      "
       ]
      },
      {
       "output_type": "stream",
       "stream": "stdout",
       "text": [
        "\r",
        "85% [================================>      ] 425,096     37.9K/s  eta 1s      "
       ]
      },
      {
       "output_type": "stream",
       "stream": "stdout",
       "text": [
        "\r",
        "85% [================================>      ] 425,096     33.4K/s  eta 2s      "
       ]
      },
      {
       "output_type": "stream",
       "stream": "stdout",
       "text": [
        "\r",
        "87% [=================================>     ] 435,092     27.4K/s  eta 2s      "
       ]
      },
      {
       "output_type": "stream",
       "stream": "stdout",
       "text": [
        "\r",
        "87% [=================================>     ] 435,092     24.5K/s  eta 2s      "
       ]
      },
      {
       "output_type": "stream",
       "stream": "stdout",
       "text": [
        "\r",
        "87% [=================================>     ] 435,604     21.2K/s  eta 2s      "
       ]
      },
      {
       "output_type": "stream",
       "stream": "stdout",
       "text": [
        "\r",
        "89% [=================================>     ] 443,660     16.2K/s  eta 2s      "
       ]
      },
      {
       "output_type": "stream",
       "stream": "stdout",
       "text": [
        "\r",
        "89% [=================================>     ] 445,088     16.1K/s  eta 2s      "
       ]
      },
      {
       "output_type": "stream",
       "stream": "stdout",
       "text": [
        "\r",
        "89% [=================================>     ] 445,088     14.5K/s  eta 2s      "
       ]
      },
      {
       "output_type": "stream",
       "stream": "stdout",
       "text": [
        "\r",
        "89% [=================================>     ] 445,088     13.2K/s  eta 2s      "
       ]
      },
      {
       "output_type": "stream",
       "stream": "stdout",
       "text": [
        "\r",
        "89% [=================================>     ] 445,088     12.1K/s  eta 2s      "
       ]
      },
      {
       "output_type": "stream",
       "stream": "stdout",
       "text": [
        "\r",
        "89% [=================================>     ] 445,088     11.2K/s  eta 2s      "
       ]
      },
      {
       "output_type": "stream",
       "stream": "stdout",
       "text": [
        "\r",
        "89% [=================================>     ] 445,088     --.-K/s  eta 2s      "
       ]
      },
      {
       "output_type": "stream",
       "stream": "stdout",
       "text": [
        "\r",
        "89% [=================================>     ] 445,088     --.-K/s  eta 2s      "
       ]
      },
      {
       "output_type": "stream",
       "stream": "stdout",
       "text": [
        "\r",
        "89% [=================================>     ] 445,088     --.-K/s  eta 2s      "
       ]
      },
      {
       "output_type": "stream",
       "stream": "stdout",
       "text": [
        "\r",
        "89% [=================================>     ] 445,088     --.-K/s  eta 2s      "
       ]
      },
      {
       "output_type": "stream",
       "stream": "stdout",
       "text": [
        "\r",
        "89% [=================================>     ] 445,088     --.-K/s  eta 2s      "
       ]
      },
      {
       "output_type": "stream",
       "stream": "stdout",
       "text": [
        "\r",
        "89% [=================================>     ] 445,088     --.-K/s  eta 3s      "
       ]
      },
      {
       "output_type": "stream",
       "stream": "stdout",
       "text": [
        "\r",
        "89% [=================================>     ] 445,088     --.-K/s  eta 3s      "
       ]
      },
      {
       "output_type": "stream",
       "stream": "stdout",
       "text": [
        "\r",
        "89% [=================================>     ] 445,216      128B/s  eta 3s      "
       ]
      },
      {
       "output_type": "stream",
       "stream": "stdout",
       "text": [
        "\r",
        "89% [=================================>     ] 445,856      553B/s  eta 3s      "
       ]
      },
      {
       "output_type": "stream",
       "stream": "stdout",
       "text": [
        "\r",
        "89% [==================================>    ] 447,796     1.49K/s  eta 3s      "
       ]
      },
      {
       "output_type": "stream",
       "stream": "stdout",
       "text": [
        "\r",
        "90% [==================================>    ] 448,456     1.13K/s  eta 3s      "
       ]
      },
      {
       "output_type": "stream",
       "stream": "stdout",
       "text": [
        "\r",
        "90% [==================================>    ] 448,456      874B/s  eta 3s      "
       ]
      },
      {
       "output_type": "stream",
       "stream": "stdout",
       "text": [
        "\r",
        "90% [==================================>    ] 448,456      701B/s  eta 3s      "
       ]
      },
      {
       "output_type": "stream",
       "stream": "stdout",
       "text": [
        "\r",
        "90% [==================================>    ] 449,096      789B/s  eta 3s      "
       ]
      },
      {
       "output_type": "stream",
       "stream": "stdout",
       "text": [
        "\r",
        "90% [==================================>    ] 449,224      666B/s  eta 3s      "
       ]
      },
      {
       "output_type": "stream",
       "stream": "stdout",
       "text": [
        "\r",
        "90% [==================================>    ] 449,224      577B/s  eta 3s      "
       ]
      },
      {
       "output_type": "stream",
       "stream": "stdout",
       "text": [
        "\r",
        "90% [==================================>    ] 449,500      550B/s  eta 3s      "
       ]
      },
      {
       "output_type": "stream",
       "stream": "stdout",
       "text": [
        "\r",
        "90% [==================================>    ] 449,884      558B/s  eta 3s      "
       ]
      },
      {
       "output_type": "stream",
       "stream": "stdout",
       "text": [
        "\r",
        "90% [==================================>    ] 450,396      579B/s  eta 3s      "
       ]
      },
      {
       "output_type": "stream",
       "stream": "stdout",
       "text": [
        "\r",
        "90% [==================================>    ] 450,928      588B/s  eta 3s      "
       ]
      },
      {
       "output_type": "stream",
       "stream": "stdout",
       "text": [
        "\r",
        "90% [==================================>    ] 451,056      568B/s  eta 3s      "
       ]
      },
      {
       "output_type": "stream",
       "stream": "stdout",
       "text": [
        "\r",
        "90% [==================================>    ] 451,696      608B/s  eta 3s      "
       ]
      },
      {
       "output_type": "stream",
       "stream": "stdout",
       "text": [
        "\r",
        "90% [==================================>    ] 452,080      583B/s  eta 4s      "
       ]
      },
      {
       "output_type": "stream",
       "stream": "stdout",
       "text": [
        "\r",
        "90% [==================================>    ] 452,208      560B/s  eta 4s      "
       ]
      },
      {
       "output_type": "stream",
       "stream": "stdout",
       "text": [
        "\r",
        "90% [==================================>    ] 452,228      538B/s  eta 4s      "
       ]
      },
      {
       "output_type": "stream",
       "stream": "stdout",
       "text": [
        "\r",
        "90% [==================================>    ] 452,996      604B/s  eta 4s      "
       ]
      },
      {
       "output_type": "stream",
       "stream": "stdout",
       "text": [
        "\r",
        "91% [==================================>    ] 453,656      482B/s  eta 4s      "
       ]
      },
      {
       "output_type": "stream",
       "stream": "stdout",
       "text": [
        "\r",
        "91% [==================================>    ] 454,040      442B/s  eta 4s      "
       ]
      },
      {
       "output_type": "stream",
       "stream": "stdout",
       "text": [
        "\r",
        "91% [==================================>    ] 455,064      607B/s  eta 4s      "
       ]
      },
      {
       "output_type": "stream",
       "stream": "stdout",
       "text": [
        "\r",
        "91% [==================================>    ] 455,340      594B/s  eta 4s      "
       ]
      },
      {
       "output_type": "stream",
       "stream": "stdout",
       "text": [
        "\r",
        "91% [==================================>    ] 455,980      822B/s  eta 4s      "
       ]
      },
      {
       "output_type": "stream",
       "stream": "stdout",
       "text": [
        "\r",
        "91% [==================================>    ] 456,492      859B/s  eta 4s      "
       ]
      },
      {
       "output_type": "stream",
       "stream": "stdout",
       "text": [
        "\r",
        "91% [==================================>    ] 457,152      898B/s  eta 4s      "
       ]
      },
      {
       "output_type": "stream",
       "stream": "stdout",
       "text": [
        "\r",
        "91% [==================================>    ] 457,152      790B/s  eta 4s      "
       ]
      },
      {
       "output_type": "stream",
       "stream": "stdout",
       "text": [
        "\r",
        "91% [==================================>    ] 457,152      705B/s  eta 4s      "
       ]
      },
      {
       "output_type": "stream",
       "stream": "stdout",
       "text": [
        "\r",
        "91% [==================================>    ] 457,152      636B/s  eta 4s      "
       ]
      },
      {
       "output_type": "stream",
       "stream": "stdout",
       "text": [
        "\r",
        "91% [==================================>    ] 457,920      703B/s  eta 4s      "
       ]
      },
      {
       "output_type": "stream",
       "stream": "stdout",
       "text": [
        "\r",
        "92% [==================================>    ] 458,196      688B/s  eta 4s      "
       ]
      },
      {
       "output_type": "stream",
       "stream": "stdout",
       "text": [
        "\r",
        "92% [==================================>    ] 458,580      684B/s  eta 4s      "
       ]
      },
      {
       "output_type": "stream",
       "stream": "stdout",
       "text": [
        "\r",
        "92% [==================================>    ] 458,836      783B/s  eta 4s      "
       ]
      },
      {
       "output_type": "stream",
       "stream": "stdout",
       "text": [
        "\r",
        "92% [==================================>    ] 459,368      854B/s  eta 4s      "
       ]
      },
      {
       "output_type": "stream",
       "stream": "stdout",
       "text": [
        "\r",
        "92% [===================================>   ] 459,624      834B/s  eta 4s      "
       ]
      },
      {
       "output_type": "stream",
       "stream": "stdout",
       "text": [
        "\r",
        "92% [===================================>   ] 459,752      760B/s  eta 4s      "
       ]
      },
      {
       "output_type": "stream",
       "stream": "stdout",
       "text": [
        "\r",
        "92% [===================================>   ] 460,520      807B/s  eta 4s      "
       ]
      },
      {
       "output_type": "stream",
       "stream": "stdout",
       "text": [
        "\r",
        "92% [===================================>   ] 460,796      741B/s  eta 4s      "
       ]
      },
      {
       "output_type": "stream",
       "stream": "stdout",
       "text": [
        "\r",
        "92% [===================================>   ] 460,796      674B/s  eta 4s      "
       ]
      },
      {
       "output_type": "stream",
       "stream": "stdout",
       "text": [
        "\r",
        "92% [===================================>   ] 460,796      619B/s  eta 4s      "
       ]
      },
      {
       "output_type": "stream",
       "stream": "stdout",
       "text": [
        "\r",
        "92% [===================================>   ] 460,796      571B/s  eta 4s      "
       ]
      },
      {
       "output_type": "stream",
       "stream": "stdout",
       "text": [
        "\r",
        "92% [===================================>   ] 460,860      545B/s  eta 4s      "
       ]
      },
      {
       "output_type": "stream",
       "stream": "stdout",
       "text": [
        "\r",
        "92% [===================================>   ] 461,244      572B/s  eta 4s      "
       ]
      },
      {
       "output_type": "stream",
       "stream": "stdout",
       "text": [
        "\r",
        "92% [===================================>   ] 461,436      521B/s  eta 4s      "
       ]
      },
      {
       "output_type": "stream",
       "stream": "stdout",
       "text": [
        "\r",
        "92% [===================================>   ] 461,564      518B/s  eta 4s      "
       ]
      },
      {
       "output_type": "stream",
       "stream": "stdout",
       "text": [
        "\r",
        "92% [===================================>   ] 461,884      512B/s  eta 4s      "
       ]
      },
      {
       "output_type": "stream",
       "stream": "stdout",
       "text": [
        "\r",
        "92% [===================================>   ] 462,012      477B/s  eta 4s      "
       ]
      },
      {
       "output_type": "stream",
       "stream": "stdout",
       "text": [
        "\r",
        "92% [===================================>   ] 462,288      476B/s  eta 4s      "
       ]
      },
      {
       "output_type": "stream",
       "stream": "stdout",
       "text": [
        "\r",
        "92% [===================================>   ] 462,480      469B/s  eta 4s      "
       ]
      },
      {
       "output_type": "stream",
       "stream": "stdout",
       "text": [
        "\r",
        "92% [===================================>   ] 462,736      466B/s  eta 4s      "
       ]
      },
      {
       "output_type": "stream",
       "stream": "stdout",
       "text": [
        "\r",
        "93% [===================================>   ] 462,992      463B/s  eta 4s      "
       ]
      },
      {
       "output_type": "stream",
       "stream": "stdout",
       "text": [
        "\r",
        "93% [===================================>   ] 463,056      549B/s  eta 4s      "
       ]
      },
      {
       "output_type": "stream",
       "stream": "stdout",
       "text": [
        "\r",
        "93% [===================================>   ] 463,504      568B/s  eta 4s      "
       ]
      },
      {
       "output_type": "stream",
       "stream": "stdout",
       "text": [
        "\r",
        "93% [===================================>   ] 463,652      556B/s  eta 4s      "
       ]
      },
      {
       "output_type": "stream",
       "stream": "stdout",
       "text": [
        "\r",
        "93% [===================================>   ] 464,036      556B/s  eta 4s      "
       ]
      },
      {
       "output_type": "stream",
       "stream": "stdout",
       "text": [
        "\r",
        "93% [===================================>   ] 464,420      595B/s  eta 4s      "
       ]
      },
      {
       "output_type": "stream",
       "stream": "stdout",
       "text": [
        "\r",
        "93% [===================================>   ] 464,868      602B/s  eta 4s      "
       ]
      },
      {
       "output_type": "stream",
       "stream": "stdout",
       "text": [
        "\r",
        "93% [===================================>   ] 465,060      582B/s  eta 4s      "
       ]
      },
      {
       "output_type": "stream",
       "stream": "stdout",
       "text": [
        "\r",
        "93% [===================================>   ] 465,528      618B/s  eta 4s      "
       ]
      },
      {
       "output_type": "stream",
       "stream": "stdout",
       "text": [
        "\r",
        "93% [===================================>   ] 465,848      584B/s  eta 4s      "
       ]
      },
      {
       "output_type": "stream",
       "stream": "stdout",
       "text": [
        "\r",
        "93% [===================================>   ] 466,104      610B/s  eta 4s      "
       ]
      },
      {
       "output_type": "stream",
       "stream": "stdout",
       "text": [
        "\r",
        "93% [===================================>   ] 466,424      986B/s  eta 4s      "
       ]
      },
      {
       "output_type": "stream",
       "stream": "stdout",
       "text": [
        "\r",
        "93% [===================================>   ] 466,956      972B/s  eta 4s      "
       ]
      },
      {
       "output_type": "stream",
       "stream": "stdout",
       "text": [
        "\r",
        "93% [===================================>   ] 467,276      993B/s  eta 4s      "
       ]
      },
      {
       "output_type": "stream",
       "stream": "stdout",
       "text": [
        "\r",
        "93% [===================================>   ] 467,660     1.01K/s  eta 4s      "
       ]
      },
      {
       "output_type": "stream",
       "stream": "stdout",
       "text": [
        "\r",
        "93% [===================================>   ] 467,724     1.05K/s  eta 4s      "
       ]
      },
      {
       "output_type": "stream",
       "stream": "stdout",
       "text": [
        "\r",
        "94% [===================================>   ] 468,576     1.14K/s  eta 4s      "
       ]
      },
      {
       "output_type": "stream",
       "stream": "stdout",
       "text": [
        "\r",
        "94% [===================================>   ] 468,896     1.15K/s  eta 4s      "
       ]
      },
      {
       "output_type": "stream",
       "stream": "stdout",
       "text": [
        "\r",
        "94% [===================================>   ] 469,024     1.14K/s  eta 4s      "
       ]
      },
      {
       "output_type": "stream",
       "stream": "stdout",
       "text": [
        "\r",
        "94% [===================================>   ] 469,620     1.21K/s  eta 4s      "
       ]
      },
      {
       "output_type": "stream",
       "stream": "stdout",
       "text": [
        "\r",
        "94% [===================================>   ] 469,684     1.14K/s  eta 3s      "
       ]
      },
      {
       "output_type": "stream",
       "stream": "stdout",
       "text": [
        "\r",
        "94% [===================================>   ] 470,708     1.24K/s  eta 3s      "
       ]
      },
      {
       "output_type": "stream",
       "stream": "stdout",
       "text": [
        "\r",
        "94% [===================================>   ] 471,240     1.25K/s  eta 3s      "
       ]
      },
      {
       "output_type": "stream",
       "stream": "stdout",
       "text": [
        "\r",
        "94% [===================================>   ] 472,200     1.29K/s  eta 3s      "
       ]
      },
      {
       "output_type": "stream",
       "stream": "stdout",
       "text": [
        "\r",
        "94% [====================================>  ] 472,796     1.48K/s  eta 3s      "
       ]
      },
      {
       "output_type": "stream",
       "stream": "stdout",
       "text": [
        "\r",
        "95% [====================================>  ] 473,244     1.48K/s  eta 3s      "
       ]
      },
      {
       "output_type": "stream",
       "stream": "stdout",
       "text": [
        "\r",
        "95% [====================================>  ] 474,416     1.68K/s  eta 3s      "
       ]
      },
      {
       "output_type": "stream",
       "stream": "stdout",
       "text": [
        "\r",
        "95% [====================================>  ] 475,376     1.78K/s  eta 3s      "
       ]
      },
      {
       "output_type": "stream",
       "stream": "stdout",
       "text": [
        "\r",
        "95% [====================================>  ] 475,952     1.85K/s  eta 3s      "
       ]
      },
      {
       "output_type": "stream",
       "stream": "stdout",
       "text": [
        "\r",
        "95% [====================================>  ] 477,104     2.08K/s  eta 3s      "
       ]
      },
      {
       "output_type": "stream",
       "stream": "stdout",
       "text": [
        "\r",
        "96% [====================================>  ] 478,384     2.42K/s  eta 3s      "
       ]
      },
      {
       "output_type": "stream",
       "stream": "stdout",
       "text": [
        "\r",
        "96% [====================================>  ] 480,432     2.75K/s  eta 3s      "
       ]
      },
      {
       "output_type": "stream",
       "stream": "stdout",
       "text": [
        "\r",
        "96% [====================================>  ] 480,432     2.16K/s  eta 2s      "
       ]
      },
      {
       "output_type": "stream",
       "stream": "stdout",
       "text": [
        "\r",
        "96% [====================================>  ] 481,200     2.13K/s  eta 2s      "
       ]
      },
      {
       "output_type": "stream",
       "stream": "stdout",
       "text": [
        "\r",
        "96% [====================================>  ] 482,352     2.18K/s  eta 2s      "
       ]
      },
      {
       "output_type": "stream",
       "stream": "stdout",
       "text": [
        "\r",
        "97% [====================================>  ] 484,144     2.37K/s  eta 2s      "
       ]
      },
      {
       "output_type": "stream",
       "stream": "stdout",
       "text": [
        "\r",
        "97% [====================================>  ] 484,656     2.34K/s  eta 2s      "
       ]
      },
      {
       "output_type": "stream",
       "stream": "stdout",
       "text": [
        "\r",
        "97% [=====================================> ] 485,680     2.45K/s  eta 2s      "
       ]
      },
      {
       "output_type": "stream",
       "stream": "stdout",
       "text": [
        "\r",
        "97% [=====================================> ] 486,704     2.53K/s  eta 2s      "
       ]
      },
      {
       "output_type": "stream",
       "stream": "stdout",
       "text": [
        "\r",
        "97% [=====================================> ] 487,472     2.58K/s  eta 1s      "
       ]
      },
      {
       "output_type": "stream",
       "stream": "stdout",
       "text": [
        "\r",
        "98% [=====================================> ] 488,752     2.72K/s  eta 1s      "
       ]
      },
      {
       "output_type": "stream",
       "stream": "stdout",
       "text": [
        "\r",
        "98% [=====================================> ] 490,288     2.80K/s  eta 1s      "
       ]
      },
      {
       "output_type": "stream",
       "stream": "stdout",
       "text": [
        "\r",
        "98% [=====================================> ] 491,184     2.86K/s  eta 1s      "
       ]
      },
      {
       "output_type": "stream",
       "stream": "stdout",
       "text": [
        "\r",
        "98% [=====================================> ] 492,720     2.97K/s  eta 1s      "
       ]
      },
      {
       "output_type": "stream",
       "stream": "stdout",
       "text": [
        "\r",
        "99% [=====================================> ] 494,256     3.18K/s  eta 1s      "
       ]
      },
      {
       "output_type": "stream",
       "stream": "stdout",
       "text": [
        "\r",
        "99% [=====================================> ] 495,664     3.27K/s  eta 1s      "
       ]
      },
      {
       "output_type": "stream",
       "stream": "stdout",
       "text": [
        "\r",
        "99% [=====================================> ] 497,584     3.43K/s  eta 1s      \r",
        "100%[======================================>] 497,799     3.47K/s   in 67s     \r\n",
        "\r\n",
        "2014-12-07 22:22:05 (7.21 KB/s) - `jq.1' saved [497799/497799]\r\n",
        "\r\n"
       ]
      },
      {
       "output_type": "stream",
       "stream": "stdout",
       "text": [
        "\u001b[37m{\r\n",
        "  \u001b[0m\u001b[34;1m\"results\"\u001b[0m\u001b[37m: \u001b[0m\u001b[37m[\r\n",
        "    \u001b[37m{\r\n",
        "      \u001b[0m\u001b[34;1m\"user\"\u001b[0m\u001b[37m: \u001b[0m\u001b[37m{\r\n",
        "        \u001b[0m\u001b[34;1m\"gender\"\u001b[0m\u001b[37m: \u001b[0m\u001b[32m\"female\"\u001b[0m\u001b[37m,\r\n",
        "        \u001b[0m\u001b[34;1m\"name\"\u001b[0m\u001b[37m: \u001b[0m\u001b[37m{\r\n",
        "          \u001b[0m\u001b[34;1m\"title\"\u001b[0m\u001b[37m: \u001b[0m\u001b[32m\"ms\"\u001b[0m\u001b[37m,\r\n",
        "          \u001b[0m\u001b[34;1m\"first\"\u001b[0m\u001b[37m: \u001b[0m\u001b[32m\"heidi\"\u001b[0m\u001b[37m,\r\n",
        "          \u001b[0m\u001b[34;1m\"last\"\u001b[0m\u001b[37m: \u001b[0m\u001b[32m\"gomez\"\u001b[0m\u001b[37m\r\n",
        "        \u001b[37m}\u001b[0m\u001b[37m,\r\n",
        "        \u001b[0m\u001b[34;1m\"location\"\u001b[0m\u001b[37m: \u001b[0m\u001b[37m{\r\n",
        "          \u001b[0m\u001b[34;1m\"street\"\u001b[0m\u001b[37m: \u001b[0m\u001b[32m\"9049 camden ave\"\u001b[0m\u001b[37m,\r\n",
        "          \u001b[0m\u001b[34;1m\"city\"\u001b[0m\u001b[37m: \u001b[0m\u001b[32m\"san jose\"\u001b[0m\u001b[37m,\r\n",
        "          \u001b[0m\u001b[34;1m\"state\"\u001b[0m\u001b[37m: \u001b[0m\u001b[32m\"texas\"\u001b[0m\u001b[37m,\r\n",
        "          \u001b[0m\u001b[34;1m\"zip\"\u001b[0m\u001b[37m: \u001b[0m\u001b[32m\"76928\"\u001b[0m\u001b[37m\r\n",
        "        \u001b[37m}\u001b[0m\u001b[37m,\r\n",
        "        \u001b[0m\u001b[34;1m\"email\"\u001b[0m\u001b[37m: \u001b[0m\u001b[32m\"heidi.gomez48@example.com\"\u001b[0m\u001b[37m,\r\n",
        "        \u001b[0m\u001b[34;1m\"username\"\u001b[0m\u001b[37m: \u001b[0m\u001b[32m\"redwolf78\"\u001b[0m\u001b[37m,\r\n",
        "        \u001b[0m\u001b[34;1m\"password\"\u001b[0m\u001b[37m: \u001b[0m\u001b[32m\"yellow\"\u001b[0m\u001b[37m,\r\n",
        "        \u001b[0m\u001b[34;1m\"salt\"\u001b[0m\u001b[37m: \u001b[0m\u001b[32m\"OFIkJdb8\"\u001b[0m\u001b[37m,\r\n",
        "        \u001b[0m\u001b[34;1m\"md5\"\u001b[0m\u001b[37m: \u001b[0m\u001b[32m\"2229a950cbd744bb63ea894de4b42d11\"\u001b[0m\u001b[37m,\r\n",
        "        \u001b[0m\u001b[34;1m\"sha1\"\u001b[0m\u001b[37m: \u001b[0m\u001b[32m\"cd38c41b9af616da985baf937447231b452a7f3f\"\u001b[0m\u001b[37m,\r\n",
        "        \u001b[0m\u001b[34;1m\"sha256\"\u001b[0m\u001b[37m: \u001b[0m\u001b[32m\"3592e9cff4b0112bead32faa566a99e77ef47ef9b3d7cc4843f26ae0c632ba47\"\u001b[0m\u001b[37m,\r\n",
        "        \u001b[0m\u001b[34;1m\"registered\"\u001b[0m\u001b[37m: \u001b[0m\u001b[32m\"1160695465\"\u001b[0m\u001b[37m,\r\n",
        "        \u001b[0m\u001b[34;1m\"dob\"\u001b[0m\u001b[37m: \u001b[0m\u001b[32m\"468627396\"\u001b[0m\u001b[37m,\r\n",
        "        \u001b[0m\u001b[34;1m\"phone\"\u001b[0m\u001b[37m: \u001b[0m\u001b[32m\"(279)-570-2805\"\u001b[0m\u001b[37m,\r\n",
        "        \u001b[0m\u001b[34;1m\"cell\"\u001b[0m\u001b[37m: \u001b[0m\u001b[32m\"(495)-489-4112\"\u001b[0m\u001b[37m,\r\n",
        "        \u001b[0m\u001b[34;1m\"SSN\"\u001b[0m\u001b[37m: \u001b[0m\u001b[32m\"874-56-3796\"\u001b[0m\u001b[37m,\r\n",
        "        \u001b[0m\u001b[34;1m\"picture\"\u001b[0m\u001b[37m: \u001b[0m\u001b[37m{\r\n",
        "          \u001b[0m\u001b[34;1m\"large\"\u001b[0m\u001b[37m: \u001b[0m\u001b[32m\"http://api.randomuser.me/portraits/women/2.jpg\"\u001b[0m\u001b[37m,\r\n",
        "          \u001b[0m\u001b[34;1m\"medium\"\u001b[0m\u001b[37m: \u001b[0m\u001b[32m\"http://api.randomuser.me/portraits/med/women/2.jpg\"\u001b[0m\u001b[37m,\r\n",
        "          \u001b[0m\u001b[34;1m\"thumbnail\"\u001b[0m\u001b[37m: \u001b[0m\u001b[32m\"http://api.randomuser.me/portraits/thumb/women/2.jpg\"\u001b[0m\u001b[37m\r\n",
        "        \u001b[37m}\u001b[0m\u001b[37m,\r\n",
        "        \u001b[0m\u001b[34;1m\"version\"\u001b[0m\u001b[37m: \u001b[0m\u001b[32m\"0.4.1\"\u001b[0m\u001b[37m\r\n",
        "      \u001b[37m}\u001b[0m\u001b[37m,\r\n",
        "      \u001b[0m\u001b[34;1m\"seed\"\u001b[0m\u001b[37m: \u001b[0m\u001b[32m\"ad3ef9f1a580f464\"\u001b[0m\u001b[37m\r\n",
        "    \u001b[37m}\u001b[0m\u001b[37m\r\n",
        "  \u001b[37m]\u001b[0m\u001b[37m\r\n",
        "\u001b[37m}\u001b[0m\r\n"
       ]
      }
     ],
     "prompt_number": 13
    },
    {
     "cell_type": "code",
     "collapsed": false,
     "input": [],
     "language": "python",
     "metadata": {},
     "outputs": []
    }
   ],
   "metadata": {}
  }
 ]
}