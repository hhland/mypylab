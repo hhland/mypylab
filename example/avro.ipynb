{
 "cells": [
  {
   "cell_type": "code",
   "execution_count": 1,
   "metadata": {},
   "outputs": [],
   "source": [
    "import avro\n",
    "from avro.datafile import DataFileReader, DataFileWriter\n",
    "from avro.io import DatumReader, DatumWriter"
   ]
  },
  {
   "cell_type": "code",
   "execution_count": 36,
   "metadata": {},
   "outputs": [
    {
     "name": "stdout",
     "output_type": "stream",
     "text": [
      "Overwriting tmp/user.avsc\n"
     ]
    }
   ],
   "source": [
    "%%file tmp/user.avsc\n",
    "{   \"namespace\": \"example.avro\",\n",
    "    \"type\":\"record\",\n",
    "    \"name\":\"User\",\n",
    "    \"fields\":[\n",
    "    {\"name\":\"name\",\"type\":\"string\"},\n",
    "    {\"name\":\"favorite_number\",\"type\":\"int\"},\n",
    "    {\"name\":\"favorite_color\",\"type\":[\"string\",\"null\"]}\n",
    "    ]\n",
    "}"
   ]
  },
  {
   "cell_type": "code",
   "execution_count": 37,
   "metadata": {},
   "outputs": [],
   "source": [
    "schema = avro.schema.parse(open(\"tmp/user.avsc\").read())\n",
    "\n",
    "writer = DataFileWriter(open(\"tmp/users.avro\", \"w\"), DatumWriter(), schema)\n",
    "writer.append({\"name\": \"Alyssa\", \"favorite_number\": 256})\n",
    "writer.append({\"name\": \"Ben\", \"favorite_number\": 7, \"favorite_color\": \"red\"})\n",
    "writer.close()\n",
    "\n"
   ]
  },
  {
   "cell_type": "code",
   "execution_count": 38,
   "metadata": {},
   "outputs": [
    {
     "name": "stdout",
     "output_type": "stream",
     "text": [
      "{u'favorite_color': None, u'favorite_number': 256, u'name': u'Alyssa'}\n",
      "{u'favorite_color': u'red', u'favorite_number': 7, u'name': u'Ben'}\n"
     ]
    }
   ],
   "source": [
    "reader = DataFileReader(open(\"tmp/users.avro\", \"r\"), DatumReader())\n",
    "for user in reader:\n",
    "    print user\n",
    "reader.close()"
   ]
  },
  {
   "cell_type": "code",
   "execution_count": 3,
   "metadata": {},
   "outputs": [
    {
     "name": "stdout",
     "output_type": "stream",
     "text": [
      "users.avro\r\n"
     ]
    }
   ],
   "source": [
    "!ls tmp/"
   ]
  },
  {
   "cell_type": "code",
   "execution_count": null,
   "metadata": {},
   "outputs": [],
   "source": []
  }
 ],
 "metadata": {
  "kernelspec": {
   "display_name": "Python 2",
   "language": "python",
   "name": "python2"
  },
  "language_info": {
   "codemirror_mode": {
    "name": "ipython",
    "version": 2
   },
   "file_extension": ".py",
   "mimetype": "text/x-python",
   "name": "python",
   "nbconvert_exporter": "python",
   "pygments_lexer": "ipython2",
   "version": "2.7.14"
  }
 },
 "nbformat": 4,
 "nbformat_minor": 1
}
