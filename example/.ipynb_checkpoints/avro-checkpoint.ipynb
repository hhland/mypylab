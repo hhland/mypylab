{
 "metadata": {
  "name": "",
  "signature": "sha256:5bd57c822624a4aae54172bfdd031808601614577bbc19c17444878b03ef8427"
 },
 "nbformat": 3,
 "nbformat_minor": 0,
 "worksheets": [
  {
   "cells": [
    {
     "cell_type": "code",
     "collapsed": false,
     "input": [
      "import avro\n",
      "from avro.datafile import DataFileReader, DataFileWriter\n",
      "from avro.io import DatumReader, DatumWriter"
     ],
     "language": "python",
     "metadata": {},
     "outputs": [],
     "prompt_number": 1
    },
    {
     "cell_type": "code",
     "collapsed": false,
     "input": [
      "%%file tmp/user.avsc\n",
      "{   \"namespace\": \"example.avro\",\n",
      "    \"type\":\"record\",\n",
      "    \"name\":\"User\",\n",
      "    \"fields\":[\n",
      "    {\"name\":\"name\",\"type\":\"string\"},\n",
      "    {\"name\":\"favorite_number\",\"type\":\"int\"},\n",
      "    {\"name\":\"favorite_color\",\"type\":[\"string\",\"null\"]}\n",
      "    ]\n",
      "}"
     ],
     "language": "python",
     "metadata": {},
     "outputs": [
      {
       "output_type": "stream",
       "stream": "stdout",
       "text": [
        "Overwriting tmp/user.avsc\n"
       ]
      }
     ],
     "prompt_number": 36
    },
    {
     "cell_type": "code",
     "collapsed": false,
     "input": [
      "schema = avro.schema.parse(open(\"tmp/user.avsc\").read())\n",
      "\n",
      "writer = DataFileWriter(open(\"tmp/users.avro\", \"w\"), DatumWriter(), schema)\n",
      "writer.append({\"name\": \"Alyssa\", \"favorite_number\": 256})\n",
      "writer.append({\"name\": \"Ben\", \"favorite_number\": 7, \"favorite_color\": \"red\"})\n",
      "writer.close()\n",
      "\n"
     ],
     "language": "python",
     "metadata": {},
     "outputs": [],
     "prompt_number": 37
    },
    {
     "cell_type": "code",
     "collapsed": false,
     "input": [
      "reader = DataFileReader(open(\"tmp/users.avro\", \"r\"), DatumReader())\n",
      "for user in reader:\n",
      "    print user\n",
      "reader.close()"
     ],
     "language": "python",
     "metadata": {},
     "outputs": [
      {
       "output_type": "stream",
       "stream": "stdout",
       "text": [
        "{u'favorite_color': None, u'favorite_number': 256, u'name': u'Alyssa'}\n",
        "{u'favorite_color': u'red', u'favorite_number': 7, u'name': u'Ben'}\n"
       ]
      }
     ],
     "prompt_number": 38
    },
    {
     "cell_type": "code",
     "collapsed": false,
     "input": [
      "!ls tmp/"
     ],
     "language": "python",
     "metadata": {},
     "outputs": [
      {
       "output_type": "stream",
       "stream": "stdout",
       "text": [
        "users.avro\r\n"
       ]
      }
     ],
     "prompt_number": 3
    },
    {
     "cell_type": "code",
     "collapsed": false,
     "input": [],
     "language": "python",
     "metadata": {},
     "outputs": []
    }
   ],
   "metadata": {}
  }
 ]
}