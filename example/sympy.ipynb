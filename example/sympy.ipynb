{
 "metadata": {
  "name": "",
  "signature": "sha256:9f52c5e089fffb6e103c77bda4422f34b6b231a9ac6f6da1cd66a097e5b3e91b"
 },
 "nbformat": 3,
 "nbformat_minor": 0,
 "worksheets": [
  {
   "cells": [
    {
     "cell_type": "code",
     "collapsed": false,
     "input": [
      "%pylab inline\n",
      "from sympy import init_printing,init_session\n",
      "from sympy.printing.mathml import print_mathml\n",
      "\n",
      "init_printing()\n",
      "init_session()"
     ],
     "language": "python",
     "metadata": {},
     "outputs": [
      {
       "output_type": "stream",
       "stream": "stdout",
       "text": [
        "Populating the interactive namespace from numpy and matplotlib\n",
        "IPython console for SymPy 0.7.5 (Python 2.7.3-64-bit) (ground types: python)\n",
        "\n",
        "These commands were executed:\n",
        ">>> from __future__ import division\n",
        ">>> from sympy import *\n",
        ">>> x, y, z, t = symbols('x y z t')\n",
        ">>> k, m, n = symbols('k m n', integer=True)\n",
        ">>> f, g, h = symbols('f g h', cls=Function)\n",
        "\n",
        "Documentation can be found at http://www.sympy.org\n"
       ]
      },
      {
       "output_type": "stream",
       "stream": "stderr",
       "text": [
        "WARNING: pylab import has clobbered these variables: ['prod', 'plotting', 'cosh', 'Circle', 'power', 'diag', 'sinh', 'trunc', 'binomial', 'plot', 'eye', 'f', 'det', 'tan', 'product', 'gamma', 'roots', 'vectorize', 'sin', 'seterr', 'zeros', 'interactive', 'conjugate', 'take', 'solve', 'trace', 'beta', 'ones', 'transpose', 'cos', 'diff', 'invert', 'tanh', 'multinomial', 'Polygon', 'reshape', 'sqrt', 'source', 'add', 'test', 'poly', 'mod', 'sign', 'log', 'var', 'pi', 'flatten', 'floor', 'nan', 'exp']\n",
        "`%matplotlib` prevents importing * from pylab and numpy\n",
        "WARNING: Hook shutdown_hook is deprecated. Use the atexit module instead.\n"
       ]
      },
      {
       "output_type": "stream",
       "stream": "stderr",
       "text": [
        "ERROR:root:Exception in callback <zmq.eventloop.stack_context._StackContextWrapper object at 0x40b2cb0>\n",
        "Traceback (most recent call last):\n",
        "  File \"/usr/lib/python2.7/dist-packages/zmq/eventloop/ioloop.py\", line 418, in _run_callback\n",
        "    callback()\n",
        "  File \"/usr/local/lib/python2.7/dist-packages/IPython/kernel/zmq/ipkernel.py\", line 265, in enter_eventloop\n",
        "    self.eventloop(self)\n",
        "  File \"/usr/local/lib/python2.7/dist-packages/IPython/kernel/zmq/eventloops.py\", line 145, in loop_tk\n",
        "    kernel.timer = Timer(doi)\n",
        "  File \"/usr/local/lib/python2.7/dist-packages/IPython/kernel/zmq/eventloops.py\", line 133, in __init__\n",
        "    self.app = Tk()\n",
        "  File \"/usr/lib/python2.7/lib-tk/Tkinter.py\", line 1688, in __init__\n",
        "    self.tk = _tkinter.create(screenName, baseName, className, interactive, wantobjects, useTk, sync, use)\n",
        "TclError: no display name and no $DISPLAY environment variable\n"
       ]
      },
      {
       "output_type": "stream",
       "stream": "stderr",
       "text": [
        "ERROR:root:Exception in callback <zmq.eventloop.stack_context._StackContextWrapper object at 0x40b2788>\n",
        "Traceback (most recent call last):\n",
        "  File \"/usr/lib/python2.7/dist-packages/zmq/eventloop/ioloop.py\", line 418, in _run_callback\n",
        "    callback()\n",
        "  File \"/usr/local/lib/python2.7/dist-packages/IPython/kernel/zmq/ipkernel.py\", line 265, in enter_eventloop\n",
        "    self.eventloop(self)\n",
        "  File \"/usr/local/lib/python2.7/dist-packages/IPython/kernel/zmq/eventloops.py\", line 145, in loop_tk\n",
        "    kernel.timer = Timer(doi)\n",
        "  File \"/usr/local/lib/python2.7/dist-packages/IPython/kernel/zmq/eventloops.py\", line 133, in __init__\n",
        "    self.app = Tk()\n",
        "  File \"/usr/lib/python2.7/lib-tk/Tkinter.py\", line 1688, in __init__\n",
        "    self.tk = _tkinter.create(screenName, baseName, className, interactive, wantobjects, useTk, sync, use)\n",
        "TclError: no display name and no $DISPLAY environment variable\n"
       ]
      }
     ],
     "prompt_number": 10
    },
    {
     "cell_type": "code",
     "collapsed": false,
     "input": [
      "x,y,z,a,b=symbols(\"x y z a b\")\n",
      "crazy = symbols(\"unrelated\")\n",
      "\n",
      "crazy+1"
     ],
     "language": "python",
     "metadata": {},
     "outputs": [
      {
       "latex": [
        "$$unrelated + 1$$"
       ],
       "metadata": {},
       "output_type": "pyout",
       "png": "[encoded data removed]",
       "prompt_number": 7,
       "text": [
        "unrelated + 1"
       ]
      }
     ],
     "prompt_number": 7
    },
    {
     "cell_type": "code",
     "collapsed": false,
     "input": [
      "fml0=sqrt(1/x)\n",
      "fml1=Integral(fml0,x)\n",
      "fml1"
     ],
     "language": "python",
     "metadata": {},
     "outputs": [
      {
       "latex": [
        "$$\\int \\sqrt{\\frac{1}{x}}\\, dx$$"
       ],
       "metadata": {},
       "output_type": "pyout",
       "png": "[encoded data removed]",
       "prompt_number": 8,
       "text": [
        "\u2320           \n",
        "\u23ae     ___   \n",
        "\u23ae    \u2571 1    \n",
        "\u23ae   \u2571  \u2500  dx\n",
        "\u23ae \u2572\u2571   x    \n",
        "\u2321           "
       ]
      }
     ],
     "prompt_number": 8
    },
    {
     "cell_type": "code",
     "collapsed": false,
     "input": [
      "print str(fml1)\n",
      "print srepr(fml1)\n",
      "print pprint(fml1)\n",
      "print latex(fml1)\n",
      "print_mathml(fml1)"
     ],
     "language": "python",
     "metadata": {},
     "outputs": [
      {
       "output_type": "stream",
       "stream": "stdout",
       "text": [
        "Integral(sqrt(1/x), x)\n",
        "Integral(Pow(Pow(Symbol('x'), Integer(-1)), Rational(1, 2)), Tuple(Symbol('x')))\n",
        "\u2320           \n",
        "\u23ae     ___   \n",
        "\u23ae    \u2571 1    \n",
        "\u23ae   \u2571  \u2500  dx\n",
        "\u23ae \u2572\u2571   x    \n",
        "\u2321           \n",
        "None\n",
        "\\int \\sqrt{\\frac{1}{x}}\\, dx\n",
        "<apply>\n",
        "\t<int/>\n",
        "\t<bvar>\n",
        "\t\t<ci>x</ci>\n",
        "\t</bvar>\n",
        "\t<apply>\n",
        "\t\t<root/>\n",
        "\t\t<apply>\n",
        "\t\t\t<power/>\n",
        "\t\t\t<ci>x</ci>\n",
        "\t\t\t<cn>-1</cn>\n",
        "\t\t</apply>\n",
        "\t</apply>\n",
        "</apply>\n",
        "\n"
       ]
      }
     ],
     "prompt_number": 11
    },
    {
     "cell_type": "code",
     "collapsed": false,
     "input": [],
     "language": "python",
     "metadata": {},
     "outputs": []
    }
   ],
   "metadata": {}
  }
 ]
}