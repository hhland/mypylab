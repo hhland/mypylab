{
 "metadata": {
  "name": "",
  "signature": "sha256:cf90a2f41b34562f5fe477497da02881aae965a8dffa18d4978c1e45bd620d6b"
 },
 "nbformat": 3,
 "nbformat_minor": 0,
 "worksheets": [
  {
   "cells": [
    {
     "cell_type": "code",
     "collapsed": false,
     "input": [
      "%pylab inline\n",
      "%load_ext rmagic\n",
      "import re\n",
      "import ujson as json\n",
      "import gzip\n",
      "import glob, os, time"
     ],
     "language": "python",
     "metadata": {},
     "outputs": [
      {
       "output_type": "stream",
       "stream": "stdout",
       "text": [
        "Populating the interactive namespace from numpy and matplotlib\n",
        "The rmagic extension is already loaded. To reload it, use:\n",
        "  %reload_ext rmagic\n"
       ]
      }
     ],
     "prompt_number": 21
    },
    {
     "cell_type": "code",
     "collapsed": false,
     "input": [
      "\n",
      "filename_pattern = pattern = re.compile('^pop_(?P<pop>\\d+)_G_(?P<G>\\d+)_s_(?P<s>\\d\\.?\\d*)_H_(?P<H>\\d\\.?\\d*)_U_(?P<U>\\d\\.?\\d*)_beta_(?P<beta>\\d\\.?\\d*)_pi_(?P<pi>\\d\\.?\\d*)_tau_(?P<tau>\\d\\.?\\d*)_(?P<date>\\d{4}-\\w{3}-\\d{1,2})_(?P<time>\\d{2}-\\d{2}-\\d{2}-\\d{6}).(?P<extension>\\w+)$')\n",
      "def parse_filename(fname):\n",
      "    m = pattern.match(fname)\n",
      "    if m:\n",
      "         return m.groupdict()\n",
      "    else:\n",
      "        return dict()"
     ],
     "language": "python",
     "metadata": {},
     "outputs": [],
     "prompt_number": 22
    },
    {
     "cell_type": "code",
     "collapsed": false,
     "input": [
      "\n",
      "folder = 'tmp/'\n",
      "\n",
      "def process_data_file(fname):\n",
      "    fpath = folder + fname\n",
      "    params = parse_filename(fname)\n",
      "    if not params:\n",
      "        print \"Failed parsing file name\", fpath\n",
      "        return {},[],[]\n",
      "    with gzip.open(fpath) as f:\n",
      "        data = json.load(f,precise_float=True)\n",
      "    if not data:\n",
      "        print \"Failed reading data\", fpath\n",
      "        return {},[],[]\n",
      "    data.update(params)\n",
      "    W = data.pop('W')\n",
      "    p = data.pop('p')\n",
      "    data['fname'] = fname\n",
      "    for k in ['tau',  'G',  'H',  'pop',  'beta',  'U',  'T',  'pop_size',  's',  'pi']:\n",
      "        if str == type(data[k]):\n",
      "            data[k] = eval(data[k])  \n",
      "    return data, W, p\n",
      "\n"
     ],
     "language": "python",
     "metadata": {},
     "outputs": [
      {
       "metadata": {},
       "output_type": "pyout",
       "prompt_number": 23,
       "text": [
        "[]"
       ]
      }
     ],
     "prompt_number": 23
    },
    {
     "cell_type": "code",
     "collapsed": false,
     "input": [
      "\n",
      "tic = time.clock()\n",
      "file_list = glob.glob1(folder, '*.data')\n",
      "all_data = [None] * len(file_list)\n",
      "print \"processing\", len(file_list), \"data files\"\n",
      "for i,fname in enumerate(file_list) :\n",
      "    data,W,p = process_data_file(fname)\n",
      "    all_data[i] = data\n",
      "toc = time.clock()\n",
      "print \"processed all files in\", (toc-tic), \"seconds\"\n",
      "\n",
      "df = [[data['T'],data['tau'],data['s'],data['pi']] for data in all_data]\n",
      "\n",
      "df"
     ],
     "language": "python",
     "metadata": {},
     "outputs": [
      {
       "output_type": "stream",
       "stream": "stdout",
       "text": [
        "processing 0 data files\n",
        "processed all files in 0.0 seconds\n"
       ]
      },
      {
       "metadata": {},
       "output_type": "pyout",
       "prompt_number": 24,
       "text": [
        "[]"
       ]
      }
     ],
     "prompt_number": 24
    },
    {
     "cell_type": "code",
     "collapsed": false,
     "input": [
      "%%R -i df\n",
      "df <- as.data.frame(df)\n",
      "names(df) <- c(\"T\",\"tau\",\"s\",\"pi\")\n",
      "library(ggplot2)\n",
      "p <- ggplot(df, aes(tau, T))\n",
      "p <- p + \n",
      "    geom_point(alpha=I(0.3)) + \n",
      "    scale_x_log10() + scale_y_log10() + \n",
      "    facet_grid(facets=s~pi, labeller=function(variable,value) {paste0(variable,'=',as.character(value))}) +\n",
      "    labs(y=\"Adaptation time\", x=expression(tau)) \n",
      "print(p)"
     ],
     "language": "python",
     "metadata": {},
     "outputs": [
      {
       "output_type": "stream",
       "stream": "stdout",
       "text": [
        "Error in names(df) <- c(\"T\", \"tau\", \"s\", \"pi\") : \n",
        "  'names' attribute [4] must be the same length as the vector [1]\n"
       ]
      }
     ],
     "prompt_number": 15
    },
    {
     "cell_type": "code",
     "collapsed": false,
     "input": [],
     "language": "python",
     "metadata": {},
     "outputs": []
    }
   ],
   "metadata": {}
  }
 ]
}