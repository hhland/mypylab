{
 "metadata": {
  "name": "",
  "signature": "sha256:621341e32164066089f6f43c9ec4c070f4163ea54db03082f15c171291c39aa0"
 },
 "nbformat": 3,
 "nbformat_minor": 0,
 "worksheets": []
}