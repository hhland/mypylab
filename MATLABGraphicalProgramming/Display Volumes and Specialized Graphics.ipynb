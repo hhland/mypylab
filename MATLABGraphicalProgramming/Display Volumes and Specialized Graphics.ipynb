{
 "metadata": {
  "name": "",
  "signature": "sha256:c6f585e13f37fcec2060c5cdbe3a91c5deaf6380dabca769f4c067547e4d487e"
 },
 "nbformat": 3,
 "nbformat_minor": 0,
 "worksheets": [
  {
   "cells": [
    {
     "cell_type": "code",
     "collapsed": false,
     "input": [
      "%pylab inline\n",
      "%load_ext oct2py.ipython"
     ],
     "language": "python",
     "metadata": {},
     "outputs": [
      {
       "output_type": "stream",
       "stream": "stdout",
       "text": [
        "Populating the interactive namespace from numpy and matplotlib\n"
       ]
      }
     ],
     "prompt_number": 1
    },
    {
     "cell_type": "code",
     "collapsed": false,
     "input": [
      "%%octave\n",
      " x = 0:pi/50:10*pi;\n",
      " y = sin(x);\n",
      " z = cos(x);\n",
      "xmin = min(x(:)); xmax = max(x(:)); ymin = min(y(:));\n",
      "ymax = max(y (:)); zmin = min(z(:));\n",
      "daspect([2 2 1])\n",
      "xrange = linspace(xmin,xmax,8);\n",
      "yrange = linspace(ymin,ymax,8);\n",
      "zrange = 3:4:15;\n",
      "[cx cy cz] = meshgrid(xrange, yrange, zrange);\n",
      "hcones = coneplot(x,y,z,u,v,w,cx,cy,cz,5);\n",
      "set(hcones,'FaceColor','red','EdgeColor','none')"
     ],
     "language": "python",
     "metadata": {},
     "outputs": [
      {
       "ename": "OctaveMagicError",
       "evalue": "Oct2Py tried to run:\n\"\"\"\nx = 0:pi/50:10*pi;\n y = sin(x);\n z = cos(x);\nxmin = min(x(:)); xmax = max(x(:)); ymin = min(y(:));\nymax = max(y (:)); zmin = min(z(:));\ndaspect([2 2 1])\nxrange = linspace(xmin,xmax,8);\nyrange = linspace(ymin,ymax,8);\nzrange = 3:4:15;\n[cx cy cz] = meshgrid(xrange, yrange, zrange);\nhcones = coneplot(x,y,z,u,v,w,cx,cy,cz,5);\nset(hcones,'FaceColor','red','EdgeColor','none')\n\"\"\"\nOctave returned:\n'u' undefined near line 13 column 25",
       "output_type": "pyerr",
       "traceback": [
        "\u001b[1;31m---------------------------------------------------------------------------\u001b[0m\n\u001b[1;31mOctaveMagicError\u001b[0m                          Traceback (most recent call last)",
        "\u001b[1;32m<ipython-input-5-85b0f4aa98c0>\u001b[0m in \u001b[0;36m<module>\u001b[1;34m()\u001b[0m\n\u001b[1;32m----> 1\u001b[1;33m \u001b[0mget_ipython\u001b[0m\u001b[1;33m(\u001b[0m\u001b[1;33m)\u001b[0m\u001b[1;33m.\u001b[0m\u001b[0mrun_cell_magic\u001b[0m\u001b[1;33m(\u001b[0m\u001b[1;34mu'octave'\u001b[0m\u001b[1;33m,\u001b[0m \u001b[1;34mu''\u001b[0m\u001b[1;33m,\u001b[0m \u001b[1;34mu\" x = 0:pi/50:10*pi;\\n y = sin(x);\\n z = cos(x);\\nxmin = min(x(:)); xmax = max(x(:)); ymin = min(y(:));\\nymax = max(y (:)); zmin = min(z(:));\\ndaspect([2 2 1])\\nxrange = linspace(xmin,xmax,8);\\nyrange = linspace(ymin,ymax,8);\\nzrange = 3:4:15;\\n[cx cy cz] = meshgrid(xrange, yrange, zrange);\\nhcones = coneplot(x,y,z,u,v,w,cx,cy,cz,5);\\nset(hcones,'FaceColor','red','EdgeColor','none')\"\u001b[0m\u001b[1;33m)\u001b[0m\u001b[1;33m\u001b[0m\u001b[0m\n\u001b[0m",
        "\u001b[1;32m/usr/local/lib/python2.7/dist-packages/IPython/core/interactiveshell.pyc\u001b[0m in \u001b[0;36mrun_cell_magic\u001b[1;34m(self, magic_name, line, cell)\u001b[0m\n\u001b[0;32m   2160\u001b[0m             \u001b[0mmagic_arg_s\u001b[0m \u001b[1;33m=\u001b[0m \u001b[0mself\u001b[0m\u001b[1;33m.\u001b[0m\u001b[0mvar_expand\u001b[0m\u001b[1;33m(\u001b[0m\u001b[0mline\u001b[0m\u001b[1;33m,\u001b[0m \u001b[0mstack_depth\u001b[0m\u001b[1;33m)\u001b[0m\u001b[1;33m\u001b[0m\u001b[0m\n\u001b[0;32m   2161\u001b[0m             \u001b[1;32mwith\u001b[0m \u001b[0mself\u001b[0m\u001b[1;33m.\u001b[0m\u001b[0mbuiltin_trap\u001b[0m\u001b[1;33m:\u001b[0m\u001b[1;33m\u001b[0m\u001b[0m\n\u001b[1;32m-> 2162\u001b[1;33m                 \u001b[0mresult\u001b[0m \u001b[1;33m=\u001b[0m \u001b[0mfn\u001b[0m\u001b[1;33m(\u001b[0m\u001b[0mmagic_arg_s\u001b[0m\u001b[1;33m,\u001b[0m \u001b[0mcell\u001b[0m\u001b[1;33m)\u001b[0m\u001b[1;33m\u001b[0m\u001b[0m\n\u001b[0m\u001b[0;32m   2163\u001b[0m             \u001b[1;32mreturn\u001b[0m \u001b[0mresult\u001b[0m\u001b[1;33m\u001b[0m\u001b[0m\n\u001b[0;32m   2164\u001b[0m \u001b[1;33m\u001b[0m\u001b[0m\n",
        "\u001b[1;32m/usr/local/lib/python2.7/dist-packages/oct2py/ipython/octavemagic.pyc\u001b[0m in \u001b[0;36moctave\u001b[1;34m(self, line, cell, local_ns)\u001b[0m\n",
        "\u001b[1;32m/usr/local/lib/python2.7/dist-packages/IPython/core/magic.pyc\u001b[0m in \u001b[0;36m<lambda>\u001b[1;34m(f, *a, **k)\u001b[0m\n\u001b[0;32m    191\u001b[0m     \u001b[1;31m# but it's overkill for just that one bit of state.\u001b[0m\u001b[1;33m\u001b[0m\u001b[1;33m\u001b[0m\u001b[0m\n\u001b[0;32m    192\u001b[0m     \u001b[1;32mdef\u001b[0m \u001b[0mmagic_deco\u001b[0m\u001b[1;33m(\u001b[0m\u001b[0marg\u001b[0m\u001b[1;33m)\u001b[0m\u001b[1;33m:\u001b[0m\u001b[1;33m\u001b[0m\u001b[0m\n\u001b[1;32m--> 193\u001b[1;33m         \u001b[0mcall\u001b[0m \u001b[1;33m=\u001b[0m \u001b[1;32mlambda\u001b[0m \u001b[0mf\u001b[0m\u001b[1;33m,\u001b[0m \u001b[1;33m*\u001b[0m\u001b[0ma\u001b[0m\u001b[1;33m,\u001b[0m \u001b[1;33m**\u001b[0m\u001b[0mk\u001b[0m\u001b[1;33m:\u001b[0m \u001b[0mf\u001b[0m\u001b[1;33m(\u001b[0m\u001b[1;33m*\u001b[0m\u001b[0ma\u001b[0m\u001b[1;33m,\u001b[0m \u001b[1;33m**\u001b[0m\u001b[0mk\u001b[0m\u001b[1;33m)\u001b[0m\u001b[1;33m\u001b[0m\u001b[0m\n\u001b[0m\u001b[0;32m    194\u001b[0m \u001b[1;33m\u001b[0m\u001b[0m\n\u001b[0;32m    195\u001b[0m         \u001b[1;32mif\u001b[0m \u001b[0mcallable\u001b[0m\u001b[1;33m(\u001b[0m\u001b[0marg\u001b[0m\u001b[1;33m)\u001b[0m\u001b[1;33m:\u001b[0m\u001b[1;33m\u001b[0m\u001b[0m\n",
        "\u001b[1;32m/usr/local/lib/python2.7/dist-packages/oct2py/ipython/octavemagic.pyc\u001b[0m in \u001b[0;36moctave\u001b[1;34m(self, line, cell, local_ns)\u001b[0m\n\u001b[0;32m    312\u001b[0m             \u001b[0mmsg\u001b[0m \u001b[1;33m=\u001b[0m \u001b[0mre\u001b[0m\u001b[1;33m.\u001b[0m\u001b[0msub\u001b[0m\u001b[1;33m(\u001b[0m\u001b[1;34m'\"\"\"\\s+'\u001b[0m\u001b[1;33m,\u001b[0m \u001b[1;34m'\"\"\"\\n'\u001b[0m\u001b[1;33m,\u001b[0m \u001b[0mmsg\u001b[0m\u001b[1;33m)\u001b[0m\u001b[1;33m\u001b[0m\u001b[0m\n\u001b[0;32m    313\u001b[0m             \u001b[0mmsg\u001b[0m \u001b[1;33m=\u001b[0m \u001b[0mre\u001b[0m\u001b[1;33m.\u001b[0m\u001b[0msub\u001b[0m\u001b[1;33m(\u001b[0m\u001b[1;34m'\\s+\"\"\"'\u001b[0m\u001b[1;33m,\u001b[0m \u001b[1;34m'\\n\"\"\"'\u001b[0m\u001b[1;33m,\u001b[0m \u001b[0mmsg\u001b[0m\u001b[1;33m)\u001b[0m\u001b[1;33m\u001b[0m\u001b[0m\n\u001b[1;32m--> 314\u001b[1;33m             \u001b[1;32mraise\u001b[0m \u001b[0mOctaveMagicError\u001b[0m\u001b[1;33m(\u001b[0m\u001b[0mmsg\u001b[0m\u001b[1;33m)\u001b[0m\u001b[1;33m\u001b[0m\u001b[0m\n\u001b[0m\u001b[0;32m    315\u001b[0m \u001b[1;33m\u001b[0m\u001b[0m\n\u001b[0;32m    316\u001b[0m         \u001b[0mkey\u001b[0m \u001b[1;33m=\u001b[0m \u001b[1;34m'OctaveMagic.Octave'\u001b[0m\u001b[1;33m\u001b[0m\u001b[0m\n",
        "\u001b[1;31mOctaveMagicError\u001b[0m: Oct2Py tried to run:\n\"\"\"\nx = 0:pi/50:10*pi;\n y = sin(x);\n z = cos(x);\nxmin = min(x(:)); xmax = max(x(:)); ymin = min(y(:));\nymax = max(y (:)); zmin = min(z(:));\ndaspect([2 2 1])\nxrange = linspace(xmin,xmax,8);\nyrange = linspace(ymin,ymax,8);\nzrange = 3:4:15;\n[cx cy cz] = meshgrid(xrange, yrange, zrange);\nhcones = coneplot(x,y,z,u,v,w,cx,cy,cz,5);\nset(hcones,'FaceColor','red','EdgeColor','none')\n\"\"\"\nOctave returned:\n'u' undefined near line 13 column 25"
       ]
      }
     ],
     "prompt_number": 5
    },
    {
     "cell_type": "code",
     "collapsed": false,
     "input": [],
     "language": "python",
     "metadata": {},
     "outputs": []
    }
   ],
   "metadata": {}
  }
 ]
}