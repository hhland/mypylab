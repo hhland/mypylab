{
 "cells": [
  {
   "cell_type": "code",
   "execution_count": 20,
   "metadata": {
    "collapsed": true
   },
   "outputs": [],
   "source": [
    "import smtplib,sys,poplib \n",
    "from email.mime.text import MIMEText "
   ]
  },
  {
   "cell_type": "code",
   "execution_count": 17,
   "metadata": {
    "collapsed": true
   },
   "outputs": [],
   "source": [
    "mailto_list=[\"249750689@qq.com\"] \n",
    "smtp_host,pop_host=\"smtp.qq.com\",\"pop.qq.com\"\n",
    "mail_user=\"249750689\"\n",
    "mail_pass=\"chipchina0\"\n",
    "mail_postfix=\"qq.com\"\n",
    "mail_from=mail_user+\"@\"+mail_postfix"
   ]
  },
  {
   "cell_type": "code",
   "execution_count": 7,
   "metadata": {
    "collapsed": false
   },
   "outputs": [],
   "source": [
    "def send_mail(sub,content): \n",
    "    \n",
    "    me=mail_user+\"<\"+mail_from+\">\"\n",
    "    msg = MIMEText(content,_charset='gbk') \n",
    "    msg['Subject'] = sub \n",
    "    msg['From'] = me \n",
    "    msg['To'] = \";\".join(mailto_list) \n",
    "    try: \n",
    "        s = smtplib.SMTP() \n",
    "        s.connect(smtp_host) \n",
    "        s.login(mail_user,mail_pass) \n",
    "        s.sendmail(me, mailto_list, msg.as_string()) \n",
    "        s.close() \n",
    "        return True\n",
    "    except Exception, e: \n",
    "        print str(e) \n",
    "    return False"
   ]
  },
  {
   "cell_type": "code",
   "execution_count": 8,
   "metadata": {
    "collapsed": false
   },
   "outputs": [
    {
     "name": "stdout",
     "output_type": "stream",
     "text": [
      "发送成功\n"
     ]
    }
   ],
   "source": [
    "if send_mail(u'这是python测试邮件',u'python发送邮件'): \n",
    "    print u'发送成功'\n",
    "else: \n",
    "    print u'发送失败'"
   ]
  },
  {
   "cell_type": "code",
   "execution_count": 18,
   "metadata": {
    "collapsed": false
   },
   "outputs": [],
   "source": [
    "def send_mail():  \n",
    "    try:  \n",
    "        handle = smtplib.SMTP(smtp_host,25)  \n",
    "        handle.login(mail_from,mail_pass)  \n",
    "        msg = 'To: XXXX@qq.com\\r\\nFrom:XXXX@126.com\\r\\nSubject:hello\\r\\n'  \n",
    "        handle.sendmail(mail_from,mailto_listo,msg)  \n",
    "        handle.close()  \n",
    "        return 1  \n",
    "    except Excption,e:\n",
    "        return 0\n",
    "\n",
    "    \n",
    "def accpet_mail():  \n",
    "    try:  \n",
    "        p=poplib.POP3(pop_host)  \n",
    "        p.user(mail_from)  \n",
    "        p.pass_(mail_pass)  \n",
    "        ret = p.stat() #返回一个元组:(邮件数,邮件尺寸)  \n",
    "        print ret\n",
    "        #p.retr('邮件号码')方法返回一个元组:(状态信息,邮件,邮件尺寸)    \n",
    "    except poplib.error_proto,e:  \n",
    "        print \"Login failed:\",e  \n",
    "        sys.exit(1)"
   ]
  },
  {
   "cell_type": "code",
   "execution_count": 21,
   "metadata": {
    "collapsed": false
   },
   "outputs": [
    {
     "name": "stdout",
     "output_type": "stream",
     "text": [
      "(219, 1691337)\n"
     ]
    }
   ],
   "source": [
    "accpet_mail()"
   ]
  },
  {
   "cell_type": "code",
   "execution_count": null,
   "metadata": {
    "collapsed": true
   },
   "outputs": [],
   "source": []
  }
 ],
 "metadata": {
  "kernelspec": {
   "display_name": "Python 2",
   "language": "python",
   "name": "python2"
  },
  "language_info": {
   "codemirror_mode": {
    "name": "ipython",
    "version": 2
   },
   "file_extension": ".py",
   "mimetype": "text/x-python",
   "name": "python",
   "nbconvert_exporter": "python",
   "pygments_lexer": "ipython2",
   "version": "2.7.3"
  }
 },
 "nbformat": 4,
 "nbformat_minor": 0
}
