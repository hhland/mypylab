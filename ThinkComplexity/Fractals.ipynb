{
 "metadata": {
  "name": "",
  "signature": "sha256:ed05479a717e93d01b6c3fde69f26a10906bc73d4670a13488d805a19dbe5007"
 },
 "nbformat": 3,
 "nbformat_minor": 0,
 "worksheets": [
  {
   "cells": [
    {
     "cell_type": "code",
     "collapsed": false,
     "input": [
      "%pylab inline"
     ],
     "language": "python",
     "metadata": {},
     "outputs": [
      {
       "output_type": "stream",
       "stream": "stdout",
       "text": [
        "Populating the interactive namespace from numpy and matplotlib\n"
       ]
      }
     ],
     "prompt_number": 1
    },
    {
     "cell_type": "code",
     "collapsed": false,
     "input": [
      "%%file script/Life.py\n",
      "\n",
      "import numpy\n",
      "import scipy.ndimage\n",
      "\n",
      "import matplotlib\n",
      "#matplotlib.use('TkAgg')\n",
      "import matplotlib.pyplot as pyplot\n",
      "\n",
      "\n",
      "class Life(object):\n",
      "    \"\"\"Implements Conway's Game of Life.\n",
      "    n:     the number of rows and columns\n",
      "    \"\"\"\n",
      "\n",
      "    def __init__(self, n, mode='wrap', random=False):\n",
      "        \"\"\"Attributes:\n",
      "        n:      number of rows and columns\n",
      "        mode:   how border conditions are handled\n",
      "        array:  the numpy array that contains the data.\n",
      "        weights: the kernel used for convolution\n",
      "        \"\"\"\n",
      "        self.n = n\n",
      "        self.mode = mode\n",
      "        if random:\n",
      "            self.array = numpy.random.random_integers(0, 1, (n, n))\n",
      "        else:\n",
      "            self.array = numpy.zeros((n, n), numpy.int8)\n",
      "\n",
      "        self.weights = numpy.array([[1,1,1],\n",
      "                                    [1,10,1],\n",
      "                                    [1,1,1]])\n",
      "\n",
      "    def add_glider(self, x=0, y=0):\n",
      "        coords = [(0,1), (1,2), (2,0), (2,1), (2,2)]\n",
      "        for i, j in coords:\n",
      "            self.array[x+i, y+j] = 1\n",
      "\n",
      "    def loop(self, steps=1):\n",
      "        \"\"\"Executes the given number of time steps.\"\"\"\n",
      "        [self.step() for i in xrange(steps)]\n",
      "\n",
      "    def step(self):\n",
      "        \"\"\"Executes one time step.\"\"\"\n",
      "        con = scipy.ndimage.filters.convolve(self.array, \n",
      "                                             self.weights,\n",
      "                                             mode=self.mode)\n",
      "\n",
      "        boolean = (con==3) | (con==12) | (con==13)\n",
      "        self.array = numpy.int8(boolean)\n",
      "\n",
      "\n",
      "class LifeViewer(object):\n",
      "    \"\"\"Generates an animated view of the grid.\"\"\"\n",
      "    def __init__(self, life, cmap=matplotlib.cm.gray_r):\n",
      "        self.life = life\n",
      "        self.cmap = cmap\n",
      "\n",
      "        self.fig = pyplot.figure()\n",
      "        pyplot.axis([0, life.n, 0, life.n])\n",
      "        pyplot.xticks([])\n",
      "        pyplot.yticks([])\n",
      "\n",
      "        self.pcolor = None\n",
      "        self.update()\n",
      "\n",
      "    def update(self):\n",
      "        \"\"\"Updates the display with the state of the grid.\"\"\"\n",
      "        if self.pcolor:\n",
      "            self.pcolor.remove()\n",
      "\n",
      "        a = self.life.array\n",
      "        self.pcolor = pyplot.pcolor(a, cmap=self.cmap)\n",
      "        self.fig.canvas.draw()\n",
      "\n",
      "    def animate(self, steps=10):\n",
      "        \"\"\"Creates the GUI and then invokes animate_callback.\n",
      "        Generates an animation with the given number of steps.\n",
      "        \"\"\"\n",
      "        self.steps = steps\n",
      "        #self.fig.canvas.manager.window.after(1000, self.animate_callback)\n",
      "        self.animate_callback()\n",
      "        pyplot.show()\n",
      "\n",
      "    def animate_callback(self):\n",
      "        \"\"\"Runs the animation.\"\"\"\n",
      "        for i in range(self.steps):\n",
      "            self.life.step()\n",
      "            self.update()\n",
      "\n",
      "\n",
      "def main(script, n=20, *args):\n",
      "\n",
      "    n = int(n)\n",
      "\n",
      "    life = Life(n, random=False)\n",
      "    life.add_glider()\n",
      "    viewer = LifeViewer(life)\n",
      "    viewer.animate(steps=100)\n",
      "\n",
      "\n",
      "if __name__ == '__main__':\n",
      "    import sys\n",
      "\n",
      "    profile = False\n",
      "    if profile:\n",
      "        import cProfile\n",
      "        cProfile.run('main(*sys.argv)')\n",
      "    else:\n",
      "        main(*sys.argv)"
     ],
     "language": "python",
     "metadata": {},
     "outputs": [
      {
       "output_type": "stream",
       "stream": "stdout",
       "text": [
        "Overwriting script/Life.py\n"
       ]
      }
     ],
     "prompt_number": 9
    },
    {
     "cell_type": "code",
     "collapsed": false,
     "input": [
      "%run script/Life.py"
     ],
     "language": "python",
     "metadata": {},
     "outputs": [
      {
       "metadata": {},
       "output_type": "display_data",
       "png": "[encoded data removed]",
       "text": [
        "<matplotlib.figure.Figure at 0x436ba10>"
       ]
      }
     ],
     "prompt_number": 10
    },
    {
     "cell_type": "code",
     "collapsed": false,
     "input": [],
     "language": "python",
     "metadata": {},
     "outputs": []
    }
   ],
   "metadata": {}
  }
 ]
}