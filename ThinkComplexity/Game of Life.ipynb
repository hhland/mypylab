{
 "metadata": {
  "name": "",
  "signature": "sha256:da6c5b29ac7ec59e9d46f0dc8fc77296ddddf5da205f7ac2db84d8ee52648a01"
 },
 "nbformat": 3,
 "nbformat_minor": 0,
 "worksheets": [
  {
   "cells": [
    {
     "cell_type": "code",
     "collapsed": false,
     "input": [
      "%pylab inline"
     ],
     "language": "python",
     "metadata": {},
     "outputs": [
      {
       "output_type": "stream",
       "stream": "stdout",
       "text": [
        "Populating the interactive namespace from numpy and matplotlib\n"
       ]
      }
     ],
     "prompt_number": 1
    },
    {
     "cell_type": "code",
     "collapsed": false,
     "input": [
      "%%file script/life.py\n",
      "\"\"\" Code example from Complexity and Computation, a book about\n",
      "exploring complexity science with Python.  Available free from\n",
      "\n",
      "http://greenteapress.com/complexity\n",
      "\n",
      "Copyright 2011 Allen B. Downey.\n",
      "Distributed under the GNU General Public License at gnu.org/licenses/gpl.html.\n",
      "\"\"\"\n",
      "\n",
      "import numpy\n",
      "import scipy.ndimage\n",
      "\n",
      "import matplotlib\n",
      "#matplotlib.use('TkAgg')\n",
      "import matplotlib.pyplot as pyplot\n",
      "\n",
      "\n",
      "class Life(object):\n",
      "    \"\"\"Implements Conway's Game of Life.\n",
      "\n",
      "    n:     the number of rows and columns\n",
      "    \"\"\"\n",
      "\n",
      "    def __init__(self, n, mode='wrap', random=False):\n",
      "        \"\"\"Attributes:\n",
      "        n:      number of rows and columns\n",
      "        mode:   how border conditions are handled\n",
      "        array:  the numpy array that contains the data.\n",
      "        weights: the kernel used for convolution\n",
      "        \"\"\"\n",
      "        self.n = n\n",
      "        self.mode = mode\n",
      "        if random:\n",
      "            self.array = numpy.random.random_integers(0, 1, (n, n))\n",
      "        else:\n",
      "            self.array = numpy.zeros((n, n), numpy.int8)\n",
      "\n",
      "        self.weights = numpy.array([[1,1,1],\n",
      "                                    [1,10,1],\n",
      "                                    [1,1,1]])\n",
      "\n",
      "    def add_glider(self, x=0, y=0):\n",
      "        coords = [(0,1), (1,2), (2,0), (2,1), (2,2)]\n",
      "        for i, j in coords:\n",
      "            self.array[x+i, y+j] = 1\n",
      "\n",
      "    def loop(self, steps=1):\n",
      "        \"\"\"Executes the given number of time steps.\"\"\"\n",
      "        [self.step() for i in xrange(steps)]\n",
      "\n",
      "    def step(self):\n",
      "        \"\"\"Executes one time step.\"\"\"\n",
      "        con = scipy.ndimage.filters.convolve(self.array, \n",
      "                                             self.weights,\n",
      "                                             mode=self.mode)\n",
      "\n",
      "        boolean = (con==3) | (con==12) | (con==13)\n",
      "        self.array = numpy.int8(boolean)\n",
      "\n",
      "\n",
      "class LifeViewer(object):\n",
      "    \"\"\"Generates an animated view of the grid.\"\"\"\n",
      "    def __init__(self, life, cmap=matplotlib.cm.gray_r):\n",
      "        self.life = life\n",
      "        self.cmap = cmap\n",
      "\n",
      "        self.fig = pyplot.figure()\n",
      "        pyplot.axis([0, life.n, 0, life.n])\n",
      "        pyplot.xticks([])\n",
      "        pyplot.yticks([])\n",
      "\n",
      "        self.pcolor = None\n",
      "        self.update()\n",
      "\n",
      "    def update(self):\n",
      "        \"\"\"Updates the display with the state of the grid.\"\"\"\n",
      "        if self.pcolor:\n",
      "            self.pcolor.remove()\n",
      "\n",
      "        a = self.life.array\n",
      "        self.pcolor = pyplot.pcolor(a, cmap=self.cmap)\n",
      "        self.fig.canvas.draw()\n",
      "\n",
      "    def animate(self, steps=10):\n",
      "        \"\"\"Creates the GUI and then invokes animate_callback.\n",
      "\n",
      "        Generates an animation with the given number of steps.\n",
      "        \"\"\"\n",
      "        self.steps = steps\n",
      "        self.fig.canvas.manager.window.after(1000, self.animate_callback)\n",
      "        pyplot.show()\n",
      "\n",
      "    def animate_callback(self):\n",
      "        \"\"\"Runs the animation.\"\"\"\n",
      "        for i in range(self.steps):\n",
      "            self.life.step()\n",
      "            self.update()\n",
      "\n",
      "\n",
      "def main(script, n=20, *args):\n",
      "\n",
      "    n = int(n)\n",
      "\n",
      "    life = Life(n, random=False)\n",
      "    life.add_glider()\n",
      "    viewer = LifeViewer(life)\n",
      "    viewer.animate(steps=100)\n",
      "\n",
      "\n",
      "if __name__ == '__main__':\n",
      "    import sys\n",
      "\n",
      "    profile = False\n",
      "    if profile:\n",
      "        import cProfile\n",
      "        cProfile.run('main(*sys.argv)')\n",
      "    else:\n",
      "        main(*sys.argv)"
     ],
     "language": "python",
     "metadata": {},
     "outputs": [
      {
       "output_type": "stream",
       "stream": "stdout",
       "text": [
        "Overwriting script/life.py\n"
       ]
      }
     ],
     "prompt_number": 7
    },
    {
     "cell_type": "code",
     "collapsed": false,
     "input": [
      "%run script/life.py"
     ],
     "language": "python",
     "metadata": {},
     "outputs": [
      {
       "ename": "AttributeError",
       "evalue": "FigureManagerBase instance has no attribute 'window'",
       "output_type": "pyerr",
       "traceback": [
        "\u001b[1;31m---------------------------------------------------------------------------\u001b[0m\n\u001b[1;31mAttributeError\u001b[0m                            Traceback (most recent call last)",
        "\u001b[1;32m/d/git/mypylab/ThinkComplexity/script/life.py\u001b[0m in \u001b[0;36m<module>\u001b[1;34m()\u001b[0m\n\u001b[0;32m    116\u001b[0m         \u001b[0mcProfile\u001b[0m\u001b[1;33m.\u001b[0m\u001b[0mrun\u001b[0m\u001b[1;33m(\u001b[0m\u001b[1;34m'main(*sys.argv)'\u001b[0m\u001b[1;33m)\u001b[0m\u001b[1;33m\u001b[0m\u001b[0m\n\u001b[0;32m    117\u001b[0m     \u001b[1;32melse\u001b[0m\u001b[1;33m:\u001b[0m\u001b[1;33m\u001b[0m\u001b[0m\n\u001b[1;32m--> 118\u001b[1;33m         \u001b[0mmain\u001b[0m\u001b[1;33m(\u001b[0m\u001b[1;33m*\u001b[0m\u001b[0msys\u001b[0m\u001b[1;33m.\u001b[0m\u001b[0margv\u001b[0m\u001b[1;33m)\u001b[0m\u001b[1;33m\u001b[0m\u001b[0m\n\u001b[0m",
        "\u001b[1;32m/d/git/mypylab/ThinkComplexity/script/life.py\u001b[0m in \u001b[0;36mmain\u001b[1;34m(script, n, *args)\u001b[0m\n\u001b[0;32m    105\u001b[0m     \u001b[0mlife\u001b[0m\u001b[1;33m.\u001b[0m\u001b[0madd_glider\u001b[0m\u001b[1;33m(\u001b[0m\u001b[1;33m)\u001b[0m\u001b[1;33m\u001b[0m\u001b[0m\n\u001b[0;32m    106\u001b[0m     \u001b[0mviewer\u001b[0m \u001b[1;33m=\u001b[0m \u001b[0mLifeViewer\u001b[0m\u001b[1;33m(\u001b[0m\u001b[0mlife\u001b[0m\u001b[1;33m)\u001b[0m\u001b[1;33m\u001b[0m\u001b[0m\n\u001b[1;32m--> 107\u001b[1;33m     \u001b[0mviewer\u001b[0m\u001b[1;33m.\u001b[0m\u001b[0manimate\u001b[0m\u001b[1;33m(\u001b[0m\u001b[0msteps\u001b[0m\u001b[1;33m=\u001b[0m\u001b[1;36m100\u001b[0m\u001b[1;33m)\u001b[0m\u001b[1;33m\u001b[0m\u001b[0m\n\u001b[0m\u001b[0;32m    108\u001b[0m \u001b[1;33m\u001b[0m\u001b[0m\n\u001b[0;32m    109\u001b[0m \u001b[1;33m\u001b[0m\u001b[0m\n",
        "\u001b[1;32m/d/git/mypylab/ThinkComplexity/script/life.py\u001b[0m in \u001b[0;36manimate\u001b[1;34m(self, steps)\u001b[0m\n\u001b[0;32m     88\u001b[0m         \"\"\"\n\u001b[0;32m     89\u001b[0m         \u001b[0mself\u001b[0m\u001b[1;33m.\u001b[0m\u001b[0msteps\u001b[0m \u001b[1;33m=\u001b[0m \u001b[0msteps\u001b[0m\u001b[1;33m\u001b[0m\u001b[0m\n\u001b[1;32m---> 90\u001b[1;33m         \u001b[0mself\u001b[0m\u001b[1;33m.\u001b[0m\u001b[0mfig\u001b[0m\u001b[1;33m.\u001b[0m\u001b[0mcanvas\u001b[0m\u001b[1;33m.\u001b[0m\u001b[0mmanager\u001b[0m\u001b[1;33m.\u001b[0m\u001b[0mwindow\u001b[0m\u001b[1;33m.\u001b[0m\u001b[0mafter\u001b[0m\u001b[1;33m(\u001b[0m\u001b[1;36m1000\u001b[0m\u001b[1;33m,\u001b[0m \u001b[0mself\u001b[0m\u001b[1;33m.\u001b[0m\u001b[0manimate_callback\u001b[0m\u001b[1;33m)\u001b[0m\u001b[1;33m\u001b[0m\u001b[0m\n\u001b[0m\u001b[0;32m     91\u001b[0m         \u001b[0mpyplot\u001b[0m\u001b[1;33m.\u001b[0m\u001b[0mshow\u001b[0m\u001b[1;33m(\u001b[0m\u001b[1;33m)\u001b[0m\u001b[1;33m\u001b[0m\u001b[0m\n\u001b[0;32m     92\u001b[0m \u001b[1;33m\u001b[0m\u001b[0m\n",
        "\u001b[1;31mAttributeError\u001b[0m: FigureManagerBase instance has no attribute 'window'"
       ]
      }
     ],
     "prompt_number": 8
    },
    {
     "cell_type": "code",
     "collapsed": false,
     "input": [],
     "language": "python",
     "metadata": {},
     "outputs": []
    }
   ],
   "metadata": {}
  }
 ]
}