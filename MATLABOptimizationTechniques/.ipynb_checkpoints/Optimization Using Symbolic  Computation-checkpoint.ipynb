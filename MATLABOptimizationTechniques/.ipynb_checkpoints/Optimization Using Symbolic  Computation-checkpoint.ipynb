{
 "metadata": {
  "name": "",
  "signature": "sha256:52279ce481f7e943bdd4e2687f54e5deda705306c9d29621e32869ab69f7e2a3"
 },
 "nbformat": 3,
 "nbformat_minor": 0,
 "worksheets": [
  {
   "cells": [
    {
     "cell_type": "code",
     "collapsed": false,
     "input": [
      "%pylab inline\n",
      "%load_ext oct2py.ipython"
     ],
     "language": "python",
     "metadata": {},
     "outputs": []
    }
   ],
   "metadata": {}
  }
 ]
}