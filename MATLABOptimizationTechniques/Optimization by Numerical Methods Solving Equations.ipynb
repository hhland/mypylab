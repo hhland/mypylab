{
 "metadata": {
  "name": "",
  "signature": "sha256:a7026a473de321c10a030657b33e25028676632d65172e0ffb5bf86349978701"
 },
 "nbformat": 3,
 "nbformat_minor": 0,
 "worksheets": [
  {
   "cells": [
    {
     "cell_type": "code",
     "collapsed": false,
     "input": [
      "%pylab inline\n",
      "%load_ext oct2py.ipython\n",
      "from oct2py import octave\n",
      "octave.addpath('tmp')"
     ],
     "language": "python",
     "metadata": {},
     "outputs": [
      {
       "output_type": "stream",
       "stream": "stdout",
       "text": [
        "Populating the interactive namespace from numpy and matplotlib\n",
        "The oct2py.ipython extension is already loaded. To reload it, use:\n",
        "  %reload_ext oct2py.ipython\n"
       ]
      }
     ],
     "prompt_number": 28
    },
    {
     "cell_type": "code",
     "collapsed": false,
     "input": [
      "%%file tmp/g1.m\n",
      "function g=g1(x)\n",
      "g=2^(-x);"
     ],
     "language": "python",
     "metadata": {},
     "outputs": [
      {
       "output_type": "stream",
       "stream": "stdout",
       "text": [
        "Overwriting tmp/g1.m\n"
       ]
      }
     ],
     "prompt_number": 29
    },
    {
     "cell_type": "code",
     "collapsed": false,
     "input": [
      "%%octave\n",
      "addpath('tmp')\n",
      "g1 (0.6412)\n"
     ],
     "language": "python",
     "metadata": {},
     "outputs": [
      {
       "metadata": {},
       "output_type": "display_data",
       "text": [
        "ans =  0.64118"
       ]
      }
     ],
     "prompt_number": 34
    },
    {
     "cell_type": "code",
     "collapsed": false,
     "input": [
      "%%file tmp/fixedpoint.m\n",
      "function [k,p,abso,P]=fixedpoint(g,p0,tol,maxi)\n",
      "\n",
      "P(1)=p0;\n",
      "\n",
      "for k=2:maxi\n",
      "\tP(k)=feval(g,P(k-1));\n",
      "\tabso=abs(P(k)-P(k-1));\n",
      "\trelat=abso/(abs(P(k))+eps);\n",
      "\tp=P(k);\n",
      "\tif (abso<tol)|(relat<tol) , break ;end\n",
      "end\n",
      "\n",
      "if k==maxi\n",
      "\tdisp(\"maximum number of iter exceeded\")\n",
      "end\n",
      "\n",
      "P=P';"
     ],
     "language": "python",
     "metadata": {},
     "outputs": [
      {
       "output_type": "stream",
       "stream": "stdout",
       "text": [
        "Writing tmp/fixedpoint.m\n"
       ]
      }
     ],
     "prompt_number": 35
    },
    {
     "cell_type": "code",
     "collapsed": false,
     "input": [
      "%%octave  -s 600,800 -f svg\n",
      "#x=0.6\n",
      "#fplot('[x-2^(-x), 0]',[0, 1])\n",
      "[k, p] = fixedpoint('g1',0.6,0.0001,1000)"
     ],
     "language": "python",
     "metadata": {},
     "outputs": [
      {
       "metadata": {},
       "output_type": "display_data",
       "text": [
        "k =  10\n",
        "p =  0.64121"
       ]
      }
     ],
     "prompt_number": 38
    },
    {
     "cell_type": "code",
     "collapsed": false,
     "input": [
      "%%file tmp/newton.m\n",
      "function [res,it]=newton(func,dfunc,x,precis)\n",
      "\n",
      "\tit=0;x0=x;\n",
      "\td=feval(func,x0)/feval(dfunc,x0)\n",
      "\twhile abs(d)>precis\n",
      "\t\tx1=x0-d;\n",
      "\t\tit=it+1;\n",
      "\t\tx0=x1;\n",
      "\t\td=feval(func,x0)/feval(dfunc,x0)\n",
      "\tend;\n",
      "res=x0;\n",
      "\n",
      "function f=f1(x);\n",
      "\tf=x^2-x-sin(x+0.15);\n",
      "\n",
      "function d=derf1(x);\n",
      "\td=2*x-1-cos(x+0.15);"
     ],
     "language": "python",
     "metadata": {},
     "outputs": [
      {
       "output_type": "stream",
       "stream": "stdout",
       "text": [
        "Overwriting tmp/newton.m\n"
       ]
      }
     ],
     "prompt_number": 40
    },
    {
     "cell_type": "code",
     "collapsed": false,
     "input": [
      "%%octave\n",
      "[x,it] = newton('f1','derf1',1.5,0.0001)"
     ],
     "language": "python",
     "metadata": {},
     "outputs": [
      {
       "metadata": {},
       "output_type": "display_data",
       "text": [
        "d = -0.11874\n",
        "d =  0.0086663\n",
        "d =    4.6483e-05\n",
        "x =  1.6101\n",
        "it =  2"
       ]
      }
     ],
     "prompt_number": 41
    },
    {
     "cell_type": "code",
     "collapsed": false,
     "input": [],
     "language": "python",
     "metadata": {},
     "outputs": []
    }
   ],
   "metadata": {}
  }
 ]
}