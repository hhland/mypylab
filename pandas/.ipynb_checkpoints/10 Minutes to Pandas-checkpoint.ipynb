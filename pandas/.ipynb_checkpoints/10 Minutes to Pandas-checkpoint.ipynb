{
 "metadata": {
  "name": "",
  "signature": "sha256:c6aeb8f582a1d4a17daf735096e3561ed034e8fbacd94a08dd3b7ad772805b5c"
 },
 "nbformat": 3,
 "nbformat_minor": 0,
 "worksheets": [
  {
   "cells": [
    {
     "cell_type": "code",
     "collapsed": true,
     "input": [
      "%pylab inline\n",
      "import pandas as pd\n"
     ],
     "language": "python",
     "metadata": {},
     "outputs": [
      {
       "output_type": "stream",
       "stream": "stdout",
       "text": [
        "Populating the interactive namespace from numpy and matplotlib\n"
       ]
      }
     ],
     "prompt_number": 22
    },
    {
     "cell_type": "code",
     "collapsed": false,
     "input": [
      "hr=\"--------------------------------------------------------------------------------------------------------------------------\"\n",
      "s=pd.Series([1,3,5,np.nan,6,8])\n",
      "s"
     ],
     "language": "python",
     "metadata": {},
     "outputs": [
      {
       "metadata": {},
       "output_type": "pyout",
       "prompt_number": 23,
       "text": [
        "0     1\n",
        "1     3\n",
        "2     5\n",
        "3   NaN\n",
        "4     6\n",
        "5     8\n",
        "dtype: float64"
       ]
      }
     ],
     "prompt_number": 23
    },
    {
     "cell_type": "code",
     "collapsed": false,
     "input": [
      "dates=pd.date_range(\"20140101\",periods=6)\n",
      "print dates\n",
      "df=pd.DataFrame(np.random.randn(6,4)\n",
      "                ,index=dates\n",
      "                ,columns=list(\"ABCD\")\n",
      "                )\n",
      "df"
     ],
     "language": "python",
     "metadata": {},
     "outputs": [
      {
       "output_type": "stream",
       "stream": "stdout",
       "text": [
        "<class 'pandas.tseries.index.DatetimeIndex'>\n",
        "[2014-01-01, ..., 2014-01-06]\n",
        "Length: 6, Freq: D, Timezone: None\n"
       ]
      },
      {
       "html": [
        "<div style=\"max-height:1000px;max-width:1500px;overflow:auto;\">\n",
        "<table border=\"1\" class=\"dataframe\">\n",
        "  <thead>\n",
        "    <tr style=\"text-align: right;\">\n",
        "      <th></th>\n",
        "      <th>A</th>\n",
        "      <th>B</th>\n",
        "      <th>C</th>\n",
        "      <th>D</th>\n",
        "    </tr>\n",
        "  </thead>\n",
        "  <tbody>\n",
        "    <tr>\n",
        "      <th>2014-01-01</th>\n",
        "      <td> 0.246287</td>\n",
        "      <td> 0.897897</td>\n",
        "      <td> 0.787693</td>\n",
        "      <td>-1.393341</td>\n",
        "    </tr>\n",
        "    <tr>\n",
        "      <th>2014-01-02</th>\n",
        "      <td>-0.595710</td>\n",
        "      <td>-0.222208</td>\n",
        "      <td>-1.251186</td>\n",
        "      <td> 0.521140</td>\n",
        "    </tr>\n",
        "    <tr>\n",
        "      <th>2014-01-03</th>\n",
        "      <td> 1.702639</td>\n",
        "      <td>-0.272205</td>\n",
        "      <td> 0.016183</td>\n",
        "      <td> 0.060847</td>\n",
        "    </tr>\n",
        "    <tr>\n",
        "      <th>2014-01-04</th>\n",
        "      <td> 0.573254</td>\n",
        "      <td>-1.768530</td>\n",
        "      <td> 0.090060</td>\n",
        "      <td> 1.265139</td>\n",
        "    </tr>\n",
        "    <tr>\n",
        "      <th>2014-01-05</th>\n",
        "      <td> 1.159015</td>\n",
        "      <td> 1.289275</td>\n",
        "      <td>-0.106302</td>\n",
        "      <td> 0.944684</td>\n",
        "    </tr>\n",
        "    <tr>\n",
        "      <th>2014-01-06</th>\n",
        "      <td> 0.975977</td>\n",
        "      <td> 0.137149</td>\n",
        "      <td>-0.592113</td>\n",
        "      <td> 0.729510</td>\n",
        "    </tr>\n",
        "  </tbody>\n",
        "</table>\n",
        "</div>"
       ],
       "metadata": {},
       "output_type": "pyout",
       "prompt_number": 3,
       "text": [
        "                   A         B         C         D\n",
        "2014-01-01  0.246287  0.897897  0.787693 -1.393341\n",
        "2014-01-02 -0.595710 -0.222208 -1.251186  0.521140\n",
        "2014-01-03  1.702639 -0.272205  0.016183  0.060847\n",
        "2014-01-04  0.573254 -1.768530  0.090060  1.265139\n",
        "2014-01-05  1.159015  1.289275 -0.106302  0.944684\n",
        "2014-01-06  0.975977  0.137149 -0.592113  0.729510"
       ]
      }
     ],
     "prompt_number": 3
    },
    {
     "cell_type": "code",
     "collapsed": false,
     "input": [
      "df2=pd.DataFrame({\"A\":1.,\n",
      "                  \"B\":pd.Timestamp(\"20130102\"),\n",
      "                  \"C\":pd.Series(1,index=list(range(5)),dtype=\"float32\"),\n",
      "                  \"D\":np.array([3]*5,dtype=\"int32\"),\n",
      "                  \"E\":\"foo\"\n",
      "                  })\n",
      "df2"
     ],
     "language": "python",
     "metadata": {},
     "outputs": [
      {
       "html": [
        "<div style=\"max-height:1000px;max-width:1500px;overflow:auto;\">\n",
        "<table border=\"1\" class=\"dataframe\">\n",
        "  <thead>\n",
        "    <tr style=\"text-align: right;\">\n",
        "      <th></th>\n",
        "      <th>A</th>\n",
        "      <th>B</th>\n",
        "      <th>C</th>\n",
        "      <th>D</th>\n",
        "      <th>E</th>\n",
        "    </tr>\n",
        "  </thead>\n",
        "  <tbody>\n",
        "    <tr>\n",
        "      <th>0</th>\n",
        "      <td> 1</td>\n",
        "      <td>2013-01-02</td>\n",
        "      <td> 1</td>\n",
        "      <td> 3</td>\n",
        "      <td> foo</td>\n",
        "    </tr>\n",
        "    <tr>\n",
        "      <th>1</th>\n",
        "      <td> 1</td>\n",
        "      <td>2013-01-02</td>\n",
        "      <td> 1</td>\n",
        "      <td> 3</td>\n",
        "      <td> foo</td>\n",
        "    </tr>\n",
        "    <tr>\n",
        "      <th>2</th>\n",
        "      <td> 1</td>\n",
        "      <td>2013-01-02</td>\n",
        "      <td> 1</td>\n",
        "      <td> 3</td>\n",
        "      <td> foo</td>\n",
        "    </tr>\n",
        "    <tr>\n",
        "      <th>3</th>\n",
        "      <td> 1</td>\n",
        "      <td>2013-01-02</td>\n",
        "      <td> 1</td>\n",
        "      <td> 3</td>\n",
        "      <td> foo</td>\n",
        "    </tr>\n",
        "    <tr>\n",
        "      <th>4</th>\n",
        "      <td> 1</td>\n",
        "      <td>2013-01-02</td>\n",
        "      <td> 1</td>\n",
        "      <td> 3</td>\n",
        "      <td> foo</td>\n",
        "    </tr>\n",
        "  </tbody>\n",
        "</table>\n",
        "</div>"
       ],
       "metadata": {},
       "output_type": "pyout",
       "prompt_number": 4,
       "text": [
        "   A          B  C  D    E\n",
        "0  1 2013-01-02  1  3  foo\n",
        "1  1 2013-01-02  1  3  foo\n",
        "2  1 2013-01-02  1  3  foo\n",
        "3  1 2013-01-02  1  3  foo\n",
        "4  1 2013-01-02  1  3  foo"
       ]
      }
     ],
     "prompt_number": 4
    },
    {
     "cell_type": "code",
     "collapsed": true,
     "input": [
      "df2.dtypes"
     ],
     "language": "python",
     "metadata": {},
     "outputs": [
      {
       "metadata": {},
       "output_type": "pyout",
       "prompt_number": 5,
       "text": [
        "A           float64\n",
        "B    datetime64[ns]\n",
        "C           float32\n",
        "D             int32\n",
        "E            object\n",
        "dtype: object"
       ]
      }
     ],
     "prompt_number": 5
    },
    {
     "cell_type": "code",
     "collapsed": false,
     "input": [
      "df.head()"
     ],
     "language": "python",
     "metadata": {},
     "outputs": [
      {
       "html": [
        "<div style=\"max-height:1000px;max-width:1500px;overflow:auto;\">\n",
        "<table border=\"1\" class=\"dataframe\">\n",
        "  <thead>\n",
        "    <tr style=\"text-align: right;\">\n",
        "      <th></th>\n",
        "      <th>A</th>\n",
        "      <th>B</th>\n",
        "      <th>C</th>\n",
        "      <th>D</th>\n",
        "    </tr>\n",
        "  </thead>\n",
        "  <tbody>\n",
        "    <tr>\n",
        "      <th>2014-01-01</th>\n",
        "      <td> 0.246287</td>\n",
        "      <td> 0.897897</td>\n",
        "      <td> 0.787693</td>\n",
        "      <td>-1.393341</td>\n",
        "    </tr>\n",
        "    <tr>\n",
        "      <th>2014-01-02</th>\n",
        "      <td>-0.595710</td>\n",
        "      <td>-0.222208</td>\n",
        "      <td>-1.251186</td>\n",
        "      <td> 0.521140</td>\n",
        "    </tr>\n",
        "    <tr>\n",
        "      <th>2014-01-03</th>\n",
        "      <td> 1.702639</td>\n",
        "      <td>-0.272205</td>\n",
        "      <td> 0.016183</td>\n",
        "      <td> 0.060847</td>\n",
        "    </tr>\n",
        "    <tr>\n",
        "      <th>2014-01-04</th>\n",
        "      <td> 0.573254</td>\n",
        "      <td>-1.768530</td>\n",
        "      <td> 0.090060</td>\n",
        "      <td> 1.265139</td>\n",
        "    </tr>\n",
        "    <tr>\n",
        "      <th>2014-01-05</th>\n",
        "      <td> 1.159015</td>\n",
        "      <td> 1.289275</td>\n",
        "      <td>-0.106302</td>\n",
        "      <td> 0.944684</td>\n",
        "    </tr>\n",
        "  </tbody>\n",
        "</table>\n",
        "</div>"
       ],
       "metadata": {},
       "output_type": "pyout",
       "prompt_number": 6,
       "text": [
        "                   A         B         C         D\n",
        "2014-01-01  0.246287  0.897897  0.787693 -1.393341\n",
        "2014-01-02 -0.595710 -0.222208 -1.251186  0.521140\n",
        "2014-01-03  1.702639 -0.272205  0.016183  0.060847\n",
        "2014-01-04  0.573254 -1.768530  0.090060  1.265139\n",
        "2014-01-05  1.159015  1.289275 -0.106302  0.944684"
       ]
      }
     ],
     "prompt_number": 6
    },
    {
     "cell_type": "code",
     "collapsed": false,
     "input": [
      "df.tail(3)"
     ],
     "language": "python",
     "metadata": {},
     "outputs": [
      {
       "html": [
        "<div style=\"max-height:1000px;max-width:1500px;overflow:auto;\">\n",
        "<table border=\"1\" class=\"dataframe\">\n",
        "  <thead>\n",
        "    <tr style=\"text-align: right;\">\n",
        "      <th></th>\n",
        "      <th>A</th>\n",
        "      <th>B</th>\n",
        "      <th>C</th>\n",
        "      <th>D</th>\n",
        "    </tr>\n",
        "  </thead>\n",
        "  <tbody>\n",
        "    <tr>\n",
        "      <th>2014-01-04</th>\n",
        "      <td> 0.573254</td>\n",
        "      <td>-1.768530</td>\n",
        "      <td> 0.090060</td>\n",
        "      <td> 1.265139</td>\n",
        "    </tr>\n",
        "    <tr>\n",
        "      <th>2014-01-05</th>\n",
        "      <td> 1.159015</td>\n",
        "      <td> 1.289275</td>\n",
        "      <td>-0.106302</td>\n",
        "      <td> 0.944684</td>\n",
        "    </tr>\n",
        "    <tr>\n",
        "      <th>2014-01-06</th>\n",
        "      <td> 0.975977</td>\n",
        "      <td> 0.137149</td>\n",
        "      <td>-0.592113</td>\n",
        "      <td> 0.729510</td>\n",
        "    </tr>\n",
        "  </tbody>\n",
        "</table>\n",
        "</div>"
       ],
       "metadata": {},
       "output_type": "pyout",
       "prompt_number": 7,
       "text": [
        "                   A         B         C         D\n",
        "2014-01-04  0.573254 -1.768530  0.090060  1.265139\n",
        "2014-01-05  1.159015  1.289275 -0.106302  0.944684\n",
        "2014-01-06  0.975977  0.137149 -0.592113  0.729510"
       ]
      }
     ],
     "prompt_number": 7
    },
    {
     "cell_type": "code",
     "collapsed": false,
     "input": [
      "df.index,hr,df.columns,hr,df.values,hr,df.describe()"
     ],
     "language": "python",
     "metadata": {},
     "outputs": [
      {
       "metadata": {},
       "output_type": "pyout",
       "prompt_number": 24,
       "text": [
        "(<class 'pandas.tseries.index.DatetimeIndex'>\n",
        " [2014-01-01, ..., 2014-01-06]\n",
        " Length: 6, Freq: D, Timezone: None,\n",
        " '--------------------------------------------------------------------------------------------------------------------------',\n",
        " Index([u'A', u'B', u'C', u'D'], dtype='object'),\n",
        " '--------------------------------------------------------------------------------------------------------------------------',\n",
        " array([[ 0.24628748,  0.8978971 ,  0.78769332, -1.39334127],\n",
        "        [-0.59571042, -0.22220818, -1.25118581,  0.52113968],\n",
        "        [ 1.70263946, -0.2722046 ,  0.01618316,  0.06084664],\n",
        "        [ 0.57325403, -1.76852968,  0.09006038,  1.26513875],\n",
        "        [ 1.15901499,  1.28927498, -0.10630239,  0.94468353],\n",
        "        [ 0.97597712,  0.13714902, -0.59211333,  0.72950989]]),\n",
        " '--------------------------------------------------------------------------------------------------------------------------',\n",
        "               A         B         C         D\n",
        " count  6.000000  6.000000  6.000000  6.000000\n",
        " mean   0.676910  0.010230 -0.175944  0.354663\n",
        " std    0.798715  1.071242  0.688543  0.947329\n",
        " min   -0.595710 -1.768530 -1.251186 -1.393341\n",
        " 25%    0.328029 -0.259705 -0.470661  0.175920\n",
        " 50%    0.774616 -0.042530 -0.045060  0.625325\n",
        " 75%    1.113256  0.707710  0.071591  0.890890\n",
        " max    1.702639  1.289275  0.787693  1.265139)"
       ]
      }
     ],
     "prompt_number": 24
    },
    {
     "cell_type": "code",
     "collapsed": false,
     "input": [
      "df.T"
     ],
     "language": "python",
     "metadata": {},
     "outputs": [
      {
       "html": [
        "<div style=\"max-height:1000px;max-width:1500px;overflow:auto;\">\n",
        "<table border=\"1\" class=\"dataframe\">\n",
        "  <thead>\n",
        "    <tr style=\"text-align: right;\">\n",
        "      <th></th>\n",
        "      <th>2014-01-01 00:00:00</th>\n",
        "      <th>2014-01-02 00:00:00</th>\n",
        "      <th>2014-01-03 00:00:00</th>\n",
        "      <th>2014-01-04 00:00:00</th>\n",
        "      <th>2014-01-05 00:00:00</th>\n",
        "      <th>2014-01-06 00:00:00</th>\n",
        "    </tr>\n",
        "  </thead>\n",
        "  <tbody>\n",
        "    <tr>\n",
        "      <th>A</th>\n",
        "      <td> 0.246287</td>\n",
        "      <td>-0.595710</td>\n",
        "      <td> 1.702639</td>\n",
        "      <td> 0.573254</td>\n",
        "      <td> 1.159015</td>\n",
        "      <td> 0.975977</td>\n",
        "    </tr>\n",
        "    <tr>\n",
        "      <th>B</th>\n",
        "      <td> 0.897897</td>\n",
        "      <td>-0.222208</td>\n",
        "      <td>-0.272205</td>\n",
        "      <td>-1.768530</td>\n",
        "      <td> 1.289275</td>\n",
        "      <td> 0.137149</td>\n",
        "    </tr>\n",
        "    <tr>\n",
        "      <th>C</th>\n",
        "      <td> 0.787693</td>\n",
        "      <td>-1.251186</td>\n",
        "      <td> 0.016183</td>\n",
        "      <td> 0.090060</td>\n",
        "      <td>-0.106302</td>\n",
        "      <td>-0.592113</td>\n",
        "    </tr>\n",
        "    <tr>\n",
        "      <th>D</th>\n",
        "      <td>-1.393341</td>\n",
        "      <td> 0.521140</td>\n",
        "      <td> 0.060847</td>\n",
        "      <td> 1.265139</td>\n",
        "      <td> 0.944684</td>\n",
        "      <td> 0.729510</td>\n",
        "    </tr>\n",
        "  </tbody>\n",
        "</table>\n",
        "</div>"
       ],
       "metadata": {},
       "output_type": "pyout",
       "prompt_number": 15,
       "text": [
        "   2014-01-01  2014-01-02  2014-01-03  2014-01-04  2014-01-05  2014-01-06\n",
        "A    0.246287   -0.595710    1.702639    0.573254    1.159015    0.975977\n",
        "B    0.897897   -0.222208   -0.272205   -1.768530    1.289275    0.137149\n",
        "C    0.787693   -1.251186    0.016183    0.090060   -0.106302   -0.592113\n",
        "D   -1.393341    0.521140    0.060847    1.265139    0.944684    0.729510"
       ]
      }
     ],
     "prompt_number": 15
    },
    {
     "cell_type": "code",
     "collapsed": false,
     "input": [
      "df.sort_index(axis=1, ascending=False)"
     ],
     "language": "python",
     "metadata": {},
     "outputs": [
      {
       "html": [
        "<div style=\"max-height:1000px;max-width:1500px;overflow:auto;\">\n",
        "<table border=\"1\" class=\"dataframe\">\n",
        "  <thead>\n",
        "    <tr style=\"text-align: right;\">\n",
        "      <th></th>\n",
        "      <th>D</th>\n",
        "      <th>C</th>\n",
        "      <th>B</th>\n",
        "      <th>A</th>\n",
        "    </tr>\n",
        "  </thead>\n",
        "  <tbody>\n",
        "    <tr>\n",
        "      <th>2014-01-01</th>\n",
        "      <td>-1.393341</td>\n",
        "      <td> 0.787693</td>\n",
        "      <td> 0.897897</td>\n",
        "      <td> 0.246287</td>\n",
        "    </tr>\n",
        "    <tr>\n",
        "      <th>2014-01-02</th>\n",
        "      <td> 0.521140</td>\n",
        "      <td>-1.251186</td>\n",
        "      <td>-0.222208</td>\n",
        "      <td>-0.595710</td>\n",
        "    </tr>\n",
        "    <tr>\n",
        "      <th>2014-01-03</th>\n",
        "      <td> 0.060847</td>\n",
        "      <td> 0.016183</td>\n",
        "      <td>-0.272205</td>\n",
        "      <td> 1.702639</td>\n",
        "    </tr>\n",
        "    <tr>\n",
        "      <th>2014-01-04</th>\n",
        "      <td> 1.265139</td>\n",
        "      <td> 0.090060</td>\n",
        "      <td>-1.768530</td>\n",
        "      <td> 0.573254</td>\n",
        "    </tr>\n",
        "    <tr>\n",
        "      <th>2014-01-05</th>\n",
        "      <td> 0.944684</td>\n",
        "      <td>-0.106302</td>\n",
        "      <td> 1.289275</td>\n",
        "      <td> 1.159015</td>\n",
        "    </tr>\n",
        "    <tr>\n",
        "      <th>2014-01-06</th>\n",
        "      <td> 0.729510</td>\n",
        "      <td>-0.592113</td>\n",
        "      <td> 0.137149</td>\n",
        "      <td> 0.975977</td>\n",
        "    </tr>\n",
        "  </tbody>\n",
        "</table>\n",
        "</div>"
       ],
       "metadata": {},
       "output_type": "pyout",
       "prompt_number": 16,
       "text": [
        "                   D         C         B         A\n",
        "2014-01-01 -1.393341  0.787693  0.897897  0.246287\n",
        "2014-01-02  0.521140 -1.251186 -0.222208 -0.595710\n",
        "2014-01-03  0.060847  0.016183 -0.272205  1.702639\n",
        "2014-01-04  1.265139  0.090060 -1.768530  0.573254\n",
        "2014-01-05  0.944684 -0.106302  1.289275  1.159015\n",
        "2014-01-06  0.729510 -0.592113  0.137149  0.975977"
       ]
      }
     ],
     "prompt_number": 16
    },
    {
     "cell_type": "code",
     "collapsed": false,
     "input": [
      "df.sort(columns=\"B\")"
     ],
     "language": "python",
     "metadata": {},
     "outputs": [
      {
       "html": [
        "<div style=\"max-height:1000px;max-width:1500px;overflow:auto;\">\n",
        "<table border=\"1\" class=\"dataframe\">\n",
        "  <thead>\n",
        "    <tr style=\"text-align: right;\">\n",
        "      <th></th>\n",
        "      <th>A</th>\n",
        "      <th>B</th>\n",
        "      <th>C</th>\n",
        "      <th>D</th>\n",
        "    </tr>\n",
        "  </thead>\n",
        "  <tbody>\n",
        "    <tr>\n",
        "      <th>2014-01-04</th>\n",
        "      <td> 0.573254</td>\n",
        "      <td>-1.768530</td>\n",
        "      <td> 0.090060</td>\n",
        "      <td> 1.265139</td>\n",
        "    </tr>\n",
        "    <tr>\n",
        "      <th>2014-01-03</th>\n",
        "      <td> 1.702639</td>\n",
        "      <td>-0.272205</td>\n",
        "      <td> 0.016183</td>\n",
        "      <td> 0.060847</td>\n",
        "    </tr>\n",
        "    <tr>\n",
        "      <th>2014-01-02</th>\n",
        "      <td>-0.595710</td>\n",
        "      <td>-0.222208</td>\n",
        "      <td>-1.251186</td>\n",
        "      <td> 0.521140</td>\n",
        "    </tr>\n",
        "    <tr>\n",
        "      <th>2014-01-06</th>\n",
        "      <td> 0.975977</td>\n",
        "      <td> 0.137149</td>\n",
        "      <td>-0.592113</td>\n",
        "      <td> 0.729510</td>\n",
        "    </tr>\n",
        "    <tr>\n",
        "      <th>2014-01-01</th>\n",
        "      <td> 0.246287</td>\n",
        "      <td> 0.897897</td>\n",
        "      <td> 0.787693</td>\n",
        "      <td>-1.393341</td>\n",
        "    </tr>\n",
        "    <tr>\n",
        "      <th>2014-01-05</th>\n",
        "      <td> 1.159015</td>\n",
        "      <td> 1.289275</td>\n",
        "      <td>-0.106302</td>\n",
        "      <td> 0.944684</td>\n",
        "    </tr>\n",
        "  </tbody>\n",
        "</table>\n",
        "</div>"
       ],
       "metadata": {},
       "output_type": "pyout",
       "prompt_number": 17,
       "text": [
        "                   A         B         C         D\n",
        "2014-01-04  0.573254 -1.768530  0.090060  1.265139\n",
        "2014-01-03  1.702639 -0.272205  0.016183  0.060847\n",
        "2014-01-02 -0.595710 -0.222208 -1.251186  0.521140\n",
        "2014-01-06  0.975977  0.137149 -0.592113  0.729510\n",
        "2014-01-01  0.246287  0.897897  0.787693 -1.393341\n",
        "2014-01-05  1.159015  1.289275 -0.106302  0.944684"
       ]
      }
     ],
     "prompt_number": 17
    },
    {
     "cell_type": "code",
     "collapsed": false,
     "input": [
      "df['A'],hr,df[0:3],hr,df[\"20130102\":\"20130104\"]"
     ],
     "language": "python",
     "metadata": {},
     "outputs": [
      {
       "metadata": {},
       "output_type": "pyout",
       "prompt_number": 25,
       "text": [
        "(2014-01-01    0.246287\n",
        " 2014-01-02   -0.595710\n",
        " 2014-01-03    1.702639\n",
        " 2014-01-04    0.573254\n",
        " 2014-01-05    1.159015\n",
        " 2014-01-06    0.975977\n",
        " Freq: D, Name: A, dtype: float64,\n",
        " '--------------------------------------------------------------------------------------------------------------------------',\n",
        "                    A         B         C         D\n",
        " 2014-01-01  0.246287  0.897897  0.787693 -1.393341\n",
        " 2014-01-02 -0.595710 -0.222208 -1.251186  0.521140\n",
        " 2014-01-03  1.702639 -0.272205  0.016183  0.060847,\n",
        " '--------------------------------------------------------------------------------------------------------------------------',\n",
        " Empty DataFrame\n",
        " Columns: [A, B, C, D]\n",
        " Index: [])"
       ]
      }
     ],
     "prompt_number": 25
    },
    {
     "cell_type": "code",
     "collapsed": false,
     "input": [
      "df.loc[dates[0]],hr,df.loc[:,['A','B']],hr,df.loc['20130102':'20130104',['A','B']]"
     ],
     "language": "python",
     "metadata": {},
     "outputs": [
      {
       "metadata": {},
       "output_type": "pyout",
       "prompt_number": 27,
       "text": [
        "(A    0.246287\n",
        " B    0.897897\n",
        " C    0.787693\n",
        " D   -1.393341\n",
        " Name: 2014-01-01 00:00:00, dtype: float64,\n",
        " '--------------------------------------------------------------------------------------------------------------------------',\n",
        "                    A         B\n",
        " 2014-01-01  0.246287  0.897897\n",
        " 2014-01-02 -0.595710 -0.222208\n",
        " 2014-01-03  1.702639 -0.272205\n",
        " 2014-01-04  0.573254 -1.768530\n",
        " 2014-01-05  1.159015  1.289275\n",
        " 2014-01-06  0.975977  0.137149,\n",
        " '--------------------------------------------------------------------------------------------------------------------------')"
       ]
      }
     ],
     "prompt_number": 27
    },
    {
     "cell_type": "code",
     "collapsed": false,
     "input": [],
     "language": "python",
     "metadata": {},
     "outputs": []
    }
   ],
   "metadata": {}
  }
 ]
}