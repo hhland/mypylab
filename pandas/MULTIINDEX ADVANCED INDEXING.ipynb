{
 "metadata": {
  "name": "",
  "signature": "sha256:b971f7e5e005aa54d1a94ce018b8abe7a8dca7735f5ecd31e61bd09b96013e9d"
 },
 "nbformat": 3,
 "nbformat_minor": 0,
 "worksheets": [
  {
   "cells": [
    {
     "cell_type": "code",
     "collapsed": false,
     "input": [
      "%pylab inline\n",
      "from pandas import *"
     ],
     "language": "python",
     "metadata": {},
     "outputs": [
      {
       "output_type": "stream",
       "stream": "stdout",
       "text": [
        "Populating the interactive namespace from numpy and matplotlib\n"
       ]
      }
     ],
     "prompt_number": 1
    },
    {
     "cell_type": "code",
     "collapsed": false,
     "input": [
      "hr=\"----------------------------------------------------------------------------------------------------------------------\"\n",
      "arrays = [[ \"bar\", \"bar\", \"baz\", \"baz\", \"foo\", \"foo\", \"qux\", \"qux\"],\n",
      "[ \"one\", \"two\", \"one\", \"two\", \"one\", \"two\", \"one\", \"two\"]]\n",
      "\n",
      "tuples = list(zip(*arrays))\n",
      "index = MultiIndex.from_tuples(tuples, names=[ \"first\" , \"second\" ])\n",
      "\n",
      "s = Series(randn(8), index=index)\n",
      "\n",
      "arrays,hr,tuples,hr,index,hr,s"
     ],
     "language": "python",
     "metadata": {},
     "outputs": [
      {
       "metadata": {},
       "output_type": "pyout",
       "prompt_number": 5,
       "text": [
        "([['bar', 'bar', 'baz', 'baz', 'foo', 'foo', 'qux', 'qux'],\n",
        "  ['one', 'two', 'one', 'two', 'one', 'two', 'one', 'two']],\n",
        " '----------------------------------------------------------------------------------------------------------------------',\n",
        " [('bar', 'one'),\n",
        "  ('bar', 'two'),\n",
        "  ('baz', 'one'),\n",
        "  ('baz', 'two'),\n",
        "  ('foo', 'one'),\n",
        "  ('foo', 'two'),\n",
        "  ('qux', 'one'),\n",
        "  ('qux', 'two')],\n",
        " '----------------------------------------------------------------------------------------------------------------------',\n",
        " MultiIndex(levels=[[u'bar', u'baz', u'foo', u'qux'], [u'one', u'two']],\n",
        "            labels=[[0, 0, 1, 1, 2, 2, 3, 3], [0, 1, 0, 1, 0, 1, 0, 1]],\n",
        "            names=[u'first', u'second']),\n",
        " '----------------------------------------------------------------------------------------------------------------------',\n",
        " first  second\n",
        " bar    one      -0.323134\n",
        "        two      -0.014357\n",
        " baz    one      -1.004300\n",
        "        two       0.338659\n",
        " foo    one      -0.659661\n",
        "        two       1.257911\n",
        " qux    one       0.974265\n",
        "        two      -1.189815\n",
        " dtype: float64)"
       ]
      }
     ],
     "prompt_number": 5
    },
    {
     "cell_type": "code",
     "collapsed": false,
     "input": [
      "iterables = [[ \"bar\", \"baz\", \"foo\", \"qux\"], [ \"one\", \"two\"]]\n",
      "MultiIndex.from_product(iterables, names=[ \"first\", \"second\"])"
     ],
     "language": "python",
     "metadata": {},
     "outputs": [
      {
       "metadata": {},
       "output_type": "pyout",
       "prompt_number": 9,
       "text": [
        "MultiIndex(levels=[[u'bar', u'baz', u'foo', u'qux'], [u'one', u'two']],\n",
        "           labels=[[0, 0, 1, 1, 2, 2, 3, 3], [0, 1, 0, 1, 0, 1, 0, 1]],\n",
        "           names=[u'first', u'second'])"
       ]
      }
     ],
     "prompt_number": 9
    },
    {
     "cell_type": "code",
     "collapsed": false,
     "input": [
      "arrays = [np.array([ \"bar\", \"bar\", \"baz\", \"baz\", \"foo\", \"foo\", \"qux\", \"qux\"]),\n",
      "np.array([ \"one\", \"two\", \"one\", \"two\", \"one\", \"two\", \"one\", \"two\"])]\n",
      "\n",
      "s = Series(randn(8), index=arrays)\n",
      "\n",
      "\n",
      "\n",
      "arrays,hr,s"
     ],
     "language": "python",
     "metadata": {},
     "outputs": [
      {
       "metadata": {},
       "output_type": "pyout",
       "prompt_number": 12,
       "text": [
        "([array(['bar', 'bar', 'baz', 'baz', 'foo', 'foo', 'qux', 'qux'], \n",
        "        dtype='|S3'),\n",
        "  array(['one', 'two', 'one', 'two', 'one', 'two', 'one', 'two'], \n",
        "        dtype='|S3')],\n",
        " '----------------------------------------------------------------------------------------------------------------------',\n",
        " bar  one    0.078091\n",
        "      two   -0.493453\n",
        " baz  one   -2.446151\n",
        "      two   -0.567513\n",
        " foo  one   -0.207304\n",
        "      two   -0.736155\n",
        " qux  one   -0.898270\n",
        "      two   -1.133540\n",
        " dtype: float64)"
       ]
      }
     ],
     "prompt_number": 12
    },
    {
     "cell_type": "code",
     "collapsed": false,
     "input": [
      "df0=DataFrame(randn(8, 4), index=arrays)\n",
      "df1=DataFrame(randn(3, 8), index=[ \"A\", \"B\" , \"C\" ], columns=index)\n",
      "df2=DataFrame(randn(6, 6), index=index[: 6], columns=index[: 6])\n",
      "\n",
      "df0,hr,df1,hr,df2"
     ],
     "language": "python",
     "metadata": {},
     "outputs": [
      {
       "metadata": {},
       "output_type": "pyout",
       "prompt_number": 16,
       "text": [
        "(                0         1         2         3\n",
        " bar one -1.426123 -1.981045 -0.820753 -0.567069\n",
        "     two -0.920602  0.002530  0.313230  0.293339\n",
        " baz one -0.044392 -0.083722  1.099119  0.767192\n",
        "     two  1.108864 -0.251528  0.421560  1.799398\n",
        " foo one  0.443787 -0.984912  0.349596  0.249097\n",
        "     two  0.253575 -2.313539 -0.445557  1.153855\n",
        " qux one  1.490856 -1.804912 -0.854356  1.372760\n",
        "     two -1.077912  0.148051  0.342676 -0.225099,\n",
        " '----------------------------------------------------------------------------------------------------------------------',\n",
        " first        bar                 baz                 foo                 qux  \\\n",
        " second       one       two       one       two       one       two       one   \n",
        " A       1.234780 -1.922536  0.312636 -0.011651  1.705672 -0.944708 -0.066995   \n",
        " B       0.634057 -0.968219 -0.802369  0.258847  0.042787 -1.660441 -0.134903   \n",
        " C       0.356222 -0.392502  0.094902 -0.417460  0.747343  0.221943 -1.259864   \n",
        " \n",
        " first             \n",
        " second       two  \n",
        " A      -0.117152  \n",
        " B      -0.478251  \n",
        " C      -0.502110  ,\n",
        " '----------------------------------------------------------------------------------------------------------------------',\n",
        " first              bar                 baz                 foo          \n",
        " second             one       two       one       two       one       two\n",
        " first second                                                            \n",
        " bar   one    -0.338737  0.462333 -0.889589 -0.023294  0.527387 -1.857250\n",
        "       two     0.953554 -0.052665  0.087114  2.513072 -1.050356  0.146199\n",
        " baz   one     0.411301  1.949265 -1.108592 -1.269533  0.683340  1.330868\n",
        "       two    -0.778185  0.303869 -0.028589  0.057441  2.047850  0.263829\n",
        " foo   one     0.525617  0.638555 -1.065524 -1.237748  0.195603  0.264736\n",
        "       two     0.418353  2.140676 -0.160549 -3.074759 -0.335383  1.409282)"
       ]
      }
     ],
     "prompt_number": 16
    },
    {
     "cell_type": "code",
     "collapsed": false,
     "input": [
      "s0=Series(randn(8), index=tuples)\n",
      "pandas.set_option(\"display.multi_sparse\" , False)\n",
      "\n",
      "s0,hr,df"
     ],
     "language": "python",
     "metadata": {},
     "outputs": [
      {
       "metadata": {},
       "output_type": "pyout",
       "prompt_number": 21,
       "text": [
        "((bar, one)   -0.418239\n",
        " (bar, two)   -1.365613\n",
        " (baz, one)   -0.470707\n",
        " (baz, two)   -1.223603\n",
        " (foo, one)   -0.651896\n",
        " (foo, two)   -0.414727\n",
        " (qux, one)    0.596398\n",
        " (qux, two)   -0.705934\n",
        " dtype: float64,\n",
        " '----------------------------------------------------------------------------------------------------------------------',\n",
        "                 0         1         2         3\n",
        " bar one  0.645932  0.678037 -1.322237 -0.118839\n",
        " bar two -0.028044  1.299076 -2.450954 -1.588021\n",
        " baz one -1.084264  2.032015  0.146336 -1.044692\n",
        " baz two  1.287844  1.256884 -0.740889  0.061197\n",
        " foo one -0.225495  1.302109  0.313479 -1.062765\n",
        " foo two -0.804484 -0.550907  0.009762 -1.367296\n",
        " qux one  0.636077 -0.768890  1.521384 -0.642849\n",
        " qux two  0.218290  1.204150 -0.791699 -0.082406)"
       ]
      }
     ],
     "prompt_number": 21
    },
    {
     "cell_type": "code",
     "collapsed": false,
     "input": [],
     "language": "python",
     "metadata": {},
     "outputs": []
    }
   ],
   "metadata": {}
  }
 ]
}