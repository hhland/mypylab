{
 "metadata": {
  "name": "",
  "signature": "sha256:346940a8de7b6729743c73bb19f64a156f843d8bd67ffcc3f7e5980c5cdd1ede"
 },
 "nbformat": 3,
 "nbformat_minor": 0,
 "worksheets": [
  {
   "cells": [
    {
     "cell_type": "code",
     "collapsed": false,
     "input": [
      "%pylab inline\n",
      "from pandas import *"
     ],
     "language": "python",
     "metadata": {},
     "outputs": [
      {
       "output_type": "stream",
       "stream": "stdout",
       "text": [
        "Populating the interactive namespace from numpy and matplotlib\n"
       ]
      },
      {
       "output_type": "stream",
       "stream": "stderr",
       "text": [
        "WARNING: pylab import has clobbered these variables: ['datetime', 'save', 'load', 'unique', 'info']\n",
        "`%matplotlib` prevents importing * from pylab and numpy\n"
       ]
      }
     ],
     "prompt_number": 12
    },
    {
     "cell_type": "code",
     "collapsed": false,
     "input": [
      "hr=\"----------------------------------------------------------------------------------------------------------------------\"\n",
      "arrays = [[ \"bar\", \"bar\", \"baz\", \"baz\", \"foo\", \"foo\", \"qux\", \"qux\"],\n",
      "[ \"one\", \"two\", \"one\", \"two\", \"one\", \"two\", \"one\", \"two\"]]\n",
      "\n",
      "tuples = list(zip(*arrays))\n",
      "index = MultiIndex.from_tuples(tuples, names=[ \"first\" , \"second\" ])\n",
      "\n",
      "s = Series(randn(8), index=index)\n",
      "\n",
      "arrays,hr,tuples,hr,index,hr,s"
     ],
     "language": "python",
     "metadata": {},
     "outputs": [
      {
       "metadata": {},
       "output_type": "pyout",
       "prompt_number": 13,
       "text": [
        "([['bar', 'bar', 'baz', 'baz', 'foo', 'foo', 'qux', 'qux'],\n",
        "  ['one', 'two', 'one', 'two', 'one', 'two', 'one', 'two']],\n",
        " '----------------------------------------------------------------------------------------------------------------------',\n",
        " [('bar', 'one'),\n",
        "  ('bar', 'two'),\n",
        "  ('baz', 'one'),\n",
        "  ('baz', 'two'),\n",
        "  ('foo', 'one'),\n",
        "  ('foo', 'two'),\n",
        "  ('qux', 'one'),\n",
        "  ('qux', 'two')],\n",
        " '----------------------------------------------------------------------------------------------------------------------',\n",
        " MultiIndex(levels=[[u'bar', u'baz', u'foo', u'qux'], [u'one', u'two']],\n",
        "            labels=[[0, 0, 1, 1, 2, 2, 3, 3], [0, 1, 0, 1, 0, 1, 0, 1]],\n",
        "            names=[u'first', u'second']),\n",
        " '----------------------------------------------------------------------------------------------------------------------',\n",
        " first  second\n",
        " bar    one      -1.889478\n",
        " bar    two       0.424901\n",
        " baz    one       0.701177\n",
        " baz    two       0.633794\n",
        " foo    one       1.777338\n",
        " foo    two      -0.550636\n",
        " qux    one       0.504742\n",
        " qux    two       1.588870\n",
        " dtype: float64)"
       ]
      }
     ],
     "prompt_number": 13
    },
    {
     "cell_type": "code",
     "collapsed": false,
     "input": [
      "iterables = [[ \"bar\", \"baz\", \"foo\", \"qux\"], [ \"one\", \"two\"]]\n",
      "MultiIndex.from_product(iterables, names=[ \"first\", \"second\"])"
     ],
     "language": "python",
     "metadata": {},
     "outputs": [
      {
       "metadata": {},
       "output_type": "pyout",
       "prompt_number": 14,
       "text": [
        "MultiIndex(levels=[[u'bar', u'baz', u'foo', u'qux'], [u'one', u'two']],\n",
        "           labels=[[0, 0, 1, 1, 2, 2, 3, 3], [0, 1, 0, 1, 0, 1, 0, 1]],\n",
        "           names=[u'first', u'second'])"
       ]
      }
     ],
     "prompt_number": 14
    },
    {
     "cell_type": "code",
     "collapsed": false,
     "input": [
      "arrays = [np.array([ \"bar\", \"bar\", \"baz\", \"baz\", \"foo\", \"foo\", \"qux\", \"qux\"]),\n",
      "np.array([ \"one\", \"two\", \"one\", \"two\", \"one\", \"two\", \"one\", \"two\"])]\n",
      "\n",
      "s = Series(randn(8), index=arrays)\n",
      "\n",
      "\n",
      "\n",
      "arrays,hr,s"
     ],
     "language": "python",
     "metadata": {},
     "outputs": [
      {
       "metadata": {},
       "output_type": "pyout",
       "prompt_number": 15,
       "text": [
        "([array(['bar', 'bar', 'baz', 'baz', 'foo', 'foo', 'qux', 'qux'], \n",
        "        dtype='|S3'),\n",
        "  array(['one', 'two', 'one', 'two', 'one', 'two', 'one', 'two'], \n",
        "        dtype='|S3')],\n",
        " '----------------------------------------------------------------------------------------------------------------------',\n",
        " bar  one    2.017928\n",
        " bar  two    1.139307\n",
        " baz  one   -0.258635\n",
        " baz  two   -0.117167\n",
        " foo  one   -0.116392\n",
        " foo  two    0.599872\n",
        " qux  one    0.756169\n",
        " qux  two    1.382177\n",
        " dtype: float64)"
       ]
      }
     ],
     "prompt_number": 15
    },
    {
     "cell_type": "code",
     "collapsed": false,
     "input": [
      "df=DataFrame(randn(8, 4), index=arrays)\n",
      "\n",
      "df,hr,df.index.names"
     ],
     "language": "python",
     "metadata": {},
     "outputs": [
      {
       "metadata": {},
       "output_type": "pyout",
       "prompt_number": 29,
       "text": [
        "(                0         1         2         3\n",
        " bar one  0.806323 -0.192265  1.033093  1.052012\n",
        " bar two -0.149952  0.115074  1.256102 -1.371863\n",
        " baz one  0.436922  1.749673 -0.213974 -0.359778\n",
        " baz two -0.188965  0.684174 -0.114785 -1.037847\n",
        " foo one  1.226893  1.554988 -0.552095 -0.473270\n",
        " foo two -0.710618 -0.042388  0.764520 -1.259776\n",
        " qux one -0.395838  0.272413  0.826407 -0.568545\n",
        " qux two  1.407447 -0.607742 -1.634778 -0.263150,\n",
        " '----------------------------------------------------------------------------------------------------------------------',\n",
        " FrozenList([None, None]))"
       ]
      }
     ],
     "prompt_number": 29
    },
    {
     "cell_type": "code",
     "collapsed": false,
     "input": [
      "df = DataFrame(randn(3, 8), index=[ \"A\" , \"B\" , \"C\" ], columns=index)\n",
      "df"
     ],
     "language": "python",
     "metadata": {},
     "outputs": [
      {
       "html": [
        "<div style=\"max-height:1000px;max-width:1500px;overflow:auto;\">\n",
        "<table border=\"1\" class=\"dataframe\">\n",
        "  <thead>\n",
        "    <tr>\n",
        "      <th>first</th>\n",
        "      <th>bar</th>\n",
        "      <th>bar</th>\n",
        "      <th>baz</th>\n",
        "      <th>baz</th>\n",
        "      <th>foo</th>\n",
        "      <th>foo</th>\n",
        "      <th>qux</th>\n",
        "      <th>qux</th>\n",
        "    </tr>\n",
        "    <tr>\n",
        "      <th>second</th>\n",
        "      <th>one</th>\n",
        "      <th>two</th>\n",
        "      <th>one</th>\n",
        "      <th>two</th>\n",
        "      <th>one</th>\n",
        "      <th>two</th>\n",
        "      <th>one</th>\n",
        "      <th>two</th>\n",
        "    </tr>\n",
        "  </thead>\n",
        "  <tbody>\n",
        "    <tr>\n",
        "      <th>A</th>\n",
        "      <td>-0.890945</td>\n",
        "      <td> 0.533804</td>\n",
        "      <td> 0.623244</td>\n",
        "      <td>-1.466430</td>\n",
        "      <td> 0.312801</td>\n",
        "      <td> 0.367944</td>\n",
        "      <td>-1.860165</td>\n",
        "      <td> 0.046285</td>\n",
        "    </tr>\n",
        "    <tr>\n",
        "      <th>B</th>\n",
        "      <td> 0.619477</td>\n",
        "      <td>-0.143459</td>\n",
        "      <td>-0.307409</td>\n",
        "      <td>-2.808551</td>\n",
        "      <td>-0.745379</td>\n",
        "      <td> 0.830968</td>\n",
        "      <td>-0.228516</td>\n",
        "      <td> 1.346797</td>\n",
        "    </tr>\n",
        "    <tr>\n",
        "      <th>C</th>\n",
        "      <td> 0.453422</td>\n",
        "      <td>-0.254667</td>\n",
        "      <td> 1.193593</td>\n",
        "      <td> 0.676457</td>\n",
        "      <td>-0.226342</td>\n",
        "      <td> 0.236388</td>\n",
        "      <td> 0.673493</td>\n",
        "      <td>-0.834141</td>\n",
        "    </tr>\n",
        "  </tbody>\n",
        "</table>\n",
        "</div>"
       ],
       "metadata": {},
       "output_type": "pyout",
       "prompt_number": 30,
       "text": [
        "first        bar       bar       baz       baz       foo       foo       qux  \\\n",
        "second       one       two       one       two       one       two       one   \n",
        "A      -0.890945  0.533804  0.623244 -1.466430  0.312801  0.367944 -1.860165   \n",
        "B       0.619477 -0.143459 -0.307409 -2.808551 -0.745379  0.830968 -0.228516   \n",
        "C       0.453422 -0.254667  1.193593  0.676457 -0.226342  0.236388  0.673493   \n",
        "\n",
        "first        qux  \n",
        "second       two  \n",
        "A       0.046285  \n",
        "B       1.346797  \n",
        "C      -0.834141  "
       ]
      }
     ],
     "prompt_number": 30
    },
    {
     "cell_type": "code",
     "collapsed": false,
     "input": [
      "s0=Series(randn(8), index=tuples)\n",
      "pandas.set_option(\"display.multi_sparse\" , False)\n",
      "\n",
      "df"
     ],
     "language": "python",
     "metadata": {},
     "outputs": [
      {
       "html": [
        "<div style=\"max-height:1000px;max-width:1500px;overflow:auto;\">\n",
        "<table border=\"1\" class=\"dataframe\">\n",
        "  <thead>\n",
        "    <tr>\n",
        "      <th>first</th>\n",
        "      <th>bar</th>\n",
        "      <th>bar</th>\n",
        "      <th>baz</th>\n",
        "      <th>baz</th>\n",
        "      <th>foo</th>\n",
        "      <th>foo</th>\n",
        "      <th>qux</th>\n",
        "      <th>qux</th>\n",
        "    </tr>\n",
        "    <tr>\n",
        "      <th>second</th>\n",
        "      <th>one</th>\n",
        "      <th>two</th>\n",
        "      <th>one</th>\n",
        "      <th>two</th>\n",
        "      <th>one</th>\n",
        "      <th>two</th>\n",
        "      <th>one</th>\n",
        "      <th>two</th>\n",
        "    </tr>\n",
        "  </thead>\n",
        "  <tbody>\n",
        "    <tr>\n",
        "      <th>A</th>\n",
        "      <td>-0.890945</td>\n",
        "      <td> 0.533804</td>\n",
        "      <td> 0.623244</td>\n",
        "      <td>-1.466430</td>\n",
        "      <td> 0.312801</td>\n",
        "      <td> 0.367944</td>\n",
        "      <td>-1.860165</td>\n",
        "      <td> 0.046285</td>\n",
        "    </tr>\n",
        "    <tr>\n",
        "      <th>B</th>\n",
        "      <td> 0.619477</td>\n",
        "      <td>-0.143459</td>\n",
        "      <td>-0.307409</td>\n",
        "      <td>-2.808551</td>\n",
        "      <td>-0.745379</td>\n",
        "      <td> 0.830968</td>\n",
        "      <td>-0.228516</td>\n",
        "      <td> 1.346797</td>\n",
        "    </tr>\n",
        "    <tr>\n",
        "      <th>C</th>\n",
        "      <td> 0.453422</td>\n",
        "      <td>-0.254667</td>\n",
        "      <td> 1.193593</td>\n",
        "      <td> 0.676457</td>\n",
        "      <td>-0.226342</td>\n",
        "      <td> 0.236388</td>\n",
        "      <td> 0.673493</td>\n",
        "      <td>-0.834141</td>\n",
        "    </tr>\n",
        "  </tbody>\n",
        "</table>\n",
        "</div>"
       ],
       "metadata": {},
       "output_type": "pyout",
       "prompt_number": 32,
       "text": [
        "first        bar       bar       baz       baz       foo       foo       qux  \\\n",
        "second       one       two       one       two       one       two       one   \n",
        "A      -0.890945  0.533804  0.623244 -1.466430  0.312801  0.367944 -1.860165   \n",
        "B       0.619477 -0.143459 -0.307409 -2.808551 -0.745379  0.830968 -0.228516   \n",
        "C       0.453422 -0.254667  1.193593  0.676457 -0.226342  0.236388  0.673493   \n",
        "\n",
        "first        qux  \n",
        "second       two  \n",
        "A       0.046285  \n",
        "B       1.346797  \n",
        "C      -0.834141  "
       ]
      }
     ],
     "prompt_number": 32
    },
    {
     "cell_type": "markdown",
     "metadata": {},
     "source": [
      "#Reconstructing the level labels\n",
      "The method get_level_values will return a vector of the labels for each location at a particular level:"
     ]
    },
    {
     "cell_type": "code",
     "collapsed": false,
     "input": [
      "index,hr,index.get_level_values(0),hr,index.get_level_values(\"second\")"
     ],
     "language": "python",
     "metadata": {},
     "outputs": [
      {
       "metadata": {},
       "output_type": "pyout",
       "prompt_number": 33,
       "text": [
        "(MultiIndex(levels=[[u'bar', u'baz', u'foo', u'qux'], [u'one', u'two']],\n",
        "            labels=[[0, 0, 1, 1, 2, 2, 3, 3], [0, 1, 0, 1, 0, 1, 0, 1]],\n",
        "            names=[u'first', u'second']),\n",
        " '----------------------------------------------------------------------------------------------------------------------',\n",
        " Index([u'bar', u'bar', u'baz', u'baz', u'foo', u'foo', u'qux', u'qux'], dtype='object'),\n",
        " '----------------------------------------------------------------------------------------------------------------------',\n",
        " Index([u'one', u'two', u'one', u'two', u'one', u'two', u'one', u'two'], dtype='object'))"
       ]
      }
     ],
     "prompt_number": 33
    },
    {
     "cell_type": "code",
     "collapsed": false,
     "input": [
      "df['bar','one']"
     ],
     "language": "python",
     "metadata": {},
     "outputs": [
      {
       "metadata": {},
       "output_type": "pyout",
       "prompt_number": 34,
       "text": [
        "A   -0.890945\n",
        "B    0.619477\n",
        "C    0.453422\n",
        "Name: (bar, one), dtype: float64"
       ]
      }
     ],
     "prompt_number": 34
    },
    {
     "cell_type": "code",
     "collapsed": false,
     "input": [],
     "language": "python",
     "metadata": {},
     "outputs": []
    }
   ],
   "metadata": {}
  }
 ]
}