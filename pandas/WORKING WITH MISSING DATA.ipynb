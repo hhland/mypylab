{
 "metadata": {
  "name": "",
  "signature": "sha256:b6e132e8e61a96da457b130e8c6b66592da40cb4e674c137bedd93d084172d81"
 },
 "nbformat": 3,
 "nbformat_minor": 0,
 "worksheets": [
  {
   "cells": [
    {
     "cell_type": "code",
     "collapsed": false,
     "input": [
      "%pylab inline\n",
      "from pandas import *"
     ],
     "language": "python",
     "metadata": {},
     "outputs": [
      {
       "output_type": "stream",
       "stream": "stdout",
       "text": [
        "Populating the interactive namespace from numpy and matplotlib\n"
       ]
      }
     ],
     "prompt_number": 1
    },
    {
     "cell_type": "code",
     "collapsed": false,
     "input": [
      "hr=\"-\"*120\n",
      "df= DataFrame(randn(5,3),index=[\"a\",\"c\",\"e\",\"f\",\"h\"],columns=[\"one\",\"two\",\"three\"])\n",
      "\n",
      "df"
     ],
     "language": "python",
     "metadata": {},
     "outputs": [
      {
       "html": [
        "<div style=\"max-height:1000px;max-width:1500px;overflow:auto;\">\n",
        "<table border=\"1\" class=\"dataframe\">\n",
        "  <thead>\n",
        "    <tr style=\"text-align: right;\">\n",
        "      <th></th>\n",
        "      <th>one</th>\n",
        "      <th>two</th>\n",
        "      <th>three</th>\n",
        "    </tr>\n",
        "  </thead>\n",
        "  <tbody>\n",
        "    <tr>\n",
        "      <th>a</th>\n",
        "      <td>-0.214134</td>\n",
        "      <td> 0.216985</td>\n",
        "      <td> 0.383580</td>\n",
        "    </tr>\n",
        "    <tr>\n",
        "      <th>c</th>\n",
        "      <td>-0.082092</td>\n",
        "      <td>-0.778826</td>\n",
        "      <td> 0.936627</td>\n",
        "    </tr>\n",
        "    <tr>\n",
        "      <th>e</th>\n",
        "      <td>-0.569321</td>\n",
        "      <td>-0.062699</td>\n",
        "      <td>-0.571470</td>\n",
        "    </tr>\n",
        "    <tr>\n",
        "      <th>f</th>\n",
        "      <td>-0.005959</td>\n",
        "      <td>-1.003286</td>\n",
        "      <td>-0.684225</td>\n",
        "    </tr>\n",
        "    <tr>\n",
        "      <th>h</th>\n",
        "      <td> 0.845205</td>\n",
        "      <td>-0.064990</td>\n",
        "      <td>-0.360579</td>\n",
        "    </tr>\n",
        "  </tbody>\n",
        "</table>\n",
        "</div>"
       ],
       "metadata": {},
       "output_type": "pyout",
       "prompt_number": 5,
       "text": [
        "        one       two     three\n",
        "a -0.214134  0.216985  0.383580\n",
        "c -0.082092 -0.778826  0.936627\n",
        "e -0.569321 -0.062699 -0.571470\n",
        "f -0.005959 -1.003286 -0.684225\n",
        "h  0.845205 -0.064990 -0.360579"
       ]
      }
     ],
     "prompt_number": 5
    },
    {
     "cell_type": "code",
     "collapsed": false,
     "input": [
      "hr"
     ],
     "language": "python",
     "metadata": {},
     "outputs": [
      {
       "metadata": {},
       "output_type": "pyout",
       "prompt_number": 6,
       "text": [
        "'------------------------------------------------------------------------------------------------------------------------'"
       ]
      }
     ],
     "prompt_number": 6
    },
    {
     "cell_type": "code",
     "collapsed": false,
     "input": [],
     "language": "python",
     "metadata": {},
     "outputs": []
    }
   ],
   "metadata": {}
  }
 ]
}