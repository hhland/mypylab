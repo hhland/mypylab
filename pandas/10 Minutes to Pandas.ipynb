{
 "metadata": {
  "name": "10 Minutes to Pandas"
 }, 
 "nbformat": 2, 
 "worksheets": [
  {
   "cells": [
    {
     "cell_type": "code", 
     "collapsed": true, 
     "input": [
      "import pandas as pd"
     ], 
     "language": "python", 
     "outputs": [], 
     "prompt_number": 2
    }, 
    {
     "cell_type": "code", 
     "collapsed": false, 
     "input": [
      "s=pd.Series([1,3,5,np.nan,6,8])", 
      "s"
     ], 
     "language": "python", 
     "outputs": [
      {
       "output_type": "pyout", 
       "prompt_number": 3, 
       "text": [
        "0     1", 
        "1     3", 
        "2     5", 
        "3   NaN", 
        "4     6", 
        "5     8", 
        "dtype: float64"
       ]
      }
     ], 
     "prompt_number": 3
    }, 
    {
     "cell_type": "code", 
     "collapsed": false, 
     "input": [
      "dates=pd.date_range(\"20140101\",periods=6)", 
      "print dates", 
      "df=pd.DataFrame(np.random.randn(6,4)", 
      "                ,index=dates", 
      "                ,columns=list(\"ABCD\")", 
      "                )", 
      "df"
     ], 
     "language": "python", 
     "outputs": [
      {
       "output_type": "stream", 
       "stream": "stdout", 
       "text": [
        "<class 'pandas.tseries.index.DatetimeIndex'>", 
        "[2014-01-01, ..., 2014-01-06]", 
        "Length: 6, Freq: D, Timezone: None"
       ]
      }, 
      {
       "html": [
        "<div style=\"max-height:1000px;max-width:1500px;overflow:auto;\">", 
        "<table border=\"1\" class=\"dataframe\">", 
        "  <thead>", 
        "    <tr style=\"text-align: right;\">", 
        "      <th></th>", 
        "      <th>A</th>", 
        "      <th>B</th>", 
        "      <th>C</th>", 
        "      <th>D</th>", 
        "    </tr>", 
        "  </thead>", 
        "  <tbody>", 
        "    <tr>", 
        "      <th>2014-01-01</th>", 
        "      <td>-1.873831</td>", 
        "      <td>-0.079470</td>", 
        "      <td>-0.133070</td>", 
        "      <td>-0.118827</td>", 
        "    </tr>", 
        "    <tr>", 
        "      <th>2014-01-02</th>", 
        "      <td>-1.592080</td>", 
        "      <td> 0.631610</td>", 
        "      <td>-0.026633</td>", 
        "      <td> 0.450696</td>", 
        "    </tr>", 
        "    <tr>", 
        "      <th>2014-01-03</th>", 
        "      <td>-0.827861</td>", 
        "      <td> 0.001350</td>", 
        "      <td>-1.528432</td>", 
        "      <td> 1.969970</td>", 
        "    </tr>", 
        "    <tr>", 
        "      <th>2014-01-04</th>", 
        "      <td>-0.462720</td>", 
        "      <td>-0.157258</td>", 
        "      <td> 0.017232</td>", 
        "      <td>-0.079664</td>", 
        "    </tr>", 
        "    <tr>", 
        "      <th>2014-01-05</th>", 
        "      <td>-0.369514</td>", 
        "      <td> 0.095845</td>", 
        "      <td> 0.696037</td>", 
        "      <td> 1.739377</td>", 
        "    </tr>", 
        "    <tr>", 
        "      <th>2014-01-06</th>", 
        "      <td>-1.554557</td>", 
        "      <td>-1.242039</td>", 
        "      <td>-0.778336</td>", 
        "      <td>-0.793267</td>", 
        "    </tr>", 
        "  </tbody>", 
        "</table>", 
        "<p>6 rows \u00d7 4 columns</p>", 
        "</div>"
       ], 
       "output_type": "pyout", 
       "prompt_number": 4, 
       "text": [
        "                   A         B         C         D", 
        "2014-01-01 -1.873831 -0.079470 -0.133070 -0.118827", 
        "2014-01-02 -1.592080  0.631610 -0.026633  0.450696", 
        "2014-01-03 -0.827861  0.001350 -1.528432  1.969970", 
        "2014-01-04 -0.462720 -0.157258  0.017232 -0.079664", 
        "2014-01-05 -0.369514  0.095845  0.696037  1.739377", 
        "2014-01-06 -1.554557 -1.242039 -0.778336 -0.793267", 
        "", 
        "[6 rows x 4 columns]"
       ]
      }
     ], 
     "prompt_number": 4
    }, 
    {
     "cell_type": "code", 
     "collapsed": false, 
     "input": [
      "df2=pd.DataFrame({\"A\":1.,", 
      "                  \"B\":pd.Timestamp(\"20130102\"),", 
      "                  \"C\":pd.Series(1,index=list(range(5)),dtype=\"float32\"),", 
      "                  \"D\":np.array([3]*5,dtype=\"int32\"),", 
      "                  \"E\":\"foo\"", 
      "                  })", 
      "df2"
     ], 
     "language": "python", 
     "outputs": [
      {
       "html": [
        "<div style=\"max-height:1000px;max-width:1500px;overflow:auto;\">", 
        "<table border=\"1\" class=\"dataframe\">", 
        "  <thead>", 
        "    <tr style=\"text-align: right;\">", 
        "      <th></th>", 
        "      <th>A</th>", 
        "      <th>B</th>", 
        "      <th>C</th>", 
        "      <th>D</th>", 
        "      <th>E</th>", 
        "    </tr>", 
        "  </thead>", 
        "  <tbody>", 
        "    <tr>", 
        "      <th>0</th>", 
        "      <td> 1</td>", 
        "      <td>2013-01-02</td>", 
        "      <td> 1</td>", 
        "      <td> 3</td>", 
        "      <td> foo</td>", 
        "    </tr>", 
        "    <tr>", 
        "      <th>1</th>", 
        "      <td> 1</td>", 
        "      <td>2013-01-02</td>", 
        "      <td> 1</td>", 
        "      <td> 3</td>", 
        "      <td> foo</td>", 
        "    </tr>", 
        "    <tr>", 
        "      <th>2</th>", 
        "      <td> 1</td>", 
        "      <td>2013-01-02</td>", 
        "      <td> 1</td>", 
        "      <td> 3</td>", 
        "      <td> foo</td>", 
        "    </tr>", 
        "    <tr>", 
        "      <th>3</th>", 
        "      <td> 1</td>", 
        "      <td>2013-01-02</td>", 
        "      <td> 1</td>", 
        "      <td> 3</td>", 
        "      <td> foo</td>", 
        "    </tr>", 
        "    <tr>", 
        "      <th>4</th>", 
        "      <td> 1</td>", 
        "      <td>2013-01-02</td>", 
        "      <td> 1</td>", 
        "      <td> 3</td>", 
        "      <td> foo</td>", 
        "    </tr>", 
        "  </tbody>", 
        "</table>", 
        "<p>5 rows \u00d7 5 columns</p>", 
        "</div>"
       ], 
       "output_type": "pyout", 
       "prompt_number": 12, 
       "text": [
        "   A          B  C  D    E", 
        "0  1 2013-01-02  1  3  foo", 
        "1  1 2013-01-02  1  3  foo", 
        "2  1 2013-01-02  1  3  foo", 
        "3  1 2013-01-02  1  3  foo", 
        "4  1 2013-01-02  1  3  foo", 
        "", 
        "[5 rows x 5 columns]"
       ]
      }
     ], 
     "prompt_number": 12
    }, 
    {
     "cell_type": "code", 
     "collapsed": true, 
     "input": [], 
     "language": "python", 
     "outputs": []
    }
   ]
  }
 ]
}