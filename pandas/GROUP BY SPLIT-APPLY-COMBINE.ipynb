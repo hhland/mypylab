{
 "metadata": {
  "name": "",
  "signature": "sha256:d499d1dbf569d5a0f23a95a416292dc8fbb614565d77521e1b859a2304dad53f"
 },
 "nbformat": 3,
 "nbformat_minor": 0,
 "worksheets": [
  {
   "cells": [
    {
     "cell_type": "code",
     "collapsed": false,
     "input": [
      "%pylab inline\n",
      "from pandas import *"
     ],
     "language": "python",
     "metadata": {},
     "outputs": [
      {
       "output_type": "stream",
       "stream": "stdout",
       "text": [
        "Populating the interactive namespace from numpy and matplotlib\n"
       ]
      }
     ],
     "prompt_number": 5
    },
    {
     "cell_type": "code",
     "collapsed": false,
     "input": [
      "hr=\"-------------------------------------------------------------------------------------------------------------------\"\n",
      "df = DataFrame({ \"A\": [ \"foo\", \"bar\", \"foo\", \"bar\",\n",
      "\"foo\", \"bar\", \"foo\", \"foo\"],\n",
      "\"B\": [ \"one\", \"one\", \"two\", \"three\",\n",
      "\"two\", \"two\", \"one\", \"three\"],\n",
      "\"C\": randn(8), \"D\": randn(8)})\n",
      "\n",
      "df"
     ],
     "language": "python",
     "metadata": {},
     "outputs": [
      {
       "html": [
        "<div style=\"max-height:1000px;max-width:1500px;overflow:auto;\">\n",
        "<table border=\"1\" class=\"dataframe\">\n",
        "  <thead>\n",
        "    <tr style=\"text-align: right;\">\n",
        "      <th></th>\n",
        "      <th>A</th>\n",
        "      <th>B</th>\n",
        "      <th>C</th>\n",
        "      <th>D</th>\n",
        "    </tr>\n",
        "  </thead>\n",
        "  <tbody>\n",
        "    <tr>\n",
        "      <th>0</th>\n",
        "      <td> foo</td>\n",
        "      <td>   one</td>\n",
        "      <td>-0.787439</td>\n",
        "      <td> 0.070363</td>\n",
        "    </tr>\n",
        "    <tr>\n",
        "      <th>1</th>\n",
        "      <td> bar</td>\n",
        "      <td>   one</td>\n",
        "      <td>-0.243807</td>\n",
        "      <td>-0.333560</td>\n",
        "    </tr>\n",
        "    <tr>\n",
        "      <th>2</th>\n",
        "      <td> foo</td>\n",
        "      <td>   two</td>\n",
        "      <td> 1.243341</td>\n",
        "      <td> 0.960001</td>\n",
        "    </tr>\n",
        "    <tr>\n",
        "      <th>3</th>\n",
        "      <td> bar</td>\n",
        "      <td> three</td>\n",
        "      <td>-1.924024</td>\n",
        "      <td>-0.150976</td>\n",
        "    </tr>\n",
        "    <tr>\n",
        "      <th>4</th>\n",
        "      <td> foo</td>\n",
        "      <td>   two</td>\n",
        "      <td> 0.587162</td>\n",
        "      <td> 0.199083</td>\n",
        "    </tr>\n",
        "    <tr>\n",
        "      <th>5</th>\n",
        "      <td> bar</td>\n",
        "      <td>   two</td>\n",
        "      <td>-0.047839</td>\n",
        "      <td> 0.217375</td>\n",
        "    </tr>\n",
        "    <tr>\n",
        "      <th>6</th>\n",
        "      <td> foo</td>\n",
        "      <td>   one</td>\n",
        "      <td> 0.297850</td>\n",
        "      <td>-0.055342</td>\n",
        "    </tr>\n",
        "    <tr>\n",
        "      <th>7</th>\n",
        "      <td> foo</td>\n",
        "      <td> three</td>\n",
        "      <td>-0.332475</td>\n",
        "      <td> 0.563083</td>\n",
        "    </tr>\n",
        "  </tbody>\n",
        "</table>\n",
        "</div>"
       ],
       "metadata": {},
       "output_type": "pyout",
       "prompt_number": 7,
       "text": [
        "     A      B         C         D\n",
        "0  foo    one -0.787439  0.070363\n",
        "1  bar    one -0.243807 -0.333560\n",
        "2  foo    two  1.243341  0.960001\n",
        "3  bar  three -1.924024 -0.150976\n",
        "4  foo    two  0.587162  0.199083\n",
        "5  bar    two -0.047839  0.217375\n",
        "6  foo    one  0.297850 -0.055342\n",
        "7  foo  three -0.332475  0.563083"
       ]
      }
     ],
     "prompt_number": 7
    },
    {
     "cell_type": "code",
     "collapsed": false,
     "input": [
      "df.groupby(\"A\").first(),hr,df.groupby([\"A\",\"B\"]).first()"
     ],
     "language": "python",
     "metadata": {},
     "outputs": [
      {
       "metadata": {},
       "output_type": "pyout",
       "prompt_number": 28,
       "text": [
        "(       B         C         D\n",
        " A                           \n",
        " bar  one -0.243807 -0.333560\n",
        " foo  one -0.787439  0.070363,\n",
        " '-------------------------------------------------------------------------------------------------------------------',\n",
        "                   C         D\n",
        " A   B                        \n",
        " bar one   -0.243807 -0.333560\n",
        "     three -1.924024 -0.150976\n",
        "     two   -0.047839  0.217375\n",
        " foo one   -0.787439  0.070363\n",
        "     three -0.332475  0.563083\n",
        "     two    1.243341  0.960001)"
       ]
      }
     ],
     "prompt_number": 28
    },
    {
     "cell_type": "code",
     "collapsed": false,
     "input": [
      "def get_letter_type(letter):\n",
      "    if letter.lower() in \"aeiou\":\n",
      "        return \"vowel\"\n",
      "    else:\n",
      "        return \"consonant\""
     ],
     "language": "python",
     "metadata": {},
     "outputs": [],
     "prompt_number": 11
    },
    {
     "cell_type": "code",
     "collapsed": false,
     "input": [
      "grouped = df.groupby(get_letter_type, axis=1)\n",
      "grouped.first()"
     ],
     "language": "python",
     "metadata": {},
     "outputs": [
      {
       "html": [
        "<div style=\"max-height:1000px;max-width:1500px;overflow:auto;\">\n",
        "<table border=\"1\" class=\"dataframe\">\n",
        "  <thead>\n",
        "    <tr style=\"text-align: right;\">\n",
        "      <th></th>\n",
        "      <th>consonant</th>\n",
        "      <th>vowel</th>\n",
        "    </tr>\n",
        "  </thead>\n",
        "  <tbody>\n",
        "    <tr>\n",
        "      <th>0</th>\n",
        "      <td>   one</td>\n",
        "      <td> foo</td>\n",
        "    </tr>\n",
        "    <tr>\n",
        "      <th>1</th>\n",
        "      <td>   one</td>\n",
        "      <td> bar</td>\n",
        "    </tr>\n",
        "    <tr>\n",
        "      <th>2</th>\n",
        "      <td>   two</td>\n",
        "      <td> foo</td>\n",
        "    </tr>\n",
        "    <tr>\n",
        "      <th>3</th>\n",
        "      <td> three</td>\n",
        "      <td> bar</td>\n",
        "    </tr>\n",
        "    <tr>\n",
        "      <th>4</th>\n",
        "      <td>   two</td>\n",
        "      <td> foo</td>\n",
        "    </tr>\n",
        "    <tr>\n",
        "      <th>5</th>\n",
        "      <td>   two</td>\n",
        "      <td> bar</td>\n",
        "    </tr>\n",
        "    <tr>\n",
        "      <th>6</th>\n",
        "      <td>   one</td>\n",
        "      <td> foo</td>\n",
        "    </tr>\n",
        "    <tr>\n",
        "      <th>7</th>\n",
        "      <td> three</td>\n",
        "      <td> foo</td>\n",
        "    </tr>\n",
        "  </tbody>\n",
        "</table>\n",
        "</div>"
       ],
       "metadata": {},
       "output_type": "pyout",
       "prompt_number": 19,
       "text": [
        "  consonant vowel\n",
        "0       one   foo\n",
        "1       one   bar\n",
        "2       two   foo\n",
        "3     three   bar\n",
        "4       two   foo\n",
        "5       two   bar\n",
        "6       one   foo\n",
        "7     three   foo"
       ]
      }
     ],
     "prompt_number": 19
    },
    {
     "cell_type": "code",
     "collapsed": false,
     "input": [
      "lst = [ 1, 2, 3, 1, 2, 3]\n",
      "s = Series([ 1, 2, 3, 10, 20, 30], lst)\n",
      "grouped = s.groupby(level=0)\n",
      "\n",
      "s,hr,grouped.first(),hr,grouped.last(),hr,grouped.sum()"
     ],
     "language": "python",
     "metadata": {},
     "outputs": [
      {
       "metadata": {},
       "output_type": "pyout",
       "prompt_number": 30,
       "text": [
        "(1     1\n",
        " 2     2\n",
        " 3     3\n",
        " 1    10\n",
        " 2    20\n",
        " 3    30\n",
        " dtype: int64,\n",
        " '-------------------------------------------------------------------------------------------------------------------',\n",
        " 1    1\n",
        " 2    2\n",
        " 3    3\n",
        " dtype: int64,\n",
        " '-------------------------------------------------------------------------------------------------------------------',\n",
        " 1    10\n",
        " 2    20\n",
        " 3    30\n",
        " dtype: int64,\n",
        " '-------------------------------------------------------------------------------------------------------------------',\n",
        " 1    11\n",
        " 2    22\n",
        " 3    33\n",
        " dtype: int64)"
       ]
      }
     ],
     "prompt_number": 30
    },
    {
     "cell_type": "code",
     "collapsed": false,
     "input": [
      "df.groupby(\"A\").groups,hr,df.groupby(get_letter_type, axis=1).groups"
     ],
     "language": "python",
     "metadata": {},
     "outputs": [
      {
       "metadata": {},
       "output_type": "pyout",
       "prompt_number": 32,
       "text": [
        "({'bar': [1, 3, 5], 'foo': [0, 2, 4, 6, 7]},\n",
        " '-------------------------------------------------------------------------------------------------------------------',\n",
        " {'consonant': ['B', 'C', 'D'], 'vowel': ['A']})"
       ]
      }
     ],
     "prompt_number": 32
    },
    {
     "cell_type": "code",
     "collapsed": false,
     "input": [
      "grouped = df.groupby([\"A\", \"B\" ])\n",
      "\n",
      "grouped.groups"
     ],
     "language": "python",
     "metadata": {},
     "outputs": [
      {
       "metadata": {},
       "output_type": "pyout",
       "prompt_number": 33,
       "text": [
        "{('bar', 'one'): [1],\n",
        " ('bar', 'three'): [3],\n",
        " ('bar', 'two'): [5],\n",
        " ('foo', 'one'): [0, 6],\n",
        " ('foo', 'three'): [7],\n",
        " ('foo', 'two'): [2, 4]}"
       ]
      }
     ],
     "prompt_number": 33
    },
    {
     "cell_type": "code",
     "collapsed": false,
     "input": [
      "df2 = DataFrame({ \"X\": [ \"B\", \"B\", \"A\", \"A\"], \"Y\": [ 1, 2, 3, 4]})\n",
      "df2,hr,df2.groupby([ \"X\" ], sort=True).sum(),hr,df2.groupby([ \"X\" ], sort=False).sum()"
     ],
     "language": "python",
     "metadata": {},
     "outputs": [
      {
       "metadata": {},
       "output_type": "pyout",
       "prompt_number": 36,
       "text": [
        "(   X  Y\n",
        " 0  B  1\n",
        " 1  B  2\n",
        " 2  A  3\n",
        " 3  A  4,\n",
        " '-------------------------------------------------------------------------------------------------------------------',\n",
        "    Y\n",
        " X   \n",
        " A  7\n",
        " B  3,\n",
        " '-------------------------------------------------------------------------------------------------------------------',\n",
        "    Y\n",
        " X   \n",
        " B  3\n",
        " A  7)"
       ]
      }
     ],
     "prompt_number": 36
    },
    {
     "cell_type": "markdown",
     "metadata": {},
     "source": [
      "#GroupBy with MultiIndex"
     ]
    },
    {
     "cell_type": "code",
     "collapsed": false,
     "input": [
      "arrays = [np.array([ \"bar\", \"bar\", \"baz\", \"baz\", \"foo\", \"foo\", \"qux\", \"qux\"]),\n",
      "       np.array([ \"one\", \"two\", \"one\", \"two\", \"one\", \"two\", \"one\", \"two\"])]\n",
      "\n",
      "tuples=list(zip(*arrays))\n",
      "\n",
      "indexs=MultiIndex.from_tuples(tuples,names=[\"first\",\"second\"])\n",
      "\n",
      "s = Series(randn(8), index=indexs)\n",
      "\n",
      "arrays,hr,tuples,s"
     ],
     "language": "python",
     "metadata": {},
     "outputs": [
      {
       "metadata": {},
       "output_type": "pyout",
       "prompt_number": 57,
       "text": [
        "([array(['bar', 'bar', 'baz', 'baz', 'foo', 'foo', 'qux', 'qux'], \n",
        "        dtype='|S3'),\n",
        "  array(['one', 'two', 'one', 'two', 'one', 'two', 'one', 'two'], \n",
        "        dtype='|S3')],\n",
        " '-------------------------------------------------------------------------------------------------------------------',\n",
        " [('bar', 'one'),\n",
        "  ('bar', 'two'),\n",
        "  ('baz', 'one'),\n",
        "  ('baz', 'two'),\n",
        "  ('foo', 'one'),\n",
        "  ('foo', 'two'),\n",
        "  ('qux', 'one'),\n",
        "  ('qux', 'two')],\n",
        " first  second\n",
        " bar    one      -0.885662\n",
        "        two       0.198038\n",
        " baz    one      -0.047641\n",
        "        two      -0.718301\n",
        " foo    one       0.668389\n",
        "        two       0.908580\n",
        " qux    one       0.043383\n",
        "        two      -1.410445\n",
        " dtype: float64)"
       ]
      }
     ],
     "prompt_number": 57
    },
    {
     "cell_type": "code",
     "collapsed": false,
     "input": [
      "grouped = s.groupby(level=0)\n",
      "\n",
      "grouped.all(),hr,grouped.sum()"
     ],
     "language": "python",
     "metadata": {},
     "outputs": [
      {
       "metadata": {},
       "output_type": "pyout",
       "prompt_number": 58,
       "text": [
        "(first\n",
        " bar      True\n",
        " baz      True\n",
        " foo      True\n",
        " qux      True\n",
        " dtype: bool,\n",
        " '-------------------------------------------------------------------------------------------------------------------',\n",
        " first\n",
        " bar     -0.687624\n",
        " baz     -0.765942\n",
        " foo      1.576969\n",
        " qux     -1.367062\n",
        " dtype: float64)"
       ]
      }
     ],
     "prompt_number": 58
    },
    {
     "cell_type": "code",
     "collapsed": false,
     "input": [
      "s.sum(level=\"second\" )"
     ],
     "language": "python",
     "metadata": {},
     "outputs": [
      {
       "metadata": {},
       "output_type": "pyout",
       "prompt_number": 59,
       "text": [
        "second\n",
        "one      -0.221531\n",
        "two      -1.022128\n",
        "dtype: float64"
       ]
      }
     ],
     "prompt_number": 59
    },
    {
     "cell_type": "code",
     "collapsed": false,
     "input": [],
     "language": "python",
     "metadata": {},
     "outputs": []
    }
   ],
   "metadata": {}
  }
 ]
}