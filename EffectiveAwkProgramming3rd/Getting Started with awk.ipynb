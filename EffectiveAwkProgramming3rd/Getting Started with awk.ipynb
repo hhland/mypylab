{
 "metadata": {
  "name": "",
  "signature": "sha256:feace6df35e0ee213f8da96048072970e6bf2d15a988d088f829c83c7d1e1526"
 },
 "nbformat": 3,
 "nbformat_minor": 0,
 "worksheets": [
  {
   "cells": [
    {
     "cell_type": "code",
     "collapsed": false,
     "input": [
      "%pylab inline"
     ],
     "language": "python",
     "metadata": {},
     "outputs": [
      {
       "output_type": "stream",
       "stream": "stdout",
       "text": [
        "Populating the interactive namespace from numpy and matplotlib\n"
       ]
      }
     ],
     "prompt_number": 1
    },
    {
     "cell_type": "code",
     "collapsed": false,
     "input": [
      "!awk \"BEGIN { print \\\"Don't Panic! \\\" }\"\n",
      "!ls -l | awk '{print $$1}' "
     ],
     "language": "python",
     "metadata": {},
     "outputs": [
      {
       "output_type": "stream",
       "stream": "stdout",
       "text": [
        "Don't Panic! \r\n"
       ]
      },
      {
       "output_type": "stream",
       "stream": "stdout",
       "text": [
        "total 8\r\n",
        "-rw-r--r-- 1 root root 784 Dec  9 09:42 Getting Started with awk.ipynb\r\n",
        "-rw-r--r-- 1 root root 181 Dec  9 09:42 Regular Expressions .ipynb\r\n"
       ]
      }
     ],
     "prompt_number": 3
    },
    {
     "cell_type": "code",
     "collapsed": false,
     "input": [],
     "language": "python",
     "metadata": {},
     "outputs": []
    }
   ],
   "metadata": {}
  }
 ]
}