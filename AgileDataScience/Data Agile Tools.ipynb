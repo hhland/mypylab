{
 "metadata": {
  "name": "",
  "signature": "sha256:0a3d367c2f1f143898650f76876ec519670756919e2cd7916b492b86c137a3ad"
 },
 "nbformat": 3,
 "nbformat_minor": 0,
 "worksheets": [
  {
   "cells": [
    {
     "cell_type": "code",
     "collapsed": false,
     "input": [
      "%pylab inline\n",
      "import pprint\n",
      "from avro import schema,datafile,io\n",
      "import imaplib"
     ],
     "language": "python",
     "metadata": {},
     "outputs": [
      {
       "output_type": "stream",
       "stream": "stdout",
       "text": [
        "Populating the interactive namespace from numpy and matplotlib\n"
       ]
      },
      {
       "output_type": "stream",
       "stream": "stderr",
       "text": [
        "WARNING: pylab import has clobbered these variables: ['record']\n",
        "`%matplotlib` prevents importing * from pylab and numpy\n"
       ]
      }
     ],
     "prompt_number": 26
    },
    {
     "cell_type": "code",
     "collapsed": false,
     "input": [
      "OUTFILE_NAME = 'tmp/messages.avro'\n",
      "SCHEMA_STR = \"\"\"{\n",
      " \"type\": \"record\",\n",
      " \"name\": \"Message\",\n",
      " \"fields\" : [\n",
      " {\"name\": \"message_id\", \"type\": \"int\"},\n",
      "{\"name\": \"topic\", \"type\": \"string\"},\n",
      " {\"name\": \"user_id\", \"type\": \"int\"}\n",
      " ]\n",
      "}\"\"\"\n",
      "SCHEMA = schema.parse(SCHEMA_STR)\n",
      "# Create a 'record' (datum) writer\n",
      "rec_writer = io.DatumWriter(SCHEMA)\n",
      "# Create a 'data file' (avro file) writer\n",
      "df_writer = datafile.DataFileWriter(open(OUTFILE_NAME, 'wb' ),rec_writer,writers_schema = SCHEMA)\n",
      "df_writer.append( {\"message_id\" : 11, \"topic\" : \"Hello galaxy\" , \"user_id\" : 1} )\n",
      "df_writer.append( {\"message_id\" : 12, \"topic\" : \"Jim is silly!\" , \"user_id\" : 1} )\n",
      "df_writer.append( {\"message_id\" : 23, \"topic\" : \"I like apples.\" , \"user_id\" : 2} )\n",
      "df_writer.close()"
     ],
     "language": "python",
     "metadata": {},
     "outputs": [],
     "prompt_number": 18
    },
    {
     "cell_type": "code",
     "collapsed": false,
     "input": [
      "\n",
      "\n",
      "# Test reading avros\n",
      "rec_reader = io.DatumReader()\n",
      "# Create a 'data file' (avro file) reader\n",
      "df_reader = datafile.DataFileReader(\n",
      " open(OUTFILE_NAME),\n",
      " rec_reader\n",
      ")\n",
      "# Read all records stored inside\n",
      "pp = pprint.PrettyPrinter()\n",
      "\n",
      "for record in df_reader:\n",
      "    pp.pprint(record)"
     ],
     "language": "python",
     "metadata": {},
     "outputs": [
      {
       "output_type": "stream",
       "stream": "stdout",
       "text": [
        "{u'message_id': 11, u'topic': u'Hello galaxy', u'user_id': 1}\n",
        "{u'message_id': 12, u'topic': u'Jim is silly!', u'user_id': 1}\n",
        "{u'message_id': 23, u'topic': u'I like apples.', u'user_id': 2}\n"
       ]
      }
     ],
     "prompt_number": 19
    },
    {
     "cell_type": "code",
     "collapsed": false,
     "input": [
      "%%file tmp/email.avro.schema\n",
      "{\n",
      " \"type\":\"record\",\n",
      " \"name\":\"Email\",\n",
      " \"fields\":[\n",
      " { \"name\":\"message_id\", \"type\":[\"null\",\"string\"] },\n",
      " { \"name\":\"thread_id\", \"type\":[\"null\",\"string\"] },\n",
      " { \"name\":\"in_reply_to\",\"type\":[\"string\",\"null\"] },\n",
      " { \"name\":\"subject\", \"type\":[\"string\",\"null\"] },\n",
      " { \"name\":\"body\", \"type\":[\"string\",\"null\"] },\n",
      " { \"name\":\"date\", \"type\":[\"string\",\"null\"] },\n",
      " {\n",
      " \"name\":\"from\",\n",
      " \"type\":\n",
      " {\n",
      " \"type\":\"record\",\"name\":\"from\",\n",
      " \"fields\":[\n",
      " { \"name\":\"real_name\", \"type\":[\"null\",\"string\"] },\n",
      " { \"name\":\"address\", \"type\":[\"null\",\"string\"] }\n",
      " ] }\n",
      " },\n",
      " {\n",
      " \"name\":\"tos\",\n",
      " \"type\":[\n",
      " \"null\",\n",
      " {\n",
      " \"type\":\"array\",\n",
      " \"items\":[\n",
      " \"null\",\n",
      " {\n",
      " \"type\":\"record\",\"name\":\"to\",\n",
      "\"fields\":[\n",
      " { \"name\":\"real_name\", \"type\":[\"null\",\"string\"] },\n",
      " { \"name\":\"address\", \"type\":[\"null\",\"string\"] }\n",
      " ] } ] } ]\n",
      " },\n",
      " {\n",
      " \"name\":\"ccs\",\n",
      " \"type\":[\n",
      " \"null\",\n",
      " {\n",
      " \"type\":\"array\",\n",
      " \"items\":[\n",
      " \"null\",\n",
      " {\n",
      " \"type\":\"record\",\"name\":\"cc\",\n",
      " \"fields\":[\n",
      " { \"name\":\"real_name\", \"type\":[\"null\",\"string\"] },\n",
      " { \"name\":\"address\", \"type\":[\"null\",\"string\"] }\n",
      " ] } ] } ]\n",
      " },\n",
      " {\n",
      " \"name\":\"bccs\",\n",
      " \"type\":[\n",
      " \"null\",\n",
      " {\n",
      " \"type\":\"array\",\n",
      " \"items\":[\n",
      " \"null\",\n",
      " {\n",
      " \"type\":\"record\",\"name\":\"bcc\",\n",
      " \"fields\":[\n",
      " { \"name\":\"real_name\", \"type\":[\"null\",\"string\"] },\n",
      " { \"name\":\"address\", \"type\":[\"null\",\"string\"] }\n",
      " ] } ] } ]\n",
      " },\n",
      " {\n",
      " \"name\":\"reply_tos\",\n",
      " \"type\":[\n",
      " \"null\",\n",
      " {\n",
      " \"type\":\"array\",\n",
      " \"items\":[\n",
      " \"null\",\n",
      " {\n",
      " \"type\":\"record\",\"name\":\"reply_to\",\n",
      " \"fields\":[\n",
      " { \"name\":\"real_name\", \"type\":[\"null\",\"string\"] },\n",
      " { \"name\":\"address\", \"type\":[\"null\",\"string\"] }\n",
      " ] } ] } ] }\n",
      " ]\n",
      " }"
     ],
     "language": "python",
     "metadata": {},
     "outputs": [
      {
       "output_type": "stream",
       "stream": "stdout",
       "text": [
        "Writing tmp/email.avro.schema\n"
       ]
      }
     ],
     "prompt_number": 20
    },
    {
     "cell_type": "code",
     "collapsed": false,
     "input": [
      "#Collecting Data\n",
      "def init_imap(username, password, folder):\n",
      "    imap = imaplib.IMAP4_SSL('imap.gmail.com' , 993)\n",
      "    imap.login(username, password)\n",
      "    status, count = imap.select(folder)\n",
      "    return imap, count\n",
      "\n",
      "username,password=\"hhlin54133\",\"chipchina0\"\n",
      "\n",
      "init_imap(username,password,\"gmail\")"
     ],
     "language": "python",
     "metadata": {},
     "outputs": [
      {
       "ename": "error",
       "evalue": "[ALERT] Please log in via your web browser: http://support.google.com/mail/accounts/bin/answer.py?answer=78754 (Failure)",
       "output_type": "pyerr",
       "traceback": [
        "\u001b[1;31m---------------------------------------------------------------------------\u001b[0m\n\u001b[1;31merror\u001b[0m                                     Traceback (most recent call last)",
        "\u001b[1;32m<ipython-input-28-46196d853b5f>\u001b[0m in \u001b[0;36m<module>\u001b[1;34m()\u001b[0m\n\u001b[0;32m      8\u001b[0m \u001b[0musername\u001b[0m\u001b[1;33m,\u001b[0m\u001b[0mpassword\u001b[0m\u001b[1;33m=\u001b[0m\u001b[1;34m\"hhlin54133\"\u001b[0m\u001b[1;33m,\u001b[0m\u001b[1;34m\"chipchina0\"\u001b[0m\u001b[1;33m\u001b[0m\u001b[0m\n\u001b[0;32m      9\u001b[0m \u001b[1;33m\u001b[0m\u001b[0m\n\u001b[1;32m---> 10\u001b[1;33m \u001b[0minit_imap\u001b[0m\u001b[1;33m(\u001b[0m\u001b[0musername\u001b[0m\u001b[1;33m,\u001b[0m\u001b[0mpassword\u001b[0m\u001b[1;33m,\u001b[0m\u001b[1;34m\"gmail\"\u001b[0m\u001b[1;33m)\u001b[0m\u001b[1;33m\u001b[0m\u001b[0m\n\u001b[0m",
        "\u001b[1;32m<ipython-input-28-46196d853b5f>\u001b[0m in \u001b[0;36minit_imap\u001b[1;34m(username, password, folder)\u001b[0m\n\u001b[0;32m      2\u001b[0m \u001b[1;32mdef\u001b[0m \u001b[0minit_imap\u001b[0m\u001b[1;33m(\u001b[0m\u001b[0musername\u001b[0m\u001b[1;33m,\u001b[0m \u001b[0mpassword\u001b[0m\u001b[1;33m,\u001b[0m \u001b[0mfolder\u001b[0m\u001b[1;33m)\u001b[0m\u001b[1;33m:\u001b[0m\u001b[1;33m\u001b[0m\u001b[0m\n\u001b[0;32m      3\u001b[0m     \u001b[0mimap\u001b[0m \u001b[1;33m=\u001b[0m \u001b[0mimaplib\u001b[0m\u001b[1;33m.\u001b[0m\u001b[0mIMAP4_SSL\u001b[0m\u001b[1;33m(\u001b[0m\u001b[1;34m'imap.gmail.com'\u001b[0m \u001b[1;33m,\u001b[0m \u001b[1;36m993\u001b[0m\u001b[1;33m)\u001b[0m\u001b[1;33m\u001b[0m\u001b[0m\n\u001b[1;32m----> 4\u001b[1;33m     \u001b[0mimap\u001b[0m\u001b[1;33m.\u001b[0m\u001b[0mlogin\u001b[0m\u001b[1;33m(\u001b[0m\u001b[0musername\u001b[0m\u001b[1;33m,\u001b[0m \u001b[0mpassword\u001b[0m\u001b[1;33m)\u001b[0m\u001b[1;33m\u001b[0m\u001b[0m\n\u001b[0m\u001b[0;32m      5\u001b[0m     \u001b[0mstatus\u001b[0m\u001b[1;33m,\u001b[0m \u001b[0mcount\u001b[0m \u001b[1;33m=\u001b[0m \u001b[0mimap\u001b[0m\u001b[1;33m.\u001b[0m\u001b[0mselect\u001b[0m\u001b[1;33m(\u001b[0m\u001b[0mfolder\u001b[0m\u001b[1;33m)\u001b[0m\u001b[1;33m\u001b[0m\u001b[0m\n\u001b[0;32m      6\u001b[0m     \u001b[1;32mreturn\u001b[0m \u001b[0mimap\u001b[0m\u001b[1;33m,\u001b[0m \u001b[0mcount\u001b[0m\u001b[1;33m\u001b[0m\u001b[0m\n",
        "\u001b[1;32m/usr/lib/python2.7/imaplib.pyc\u001b[0m in \u001b[0;36mlogin\u001b[1;34m(self, user, password)\u001b[0m\n\u001b[0;32m    505\u001b[0m         \u001b[0mtyp\u001b[0m\u001b[1;33m,\u001b[0m \u001b[0mdat\u001b[0m \u001b[1;33m=\u001b[0m \u001b[0mself\u001b[0m\u001b[1;33m.\u001b[0m\u001b[0m_simple_command\u001b[0m\u001b[1;33m(\u001b[0m\u001b[1;34m'LOGIN'\u001b[0m\u001b[1;33m,\u001b[0m \u001b[0muser\u001b[0m\u001b[1;33m,\u001b[0m \u001b[0mself\u001b[0m\u001b[1;33m.\u001b[0m\u001b[0m_quote\u001b[0m\u001b[1;33m(\u001b[0m\u001b[0mpassword\u001b[0m\u001b[1;33m)\u001b[0m\u001b[1;33m)\u001b[0m\u001b[1;33m\u001b[0m\u001b[0m\n\u001b[0;32m    506\u001b[0m         \u001b[1;32mif\u001b[0m \u001b[0mtyp\u001b[0m \u001b[1;33m!=\u001b[0m \u001b[1;34m'OK'\u001b[0m\u001b[1;33m:\u001b[0m\u001b[1;33m\u001b[0m\u001b[0m\n\u001b[1;32m--> 507\u001b[1;33m             \u001b[1;32mraise\u001b[0m \u001b[0mself\u001b[0m\u001b[1;33m.\u001b[0m\u001b[0merror\u001b[0m\u001b[1;33m(\u001b[0m\u001b[0mdat\u001b[0m\u001b[1;33m[\u001b[0m\u001b[1;33m-\u001b[0m\u001b[1;36m1\u001b[0m\u001b[1;33m]\u001b[0m\u001b[1;33m)\u001b[0m\u001b[1;33m\u001b[0m\u001b[0m\n\u001b[0m\u001b[0;32m    508\u001b[0m         \u001b[0mself\u001b[0m\u001b[1;33m.\u001b[0m\u001b[0mstate\u001b[0m \u001b[1;33m=\u001b[0m \u001b[1;34m'AUTH'\u001b[0m\u001b[1;33m\u001b[0m\u001b[0m\n\u001b[0;32m    509\u001b[0m         \u001b[1;32mreturn\u001b[0m \u001b[0mtyp\u001b[0m\u001b[1;33m,\u001b[0m \u001b[0mdat\u001b[0m\u001b[1;33m\u001b[0m\u001b[0m\n",
        "\u001b[1;31merror\u001b[0m: [ALERT] Please log in via your web browser: http://support.google.com/mail/accounts/bin/answer.py?answer=78754 (Failure)"
       ]
      }
     ],
     "prompt_number": 28
    },
    {
     "cell_type": "code",
     "collapsed": false,
     "input": [],
     "language": "python",
     "metadata": {},
     "outputs": [
      {
       "output_type": "stream",
       "stream": "stdout",
       "text": [
        "Downloading/unpacking imaplib"
       ]
      },
      {
       "output_type": "stream",
       "stream": "stdout",
       "text": [
        "\r\n"
       ]
      },
      {
       "output_type": "stream",
       "stream": "stdout",
       "text": [
        "  Cannot fetch index base URL http://pypi.python.org/simple/\r\n",
        "  Could not find any downloads that satisfy the requirement imaplib\r\n",
        "No distributions at all found for imaplib\r\n",
        "Storing complete log in /root/.pip/pip.log\r\n"
       ]
      }
     ],
     "prompt_number": 25
    },
    {
     "cell_type": "code",
     "collapsed": false,
     "input": [],
     "language": "python",
     "metadata": {},
     "outputs": []
    }
   ],
   "metadata": {}
  }
 ]
}