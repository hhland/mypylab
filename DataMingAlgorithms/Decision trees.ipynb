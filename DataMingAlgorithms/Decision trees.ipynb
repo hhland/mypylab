{
 "metadata": {
  "name": "",
  "signature": "sha256:b1849a8d07b90b5fdce91d3ca7a23809143e5d6f7ccbcb757694cecd30200432"
 },
 "nbformat": 3,
 "nbformat_minor": 0,
 "worksheets": [
  {
   "cells": [
    {
     "cell_type": "code",
     "collapsed": false,
     "input": [
      "%pylab inline\n",
      "%load_ext rmagic"
     ],
     "language": "python",
     "metadata": {},
     "outputs": [
      {
       "output_type": "stream",
       "stream": "stdout",
       "text": [
        "Populating the interactive namespace from numpy and matplotlib\n"
       ]
      }
     ],
     "prompt_number": 1
    },
    {
     "cell_type": "code",
     "collapsed": false,
     "input": [
      "%%R\n",
      "#library(dmr.claseval)\n",
      "library(rpart)\n",
      "library(rpart.plot)\n",
      "library(lattice)\n",
      "\n",
      "data(weather,package=\"dmr.data\")\n",
      "data(weatherc,package=\"dmr.data\")\n"
     ],
     "language": "python",
     "metadata": {},
     "outputs": [
      {
       "output_type": "stream",
       "stream": "stdout",
       "text": [
        "Error in find.package(package, lib.loc, verbose = verbose) : \n",
        "  there is no package called \u2018dmr.data\u2019\n"
       ]
      }
     ],
     "prompt_number": 5
    },
    {
     "cell_type": "code",
     "collapsed": false,
     "input": [],
     "language": "python",
     "metadata": {},
     "outputs": []
    }
   ],
   "metadata": {}
  }
 ]
}