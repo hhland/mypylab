{
 "metadata": {
  "name": "",
  "signature": "sha256:270a97de4cc03bb8e8c9c880bce0c68992d24955a94968dbf82eaabd455f0938"
 },
 "nbformat": 3,
 "nbformat_minor": 0,
 "worksheets": [
  {
   "cells": [
    {
     "cell_type": "code",
     "collapsed": false,
     "input": [
      "!rm follow_the_cryptocurrency.ipynb"
     ],
     "language": "python",
     "metadata": {},
     "outputs": [],
     "prompt_number": 1
    },
    {
     "cell_type": "code",
     "collapsed": false,
     "input": [
      "!wget http://graphlab.com/learn/notebooks/follow_the_cryptocurrency.ipynb"
     ],
     "language": "python",
     "metadata": {},
     "outputs": [
      {
       "output_type": "stream",
       "stream": "stdout",
       "text": [
        "--2014-08-09 13:34:53--  http://graphlab.com/learn/notebooks/follow_the_cryptocurrency.ipynb\r\n",
        "Resolving graphlab.com (graphlab.com)... 173.236.184.59\r\n",
        "Connecting to graphlab.com (graphlab.com)|173.236.184.59|:80... "
       ]
      },
      {
       "output_type": "stream",
       "stream": "stdout",
       "text": [
        "connected.\r\n",
        "HTTP request sent, awaiting response... "
       ]
      },
      {
       "output_type": "stream",
       "stream": "stdout",
       "text": [
        "200 OK\r\n",
        "Length: 2005385 (1.9M) [text/plain]\r\n",
        "Saving to: `follow_the_cryptocurrency.ipynb'\r\n",
        "\r\n",
        "\r",
        " 0% [                                       ] 0           --.-K/s              "
       ]
      },
      {
       "output_type": "stream",
       "stream": "stdout",
       "text": [
        "\r",
        " 0% [                                       ] 11,370      53.9K/s              "
       ]
      },
      {
       "output_type": "stream",
       "stream": "stdout",
       "text": [
        "\r",
        " 1% [                                       ] 23,400      55.5K/s              "
       ]
      },
      {
       "output_type": "stream",
       "stream": "stdout",
       "text": [
        "\r",
        " 2% [                                       ] 41,244      65.3K/s              "
       ]
      },
      {
       "output_type": "stream",
       "stream": "stdout",
       "text": [
        "\r",
        " 3% [>                                      ] 62,900      74.9K/s              "
       ]
      },
      {
       "output_type": "stream",
       "stream": "stdout",
       "text": [
        "\r",
        " 4% [>                                      ] 97,128      92.5K/s              "
       ]
      },
      {
       "output_type": "stream",
       "stream": "stdout",
       "text": [
        "\r",
        " 5% [=>                                     ] 109,416     87.2K/s              "
       ]
      },
      {
       "output_type": "stream",
       "stream": "stdout",
       "text": [
        "\r",
        " 7% [=>                                     ] 140,724     96.3K/s              "
       ]
      },
      {
       "output_type": "stream",
       "stream": "stdout",
       "text": [
        "\r",
        " 7% [==>                                    ] 155,648     93.4K/s              "
       ]
      },
      {
       "output_type": "stream",
       "stream": "stdout",
       "text": [
        "\r",
        " 8% [==>                                    ] 176,088     94.0K/s              "
       ]
      },
      {
       "output_type": "stream",
       "stream": "stdout",
       "text": [
        "\r",
        "10% [==>                                    ] 202,164     97.2K/s              "
       ]
      },
      {
       "output_type": "stream",
       "stream": "stdout",
       "text": [
        "\r",
        "11% [===>                                   ] 224,104     97.9K/s              "
       ]
      },
      {
       "output_type": "stream",
       "stream": "stdout",
       "text": [
        "\r",
        "12% [===>                                   ] 251,316      101K/s              "
       ]
      },
      {
       "output_type": "stream",
       "stream": "stdout",
       "text": [
        "\r",
        "14% [====>                                  ] 282,908      104K/s              "
       ]
      },
      {
       "output_type": "stream",
       "stream": "stdout",
       "text": [
        "\r",
        "14% [====>                                  ] 299,008      100K/s              "
       ]
      },
      {
       "output_type": "stream",
       "stream": "stdout",
       "text": [
        "\r",
        "16% [=====>                                 ] 323,584     98.8K/s  eta 17s     "
       ]
      },
      {
       "output_type": "stream",
       "stream": "stdout",
       "text": [
        "\r",
        "17% [=====>                                 ] 341,996     95.3K/s  eta 17s     "
       ]
      },
      {
       "output_type": "stream",
       "stream": "stdout",
       "text": [
        "\r",
        "18% [======>                                ] 364,544     93.4K/s  eta 17s     "
       ]
      },
      {
       "output_type": "stream",
       "stream": "stdout",
       "text": [
        "\r",
        "18% [======>                                ] 377,116     89.0K/s  eta 17s     "
       ]
      },
      {
       "output_type": "stream",
       "stream": "stdout",
       "text": [
        "\r",
        "19% [======>                                ] 386,444     84.0K/s  eta 19s     "
       ]
      },
      {
       "output_type": "stream",
       "stream": "stdout",
       "text": [
        "\r",
        "19% [======>                                ] 394,636     79.3K/s  eta 19s     "
       ]
      },
      {
       "output_type": "stream",
       "stream": "stdout",
       "text": [
        "\r",
        "20% [======>                                ] 406,884     76.8K/s  eta 19s     "
       ]
      },
      {
       "output_type": "stream",
       "stream": "stdout",
       "text": [
        "\r",
        "21% [=======>                               ] 428,784     70.6K/s  eta 22s     "
       ]
      },
      {
       "output_type": "stream",
       "stream": "stdout",
       "text": [
        "\r",
        "22% [=======>                               ] 442,816     63.1K/s  eta 22s     "
       ]
      },
      {
       "output_type": "stream",
       "stream": "stdout",
       "text": [
        "\r",
        "22% [=======>                               ] 450,684     59.1K/s  eta 25s     "
       ]
      },
      {
       "output_type": "stream",
       "stream": "stdout",
       "text": [
        "\r",
        "22% [=======>                               ] 453,604     53.0K/s  eta 25s     "
       ]
      },
      {
       "output_type": "stream",
       "stream": "stdout",
       "text": [
        "\r",
        "22% [=======>                               ] 460,904     49.0K/s  eta 28s     "
       ]
      },
      {
       "output_type": "stream",
       "stream": "stdout",
       "text": [
        "\r",
        "23% [========>                              ] 465,284     44.6K/s  eta 28s     "
       ]
      },
      {
       "output_type": "stream",
       "stream": "stdout",
       "text": [
        "\r",
        "23% [========>                              ] 466,744     42.1K/s  eta 28s     "
       ]
      },
      {
       "output_type": "stream",
       "stream": "stdout",
       "text": [
        "\r",
        "23% [========>                              ] 474,936     38.2K/s  eta 30s     "
       ]
      },
      {
       "output_type": "stream",
       "stream": "stdout",
       "text": [
        "\r",
        "23% [========>                              ] 479,884     35.1K/s  eta 30s     "
       ]
      },
      {
       "output_type": "stream",
       "stream": "stdout",
       "text": [
        "\r",
        "24% [========>                              ] 487,184     32.8K/s  eta 30s     "
       ]
      },
      {
       "output_type": "stream",
       "stream": "stdout",
       "text": [
        "\r",
        "24% [========>                              ] 488,644     29.2K/s  eta 30s     "
       ]
      },
      {
       "output_type": "stream",
       "stream": "stdout",
       "text": [
        "\r",
        "24% [========>                              ] 493,024     26.5K/s  eta 35s     "
       ]
      },
      {
       "output_type": "stream",
       "stream": "stdout",
       "text": [
        "\r",
        "25% [========>                              ] 503,244     22.4K/s  eta 35s     "
       ]
      },
      {
       "output_type": "stream",
       "stream": "stdout",
       "text": [
        "\r",
        "25% [========>                              ] 507,624     20.1K/s  eta 35s     "
       ]
      },
      {
       "output_type": "stream",
       "stream": "stdout",
       "text": [
        "\r",
        "25% [========>                              ] 510,544     18.4K/s  eta 36s     "
       ]
      },
      {
       "output_type": "stream",
       "stream": "stdout",
       "text": [
        "\r",
        "25% [=========>                             ] 516,384     16.6K/s  eta 36s     "
       ]
      },
      {
       "output_type": "stream",
       "stream": "stdout",
       "text": [
        "\r",
        "25% [=========>                             ] 520,764     15.7K/s  eta 36s     "
       ]
      },
      {
       "output_type": "stream",
       "stream": "stdout",
       "text": [
        "\r",
        "26% [=========>                             ] 528,064     15.0K/s  eta 38s     "
       ]
      },
      {
       "output_type": "stream",
       "stream": "stdout",
       "text": [
        "\r",
        "26% [=========>                             ] 535,364     15.0K/s  eta 38s     "
       ]
      },
      {
       "output_type": "stream",
       "stream": "stdout",
       "text": [
        "\r",
        "26% [=========>                             ] 536,824     14.0K/s  eta 38s     "
       ]
      },
      {
       "output_type": "stream",
       "stream": "stdout",
       "text": [
        "\r",
        "27% [=========>                             ] 542,664     13.0K/s  eta 38s     "
       ]
      },
      {
       "output_type": "stream",
       "stream": "stdout",
       "text": [
        "\r",
        "27% [=========>                             ] 549,964     13.1K/s  eta 39s     "
       ]
      },
      {
       "output_type": "stream",
       "stream": "stdout",
       "text": [
        "\r",
        "27% [=========>                             ] 557,264     13.3K/s  eta 39s     "
       ]
      },
      {
       "output_type": "stream",
       "stream": "stdout",
       "text": [
        "\r",
        "28% [==========>                            ] 566,024     14.3K/s  eta 39s     "
       ]
      },
      {
       "output_type": "stream",
       "stream": "stdout",
       "text": [
        "\r",
        "28% [==========>                            ] 573,324     15.2K/s  eta 39s     "
       ]
      },
      {
       "output_type": "stream",
       "stream": "stdout",
       "text": [
        "\r",
        "28% [==========>                            ] 580,624     15.8K/s  eta 39s     "
       ]
      },
      {
       "output_type": "stream",
       "stream": "stdout",
       "text": [
        "\r",
        "29% [==========>                            ] 590,844     17.3K/s  eta 38s     "
       ]
      },
      {
       "output_type": "stream",
       "stream": "stdout",
       "text": [
        "\r",
        "30% [==========>                            ] 602,524     18.9K/s  eta 38s     "
       ]
      },
      {
       "output_type": "stream",
       "stream": "stdout",
       "text": [
        "\r",
        "30% [==========>                            ] 612,744     20.0K/s  eta 38s     "
       ]
      },
      {
       "output_type": "stream",
       "stream": "stdout",
       "text": [
        "\r",
        "31% [===========>                           ] 622,964     20.7K/s  eta 38s     "
       ]
      },
      {
       "output_type": "stream",
       "stream": "stdout",
       "text": [
        "\r",
        "31% [===========>                           ] 630,264     22.0K/s  eta 38s     "
       ]
      },
      {
       "output_type": "stream",
       "stream": "stdout",
       "text": [
        "\r",
        "32% [===========>                           ] 641,944     25.8K/s  eta 36s     "
       ]
      },
      {
       "output_type": "stream",
       "stream": "stdout",
       "text": [
        "\r",
        "32% [===========>                           ] 649,244     27.2K/s  eta 36s     "
       ]
      },
      {
       "output_type": "stream",
       "stream": "stdout",
       "text": [
        "\r",
        "32% [===========>                           ] 660,924     29.1K/s  eta 36s     "
       ]
      },
      {
       "output_type": "stream",
       "stream": "stdout",
       "text": [
        "\r",
        "33% [============>                          ] 671,144     31.1K/s  eta 36s     "
       ]
      },
      {
       "output_type": "stream",
       "stream": "stdout",
       "text": [
        "\r",
        "34% [============>                          ] 682,824     32.9K/s  eta 36s     "
       ]
      },
      {
       "output_type": "stream",
       "stream": "stdout",
       "text": [
        "\r",
        "34% [============>                          ] 694,504     35.1K/s  eta 34s     "
       ]
      },
      {
       "output_type": "stream",
       "stream": "stdout",
       "text": [
        "\r",
        "35% [============>                          ] 709,104     40.4K/s  eta 34s     "
       ]
      },
      {
       "output_type": "stream",
       "stream": "stdout",
       "text": [
        "\r",
        "36% [=============>                         ] 725,164     43.4K/s  eta 34s     "
       ]
      },
      {
       "output_type": "stream",
       "stream": "stdout",
       "text": [
        "\r",
        "37% [=============>                         ] 742,684     47.8K/s  eta 34s     "
       ]
      },
      {
       "output_type": "stream",
       "stream": "stdout",
       "text": [
        "\r",
        "38% [=============>                         ] 763,124     52.5K/s  eta 34s     "
       ]
      },
      {
       "output_type": "stream",
       "stream": "stdout",
       "text": [
        "\r",
        "39% [==============>                        ] 786,484     57.0K/s  eta 29s     "
       ]
      },
      {
       "output_type": "stream",
       "stream": "stdout",
       "text": [
        "\r",
        "40% [==============>                        ] 809,844     59.2K/s  eta 29s     "
       ]
      },
      {
       "output_type": "stream",
       "stream": "stdout",
       "text": [
        "\r",
        "42% [===============>                       ] 845,236     65.9K/s  eta 29s     "
       ]
      },
      {
       "output_type": "stream",
       "stream": "stdout",
       "text": [
        "\r",
        "42% [===============>                       ] 858,376     67.3K/s  eta 29s     "
       ]
      },
      {
       "output_type": "stream",
       "stream": "stdout",
       "text": [
        "\r",
        "43% [================>                      ] 878,816     69.8K/s  eta 25s     "
       ]
      },
      {
       "output_type": "stream",
       "stream": "stdout",
       "text": [
        "\r",
        "45% [================>                      ] 903,636     72.9K/s  eta 25s     "
       ]
      },
      {
       "output_type": "stream",
       "stream": "stdout",
       "text": [
        "\r",
        "46% [=================>                     ] 925,696     75.8K/s  eta 25s     "
       ]
      },
      {
       "output_type": "stream",
       "stream": "stdout",
       "text": [
        "\r",
        "47% [=================>                     ] 951,732     79.6K/s  eta 25s     "
       ]
      },
      {
       "output_type": "stream",
       "stream": "stdout",
       "text": [
        "\r",
        "48% [=================>                     ] 975,416     83.6K/s  eta 25s     "
       ]
      },
      {
       "output_type": "stream",
       "stream": "stdout",
       "text": [
        "\r",
        "50% [==================>                    ] 1,005,264   87.8K/s  eta 21s     "
       ]
      },
      {
       "output_type": "stream",
       "stream": "stdout",
       "text": [
        "\r",
        "51% [===================>                   ] 1,032,192   91.8K/s  eta 21s     "
       ]
      },
      {
       "output_type": "stream",
       "stream": "stdout",
       "text": [
        "\r",
        "52% [===================>                   ] 1,052,956   93.6K/s  eta 21s     "
       ]
      },
      {
       "output_type": "stream",
       "stream": "stdout",
       "text": [
        "\r",
        "54% [====================>                  ] 1,084,832   99.3K/s  eta 21s     "
       ]
      },
      {
       "output_type": "stream",
       "stream": "stdout",
       "text": [
        "\r",
        "55% [====================>                  ] 1,111,760    102K/s  eta 21s     "
       ]
      },
      {
       "output_type": "stream",
       "stream": "stdout",
       "text": [
        "\r",
        "56% [=====================>                 ] 1,139,256    104K/s  eta 17s     "
       ]
      },
      {
       "output_type": "stream",
       "stream": "stdout",
       "text": [
        "\r",
        "58% [=====================>                 ] 1,163,548    104K/s  eta 17s     "
       ]
      },
      {
       "output_type": "stream",
       "stream": "stdout",
       "text": [
        "\r",
        "59% [======================>                ] 1,193,680    105K/s  eta 17s     "
       ]
      },
      {
       "output_type": "stream",
       "stream": "stdout",
       "text": [
        "\r",
        "60% [======================>                ] 1,221,176    106K/s  eta 17s     "
       ]
      },
      {
       "output_type": "stream",
       "stream": "stdout",
       "text": [
        "\r",
        "62% [=======================>               ] 1,250,740    106K/s  eta 14s     "
       ]
      },
      {
       "output_type": "stream",
       "stream": "stdout",
       "text": [
        "\r",
        "63% [=======================>               ] 1,275,600    105K/s  eta 14s     "
       ]
      },
      {
       "output_type": "stream",
       "stream": "stdout",
       "text": [
        "\r",
        "65% [========================>              ] 1,304,272    109K/s  eta 14s     "
       ]
      },
      {
       "output_type": "stream",
       "stream": "stdout",
       "text": [
        "\r",
        "66% [========================>              ] 1,331,484    105K/s  eta 14s     "
       ]
      },
      {
       "output_type": "stream",
       "stream": "stdout",
       "text": [
        "\r",
        "67% [=========================>             ] 1,362,792    108K/s  eta 11s     "
       ]
      },
      {
       "output_type": "stream",
       "stream": "stdout",
       "text": [
        "\r",
        "69% [==========================>            ] 1,394,100    108K/s  eta 11s     "
       ]
      },
      {
       "output_type": "stream",
       "stream": "stdout",
       "text": [
        "\r",
        "71% [==========================>            ] 1,429,788    109K/s  eta 11s     "
       ]
      },
      {
       "output_type": "stream",
       "stream": "stdout",
       "text": [
        "\r",
        "73% [===========================>           ] 1,466,652    110K/s  eta 11s     "
       ]
      },
      {
       "output_type": "stream",
       "stream": "stdout",
       "text": [
        "\r",
        "75% [============================>          ] 1,506,152    112K/s  eta 8s      "
       ]
      },
      {
       "output_type": "stream",
       "stream": "stdout",
       "text": [
        "\r",
        "77% [=============================>         ] 1,550,032    114K/s  eta 8s      "
       ]
      },
      {
       "output_type": "stream",
       "stream": "stdout",
       "text": [
        "\r",
        "79% [==============================>        ] 1,597,724    116K/s  eta 8s      "
       ]
      },
      {
       "output_type": "stream",
       "stream": "stdout",
       "text": [
        "\r",
        "82% [===============================>       ] 1,648,336    121K/s  eta 8s      "
       ]
      },
      {
       "output_type": "stream",
       "stream": "stdout",
       "text": [
        "\r",
        "85% [================================>      ] 1,705,680    124K/s  eta 5s      "
       ]
      },
      {
       "output_type": "stream",
       "stream": "stdout",
       "text": [
        "\r",
        "87% [=================================>     ] 1,763,024    131K/s  eta 5s      "
       ]
      },
      {
       "output_type": "stream",
       "stream": "stdout",
       "text": [
        "\r",
        "89% [=================================>     ] 1,796,968    134K/s  eta 5s      "
       ]
      },
      {
       "output_type": "stream",
       "stream": "stdout",
       "text": [
        "\r",
        "93% [===================================>   ] 1,865,424    141K/s  eta 5s      "
       ]
      },
      {
       "output_type": "stream",
       "stream": "stdout",
       "text": [
        "\r",
        "96% [====================================>  ] 1,939,152    149K/s  eta 1s      "
       ]
      },
      {
       "output_type": "stream",
       "stream": "stdout",
       "text": [
        "\r",
        "100%[======================================>] 2,005,385    157K/s   in 28s     \r\n",
        "\r\n",
        "2014-08-09 13:35:21 (71.2 KB/s) - `follow_the_cryptocurrency.ipynb' saved [2005385/2005385]\r\n",
        "\r\n"
       ]
      }
     ],
     "prompt_number": 2
    },
    {
     "cell_type": "code",
     "collapsed": false,
     "input": [
      "!(mkdir -p ~/.graphlab && echo \"[Product]\\nproduct_key=9F7F-79E2-B494-AD1F-6889-625A-2C52-CFE2\" > ~/.graphlab/config && echo \"Configuration file written\") || echo \"Configuration file not written\"\n"
     ],
     "language": "python",
     "metadata": {},
     "outputs": [
      {
       "output_type": "stream",
       "stream": "stdout",
       "text": [
        "Configuration file written\r\n"
       ]
      }
     ],
     "prompt_number": 14
    },
    {
     "cell_type": "code",
     "collapsed": false,
     "input": [
      "!wget http://dato.com/learn/gallery/notebooks/who_survived_the_titanic.ipynb"
     ],
     "language": "python",
     "metadata": {},
     "outputs": [
      {
       "output_type": "stream",
       "stream": "stdout",
       "text": [
        "--2015-02-11 23:19:07--  http://dato.com/learn/gallery/notebooks/who_survived_the_titanic.ipynb\r\n",
        "Resolving dato.com (dato.com)... 173.236.190.1\r\n",
        "Connecting to dato.com (dato.com)|173.236.190.1|:80... "
       ]
      },
      {
       "output_type": "stream",
       "stream": "stdout",
       "text": [
        "connected.\r\n",
        "HTTP request sent, awaiting response... "
       ]
      },
      {
       "output_type": "stream",
       "stream": "stdout",
       "text": [
        "200 OK\r\n",
        "Length: 2559640 (2.4M) [text/plain]\r\n",
        "Saving to: `who_survived_the_titanic.ipynb'\r\n",
        "\r\n",
        "\r",
        " 0% [                                       ] 0           --.-K/s              "
       ]
      },
      {
       "output_type": "stream",
       "stream": "stdout",
       "text": [
        "\r",
        " 0% [                                       ] 9,910       43.9K/s              "
       ]
      },
      {
       "output_type": "stream",
       "stream": "stdout",
       "text": [
        "\r",
        " 1% [                                       ] 27,496      60.8K/s              "
       ]
      },
      {
       "output_type": "stream",
       "stream": "stdout",
       "text": [
        "\r",
        " 2% [                                       ] 53,532      79.0K/s              "
       ]
      },
      {
       "output_type": "stream",
       "stream": "stdout",
       "text": [
        "\r",
        " 3% [>                                      ] 83,664      92.6K/s              "
       ]
      },
      {
       "output_type": "stream",
       "stream": "stdout",
       "text": [
        "\r",
        " 4% [>                                      ] 103,860     91.0K/s              "
       ]
      },
      {
       "output_type": "stream",
       "stream": "stdout",
       "text": [
        "\r",
        " 4% [>                                      ] 110,592     81.6K/s              "
       ]
      },
      {
       "output_type": "stream",
       "stream": "stdout",
       "text": [
        "\r",
        " 5% [=>                                     ] 151,552     95.8K/s              "
       ]
      },
      {
       "output_type": "stream",
       "stream": "stdout",
       "text": [
        "\r",
        " 6% [=>                                     ] 158,852     87.9K/s              "
       ]
      },
      {
       "output_type": "stream",
       "stream": "stdout",
       "text": [
        "\r",
        " 6% [=>                                     ] 163,232     80.3K/s              "
       ]
      },
      {
       "output_type": "stream",
       "stream": "stdout",
       "text": [
        "\r",
        " 7% [=>                                     ] 181,644     80.4K/s              "
       ]
      },
      {
       "output_type": "stream",
       "stream": "stdout",
       "text": [
        "\r",
        " 7% [==>                                    ] 204,112     82.2K/s              "
       ]
      },
      {
       "output_type": "stream",
       "stream": "stdout",
       "text": [
        "\r",
        " 9% [==>                                    ] 234,608     86.5K/s              "
       ]
      },
      {
       "output_type": "stream",
       "stream": "stdout",
       "text": [
        "\r",
        "10% [===>                                   ] 267,944     91.2K/s              "
       ]
      },
      {
       "output_type": "stream",
       "stream": "stdout",
       "text": [
        "\r",
        "11% [===>                                   ] 294,912     93.2K/s  eta 24s     "
       ]
      },
      {
       "output_type": "stream",
       "stream": "stdout",
       "text": [
        "\r",
        "12% [===>                                   ] 312,756     92.3K/s  eta 24s     "
       ]
      },
      {
       "output_type": "stream",
       "stream": "stdout",
       "text": [
        "\r",
        "13% [====>                                  ] 345,524     95.6K/s  eta 24s     "
       ]
      },
      {
       "output_type": "stream",
       "stream": "stdout",
       "text": [
        "\r",
        "14% [====>                                  ] 368,924     96.1K/s  eta 24s     "
       ]
      },
      {
       "output_type": "stream",
       "stream": "stdout",
       "text": [
        "\r",
        "14% [====>                                  ] 382,632     94.1K/s  eta 24s     "
       ]
      },
      {
       "output_type": "stream",
       "stream": "stdout",
       "text": [
        "\r",
        "15% [====>                                  ] 390,824     91.0K/s  eta 23s     "
       ]
      },
      {
       "output_type": "stream",
       "stream": "stdout",
       "text": [
        "\r",
        "16% [=====>                                 ] 424,972     94.0K/s  eta 23s     "
       ]
      },
      {
       "output_type": "stream",
       "stream": "stdout",
       "text": [
        "\r",
        "17% [=====>                                 ] 436,204     94.3K/s  eta 23s     "
       ]
      },
      {
       "output_type": "stream",
       "stream": "stdout",
       "text": [
        "\r",
        "18% [======>                                ] 461,916     96.1K/s  eta 23s     "
       ]
      },
      {
       "output_type": "stream",
       "stream": "stdout",
       "text": [
        "\r",
        "18% [======>                                ] 483,816     95.2K/s  eta 23s     "
       ]
      },
      {
       "output_type": "stream",
       "stream": "stdout",
       "text": [
        "\r",
        "19% [======>                                ] 491,684     89.5K/s  eta 22s     "
       ]
      },
      {
       "output_type": "stream",
       "stream": "stdout",
       "text": [
        "\r",
        "19% [======>                                ] 499,876     83.7K/s  eta 22s     "
       ]
      },
      {
       "output_type": "stream",
       "stream": "stdout",
       "text": [
        "\r",
        "21% [=======>                               ] 540,672     90.6K/s  eta 22s     "
       ]
      },
      {
       "output_type": "stream",
       "stream": "stdout",
       "text": [
        "\r",
        "21% [=======>                               ] 561,720     86.4K/s  eta 22s     "
       ]
      },
      {
       "output_type": "stream",
       "stream": "stdout",
       "text": [
        "\r",
        "22% [=======>                               ] 581,268     89.0K/s  eta 22s     "
       ]
      },
      {
       "output_type": "stream",
       "stream": "stdout",
       "text": [
        "\r",
        "23% [========>                              ] 595,300     83.1K/s  eta 22s     "
       ]
      },
      {
       "output_type": "stream",
       "stream": "stdout",
       "text": [
        "\r",
        "24% [========>                              ] 634,880     87.2K/s  eta 22s     "
       ]
      },
      {
       "output_type": "stream",
       "stream": "stdout",
       "text": [
        "\r",
        "25% [========>                              ] 645,100     84.8K/s  eta 22s     "
       ]
      },
      {
       "output_type": "stream",
       "stream": "stdout",
       "text": [
        "\r",
        "25% [=========>                             ] 656,780     81.2K/s  eta 22s     "
       ]
      },
      {
       "output_type": "stream",
       "stream": "stdout",
       "text": [
        "\r",
        "26% [=========>                             ] 668,460     77.0K/s  eta 22s     "
       ]
      },
      {
       "output_type": "stream",
       "stream": "stdout",
       "text": [
        "\r",
        "26% [=========>                             ] 678,680     73.8K/s  eta 22s     "
       ]
      },
      {
       "output_type": "stream",
       "stream": "stdout",
       "text": [
        "\r",
        "26% [=========>                             ] 681,600     70.9K/s  eta 22s     "
       ]
      },
      {
       "output_type": "stream",
       "stream": "stdout",
       "text": [
        "\r",
        "26% [=========>                             ] 689,792     66.4K/s  eta 23s     "
       ]
      },
      {
       "output_type": "stream",
       "stream": "stdout",
       "text": [
        "\r",
        "27% [=========>                             ] 700,580     64.0K/s  eta 23s     "
       ]
      },
      {
       "output_type": "stream",
       "stream": "stdout",
       "text": [
        "\r",
        "27% [=========>                             ] 710,800     63.4K/s  eta 23s     "
       ]
      },
      {
       "output_type": "stream",
       "stream": "stdout",
       "text": [
        "\r",
        "28% [==========>                            ] 722,480     64.0K/s  eta 23s     "
       ]
      },
      {
       "output_type": "stream",
       "stream": "stdout",
       "text": [
        "\r",
        "28% [==========>                            ] 735,620     59.8K/s  eta 23s     "
       ]
      },
      {
       "output_type": "stream",
       "stream": "stdout",
       "text": [
        "\r",
        "29% [==========>                            ] 747,300     59.9K/s  eta 24s     "
       ]
      },
      {
       "output_type": "stream",
       "stream": "stdout",
       "text": [
        "\r",
        "29% [==========>                            ] 758,980     57.2K/s  eta 24s     "
       ]
      },
      {
       "output_type": "stream",
       "stream": "stdout",
       "text": [
        "\r",
        "30% [==========>                            ] 770,660     55.2K/s  eta 24s     "
       ]
      },
      {
       "output_type": "stream",
       "stream": "stdout",
       "text": [
        "\r",
        "30% [==========>                            ] 782,340     56.4K/s  eta 24s     "
       ]
      },
      {
       "output_type": "stream",
       "stream": "stdout",
       "text": [
        "\r",
        "31% [===========>                           ] 794,020     59.2K/s  eta 24s     "
       ]
      },
      {
       "output_type": "stream",
       "stream": "stdout",
       "text": [
        "\r",
        "31% [===========>                           ] 805,700     53.3K/s  eta 24s     "
       ]
      },
      {
       "output_type": "stream",
       "stream": "stdout",
       "text": [
        "\r",
        "31% [===========>                           ] 817,380     51.4K/s  eta 24s     "
       ]
      },
      {
       "output_type": "stream",
       "stream": "stdout",
       "text": [
        "\r",
        "32% [===========>                           ] 830,520     50.2K/s  eta 24s     "
       ]
      },
      {
       "output_type": "stream",
       "stream": "stdout",
       "text": [
        "\r",
        "32% [===========>                           ] 841,632     53.6K/s  eta 24s     "
       ]
      },
      {
       "output_type": "stream",
       "stream": "stdout",
       "text": [
        "\r",
        "33% [============>                          ] 858,260     48.6K/s  eta 24s     "
       ]
      },
      {
       "output_type": "stream",
       "stream": "stdout",
       "text": [
        "\r",
        "33% [============>                          ] 869,940     48.9K/s  eta 23s     "
       ]
      },
      {
       "output_type": "stream",
       "stream": "stdout",
       "text": [
        "\r",
        "34% [============>                          ] 883,080     49.2K/s  eta 23s     "
       ]
      },
      {
       "output_type": "stream",
       "stream": "stdout",
       "text": [
        "\r",
        "35% [============>                          ] 896,220     49.0K/s  eta 23s     "
       ]
      },
      {
       "output_type": "stream",
       "stream": "stdout",
       "text": [
        "\r",
        "35% [============>                          ] 909,360     51.1K/s  eta 23s     "
       ]
      },
      {
       "output_type": "stream",
       "stream": "stdout",
       "text": [
        "\r",
        "36% [=============>                         ] 929,232     50.3K/s  eta 23s     "
       ]
      },
      {
       "output_type": "stream",
       "stream": "stdout",
       "text": [
        "\r",
        "36% [=============>                         ] 944,400     51.2K/s  eta 23s     "
       ]
      },
      {
       "output_type": "stream",
       "stream": "stdout",
       "text": [
        "\r",
        "37% [=============>                         ] 953,160     50.9K/s  eta 23s     "
       ]
      },
      {
       "output_type": "stream",
       "stream": "stdout",
       "text": [
        "\r",
        "37% [=============>                         ] 969,220     51.8K/s  eta 23s     "
       ]
      },
      {
       "output_type": "stream",
       "stream": "stdout",
       "text": [
        "\r",
        "38% [=============>                         ] 980,900     51.7K/s  eta 23s     "
       ]
      },
      {
       "output_type": "stream",
       "stream": "stdout",
       "text": [
        "\r",
        "38% [==============>                        ] 994,040     52.0K/s  eta 23s     "
       ]
      },
      {
       "output_type": "stream",
       "stream": "stdout",
       "text": [
        "\r",
        "39% [==============>                        ] 1,007,180   52.3K/s  eta 23s     "
       ]
      },
      {
       "output_type": "stream",
       "stream": "stdout",
       "text": [
        "\r",
        "39% [==============>                        ] 1,020,320   52.6K/s  eta 23s     "
       ]
      },
      {
       "output_type": "stream",
       "stream": "stdout",
       "text": [
        "\r",
        "40% [==============>                        ] 1,033,460   52.9K/s  eta 23s     "
       ]
      },
      {
       "output_type": "stream",
       "stream": "stdout",
       "text": [
        "\r",
        "40% [==============>                        ] 1,046,600   53.2K/s  eta 23s     "
       ]
      },
      {
       "output_type": "stream",
       "stream": "stdout",
       "text": [
        "\r",
        "41% [===============>                       ] 1,063,552   51.9K/s  eta 22s     "
       ]
      },
      {
       "output_type": "stream",
       "stream": "stdout",
       "text": [
        "\r",
        "42% [===============>                       ] 1,078,720   52.6K/s  eta 22s     "
       ]
      },
      {
       "output_type": "stream",
       "stream": "stdout",
       "text": [
        "\r",
        "42% [===============>                       ] 1,088,940   52.0K/s  eta 22s     "
       ]
      },
      {
       "output_type": "stream",
       "stream": "stdout",
       "text": [
        "\r",
        "42% [===============>                       ] 1,100,620   52.9K/s  eta 22s     "
       ]
      },
      {
       "output_type": "stream",
       "stream": "stdout",
       "text": [
        "\r",
        "43% [================>                      ] 1,120,492   53.5K/s  eta 22s     "
       ]
      },
      {
       "output_type": "stream",
       "stream": "stdout",
       "text": [
        "\r",
        "44% [================>                      ] 1,128,360   53.8K/s  eta 21s     "
       ]
      },
      {
       "output_type": "stream",
       "stream": "stdout",
       "text": [
        "\r",
        "44% [================>                      ] 1,141,500   54.1K/s  eta 21s     "
       ]
      },
      {
       "output_type": "stream",
       "stream": "stdout",
       "text": [
        "\r",
        "45% [================>                      ] 1,154,640   54.1K/s  eta 21s     "
       ]
      },
      {
       "output_type": "stream",
       "stream": "stdout",
       "text": [
        "\r",
        "45% [================>                      ] 1,166,320   53.8K/s  eta 21s     "
       ]
      },
      {
       "output_type": "stream",
       "stream": "stdout",
       "text": [
        "\r",
        "46% [=================>                     ] 1,182,380   54.3K/s  eta 21s     "
       ]
      },
      {
       "output_type": "stream",
       "stream": "stdout",
       "text": [
        "\r",
        "46% [=================>                     ] 1,194,952   53.5K/s  eta 21s     "
       ]
      },
      {
       "output_type": "stream",
       "stream": "stdout",
       "text": [
        "\r",
        "47% [=================>                     ] 1,210,120   50.4K/s  eta 21s     "
       ]
      },
      {
       "output_type": "stream",
       "stream": "stdout",
       "text": [
        "\r",
        "47% [=================>                     ] 1,220,340   50.6K/s  eta 21s     "
       ]
      },
      {
       "output_type": "stream",
       "stream": "stdout",
       "text": [
        "\r",
        "48% [=================>                     ] 1,230,560   48.8K/s  eta 21s     "
       ]
      },
      {
       "output_type": "stream",
       "stream": "stdout",
       "text": [
        "\r",
        "48% [=================>                     ] 1,237,860   47.6K/s  eta 21s     "
       ]
      },
      {
       "output_type": "stream",
       "stream": "stdout",
       "text": [
        "\r",
        "48% [==================>                    ] 1,251,000   45.9K/s  eta 21s     "
       ]
      },
      {
       "output_type": "stream",
       "stream": "stdout",
       "text": [
        "\r",
        "49% [==================>                    ] 1,262,680   43.3K/s  eta 21s     "
       ]
      },
      {
       "output_type": "stream",
       "stream": "stdout",
       "text": [
        "\r",
        "49% [==================>                    ] 1,270,872   42.0K/s  eta 21s     "
       ]
      },
      {
       "output_type": "stream",
       "stream": "stdout",
       "text": [
        "\r",
        "50% [==================>                    ] 1,283,120   41.6K/s  eta 21s     "
       ]
      },
      {
       "output_type": "stream",
       "stream": "stdout",
       "text": [
        "\r",
        "50% [==================>                    ] 1,294,800   40.5K/s  eta 21s     "
       ]
      },
      {
       "output_type": "stream",
       "stream": "stdout",
       "text": [
        "\r",
        "51% [==================>                    ] 1,307,940   40.1K/s  eta 21s     "
       ]
      },
      {
       "output_type": "stream",
       "stream": "stdout",
       "text": [
        "\r",
        "51% [===================>                   ] 1,317,592   38.5K/s  eta 21s     "
       ]
      },
      {
       "output_type": "stream",
       "stream": "stdout",
       "text": [
        "\r",
        "52% [===================>                   ] 1,332,192   39.0K/s  eta 21s     "
       ]
      },
      {
       "output_type": "stream",
       "stream": "stdout",
       "text": [
        "\r",
        "52% [===================>                   ] 1,340,060   37.0K/s  eta 21s     "
       ]
      },
      {
       "output_type": "stream",
       "stream": "stdout",
       "text": [
        "\r",
        "52% [===================>                   ] 1,351,740   37.7K/s  eta 20s     "
       ]
      },
      {
       "output_type": "stream",
       "stream": "stdout",
       "text": [
        "\r",
        "53% [===================>                   ] 1,363,420   37.7K/s  eta 20s     "
       ]
      },
      {
       "output_type": "stream",
       "stream": "stdout",
       "text": [
        "\r",
        "53% [===================>                   ] 1,378,020   37.6K/s  eta 20s     "
       ]
      },
      {
       "output_type": "stream",
       "stream": "stdout",
       "text": [
        "\r",
        "54% [====================>                  ] 1,391,160   37.9K/s  eta 20s     "
       ]
      },
      {
       "output_type": "stream",
       "stream": "stdout",
       "text": [
        "\r",
        "54% [====================>                  ] 1,404,300   37.4K/s  eta 20s     "
       ]
      },
      {
       "output_type": "stream",
       "stream": "stdout",
       "text": [
        "\r",
        "55% [====================>                  ] 1,417,440   39.0K/s  eta 19s     "
       ]
      },
      {
       "output_type": "stream",
       "stream": "stdout",
       "text": [
        "\r",
        "55% [====================>                  ] 1,430,580   40.7K/s  eta 19s     "
       ]
      },
      {
       "output_type": "stream",
       "stream": "stdout",
       "text": [
        "\r",
        "56% [====================>                  ] 1,443,720   41.4K/s  eta 19s     "
       ]
      },
      {
       "output_type": "stream",
       "stream": "stdout",
       "text": [
        "\r",
        "56% [=====================>                 ] 1,456,860   42.5K/s  eta 19s     "
       ]
      },
      {
       "output_type": "stream",
       "stream": "stdout",
       "text": [
        "\r",
        "57% [=====================>                 ] 1,471,460   43.9K/s  eta 19s     "
       ]
      },
      {
       "output_type": "stream",
       "stream": "stdout",
       "text": [
        "\r",
        "58% [=====================>                 ] 1,486,060   45.5K/s  eta 18s     "
       ]
      },
      {
       "output_type": "stream",
       "stream": "stdout",
       "text": [
        "\r",
        "58% [=====================>                 ] 1,500,660   46.4K/s  eta 18s     "
       ]
      },
      {
       "output_type": "stream",
       "stream": "stdout",
       "text": [
        "\r",
        "59% [======================>                ] 1,515,260   49.5K/s  eta 18s     "
       ]
      },
      {
       "output_type": "stream",
       "stream": "stdout",
       "text": [
        "\r",
        "59% [======================>                ] 1,531,320   51.5K/s  eta 18s     "
       ]
      },
      {
       "output_type": "stream",
       "stream": "stdout",
       "text": [
        "\r",
        "60% [======================>                ] 1,547,380   52.7K/s  eta 18s     "
       ]
      },
      {
       "output_type": "stream",
       "stream": "stdout",
       "text": [
        "\r",
        "61% [======================>                ] 1,564,900   56.7K/s  eta 16s     "
       ]
      },
      {
       "output_type": "stream",
       "stream": "stdout",
       "text": [
        "\r",
        "61% [=======================>               ] 1,582,420   57.6K/s  eta 16s     "
       ]
      },
      {
       "output_type": "stream",
       "stream": "stdout",
       "text": [
        "\r",
        "62% [=======================>               ] 1,602,860   62.9K/s  eta 16s     "
       ]
      },
      {
       "output_type": "stream",
       "stream": "stdout",
       "text": [
        "\r",
        "63% [=======================>               ] 1,623,300   64.2K/s  eta 16s     "
       ]
      },
      {
       "output_type": "stream",
       "stream": "stdout",
       "text": [
        "\r",
        "64% [========================>              ] 1,646,660   67.6K/s  eta 16s     "
       ]
      },
      {
       "output_type": "stream",
       "stream": "stdout",
       "text": [
        "\r",
        "65% [========================>              ] 1,674,400   71.1K/s  eta 14s     "
       ]
      },
      {
       "output_type": "stream",
       "stream": "stdout",
       "text": [
        "\r",
        "66% [=========================>             ] 1,706,520   75.6K/s  eta 14s     "
       ]
      },
      {
       "output_type": "stream",
       "stream": "stdout",
       "text": [
        "\r",
        "67% [=========================>             ] 1,739,016   79.6K/s  eta 14s     "
       ]
      },
      {
       "output_type": "stream",
       "stream": "stdout",
       "text": [
        "\r",
        "68% [=========================>             ] 1,760,104   77.9K/s  eta 14s     "
       ]
      },
      {
       "output_type": "stream",
       "stream": "stdout",
       "text": [
        "\r",
        "70% [==========================>            ] 1,792,872   78.3K/s  eta 12s     "
       ]
      },
      {
       "output_type": "stream",
       "stream": "stdout",
       "text": [
        "\r",
        "70% [==========================>            ] 1,816,556   80.4K/s  eta 12s     "
       ]
      },
      {
       "output_type": "stream",
       "stream": "stdout",
       "text": [
        "\r",
        "71% [==========================>            ] 1,831,156   80.7K/s  eta 12s     "
       ]
      },
      {
       "output_type": "stream",
       "stream": "stdout",
       "text": [
        "\r",
        "72% [===========================>           ] 1,847,216   81.3K/s  eta 12s     "
       ]
      },
      {
       "output_type": "stream",
       "stream": "stdout",
       "text": [
        "\r",
        "72% [===========================>           ] 1,867,656   82.3K/s  eta 12s     "
       ]
      },
      {
       "output_type": "stream",
       "stream": "stdout",
       "text": [
        "\r",
        "73% [===========================>           ] 1,881,688   79.3K/s  eta 11s     "
       ]
      },
      {
       "output_type": "stream",
       "stream": "stdout",
       "text": [
        "\r",
        "74% [============================>          ] 1,905,616   81.2K/s  eta 11s     "
       ]
      },
      {
       "output_type": "stream",
       "stream": "stdout",
       "text": [
        "\r",
        "74% [============================>          ] 1,917,296   80.7K/s  eta 11s     "
       ]
      },
      {
       "output_type": "stream",
       "stream": "stdout",
       "text": [
        "\r",
        "75% [============================>          ] 1,925,488   77.3K/s  eta 11s     "
       ]
      },
      {
       "output_type": "stream",
       "stream": "stdout",
       "text": [
        "\r",
        "75% [============================>          ] 1,945,036   78.0K/s  eta 10s     "
       ]
      },
      {
       "output_type": "stream",
       "stream": "stdout",
       "text": [
        "\r",
        "76% [============================>          ] 1,955,256   76.9K/s  eta 10s     "
       ]
      },
      {
       "output_type": "stream",
       "stream": "stdout",
       "text": [
        "\r",
        "76% [============================>          ] 1,964,908   73.1K/s  eta 10s     "
       ]
      },
      {
       "output_type": "stream",
       "stream": "stdout",
       "text": [
        "\r",
        "77% [=============================>         ] 1,981,536   72.4K/s  eta 10s     "
       ]
      },
      {
       "output_type": "stream",
       "stream": "stdout",
       "text": [
        "\r",
        "77% [=============================>         ] 1,991,756   70.6K/s  eta 9s      "
       ]
      },
      {
       "output_type": "stream",
       "stream": "stdout",
       "text": [
        "\r",
        "78% [=============================>         ] 2,000,516   68.3K/s  eta 9s      "
       ]
      },
      {
       "output_type": "stream",
       "stream": "stdout",
       "text": [
        "\r",
        "78% [=============================>         ] 2,015,116   67.2K/s  eta 9s      "
       ]
      },
      {
       "output_type": "stream",
       "stream": "stdout",
       "text": [
        "\r",
        "79% [=============================>         ] 2,026,796   64.9K/s  eta 9s      "
       ]
      },
      {
       "output_type": "stream",
       "stream": "stdout",
       "text": [
        "\r",
        "79% [==============================>        ] 2,035,556   61.1K/s  eta 9s      "
       ]
      },
      {
       "output_type": "stream",
       "stream": "stdout",
       "text": [
        "\r",
        "80% [==============================>        ] 2,050,156   58.5K/s  eta 8s      "
       ]
      },
      {
       "output_type": "stream",
       "stream": "stdout",
       "text": [
        "\r",
        "80% [==============================>        ] 2,061,836   56.4K/s  eta 8s      "
       ]
      },
      {
       "output_type": "stream",
       "stream": "stdout",
       "text": [
        "\r",
        "80% [==============================>        ] 2,072,056   54.5K/s  eta 8s      "
       ]
      },
      {
       "output_type": "stream",
       "stream": "stdout",
       "text": [
        "\r",
        "81% [==============================>        ] 2,083,736   52.2K/s  eta 8s      "
       ]
      },
      {
       "output_type": "stream",
       "stream": "stdout",
       "text": [
        "\r",
        "82% [===============================>       ] 2,100,688   49.4K/s  eta 7s      "
       ]
      },
      {
       "output_type": "stream",
       "stream": "stdout",
       "text": [
        "\r",
        "82% [===============================>       ] 2,112,936   48.8K/s  eta 7s      "
       ]
      },
      {
       "output_type": "stream",
       "stream": "stdout",
       "text": [
        "\r",
        "82% [===============================>       ] 2,123,156   47.0K/s  eta 7s      "
       ]
      },
      {
       "output_type": "stream",
       "stream": "stdout",
       "text": [
        "\r",
        "83% [===============================>       ] 2,134,836   48.5K/s  eta 7s      "
       ]
      },
      {
       "output_type": "stream",
       "stream": "stdout",
       "text": [
        "\r",
        "83% [===============================>       ] 2,147,976   46.3K/s  eta 7s      "
       ]
      },
      {
       "output_type": "stream",
       "stream": "stdout",
       "text": [
        "\r",
        "84% [===============================>       ] 2,159,656   46.3K/s  eta 7s      "
       ]
      },
      {
       "output_type": "stream",
       "stream": "stdout",
       "text": [
        "\r",
        "84% [================================>      ] 2,171,336   48.4K/s  eta 7s      "
       ]
      },
      {
       "output_type": "stream",
       "stream": "stdout",
       "text": [
        "\r",
        "85% [================================>      ] 2,183,016   46.8K/s  eta 7s      "
       ]
      },
      {
       "output_type": "stream",
       "stream": "stdout",
       "text": [
        "\r",
        "85% [================================>      ] 2,185,936   44.4K/s  eta 7s      "
       ]
      },
      {
       "output_type": "stream",
       "stream": "stdout",
       "text": [
        "\r",
        "86% [================================>      ] 2,201,428   46.6K/s  eta 6s      "
       ]
      },
      {
       "output_type": "stream",
       "stream": "stdout",
       "text": [
        "\r",
        "86% [================================>      ] 2,207,836   44.5K/s  eta 6s      "
       ]
      },
      {
       "output_type": "stream",
       "stream": "stdout",
       "text": [
        "\r",
        "86% [================================>      ] 2,220,408   40.9K/s  eta 6s      "
       ]
      },
      {
       "output_type": "stream",
       "stream": "stdout",
       "text": [
        "\r",
        "87% [================================>      ] 2,229,684   41.0K/s  eta 6s      "
       ]
      },
      {
       "output_type": "stream",
       "stream": "stdout",
       "text": [
        "\r",
        "87% [=================================>     ] 2,237,552   39.8K/s  eta 6s      "
       ]
      },
      {
       "output_type": "stream",
       "stream": "stdout",
       "text": [
        "\r",
        "87% [=================================>     ] 2,249,232   39.8K/s  eta 6s      "
       ]
      },
      {
       "output_type": "stream",
       "stream": "stdout",
       "text": [
        "\r",
        "88% [=================================>     ] 2,263,832   40.8K/s  eta 6s      "
       ]
      },
      {
       "output_type": "stream",
       "stream": "stdout",
       "text": [
        "\r",
        "88% [=================================>     ] 2,275,512   40.3K/s  eta 6s      "
       ]
      },
      {
       "output_type": "stream",
       "stream": "stdout",
       "text": [
        "\r",
        "89% [=================================>     ] 2,284,272   39.8K/s  eta 5s      "
       ]
      },
      {
       "output_type": "stream",
       "stream": "stdout",
       "text": [
        "\r",
        "89% [=================================>     ] 2,294,492   39.8K/s  eta 5s      "
       ]
      },
      {
       "output_type": "stream",
       "stream": "stdout",
       "text": [
        "\r",
        "90% [==================================>    ] 2,306,172   39.8K/s  eta 5s      "
       ]
      },
      {
       "output_type": "stream",
       "stream": "stdout",
       "text": [
        "\r",
        "90% [==================================>    ] 2,317,852   41.3K/s  eta 5s      "
       ]
      },
      {
       "output_type": "stream",
       "stream": "stdout",
       "text": [
        "\r",
        "91% [==================================>    ] 2,330,992   41.4K/s  eta 5s      "
       ]
      },
      {
       "output_type": "stream",
       "stream": "stdout",
       "text": [
        "\r",
        "91% [==================================>    ] 2,344,132   41.9K/s  eta 4s      "
       ]
      },
      {
       "output_type": "stream",
       "stream": "stdout",
       "text": [
        "\r",
        "92% [==================================>    ] 2,361,084   40.6K/s  eta 4s      "
       ]
      },
      {
       "output_type": "stream",
       "stream": "stdout",
       "text": [
        "\r",
        "93% [===================================>   ] 2,382,092   42.3K/s  eta 4s      "
       ]
      },
      {
       "output_type": "stream",
       "stream": "stdout",
       "text": [
        "\r",
        "93% [===================================>   ] 2,395,232   42.6K/s  eta 4s      "
       ]
      },
      {
       "output_type": "stream",
       "stream": "stdout",
       "text": [
        "\r",
        "94% [===================================>   ] 2,409,832   43.2K/s  eta 3s      "
       ]
      },
      {
       "output_type": "stream",
       "stream": "stdout",
       "text": [
        "\r",
        "94% [===================================>   ] 2,425,892   46.7K/s  eta 3s      "
       ]
      },
      {
       "output_type": "stream",
       "stream": "stdout",
       "text": [
        "\r",
        "95% [====================================>  ] 2,441,952   47.8K/s  eta 3s      "
       ]
      },
      {
       "output_type": "stream",
       "stream": "stdout",
       "text": [
        "\r",
        "95% [====================================>  ] 2,455,092   49.2K/s  eta 3s      "
       ]
      },
      {
       "output_type": "stream",
       "stream": "stdout",
       "text": [
        "\r",
        "96% [====================================>  ] 2,471,152   55.6K/s  eta 3s      "
       ]
      },
      {
       "output_type": "stream",
       "stream": "stdout",
       "text": [
        "\r",
        "97% [====================================>  ] 2,487,212   57.0K/s  eta 1s      "
       ]
      },
      {
       "output_type": "stream",
       "stream": "stdout",
       "text": [
        "\r",
        "97% [=====================================> ] 2,505,624   56.8K/s  eta 1s      "
       ]
      },
      {
       "output_type": "stream",
       "stream": "stdout",
       "text": [
        "\r",
        "98% [=====================================> ] 2,514,384   52.9K/s  eta 1s      "
       ]
      },
      {
       "output_type": "stream",
       "stream": "stdout",
       "text": [
        "\r",
        "98% [=====================================> ] 2,523,144   52.2K/s  eta 1s      "
       ]
      },
      {
       "output_type": "stream",
       "stream": "stdout",
       "text": [
        "\r",
        "99% [=====================================> ] 2,536,852   53.3K/s  eta 1s      "
       ]
      },
      {
       "output_type": "stream",
       "stream": "stdout",
       "text": [
        "\r",
        "99% [=====================================> ] 2,544,152   52.7K/s  eta 1s      "
       ]
      },
      {
       "output_type": "stream",
       "stream": "stdout",
       "text": [
        "\r",
        "99% [=====================================> ] 2,549,992   51.4K/s  eta 1s      "
       ]
      },
      {
       "output_type": "stream",
       "stream": "stdout",
       "text": [
        "\r",
        "100%[======================================>] 2,559,640   48.6K/s  eta 0s      \r",
        "100%[======================================>] 2,559,640   48.6K/s   in 44s     \r\n",
        "\r\n",
        "2015-02-11 23:19:51 (56.8 KB/s) - `who_survived_the_titanic.ipynb' saved [2559640/2559640]\r\n",
        "\r\n"
       ]
      }
     ],
     "prompt_number": 9
    },
    {
     "cell_type": "code",
     "collapsed": false,
     "input": [
      "!cat /root/.graphlab/config"
     ],
     "language": "python",
     "metadata": {},
     "outputs": [
      {
       "output_type": "stream",
       "stream": "stdout",
       "text": [
        "[Product]\r\n",
        "product_key=9F7F-79E2-B494-AD1F-6889-625A-2C52-CFE2\r\n"
       ]
      }
     ],
     "prompt_number": 15
    },
    {
     "cell_type": "code",
     "collapsed": false,
     "input": [
      "import graphlab as gl"
     ],
     "language": "python",
     "metadata": {},
     "outputs": [],
     "prompt_number": 5
    },
    {
     "cell_type": "code",
     "collapsed": false,
     "input": [
      "gl.get_spark_integration_jar_path()"
     ],
     "language": "python",
     "metadata": {},
     "outputs": [
      {
       "metadata": {},
       "output_type": "pyout",
       "prompt_number": 6,
       "text": [
        "'/usr/local/lib/python2.7/dist-packages/graphlab/graphlab-create-spark-integration.jar'"
       ]
      }
     ],
     "prompt_number": 6
    },
    {
     "cell_type": "code",
     "collapsed": false,
     "input": [],
     "language": "python",
     "metadata": {},
     "outputs": []
    }
   ],
   "metadata": {}
  }
 ]
}