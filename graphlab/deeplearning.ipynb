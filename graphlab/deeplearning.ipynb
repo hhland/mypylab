{
 "metadata": {
  "name": "",
  "signature": "sha256:83547b6a9b639bd234eca6903b213db9b75651f76f00f956119790f25ed3ee0a"
 },
 "nbformat": 3,
 "nbformat_minor": 0,
 "worksheets": [
  {
   "cells": [
    {
     "cell_type": "code",
     "collapsed": false,
     "input": [
      "import graphlab"
     ],
     "language": "python",
     "metadata": {},
     "outputs": [],
     "prompt_number": 5
    },
    {
     "cell_type": "code",
     "collapsed": false,
     "input": [
      "hr=\"-\"*120\n",
      "data = graphlab.SFrame('http://s3.amazonaws.com/GraphLab-Datasets/mnist/sframe/train')\n",
      "test_data = graphlab.SFrame('http://s3.amazonaws.com/GraphLab-Datasets/mnist/sframe/test')\n",
      "training_data, validation_data = data.random_split(0.8)\n"
     ],
     "language": "python",
     "metadata": {},
     "outputs": [
      {
       "html": [
        "<pre>PROGRESS: Downloading http://s3.amazonaws.com/GraphLab-Datasets/mnist/sframe/train/m_4558118e.0000 to /var/tmp/graphlab-root/24991/000005.0000</pre>"
       ],
       "metadata": {},
       "output_type": "display_data",
       "text": [
        "PROGRESS: Downloading http://s3.amazonaws.com/GraphLab-Datasets/mnist/sframe/train/m_4558118e.0000 to /var/tmp/graphlab-root/24991/000005.0000"
       ]
      },
      {
       "html": [
        "<pre>PROGRESS: Downloading http://s3.amazonaws.com/GraphLab-Datasets/mnist/sframe/train/m_4558118e.0001 to /var/tmp/graphlab-root/24991/000006.0001</pre>"
       ],
       "metadata": {},
       "output_type": "display_data",
       "text": [
        "PROGRESS: Downloading http://s3.amazonaws.com/GraphLab-Datasets/mnist/sframe/train/m_4558118e.0001 to /var/tmp/graphlab-root/24991/000006.0001"
       ]
      },
      {
       "html": [
        "<pre>PROGRESS: Downloading http://s3.amazonaws.com/GraphLab-Datasets/mnist/sframe/train/m_4558118e.0002 to /var/tmp/graphlab-root/24991/000007.0002</pre>"
       ],
       "metadata": {},
       "output_type": "display_data",
       "text": [
        "PROGRESS: Downloading http://s3.amazonaws.com/GraphLab-Datasets/mnist/sframe/train/m_4558118e.0002 to /var/tmp/graphlab-root/24991/000007.0002"
       ]
      },
      {
       "html": [
        "<pre>PROGRESS: Downloading http://s3.amazonaws.com/GraphLab-Datasets/mnist/sframe/train/m_4558118e.0003 to /var/tmp/graphlab-root/24991/000008.0003</pre>"
       ],
       "metadata": {},
       "output_type": "display_data",
       "text": [
        "PROGRESS: Downloading http://s3.amazonaws.com/GraphLab-Datasets/mnist/sframe/train/m_4558118e.0003 to /var/tmp/graphlab-root/24991/000008.0003"
       ]
      },
      {
       "html": [
        "<pre>PROGRESS: Downloading http://s3.amazonaws.com/GraphLab-Datasets/mnist/sframe/train/m_4558118e.0004 to /var/tmp/graphlab-root/24991/000009.0004</pre>"
       ],
       "metadata": {},
       "output_type": "display_data",
       "text": [
        "PROGRESS: Downloading http://s3.amazonaws.com/GraphLab-Datasets/mnist/sframe/train/m_4558118e.0004 to /var/tmp/graphlab-root/24991/000009.0004"
       ]
      },
      {
       "html": [
        "<pre>PROGRESS: Downloading http://s3.amazonaws.com/GraphLab-Datasets/mnist/sframe/train/m_4558118e.0005 to /var/tmp/graphlab-root/24991/000010.0005</pre>"
       ],
       "metadata": {},
       "output_type": "display_data",
       "text": [
        "PROGRESS: Downloading http://s3.amazonaws.com/GraphLab-Datasets/mnist/sframe/train/m_4558118e.0005 to /var/tmp/graphlab-root/24991/000010.0005"
       ]
      },
      {
       "html": [
        "<pre>PROGRESS: Downloading http://s3.amazonaws.com/GraphLab-Datasets/mnist/sframe/train/m_4558118e.0006 to /var/tmp/graphlab-root/24991/000011.0006</pre>"
       ],
       "metadata": {},
       "output_type": "display_data",
       "text": [
        "PROGRESS: Downloading http://s3.amazonaws.com/GraphLab-Datasets/mnist/sframe/train/m_4558118e.0006 to /var/tmp/graphlab-root/24991/000011.0006"
       ]
      },
      {
       "html": [
        "<pre>PROGRESS: Downloading http://s3.amazonaws.com/GraphLab-Datasets/mnist/sframe/train/m_4558118e.0007 to /var/tmp/graphlab-root/24991/000012.0007</pre>"
       ],
       "metadata": {},
       "output_type": "display_data",
       "text": [
        "PROGRESS: Downloading http://s3.amazonaws.com/GraphLab-Datasets/mnist/sframe/train/m_4558118e.0007 to /var/tmp/graphlab-root/24991/000012.0007"
       ]
      },
      {
       "html": [
        "<pre>PROGRESS: Downloading http://s3.amazonaws.com/GraphLab-Datasets/mnist/sframe/test/dir_archive.ini to /var/tmp/graphlab-root/24991/000013.ini</pre>"
       ],
       "metadata": {},
       "output_type": "display_data",
       "text": [
        "PROGRESS: Downloading http://s3.amazonaws.com/GraphLab-Datasets/mnist/sframe/test/dir_archive.ini to /var/tmp/graphlab-root/24991/000013.ini"
       ]
      },
      {
       "html": [
        "<pre>PROGRESS: Downloading http://s3.amazonaws.com/GraphLab-Datasets/mnist/sframe/test/objects.bin to /var/tmp/graphlab-root/24991/000014.bin</pre>"
       ],
       "metadata": {},
       "output_type": "display_data",
       "text": [
        "PROGRESS: Downloading http://s3.amazonaws.com/GraphLab-Datasets/mnist/sframe/test/objects.bin to /var/tmp/graphlab-root/24991/000014.bin"
       ]
      },
      {
       "html": [
        "<pre>PROGRESS: Downloading http://s3.amazonaws.com/GraphLab-Datasets/mnist/sframe/test/m_310c50b3.frame_idx to /var/tmp/graphlab-root/24991/000015.frame_idx</pre>"
       ],
       "metadata": {},
       "output_type": "display_data",
       "text": [
        "PROGRESS: Downloading http://s3.amazonaws.com/GraphLab-Datasets/mnist/sframe/test/m_310c50b3.frame_idx to /var/tmp/graphlab-root/24991/000015.frame_idx"
       ]
      },
      {
       "html": [
        "<pre>PROGRESS: Downloading http://s3.amazonaws.com/GraphLab-Datasets/mnist/sframe/test/m_310c50b3.sidx to /var/tmp/graphlab-root/24991/000016.sidx</pre>"
       ],
       "metadata": {},
       "output_type": "display_data",
       "text": [
        "PROGRESS: Downloading http://s3.amazonaws.com/GraphLab-Datasets/mnist/sframe/test/m_310c50b3.sidx to /var/tmp/graphlab-root/24991/000016.sidx"
       ]
      },
      {
       "html": [
        "<pre>PROGRESS: Downloading http://s3.amazonaws.com/GraphLab-Datasets/mnist/sframe/test/m_310c50b3.0000 to /var/tmp/graphlab-root/24991/000017.0000</pre>"
       ],
       "metadata": {},
       "output_type": "display_data",
       "text": [
        "PROGRESS: Downloading http://s3.amazonaws.com/GraphLab-Datasets/mnist/sframe/test/m_310c50b3.0000 to /var/tmp/graphlab-root/24991/000017.0000"
       ]
      },
      {
       "html": [
        "<pre>PROGRESS: Downloading http://s3.amazonaws.com/GraphLab-Datasets/mnist/sframe/test/m_310c50b3.0001 to /var/tmp/graphlab-root/24991/000018.0001</pre>"
       ],
       "metadata": {},
       "output_type": "display_data",
       "text": [
        "PROGRESS: Downloading http://s3.amazonaws.com/GraphLab-Datasets/mnist/sframe/test/m_310c50b3.0001 to /var/tmp/graphlab-root/24991/000018.0001"
       ]
      },
      {
       "html": [
        "<pre>PROGRESS: Downloading http://s3.amazonaws.com/GraphLab-Datasets/mnist/sframe/test/m_310c50b3.0002 to /var/tmp/graphlab-root/24991/000019.0002</pre>"
       ],
       "metadata": {},
       "output_type": "display_data",
       "text": [
        "PROGRESS: Downloading http://s3.amazonaws.com/GraphLab-Datasets/mnist/sframe/test/m_310c50b3.0002 to /var/tmp/graphlab-root/24991/000019.0002"
       ]
      },
      {
       "html": [
        "<pre>PROGRESS: Downloading http://s3.amazonaws.com/GraphLab-Datasets/mnist/sframe/test/m_310c50b3.0003 to /var/tmp/graphlab-root/24991/000020.0003</pre>"
       ],
       "metadata": {},
       "output_type": "display_data",
       "text": [
        "PROGRESS: Downloading http://s3.amazonaws.com/GraphLab-Datasets/mnist/sframe/test/m_310c50b3.0003 to /var/tmp/graphlab-root/24991/000020.0003"
       ]
      },
      {
       "html": [
        "<pre>PROGRESS: Downloading http://s3.amazonaws.com/GraphLab-Datasets/mnist/sframe/test/m_310c50b3.0004 to /var/tmp/graphlab-root/24991/000021.0004</pre>"
       ],
       "metadata": {},
       "output_type": "display_data",
       "text": [
        "PROGRESS: Downloading http://s3.amazonaws.com/GraphLab-Datasets/mnist/sframe/test/m_310c50b3.0004 to /var/tmp/graphlab-root/24991/000021.0004"
       ]
      },
      {
       "html": [
        "<pre>PROGRESS: Downloading http://s3.amazonaws.com/GraphLab-Datasets/mnist/sframe/test/m_310c50b3.0005 to /var/tmp/graphlab-root/24991/000022.0005</pre>"
       ],
       "metadata": {},
       "output_type": "display_data",
       "text": [
        "PROGRESS: Downloading http://s3.amazonaws.com/GraphLab-Datasets/mnist/sframe/test/m_310c50b3.0005 to /var/tmp/graphlab-root/24991/000022.0005"
       ]
      },
      {
       "html": [
        "<pre>PROGRESS: Downloading http://s3.amazonaws.com/GraphLab-Datasets/mnist/sframe/test/m_310c50b3.0006 to /var/tmp/graphlab-root/24991/000023.0006</pre>"
       ],
       "metadata": {},
       "output_type": "display_data",
       "text": [
        "PROGRESS: Downloading http://s3.amazonaws.com/GraphLab-Datasets/mnist/sframe/test/m_310c50b3.0006 to /var/tmp/graphlab-root/24991/000023.0006"
       ]
      },
      {
       "html": [
        "<pre>PROGRESS: Downloading http://s3.amazonaws.com/GraphLab-Datasets/mnist/sframe/test/m_310c50b3.0007 to /var/tmp/graphlab-root/24991/000024.0007</pre>"
       ],
       "metadata": {},
       "output_type": "display_data",
       "text": [
        "PROGRESS: Downloading http://s3.amazonaws.com/GraphLab-Datasets/mnist/sframe/test/m_310c50b3.0007 to /var/tmp/graphlab-root/24991/000024.0007"
       ]
      }
     ],
     "prompt_number": 6
    },
    {
     "cell_type": "code",
     "collapsed": false,
     "input": [
      "training_data['image'] = graphlab.image_analysis.resize(training_data['image'], 28, 28, 1)\n",
      "validation_data['image'] = graphlab.image_analysis.resize(validation_data['image'], 28, 28, 1)\n",
      "test_data['image'] = graphlab.image_analysis.resize(test_data['image'], 28, 28, 1)\n",
      "\n",
      "net = graphlab.deeplearning.create(training_data, target='label')\n",
      "\n",
      "net"
     ],
     "language": "python",
     "metadata": {},
     "outputs": [
      {
       "metadata": {},
       "output_type": "pyout",
       "prompt_number": 10,
       "text": [
        "\n",
        "### network layers ###\n",
        "layer[0]: ConvolutionLayer\n",
        "  init_random = gaussian\n",
        "  padding = 0\n",
        "  stride = 2\n",
        "  num_channels = 10\n",
        "  num_groups = 1\n",
        "  kernel_size = 3\n",
        "layer[1]: MaxPoolingLayer\n",
        "  padding = 0\n",
        "  stride = 2\n",
        "  kernel_size = 3\n",
        "layer[2]: FlattenLayer\n",
        "layer[3]: FullConnectionLayer\n",
        "  init_sigma = 0.01\n",
        "  init_random = gaussian\n",
        "  init_bias = 0\n",
        "  num_hidden_units = 100\n",
        "layer[4]: RectifiedLinearLayer\n",
        "layer[5]: DropoutLayer\n",
        "  threshold = 0.5\n",
        "layer[6]: FullConnectionLayer\n",
        "  init_sigma = 0.01\n",
        "  init_random = gaussian\n",
        "  init_bias = 0\n",
        "  num_hidden_units = 10\n",
        "layer[7]: SoftmaxLayer\n",
        "### end network layers ###\n",
        "\n",
        "### network parameters ###\n",
        "learning_rate = 0.001\n",
        "momentum = 0.9\n",
        "### end network parameters ###"
       ]
      }
     ],
     "prompt_number": 10
    },
    {
     "cell_type": "code",
     "collapsed": false,
     "input": [
      "net.layers[4].num_hidden_units = 10\n",
      "m = graphlab.neuralnet_classifier.create(training_data, target='label',\n",
      "                                       network = net,\n",
      "                                         validation_set=validation_data,\n",
      "                                         metric=['accuracy', 'recall@2'],\n",
      "                                        max_iterations=3)\n",
      "\n",
      "m"
     ],
     "language": "python",
     "metadata": {},
     "outputs": [
      {
       "html": [
        "<pre>PROGRESS: Computing mean image...</pre>"
       ],
       "metadata": {},
       "output_type": "display_data",
       "text": [
        "PROGRESS: Computing mean image..."
       ]
      },
      {
       "html": [
        "<pre>PROGRESS: Done computing mean image.</pre>"
       ],
       "metadata": {},
       "output_type": "display_data",
       "text": [
        "PROGRESS: Done computing mean image."
       ]
      },
      {
       "html": [
        "<pre>PROGRESS: For Nvidia GPU CUDA support, please pip install http://static.graphlab.com/files/graphlab-create-1.2.1.gpu.tar.gz</pre>"
       ],
       "metadata": {},
       "output_type": "display_data",
       "text": [
        "PROGRESS: For Nvidia GPU CUDA support, please pip install http://static.graphlab.com/files/graphlab-create-1.2.1.gpu.tar.gz"
       ]
      },
      {
       "html": [
        "<pre>PROGRESS: Creating neuralnet using device = cpu</pre>"
       ],
       "metadata": {},
       "output_type": "display_data",
       "text": [
        "PROGRESS: Creating neuralnet using device = cpu"
       ]
      },
      {
       "html": [
        "<pre>PROGRESS: +-----------+----------+--------------+-------------------+---------------------+-------------------+---------------------+-----------------+</pre>"
       ],
       "metadata": {},
       "output_type": "display_data",
       "text": [
        "PROGRESS: +-----------+----------+--------------+-------------------+---------------------+-------------------+---------------------+-----------------+"
       ]
      },
      {
       "html": [
        "<pre>PROGRESS: | Iteration | Examples | Elapsed Time | Training-accuracy | Validation-accuracy | Training-recall@2 | Validation-recall@2 | Examples/second |</pre>"
       ],
       "metadata": {},
       "output_type": "display_data",
       "text": [
        "PROGRESS: | Iteration | Examples | Elapsed Time | Training-accuracy | Validation-accuracy | Training-recall@2 | Validation-recall@2 | Examples/second |"
       ]
      },
      {
       "html": [
        "<pre>PROGRESS: +-----------+----------+--------------+-------------------+---------------------+-------------------+---------------------+-----------------+</pre>"
       ],
       "metadata": {},
       "output_type": "display_data",
       "text": [
        "PROGRESS: +-----------+----------+--------------+-------------------+---------------------+-------------------+---------------------+-----------------+"
       ]
      },
      {
       "html": [
        "<pre>PROGRESS: | 1         | 32800    | 10.011487    | 0.749939          |                     | 0.860732          |                     | 3276.245850     |</pre>"
       ],
       "metadata": {},
       "output_type": "display_data",
       "text": [
        "PROGRESS: | 1         | 32800    | 10.011487    | 0.749939          |                     | 0.860732          |                     | 3276.245850     |"
       ]
      },
      {
       "html": [
        "<pre>PROGRESS: | 1         | 47900    | 16.260475    | 0.798580          | 0.949262            | 0.893653          | 0.984508            | 2416.386963     |</pre>"
       ],
       "metadata": {},
       "output_type": "display_data",
       "text": [
        "PROGRESS: | 1         | 47900    | 16.260475    | 0.798580          | 0.949262            | 0.893653          | 0.984508            | 2416.386963     |"
       ]
      },
      {
       "html": [
        "<pre>PROGRESS: | 2         | 33400    | 26.287692    | 0.924850          |                     | 0.974880          |                     | 3331.579834     |</pre>"
       ],
       "metadata": {},
       "output_type": "display_data",
       "text": [
        "PROGRESS: | 2         | 33400    | 26.287692    | 0.924850          |                     | 0.974880          |                     | 3331.579834     |"
       ]
      },
      {
       "html": [
        "<pre>PROGRESS: | 2         | 47900    | 32.326483    | 0.928288          | 0.963636            | 0.975825          | 0.989669            | 2401.138184     |</pre>"
       ],
       "metadata": {},
       "output_type": "display_data",
       "text": [
        "PROGRESS: | 2         | 47900    | 32.326483    | 0.928288          | 0.963636            | 0.975825          | 0.989669            | 2401.138184     |"
       ]
      },
      {
       "html": [
        "<pre>PROGRESS: | 3         | 33300    | 42.355786    | 0.941021          |                     | 0.980631          |                     | 3320.936523     |</pre>"
       ],
       "metadata": {},
       "output_type": "display_data",
       "text": [
        "PROGRESS: | 3         | 33300    | 42.355786    | 0.941021          |                     | 0.980631          |                     | 3320.936523     |"
       ]
      },
      {
       "html": [
        "<pre>PROGRESS: | 3         | 47900    | 48.430754    | 0.941315          | 0.967438            | 0.980877          | 0.990826            | 2403.300049     |</pre>"
       ],
       "metadata": {},
       "output_type": "display_data",
       "text": [
        "PROGRESS: | 3         | 47900    | 48.430754    | 0.941315          | 0.967438            | 0.980877          | 0.990826            | 2403.300049     |"
       ]
      },
      {
       "html": [
        "<pre>PROGRESS: +-----------+----------+--------------+-------------------+---------------------+-------------------+---------------------+-----------------+</pre>"
       ],
       "metadata": {},
       "output_type": "display_data",
       "text": [
        "PROGRESS: +-----------+----------+--------------+-------------------+---------------------+-------------------+---------------------+-----------------+"
       ]
      },
      {
       "output_type": "stream",
       "stream": "stdout",
       "text": [
        "Using network:\n",
        "\n",
        "### network layers ###\n",
        "layer[0]: ConvolutionLayer\n",
        "  init_random = gaussian\n",
        "  padding = 0\n",
        "  stride = 2\n",
        "  num_channels = 10\n",
        "  num_groups = 1\n",
        "  kernel_size = 3\n",
        "layer[1]: MaxPoolingLayer\n",
        "  padding = 0\n",
        "  stride = 2\n",
        "  kernel_size = 3\n",
        "layer[2]: FlattenLayer\n",
        "layer[3]: FullConnectionLayer\n",
        "  init_sigma = 0.01\n",
        "  init_random = gaussian\n",
        "  init_bias = 0\n",
        "  num_hidden_units = 100\n",
        "layer[4]: RectifiedLinearLayer\n",
        "  num_hidden_units = 10\n",
        "layer[5]: DropoutLayer\n",
        "  threshold = 0.5\n",
        "layer[6]: FullConnectionLayer\n",
        "  init_sigma = 0.01\n",
        "  init_random = gaussian\n",
        "  init_bias = 0\n",
        "  num_hidden_units = 10\n",
        "layer[7]: SoftmaxLayer\n",
        "### end network layers ###\n",
        "\n",
        "### network parameters ###\n",
        "learning_rate = 0.001\n",
        "metric = accuracy,recall@2\n",
        "momentum = 0.9\n",
        "### end network parameters ###\n",
        "\n"
       ]
      },
      {
       "metadata": {},
       "output_type": "pyout",
       "prompt_number": 11,
       "text": [
        "Class               : NeuralNetClassifier\n",
        "\n",
        "Examples            : 47899\n",
        "Features            : 1\n",
        "Target column       : label\n",
        "\n",
        "Training accuracy   : 0.9413\n",
        "Validation accuracy : 0.9674\n",
        "Training recall@2   : 0.9809\n",
        "Validation recall@2 : 0.9908\n",
        "Training time (sec) : 48.8777"
       ]
      }
     ],
     "prompt_number": 11
    },
    {
     "cell_type": "code",
     "collapsed": false,
     "input": [
      "pred = m.classify(test_data)\n",
      "pred_top2 = m.predict_topk(test_data, k=2)\n",
      "\n",
      "pred,hr,pred_top2\n"
     ],
     "language": "python",
     "metadata": {},
     "outputs": [
      {
       "metadata": {},
       "output_type": "pyout",
       "prompt_number": 12,
       "text": [
        "(Columns:\n",
        " \trow_id\tint\n",
        " \tclass\tint\n",
        " \tscore\tfloat\n",
        " \n",
        " Rows: 10000\n",
        " \n",
        " Data:\n",
        " +--------+-------+----------------+\n",
        " | row_id | class |     score      |\n",
        " +--------+-------+----------------+\n",
        " |   0    |   0   | 0.999915838242 |\n",
        " |   1    |   0   | 0.999997854233 |\n",
        " |   2    |   0   | 0.999968767166 |\n",
        " |   3    |   0   | 0.999928951263 |\n",
        " |   4    |   0   | 0.999943256378 |\n",
        " |   5    |   0   | 0.99971228838  |\n",
        " |   6    |   0   | 0.99985229969  |\n",
        " |   7    |   0   | 0.999985694885 |\n",
        " |   8    |   0   | 0.99815505743  |\n",
        " |   9    |   0   | 0.999995946884 |\n",
        " |  ...   |  ...  |      ...       |\n",
        " +--------+-------+----------------+\n",
        " [10000 rows x 3 columns]\n",
        " Note: Only the head of the SFrame is printed.\n",
        " You can use print_rows(num_rows=m, num_columns=n) to print more rows and columns.,\n",
        " '------------------------------------------------------------------------------------------------------------------------',\n",
        " Columns:\n",
        " \trow_id\tint\n",
        " \tclass\tint\n",
        " \tscore\tfloat\n",
        " \n",
        " Rows: 20000\n",
        " \n",
        " Data:\n",
        " +--------+-------+-------------------+\n",
        " | row_id | class |       score       |\n",
        " +--------+-------+-------------------+\n",
        " |   0    |   0   |   0.999915838242  |\n",
        " |   0    |   6   |  4.6798693802e-05 |\n",
        " |   1    |   0   |   0.999997854233  |\n",
        " |   1    |   2   | 1.02780199995e-06 |\n",
        " |   2    |   0   |   0.999968767166  |\n",
        " |   2    |   2   | 1.97866665985e-05 |\n",
        " |   3    |   0   |   0.999928951263  |\n",
        " |   3    |   5   | 4.39742361777e-05 |\n",
        " |   4    |   0   |   0.999943256378  |\n",
        " |   4    |   2   |  5.3466828831e-05 |\n",
        " |  ...   |  ...  |        ...        |\n",
        " +--------+-------+-------------------+\n",
        " [20000 rows x 3 columns]\n",
        " Note: Only the head of the SFrame is printed.\n",
        " You can use print_rows(num_rows=m, num_columns=n) to print more rows and columns.)"
       ]
      }
     ],
     "prompt_number": 12
    },
    {
     "cell_type": "code",
     "collapsed": false,
     "input": [
      "eval_ = m.evaluate(test_data)\n",
      "eval_"
     ],
     "language": "python",
     "metadata": {},
     "outputs": [
      {
       "metadata": {},
       "output_type": "pyout",
       "prompt_number": 13,
       "text": [
        "{'accuracy': 0.9693999886512756, 'confusion_matrix': Columns:\n",
        " \ttarget_label\tint\n",
        " \tpredicted_label\tint\n",
        " \tcount\tint\n",
        " \n",
        " Rows: 77\n",
        " \n",
        " Data:\n",
        " +--------------+-----------------+-------+\n",
        " | target_label | predicted_label | count |\n",
        " +--------------+-----------------+-------+\n",
        " |      5       |        5        |  878  |\n",
        " |      9       |        5        |   16  |\n",
        " |      1       |        5        |   1   |\n",
        " |      8       |        5        |   17  |\n",
        " |      3       |        5        |   6   |\n",
        " |      6       |        5        |   12  |\n",
        " |      0       |        5        |   3   |\n",
        " |      7       |        5        |   2   |\n",
        " |      5       |        2        |   1   |\n",
        " |      2       |        2        |  1007 |\n",
        " |     ...      |       ...       |  ...  |\n",
        " +--------------+-----------------+-------+\n",
        " [77 rows x 3 columns]\n",
        " Note: Only the head of the SFrame is printed.\n",
        " You can use print_rows(num_rows=m, num_columns=n) to print more rows and columns.}"
       ]
      }
     ],
     "prompt_number": 13
    },
    {
     "cell_type": "code",
     "collapsed": false,
     "input": [
      "mnist_net = graphlab.deeplearning.get_builtin_neuralnet('mnist')\n",
      "\n",
      "mnist_net"
     ],
     "language": "python",
     "metadata": {},
     "outputs": [
      {
       "metadata": {},
       "output_type": "pyout",
       "prompt_number": 16,
       "text": [
        "\n",
        "### network layers ###\n",
        "layer[0]: ConvolutionLayer\n",
        "  init_random = gaussian\n",
        "  random_type = xavier\n",
        "  padding = 1\n",
        "  stride = 2\n",
        "  num_channels = 32\n",
        "  num_groups = 1\n",
        "  kernel_size = 3\n",
        "layer[1]: MaxPoolingLayer\n",
        "  padding = 0\n",
        "  stride = 2\n",
        "  kernel_size = 3\n",
        "layer[2]: FlattenLayer\n",
        "layer[3]: DropoutLayer\n",
        "  threshold = 0.5\n",
        "layer[4]: FullConnectionLayer\n",
        "  init_sigma = 0.01\n",
        "  init_random = gaussian\n",
        "  init_bias = 0\n",
        "  num_hidden_units = 100\n",
        "layer[5]: SigmoidLayer\n",
        "layer[6]: FullConnectionLayer\n",
        "  init_sigma = 0.01\n",
        "  init_random = gaussian\n",
        "  init_bias = 0\n",
        "  num_hidden_units = 10\n",
        "layer[7]: SoftmaxLayer\n",
        "### end network layers ###\n",
        "\n",
        "### network parameters ###\n",
        "init_random = gaussian\n",
        "learning_rate = 0.1\n",
        "input_shape = 1,28,28\n",
        "batch_size = 100\n",
        "divideby = 255\n",
        "l2_regularization = 0.0\n",
        "momentum = 0.9\n",
        "### end network parameters ###"
       ]
      }
     ],
     "prompt_number": 16
    },
    {
     "cell_type": "code",
     "collapsed": false,
     "input": [
      "imagenet_net = graphlab.deeplearning.get_builtin_neuralnet('imagenet')\n",
      "imagenet_net"
     ],
     "language": "python",
     "metadata": {},
     "outputs": [
      {
       "metadata": {},
       "output_type": "pyout",
       "prompt_number": 17,
       "text": [
        "\n",
        "### network layers ###\n",
        "layer[0]: ConvolutionLayer\n",
        "  init_random = gaussian\n",
        "  padding = 0\n",
        "  stride = 4\n",
        "  num_channels = 96\n",
        "  num_groups = 1\n",
        "  kernel_size = 11\n",
        "layer[1]: RectifiedLinearLayer\n",
        "layer[2]: MaxPoolingLayer\n",
        "  padding = 0\n",
        "  stride = 2\n",
        "  kernel_size = 3\n",
        "layer[3]: LocalResponseNormalizationLayer\n",
        "  alpha = 0.001\n",
        "  beta = 0.75\n",
        "  knorm = 1\n",
        "  local_size = 5\n",
        "layer[4]: ConvolutionLayer\n",
        "  init_random = gaussian\n",
        "  padding = 2\n",
        "  stride = 1\n",
        "  num_channels = 256\n",
        "  num_groups = 2\n",
        "  kernel_size = 5\n",
        "layer[5]: RectifiedLinearLayer\n",
        "layer[6]: MaxPoolingLayer\n",
        "  padding = 0\n",
        "  stride = 2\n",
        "  kernel_size = 3\n",
        "layer[7]: LocalResponseNormalizationLayer\n",
        "  alpha = 0.001\n",
        "  beta = 0.75\n",
        "  knorm = 1\n",
        "  local_size = 5\n",
        "layer[8]: ConvolutionLayer\n",
        "  init_random = gaussian\n",
        "  padding = 1\n",
        "  stride = 1\n",
        "  num_channels = 384\n",
        "  num_groups = 1\n",
        "  kernel_size = 3\n",
        "layer[9]: RectifiedLinearLayer\n",
        "layer[10]: ConvolutionLayer\n",
        "  init_random = gaussian\n",
        "  padding = 1\n",
        "  stride = 1\n",
        "  num_channels = 384\n",
        "  num_groups = 2\n",
        "  kernel_size = 3\n",
        "layer[11]: RectifiedLinearLayer\n",
        "layer[12]: ConvolutionLayer\n",
        "  init_random = gaussian\n",
        "  padding = 1\n",
        "  stride = 1\n",
        "  init_bias = 1.0\n",
        "  num_channels = 256\n",
        "  num_groups = 2\n",
        "  kernel_size = 3\n",
        "layer[13]: RectifiedLinearLayer\n",
        "layer[14]: MaxPoolingLayer\n",
        "  padding = 0\n",
        "  stride = 2\n",
        "  kernel_size = 3\n",
        "layer[15]: FlattenLayer\n",
        "layer[16]: FullConnectionLayer\n",
        "  init_sigma = 0.005\n",
        "  init_random = gaussian\n",
        "  init_bias = 1.0\n",
        "  num_hidden_units = 4096\n",
        "layer[17]: RectifiedLinearLayer\n",
        "layer[18]: DropoutLayer\n",
        "  threshold = 0.5\n",
        "layer[19]: FullConnectionLayer\n",
        "  init_sigma = 0.005\n",
        "  init_random = gaussian\n",
        "  init_bias = 1.0\n",
        "  num_hidden_units = 4096\n",
        "layer[20]: RectifiedLinearLayer\n",
        "layer[21]: DropoutLayer\n",
        "  threshold = 0.5\n",
        "layer[22]: FullConnectionLayer\n",
        "  init_sigma = 0.01\n",
        "  init_random = gaussian\n",
        "  init_bias = 0\n",
        "  num_hidden_units = 1000\n",
        "layer[23]: SoftmaxLayer\n",
        "### end network layers ###\n",
        "\n",
        "### network parameters ###\n",
        "init_random = gaussian\n",
        "random_mirror = 1\n",
        "learning_rate = 0.01\n",
        "input_shape = 3,227,227\n",
        "learning_rate_gamma = 0.1\n",
        "learning_rate_schedule = exponential_decay\n",
        "init_sigma = 0.01\n",
        "learning_rate_step = 100000\n",
        "random_crop = 1\n",
        "bias_learning_rate = 0.02\n",
        "l2_regularization = 0.0005\n",
        "momentum = 0.9\n",
        "### end network parameters ###"
       ]
      }
     ],
     "prompt_number": 17
    },
    {
     "cell_type": "code",
     "collapsed": false,
     "input": [],
     "language": "python",
     "metadata": {},
     "outputs": []
    }
   ],
   "metadata": {}
  }
 ]
}