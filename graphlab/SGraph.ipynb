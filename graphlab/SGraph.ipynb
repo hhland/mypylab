{
 "metadata": {
  "name": "",
  "signature": "sha256:ebaf13412f3a97e64ed15808717b4544c2fe91f359a415cae2763d74fc95d09a"
 },
 "nbformat": 3,
 "nbformat_minor": 0,
 "worksheets": [
  {
   "cells": [
    {
     "cell_type": "markdown",
     "metadata": {},
     "source": [
      "http://graphlab.com/products/create/docs/generated/graphlab.SGraph.html"
     ]
    },
    {
     "cell_type": "code",
     "collapsed": false,
     "input": [
      "%pylab inline\n",
      "import graphlab\n",
      "from graphlab import SGraph,Vertex,Edge,SFrame"
     ],
     "language": "python",
     "metadata": {},
     "outputs": [
      {
       "output_type": "stream",
       "stream": "stdout",
       "text": [
        "Populating the interactive namespace from numpy and matplotlib\n"
       ]
      }
     ],
     "prompt_number": 2
    },
    {
     "cell_type": "code",
     "collapsed": false,
     "input": [
      "g=SGraph()\n",
      "verts = [Vertex(0, attr={'breed': 'labrador'}),\n",
      "             Vertex(1, attr={'breed': 'labrador'}),\n",
      "             Vertex(2, attr={'breed': 'vizsla'})]\n",
      "g = g.add_vertices(verts)\n",
      "g = g.add_edges(Edge(1, 2))\n",
      "g"
     ],
     "language": "python",
     "metadata": {},
     "outputs": [
      {
       "metadata": {},
       "output_type": "pyout",
       "prompt_number": 11,
       "text": [
        "SGraph({'num_edges': 1, 'num_vertices': 3})\n",
        "Vertex Fields:['__id', 'breed']\n",
        "Edge Fields:['__src_id', '__dst_id']"
       ]
      }
     ],
     "prompt_number": 11
    },
    {
     "cell_type": "code",
     "collapsed": false,
     "input": [
      " g = SGraph().add_vertices([Vertex(i) for i in range(10)]).add_edges(\n",
      "        [Edge(i, i+1) for i in range(9)])\n",
      "g"
     ],
     "language": "python",
     "metadata": {},
     "outputs": [
      {
       "metadata": {},
       "output_type": "pyout",
       "prompt_number": 12,
       "text": [
        "SGraph({'num_edges': 9, 'num_vertices': 10})\n",
        "Vertex Fields:['__id']\n",
        "Edge Fields:['__src_id', '__dst_id']"
       ]
      }
     ],
     "prompt_number": 12
    },
    {
     "cell_type": "code",
     "collapsed": false,
     "input": [
      "edge_data = SFrame.read_csv('http://s3.amazonaws.com/GraphLab-Datasets/bond/bond_edges.csv')\n",
      "vertex_data = SFrame.read_csv('http://s3.amazonaws.com/GraphLab-Datasets/bond/bond_vertices.csv')\n",
      "g = SGraph()\n",
      "g = g.add_edges(edge_data, src_field='src', dst_field='dst')\n",
      "g = SGraph(vertices=vertex_data, edges=edge_data, vid_field='name',\n",
      "               src_field='src', dst_field='dst')\n",
      "g"
     ],
     "language": "python",
     "metadata": {},
     "outputs": [
      {
       "output_type": "stream",
       "stream": "stdout",
       "text": [
        "PROGRESS: Read 20 lines. Lines per second: 481.452\n",
        "PROGRESS: Finished parsing file http://s3.amazonaws.com/GraphLab-Datasets/bond/bond_edges.csv\n",
        "PROGRESS: Parsing completed. Parsed 20 lines in 0.042264 secs.\n",
        "Unable to infer column types. Defaulting to str\n",
        "Could not detect types. Using str for each column.\n",
        "PROGRESS: Finished parsing file http://s3.amazonaws.com/GraphLab-Datasets/bond/bond_edges.csv\n",
        "PROGRESS: Parsing completed. Parsed 20 lines in 0.014119 secs.\n",
        "PROGRESS: Finished parsing file http://s3.amazonaws.com/GraphLab-Datasets/bond/bond_vertices.csv\n",
        "PROGRESS: Parsing completed. Parsed 10 lines in 0.013743 secs.\n",
        "Unable to infer column types. Defaulting to str\n",
        "Could not detect types. Using str for each column.\n",
        "PROGRESS: Finished parsing file http://s3.amazonaws.com/GraphLab-Datasets/bond/bond_vertices.csv\n",
        "PROGRESS: Parsing completed. Parsed 10 lines in 0.013752 secs.\n"
       ]
      },
      {
       "metadata": {},
       "output_type": "pyout",
       "prompt_number": 16,
       "text": [
        "SGraph({'num_edges': 20, 'num_vertices': 10})\n",
        "Vertex Fields:['__id', 'gender', 'license_to_kill', 'villian']\n",
        "Edge Fields:['__src_id', '__dst_id', 'relation']"
       ]
      }
     ],
     "prompt_number": 16
    },
    {
     "cell_type": "code",
     "collapsed": false,
     "input": [
      "g.save('james_bond') # the graph will be saved to a directory named 'james_bond'.\n",
      "newgraph = graphlab.load_sgraph('james_bond')"
     ],
     "language": "python",
     "metadata": {},
     "outputs": [],
     "prompt_number": 17
    },
    {
     "cell_type": "code",
     "collapsed": false,
     "input": [
      "g.show(vlabel='id', v_offset=0.05)\n",
      "print g.summary()\n",
      "verts = g.get_vertices(ids=['James Bond'])\n",
      "print verts\n",
      "bosses = g.get_edges(fields={'relation': 'worksfor'})\n",
      "print bosses\n",
      "\n",
      "print g.get_edges()"
     ],
     "language": "python",
     "metadata": {},
     "outputs": [
      {
       "output_type": "stream",
       "stream": "stdout",
       "text": [
        "{'num_edges': 20, 'num_vertices': 10}\n",
        "+------------+--------+-----------------+---------+\n",
        "|    __id    | gender | license_to_kill | villian |\n",
        "+------------+--------+-----------------+---------+\n",
        "| James Bond |   M    |        1        |    0    |\n",
        "+------------+--------+-----------------+---------+\n",
        "[1 rows x 4 columns]\n",
        "\n",
        "+---------------+-------------+----------+\n",
        "|    __src_id   |   __dst_id  | relation |\n",
        "+---------------+-------------+----------+\n",
        "|       M       |  Moneypenny | worksfor |\n",
        "|       M       |  James Bond | worksfor |\n",
        "|       M       |      Q      | worksfor |\n",
        "| Elliot Carver | Henry Gupta | worksfor |\n",
        "| Elliot Carver |  Gotz Otto  | worksfor |\n",
        "+---------------+-------------+----------+\n",
        "[5 rows x 3 columns]\n"
       ]
      },
      {
       "output_type": "stream",
       "stream": "stdout",
       "text": [
        "\n",
        "+----------------+----------------+------------+\n",
        "|    __src_id    |    __dst_id    |  relation  |\n",
        "+----------------+----------------+------------+\n",
        "| Inga Bergstorm |   James Bond   |   friend   |\n",
        "|   Moneypenny   |       M        | managed_by |\n",
        "|   Moneypenny   |       Q        | colleague  |\n",
        "|  Henry Gupta   | Elliot Carver  | killed_by  |\n",
        "|       Q        |   Moneypenny   | colleague  |\n",
        "|       M        |   Moneypenny   |  worksfor  |\n",
        "|   James Bond   | Inga Bergstorm |   friend   |\n",
        "|    Wai Lin     |   James Bond   |   friend   |\n",
        "|       M        |   James Bond   |  worksfor  |\n",
        "|   James Bond   |       M        | managed_by |\n",
        "|      ...       |      ...       |    ...     |\n",
        "+----------------+----------------+------------+\n",
        "[20 rows x 3 columns]\n",
        "Note: Only the head of the SFrame is printed.\n",
        "You can use print_rows(num_rows=m, num_columns=n) to print more rows and columns.\n"
       ]
      }
     ],
     "prompt_number": 24
    },
    {
     "cell_type": "code",
     "collapsed": false,
     "input": [
      "g.edges['relation'] = g.edges['relation'].apply(lambda x: x[0].upper())\n",
      "print g.get_edges().head(5)"
     ],
     "language": "python",
     "metadata": {},
     "outputs": [
      {
       "output_type": "stream",
       "stream": "stdout",
       "text": [
        "+----------------+---------------+----------+\n",
        "|    __src_id    |    __dst_id   | relation |\n",
        "+----------------+---------------+----------+\n",
        "| Inga Bergstorm |   James Bond  |    F     |\n",
        "|   Moneypenny   |       M       |    M     |\n",
        "|   Moneypenny   |       Q       |    C     |\n",
        "|  Henry Gupta   | Elliot Carver |    K     |\n",
        "|       Q        |   Moneypenny  |    C     |\n",
        "+----------------+---------------+----------+\n",
        "[5 rows x 3 columns]\n",
        "\n"
       ]
      }
     ],
     "prompt_number": 26
    },
    {
     "cell_type": "code",
     "collapsed": false,
     "input": [
      "e = g.get_edges()  # e is a normal SFrame independent of g.\n",
      "e['relation'] = e['relation'].apply(lambda x: x[0].lower())\n",
      "print g.get_edges().head(5)"
     ],
     "language": "python",
     "metadata": {},
     "outputs": [
      {
       "output_type": "stream",
       "stream": "stdout",
       "text": [
        "+----------------+---------------+----------+\n",
        "|    __src_id    |    __dst_id   | relation |\n",
        "+----------------+---------------+----------+\n",
        "| Inga Bergstorm |   James Bond  |    F     |\n",
        "|   Moneypenny   |       M       |    M     |\n",
        "|   Moneypenny   |       Q       |    C     |\n",
        "|  Henry Gupta   | Elliot Carver |    K     |\n",
        "|       Q        |   Moneypenny  |    C     |\n",
        "+----------------+---------------+----------+\n",
        "[5 rows x 3 columns]\n",
        "\n"
       ]
      }
     ],
     "prompt_number": 27
    },
    {
     "cell_type": "code",
     "collapsed": false,
     "input": [],
     "language": "python",
     "metadata": {},
     "outputs": []
    }
   ],
   "metadata": {}
  }
 ]
}