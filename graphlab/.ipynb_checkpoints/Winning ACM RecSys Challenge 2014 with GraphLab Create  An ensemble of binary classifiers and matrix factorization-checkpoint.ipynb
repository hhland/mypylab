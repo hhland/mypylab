{
 "metadata": {
  "name": "",
  "signature": "sha256:caf1856c6372c37255d435e6cc31cbdd0244f16d9cf8443d9402396ef6570048"
 },
 "nbformat": 3,
 "nbformat_minor": 0,
 "worksheets": [
  {
   "cells": [
    {
     "cell_type": "markdown",
     "metadata": {},
     "source": [
      "# Winning ACM RecSys Challenge 2014 with GraphLab Create #\n",
      "\n",
      "# An ensemble of binary classifiers and matrix factorization #\n",
      "\n",
      "### R\u00f3bert P\u00e1lovics,  Frederick Ayala-G\u00f3mez,  Bal\u00e1zs Csikota,  B\u00e1lint Dar\u00f3czy, Levente Kocsis,  Dominic Spadacene,  Andr\u00e1s A. Bencz\u00far ###\n",
      "\n",
      "<img class=\"img-responsive\" src=\"//graphlab.com/learn/gallery/notebooks/images/recsys2014_palovics/Silicon-Valley-1000x180.png\" align=\"middle\">"
     ]
    },
    {
     "cell_type": "markdown",
     "metadata": {},
     "source": [
      "## I. Introduction\n",
      "\n",
      "The <a href=\"http://recsys.acm.org/\">ACM conference on Recommender Systems</a> hosts a yearly challenge aimed at advancing the state of the art in key components of recommender systems.  The theme of <a href=\"http://2014.recsyschallenge.com/\">RecSys Challenge 2014</a> is to rethink the evaluation methodology.  Instead of the typical rating prediction, the goal is to predict how much interaction an item would receive via Twitter.  The challenge asks participants to rank tweets about movies by the the predicted number of retweets and favorite counts.\n",
      "\n",
      "The BenHuns team from <a href=\"https://dms.sztaki.hu/en\">DMS-Budapest</a> won second place at RecSys Challenge 2014.  We experimented with various features and used GraphLab Create to build all of the predictive models.  This notebook illustrates our methodology. Further explanation of our work can be found in our <a href=\"http://dl.acm.org/citation.cfm?id=2668071\">paper</a>."
     ]
    },
    {
     "cell_type": "markdown",
     "metadata": {},
     "source": [
      "## II. Notes on feature engineering\n",
      "\n",
      "To improve ranking prediction quality, we performed the following feature engineering and data cleaning steps.\n",
      "1. Added IMDb movie metadata\n",
      "  * MovieTweetings movie features\n",
      "  * Movie features crawled from IMDb\n",
      "     - Average rating\n",
      "     - Number of ratings\n",
      "2. Added \"rating extremeness\"\n",
      "  * We created a new feature that indicates how extreme is the rating from the global average rating.\n",
      "  * Larger extremeness correlates with higher engagement (see figure below).\n",
      "<img src=\"//graphlab.com/learn/gallery/notebooks/images/recsys2014_palovics/extremeness.png\">\n",
      "3. Edited tweets and ratings\n",
      "  * Ratings that are larger than 10 or smaller than 1 are likely to be noise.\n",
      "  * We removed tweets with ratings that are larger than 10 or smaller than 1 from the training set.\n",
      "4. Added retweet indicators\n",
      "  * The dataset contains retweets.\n",
      "  * If a tweets is a retweet, we immediatley know, that the engagement ratio is larger than 0.\n",
      "  * If the original root tweet is in the datasets, we also know its engagement score.\n",
      "  * We created new binary features that indicate whether a tweet is a retweet, and whether the tweet has a retweet in the dataset.\n",
      "5. Removed spammers\n",
      "  * As it turns out, celebrities and their friends sometimes generate a flood of retweets that look suspiciously like spam.  The figure below highlights a number of retweets from Justin Bieber related spam bots.\n",
      "  * We removed such spam retweets from the training dataset.\n",
      "<img src=\"//graphlab.com/learn/gallery/notebooks/images/recsys2014_palovics/spam.png\">"
     ]
    },
    {
     "cell_type": "markdown",
     "metadata": {},
     "source": [
      "* In the code below, we exclude the code for feature generation and data cleaning.\n",
      "* **The final training and test set along with generated features and their descriptions can be downloaded from** <a href=\"https://dms.sztaki.hu/en/download/recsys-challenge-2014-ipython-notebooks\">DMS-RecSysChallenge-2014</a>.\n",
      "\n",
      "## III. Applying GraphLab Create on the challenge dataset"
     ]
    },
    {
     "cell_type": "markdown",
     "metadata": {},
     "source": [
      "<img src=\"//graphlab.com/learn/gallery/notebooks/images/recsys2014_palovics/gllogo.png\" align = \"middle\">\n",
      "<img src=\"//graphlab.com/learn/gallery/notebooks/images/recsys2014_palovics/graphlab_line.png\" align = \"middle\">"
     ]
    },
    {
     "cell_type": "code",
     "collapsed": false,
     "input": [
      "import graphlab"
     ],
     "language": "python",
     "metadata": {},
     "outputs": [],
     "prompt_number": 180
    },
    {
     "cell_type": "markdown",
     "metadata": {},
     "source": [
      "###Downloading an loading the dataset into GraphLab Create"
     ]
    },
    {
     "cell_type": "code",
     "collapsed": false,
     "input": [
      "import subprocess\n",
      "import os.path\n",
      "\n",
      "if not os.path.isfile('recsys_challenge_2014_train.csv'):\n",
      "    subprocess.call(['wget','https://dms.sztaki.hu/sites/dms.sztaki.hu/files/download/2014/recsys_challenge_2014_train.csv'])\n",
      "if not os.path.isfile('recsys_challenge_2014_train.csv'):\n",
      "    subprocess.call(['wget','https://dms.sztaki.hu/sites/dms.sztaki.hu/files/download/2014/recsys_challenge_2014_test.csv'])\n",
      "\n",
      "train_file_name = \"recsys_challenge_2014_train.csv\"\n",
      "test_file_name = \"recsys_challenge_2014_test.csv\"\n",
      "train = graphlab.SFrame.read_csv(train_file_name,delimiter=',')\n",
      "test = graphlab.SFrame.read_csv(test_file_name,delimiter=',')"
     ],
     "language": "python",
     "metadata": {},
     "outputs": [
      {
       "html": [
        "<pre>PROGRESS: Finished parsing file /home/rpalovics/Downloads/recsys_challenge_2014_train.csv</pre>"
       ],
       "metadata": {},
       "output_type": "display_data",
       "text": [
        "PROGRESS: Finished parsing file /home/rpalovics/Downloads/recsys_challenge_2014_train.csv"
       ]
      },
      {
       "html": [
        "<pre>PROGRESS: Parsing completed. Parsed 100 lines in 0.13 secs.</pre>"
       ],
       "metadata": {},
       "output_type": "display_data",
       "text": [
        "PROGRESS: Parsing completed. Parsed 100 lines in 0.13 secs."
       ]
      },
      {
       "output_type": "stream",
       "stream": "stdout",
       "text": [
        "------------------------------------------------------"
       ]
      },
      {
       "html": [
        "<pre>PROGRESS: Finished parsing file /home/rpalovics/Downloads/recsys_challenge_2014_train.csv</pre>"
       ],
       "metadata": {},
       "output_type": "display_data",
       "text": [
        "PROGRESS: Finished parsing file /home/rpalovics/Downloads/recsys_challenge_2014_train.csv"
       ]
      },
      {
       "html": [
        "<pre>PROGRESS: Parsing completed. Parsed 170155 lines in 0.95 secs.</pre>"
       ],
       "metadata": {},
       "output_type": "display_data",
       "text": [
        "PROGRESS: Parsing completed. Parsed 170155 lines in 0.95 secs."
       ]
      },
      {
       "html": [
        "<pre>PROGRESS: Finished parsing file /home/rpalovics/Downloads/recsys_challenge_2014_test.csv</pre>"
       ],
       "metadata": {},
       "output_type": "display_data",
       "text": [
        "PROGRESS: Finished parsing file /home/rpalovics/Downloads/recsys_challenge_2014_test.csv"
       ]
      },
      {
       "html": [
        "<pre>PROGRESS: Parsing completed. Parsed 100 lines in 0.03 secs.</pre>"
       ],
       "metadata": {},
       "output_type": "display_data",
       "text": [
        "PROGRESS: Parsing completed. Parsed 100 lines in 0.03 secs."
       ]
      },
      {
       "output_type": "stream",
       "stream": "stdout",
       "text": [
        "\n",
        "Inferred types from first line of file as \n",
        "column_type_hints=[int,int,int,int,float,int,int,int,int,int,int,int,int,int,int,int,float,float,int,int,int,int,float,float,float,int,int,int,int,int,int,float,float,int,int,int,int,int,int,int,int,int,int,int,int,int,int,int,int,int,int,int,int,int,int,int,int,int,int,int,int]\n",
        "If parsing fails due to incorrect types, you can correct\n",
        "the inferred type list above and pass it to read_csv in\n",
        "the column_type_hints argument\n",
        "------------------------------------------------------\n",
        "------------------------------------------------------"
       ]
      },
      {
       "html": [
        "<pre>PROGRESS: Finished parsing file /home/rpalovics/Downloads/recsys_challenge_2014_test.csv</pre>"
       ],
       "metadata": {},
       "output_type": "display_data",
       "text": [
        "PROGRESS: Finished parsing file /home/rpalovics/Downloads/recsys_challenge_2014_test.csv"
       ]
      },
      {
       "html": [
        "<pre>PROGRESS: Parsing completed. Parsed 21285 lines in 0.15 secs.</pre>"
       ],
       "metadata": {},
       "output_type": "display_data",
       "text": [
        "PROGRESS: Parsing completed. Parsed 21285 lines in 0.15 secs."
       ]
      },
      {
       "output_type": "stream",
       "stream": "stdout",
       "text": [
        "\n",
        "Inferred types from first line of file as \n",
        "column_type_hints=[int,int,int,int,float,int,int,int,int,int,int,int,int,int,int,int,float,float,int,int,int,int,float,float,float,int,int,int,int,int,int,float,float,int,int,int,int,int,int,int,int,int,int,int,int,int,int,int,int,int,int,int,int,int,int,int,int,int,int,int,int]\n",
        "If parsing fails due to incorrect types, you can correct\n",
        "the inferred type list above and pass it to read_csv in\n",
        "the column_type_hints argument\n",
        "------------------------------------------------------\n"
       ]
      }
     ],
     "prompt_number": 181
    },
    {
     "cell_type": "markdown",
     "metadata": {},
     "source": [
      "### Saving out the groundtruth test set for final evaluation"
     ]
    },
    {
     "cell_type": "code",
     "collapsed": false,
     "input": [
      "test_solutions = test[['user_id', 'tweet_id', 'engagement_label']]\n",
      "test_solutions.sort('user_id')\n",
      "test_solutions.save('test_solution', format='csv')"
     ],
     "language": "python",
     "metadata": {},
     "outputs": [],
     "prompt_number": 182
    },
    {
     "cell_type": "markdown",
     "metadata": {},
     "source": [
      "<img src=\"//graphlab.com/learn/gallery/notebooks/images/recsys2014_palovics/graphlab_line.png\" align = \"middle\">"
     ]
    },
    {
     "cell_type": "markdown",
     "metadata": {},
     "source": [
      "### Building predictive models\n",
      "\n",
      "* A large number of tweets have zero engagement\n",
      "* We hypothesized that it would be useful to separate the prediction task into two parts:\n",
      "  - prediction of whether the tweet has any engagement\n",
      "  - scoring of *how much* engagement there is\n",
      "* For the first subtask, we build three models: linear regression, gradient boosted trees, and matrix factorization\n",
      "* The final prediction score is taken to be an ensemble of individual model outputs along with a weighted combination of key features"
     ]
    },
    {
     "cell_type": "code",
     "collapsed": false,
     "input": [
      "models = {}\n",
      "recommenders = {}"
     ],
     "language": "python",
     "metadata": {},
     "outputs": [],
     "prompt_number": 183
    },
    {
     "cell_type": "markdown",
     "metadata": {},
     "source": [
      "#### Linear regression model"
     ]
    },
    {
     "cell_type": "code",
     "collapsed": false,
     "input": [
      "# Based on our measurements, these features are useful for linear regression\n",
      "features = ['rating_diff', 'rating', 'tweet_mention_num', 'tweet_is_retweet', 'tweet_has_retweet', 'rating_extreme']\n",
      "models[\"regression\"] = graphlab.linear_regression.create(train,\n",
      "                                                         target='engagement_label',\n",
      "                                                         features=features,\n",
      "                                                         solver='newton', \n",
      "                                                         max_iterations=10,\n",
      "                                                         convergence_threshold=0.01, \n",
      "                                                         l2_penalty=0.1)"
     ],
     "language": "python",
     "metadata": {},
     "outputs": [
      {
       "html": [
        "<pre>PROGRESS: Linear regression:</pre>"
       ],
       "metadata": {},
       "output_type": "display_data",
       "text": [
        "PROGRESS: Linear regression:"
       ]
      },
      {
       "html": [
        "<pre>PROGRESS: --------------------------------------------------------</pre>"
       ],
       "metadata": {},
       "output_type": "display_data",
       "text": [
        "PROGRESS: --------------------------------------------------------"
       ]
      },
      {
       "html": [
        "<pre>PROGRESS: Number of examples          : 170155</pre>"
       ],
       "metadata": {},
       "output_type": "display_data",
       "text": [
        "PROGRESS: Number of examples          : 170155"
       ]
      },
      {
       "html": [
        "<pre>PROGRESS: Number of features          : 6</pre>"
       ],
       "metadata": {},
       "output_type": "display_data",
       "text": [
        "PROGRESS: Number of features          : 6"
       ]
      },
      {
       "html": [
        "<pre>PROGRESS: Number of unpacked features : 6</pre>"
       ],
       "metadata": {},
       "output_type": "display_data",
       "text": [
        "PROGRESS: Number of unpacked features : 6"
       ]
      },
      {
       "html": [
        "<pre>PROGRESS: Number of coefficients    : 7</pre>"
       ],
       "metadata": {},
       "output_type": "display_data",
       "text": [
        "PROGRESS: Number of coefficients    : 7"
       ]
      },
      {
       "html": [
        "<pre>PROGRESS: Starting Newton Method \n",
        "--------------------------------------------------------</pre>"
       ],
       "metadata": {},
       "output_type": "display_data",
       "text": [
        "PROGRESS: Starting Newton Method \n",
        "--------------------------------------------------------"
       ]
      },
      {
       "html": [
        "<pre>PROGRESS:   Iter   Grad-Norm        Loss   Step size Elapsed time</pre>"
       ],
       "metadata": {},
       "output_type": "display_data",
       "text": [
        "PROGRESS:   Iter   Grad-Norm        Loss   Step size Elapsed time"
       ]
      },
      {
       "html": [
        "<pre>PROGRESS:      0   3.379e+04   8.048e+03   1.000e+00        0.14s</pre>"
       ],
       "metadata": {},
       "output_type": "display_data",
       "text": [
        "PROGRESS:      0   3.379e+04   8.048e+03   1.000e+00        0.14s"
       ]
      },
      {
       "html": [
        "<pre>PROGRESS:      1   4.522e-09   4.769e+03   1.000e+00        0.26s</pre>"
       ],
       "metadata": {},
       "output_type": "display_data",
       "text": [
        "PROGRESS:      1   4.522e-09   4.769e+03   1.000e+00        0.26s"
       ]
      }
     ],
     "prompt_number": 184
    },
    {
     "cell_type": "markdown",
     "metadata": {},
     "source": [
      "#### Gradient boosted trees model"
     ]
    },
    {
     "cell_type": "code",
     "collapsed": false,
     "input": [
      "models[\"gradient_boosted_tree\"] = graphlab.boosted_trees_classifier.create(train,\n",
      "                                                                           target='engagement_label', \n",
      "                                                                           max_iterations = 18, \n",
      "                                                                           max_depth=6)"
     ],
     "language": "python",
     "metadata": {},
     "outputs": [
      {
       "html": [
        "<pre>PROGRESS: WARNING: Detected extremely low variance for feature(s) 'rating_other', 'tweet_url_num', 'movie_genre_Reality-TV' because all entries are nearly the same.\n",
        "Proceeding with model training using all features. If the model does not provide results of adequate quality, exclude the above mentioned feature(s) from the input dataset.</pre>"
       ],
       "metadata": {},
       "output_type": "display_data",
       "text": [
        "PROGRESS: WARNING: Detected extremely low variance for feature(s) 'rating_other', 'tweet_url_num', 'movie_genre_Reality-TV' because all entries are nearly the same.\n",
        "Proceeding with model training using all features. If the model does not provide results of adequate quality, exclude the above mentioned feature(s) from the input dataset."
       ]
      },
      {
       "html": [
        "<pre>PROGRESS: Boosted trees classifier:</pre>"
       ],
       "metadata": {},
       "output_type": "display_data",
       "text": [
        "PROGRESS: Boosted trees classifier:"
       ]
      },
      {
       "html": [
        "<pre>PROGRESS: --------------------------------------------------------</pre>"
       ],
       "metadata": {},
       "output_type": "display_data",
       "text": [
        "PROGRESS: --------------------------------------------------------"
       ]
      },
      {
       "html": [
        "<pre>PROGRESS: Number of examples          : 170155</pre>"
       ],
       "metadata": {},
       "output_type": "display_data",
       "text": [
        "PROGRESS: Number of examples          : 170155"
       ]
      },
      {
       "html": [
        "<pre>PROGRESS: Number of classes           : 2</pre>"
       ],
       "metadata": {},
       "output_type": "display_data",
       "text": [
        "PROGRESS: Number of classes           : 2"
       ]
      },
      {
       "html": [
        "<pre>PROGRESS: Number of feature columns   : 60</pre>"
       ],
       "metadata": {},
       "output_type": "display_data",
       "text": [
        "PROGRESS: Number of feature columns   : 60"
       ]
      },
      {
       "html": [
        "<pre>PROGRESS: Number of unpacked features : 60</pre>"
       ],
       "metadata": {},
       "output_type": "display_data",
       "text": [
        "PROGRESS: Number of unpacked features : 60"
       ]
      },
      {
       "html": [
        "<pre>PROGRESS: Starting Boosted Trees</pre>"
       ],
       "metadata": {},
       "output_type": "display_data",
       "text": [
        "PROGRESS: Starting Boosted Trees"
       ]
      },
      {
       "html": [
        "<pre>PROGRESS: --------------------------------------------------------</pre>"
       ],
       "metadata": {},
       "output_type": "display_data",
       "text": [
        "PROGRESS: --------------------------------------------------------"
       ]
      },
      {
       "html": [
        "<pre>PROGRESS:   Iter    Accuracy Elapsed time</pre>"
       ],
       "metadata": {},
       "output_type": "display_data",
       "text": [
        "PROGRESS:   Iter    Accuracy Elapsed time"
       ]
      },
      {
       "html": [
        "<pre>PROGRESS:      0   9.715e-01        1.85s</pre>"
       ],
       "metadata": {},
       "output_type": "display_data",
       "text": [
        "PROGRESS:      0   9.715e-01        1.85s"
       ]
      },
      {
       "html": [
        "<pre>PROGRESS:      1   9.715e-01        2.61s</pre>"
       ],
       "metadata": {},
       "output_type": "display_data",
       "text": [
        "PROGRESS:      1   9.715e-01        2.61s"
       ]
      },
      {
       "html": [
        "<pre>PROGRESS:      2   9.715e-01        3.39s</pre>"
       ],
       "metadata": {},
       "output_type": "display_data",
       "text": [
        "PROGRESS:      2   9.715e-01        3.39s"
       ]
      },
      {
       "html": [
        "<pre>PROGRESS:      3   9.715e-01        4.22s</pre>"
       ],
       "metadata": {},
       "output_type": "display_data",
       "text": [
        "PROGRESS:      3   9.715e-01        4.22s"
       ]
      },
      {
       "html": [
        "<pre>PROGRESS:      4   9.715e-01        4.96s</pre>"
       ],
       "metadata": {},
       "output_type": "display_data",
       "text": [
        "PROGRESS:      4   9.715e-01        4.96s"
       ]
      },
      {
       "html": [
        "<pre>PROGRESS:      5   9.717e-01        5.71s</pre>"
       ],
       "metadata": {},
       "output_type": "display_data",
       "text": [
        "PROGRESS:      5   9.717e-01        5.71s"
       ]
      },
      {
       "html": [
        "<pre>PROGRESS:      6   9.716e-01        6.46s</pre>"
       ],
       "metadata": {},
       "output_type": "display_data",
       "text": [
        "PROGRESS:      6   9.716e-01        6.46s"
       ]
      },
      {
       "html": [
        "<pre>PROGRESS:      7   9.716e-01        7.27s</pre>"
       ],
       "metadata": {},
       "output_type": "display_data",
       "text": [
        "PROGRESS:      7   9.716e-01        7.27s"
       ]
      },
      {
       "html": [
        "<pre>PROGRESS:      8   9.717e-01        8.03s</pre>"
       ],
       "metadata": {},
       "output_type": "display_data",
       "text": [
        "PROGRESS:      8   9.717e-01        8.03s"
       ]
      },
      {
       "html": [
        "<pre>PROGRESS:      9   9.717e-01        8.84s</pre>"
       ],
       "metadata": {},
       "output_type": "display_data",
       "text": [
        "PROGRESS:      9   9.717e-01        8.84s"
       ]
      },
      {
       "html": [
        "<pre>PROGRESS:     10   9.717e-01        9.62s</pre>"
       ],
       "metadata": {},
       "output_type": "display_data",
       "text": [
        "PROGRESS:     10   9.717e-01        9.62s"
       ]
      },
      {
       "html": [
        "<pre>PROGRESS:     11   9.718e-01       10.42s</pre>"
       ],
       "metadata": {},
       "output_type": "display_data",
       "text": [
        "PROGRESS:     11   9.718e-01       10.42s"
       ]
      },
      {
       "html": [
        "<pre>PROGRESS:     12   9.718e-01       11.23s</pre>"
       ],
       "metadata": {},
       "output_type": "display_data",
       "text": [
        "PROGRESS:     12   9.718e-01       11.23s"
       ]
      },
      {
       "html": [
        "<pre>PROGRESS:     13   9.719e-01       12.04s</pre>"
       ],
       "metadata": {},
       "output_type": "display_data",
       "text": [
        "PROGRESS:     13   9.719e-01       12.04s"
       ]
      },
      {
       "html": [
        "<pre>PROGRESS:     14   9.719e-01       12.81s</pre>"
       ],
       "metadata": {},
       "output_type": "display_data",
       "text": [
        "PROGRESS:     14   9.719e-01       12.81s"
       ]
      },
      {
       "html": [
        "<pre>PROGRESS:     15   9.719e-01       13.59s</pre>"
       ],
       "metadata": {},
       "output_type": "display_data",
       "text": [
        "PROGRESS:     15   9.719e-01       13.59s"
       ]
      },
      {
       "html": [
        "<pre>PROGRESS:     16   9.719e-01       14.43s</pre>"
       ],
       "metadata": {},
       "output_type": "display_data",
       "text": [
        "PROGRESS:     16   9.719e-01       14.43s"
       ]
      },
      {
       "html": [
        "<pre>PROGRESS:     17   9.720e-01       15.25s</pre>"
       ],
       "metadata": {},
       "output_type": "display_data",
       "text": [
        "PROGRESS:     17   9.720e-01       15.25s"
       ]
      }
     ],
     "prompt_number": 185
    },
    {
     "cell_type": "markdown",
     "metadata": {},
     "source": [
      "#### Matrix factorization model"
     ]
    },
    {
     "cell_type": "code",
     "collapsed": false,
     "input": [
      "models[\"matrix_factorization\"] = graphlab.factorization_recommender.create(train,\n",
      "                                                                           'user_id',\n",
      "                                                                           'movie_id',\n",
      "                                                                           'engagement_label', \n",
      "                                                                           side_data_factorization=False,\n",
      "                                                                           regularization=0.001,\n",
      "                                                                           num_factors = 8,\n",
      "                                                                           verbose= True)"
     ],
     "language": "python",
     "metadata": {},
     "outputs": [
      {
       "html": [
        "<pre>PROGRESS: Recsys training: model = factorization_recommender</pre>"
       ],
       "metadata": {},
       "output_type": "display_data",
       "text": [
        "PROGRESS: Recsys training: model = factorization_recommender"
       ]
      },
      {
       "html": [
        "<pre>PROGRESS: Preparing data set.</pre>"
       ],
       "metadata": {},
       "output_type": "display_data",
       "text": [
        "PROGRESS: Preparing data set."
       ]
      },
      {
       "html": [
        "<pre>PROGRESS:     Data has 170155 observations with 21950 users and 13618 items.</pre>"
       ],
       "metadata": {},
       "output_type": "display_data",
       "text": [
        "PROGRESS:     Data has 170155 observations with 21950 users and 13618 items."
       ]
      },
      {
       "html": [
        "<pre>PROGRESS:     Data prepared in: 1.52s</pre>"
       ],
       "metadata": {},
       "output_type": "display_data",
       "text": [
        "PROGRESS:     Data prepared in: 1.52s"
       ]
      },
      {
       "html": [
        "<pre>PROGRESS: Training factorization_recommender for recommendations.</pre>"
       ],
       "metadata": {},
       "output_type": "display_data",
       "text": [
        "PROGRESS: Training factorization_recommender for recommendations."
       ]
      },
      {
       "html": [
        "<pre>PROGRESS: +--------------------------------+--------------------------------------------------+----------+</pre>"
       ],
       "metadata": {},
       "output_type": "display_data",
       "text": [
        "PROGRESS: +--------------------------------+--------------------------------------------------+----------+"
       ]
      },
      {
       "html": [
        "<pre>PROGRESS: | Parameter                      | Description                                      | Value    |</pre>"
       ],
       "metadata": {},
       "output_type": "display_data",
       "text": [
        "PROGRESS: | Parameter                      | Description                                      | Value    |"
       ]
      },
      {
       "html": [
        "<pre>PROGRESS: +--------------------------------+--------------------------------------------------+----------+</pre>"
       ],
       "metadata": {},
       "output_type": "display_data",
       "text": [
        "PROGRESS: +--------------------------------+--------------------------------------------------+----------+"
       ]
      },
      {
       "html": [
        "<pre>PROGRESS: | num_factors                    | Factor Dimension                                 | 8        |</pre>"
       ],
       "metadata": {},
       "output_type": "display_data",
       "text": [
        "PROGRESS: | num_factors                    | Factor Dimension                                 | 8        |"
       ]
      },
      {
       "html": [
        "<pre>PROGRESS: | regularization                 | L2 Regularization on Factors                     | 0.001    |</pre>"
       ],
       "metadata": {},
       "output_type": "display_data",
       "text": [
        "PROGRESS: | regularization                 | L2 Regularization on Factors                     | 0.001    |"
       ]
      },
      {
       "html": [
        "<pre>PROGRESS: | solver                         | Solver used for training                         | auto     |</pre>"
       ],
       "metadata": {},
       "output_type": "display_data",
       "text": [
        "PROGRESS: | solver                         | Solver used for training                         | auto     |"
       ]
      },
      {
       "html": [
        "<pre>PROGRESS: | max_iterations                 | Maximum Number of Iterations                     | 50       |</pre>"
       ],
       "metadata": {},
       "output_type": "display_data",
       "text": [
        "PROGRESS: | max_iterations                 | Maximum Number of Iterations                     | 50       |"
       ]
      },
      {
       "html": [
        "<pre>PROGRESS: +--------------------------------+--------------------------------------------------+----------+</pre>"
       ],
       "metadata": {},
       "output_type": "display_data",
       "text": [
        "PROGRESS: +--------------------------------+--------------------------------------------------+----------+"
       ]
      },
      {
       "html": [
        "<pre>PROGRESS:   Optimizing model using SGD; tuning step size.</pre>"
       ],
       "metadata": {},
       "output_type": "display_data",
       "text": [
        "PROGRESS:   Optimizing model using SGD; tuning step size."
       ]
      },
      {
       "html": [
        "<pre>PROGRESS:   Using 21269 / 170155 points for tuning the step size.</pre>"
       ],
       "metadata": {},
       "output_type": "display_data",
       "text": [
        "PROGRESS:   Using 21269 / 170155 points for tuning the step size."
       ]
      },
      {
       "html": [
        "<pre>PROGRESS: +---------+-------------------+---------------------------+</pre>"
       ],
       "metadata": {},
       "output_type": "display_data",
       "text": [
        "PROGRESS: +---------+-------------------+---------------------------+"
       ]
      },
      {
       "html": [
        "<pre>PROGRESS: | Attempt | Initial Step Size | Estimated Objective Value |</pre>"
       ],
       "metadata": {},
       "output_type": "display_data",
       "text": [
        "PROGRESS: | Attempt | Initial Step Size | Estimated Objective Value |"
       ]
      },
      {
       "html": [
        "<pre>PROGRESS: +---------+-------------------+---------------------------+</pre>"
       ],
       "metadata": {},
       "output_type": "display_data",
       "text": [
        "PROGRESS: +---------+-------------------+---------------------------+"
       ]
      },
      {
       "html": [
        "<pre>PROGRESS: | 0       | 0.432939          | Not Viable                |</pre>"
       ],
       "metadata": {},
       "output_type": "display_data",
       "text": [
        "PROGRESS: | 0       | 0.432939          | Not Viable                |"
       ]
      },
      {
       "html": [
        "<pre>PROGRESS: | 1       | 0.108235          | Not Viable                |</pre>"
       ],
       "metadata": {},
       "output_type": "display_data",
       "text": [
        "PROGRESS: | 1       | 0.108235          | Not Viable                |"
       ]
      },
      {
       "html": [
        "<pre>PROGRESS: | 2       | 0.0270587         | Not Viable                |</pre>"
       ],
       "metadata": {},
       "output_type": "display_data",
       "text": [
        "PROGRESS: | 2       | 0.0270587         | Not Viable                |"
       ]
      },
      {
       "html": [
        "<pre>PROGRESS: | 3       | 0.00676468        | Not Viable                |</pre>"
       ],
       "metadata": {},
       "output_type": "display_data",
       "text": [
        "PROGRESS: | 3       | 0.00676468        | Not Viable                |"
       ]
      },
      {
       "html": [
        "<pre>PROGRESS: | 4       | 0.00169117        | Not Viable                |</pre>"
       ],
       "metadata": {},
       "output_type": "display_data",
       "text": [
        "PROGRESS: | 4       | 0.00169117        | Not Viable                |"
       ]
      },
      {
       "html": [
        "<pre>PROGRESS: | 5       | 0.000422792       | Not Viable                |</pre>"
       ],
       "metadata": {},
       "output_type": "display_data",
       "text": [
        "PROGRESS: | 5       | 0.000422792       | Not Viable                |"
       ]
      },
      {
       "html": [
        "<pre>PROGRESS: | 6       | 0.000105698       | 0.0329496                 |</pre>"
       ],
       "metadata": {},
       "output_type": "display_data",
       "text": [
        "PROGRESS: | 6       | 0.000105698       | 0.0329496                 |"
       ]
      },
      {
       "html": [
        "<pre>PROGRESS: | 7       | 5.2849e-05        | 0.0334811                 |</pre>"
       ],
       "metadata": {},
       "output_type": "display_data",
       "text": [
        "PROGRESS: | 7       | 5.2849e-05        | 0.0334811                 |"
       ]
      },
      {
       "html": [
        "<pre>PROGRESS: | 8       | 2.64245e-05       | 0.0338496                 |</pre>"
       ],
       "metadata": {},
       "output_type": "display_data",
       "text": [
        "PROGRESS: | 8       | 2.64245e-05       | 0.0338496                 |"
       ]
      },
      {
       "html": [
        "<pre>PROGRESS: | 9       | 1.32123e-05       | 0.0344212                 |</pre>"
       ],
       "metadata": {},
       "output_type": "display_data",
       "text": [
        "PROGRESS: | 9       | 1.32123e-05       | 0.0344212                 |"
       ]
      },
      {
       "html": [
        "<pre>PROGRESS: +---------+-------------------+---------------------------+</pre>"
       ],
       "metadata": {},
       "output_type": "display_data",
       "text": [
        "PROGRESS: +---------+-------------------+---------------------------+"
       ]
      },
      {
       "html": [
        "<pre>PROGRESS: | Final   | 0.000105698       | 0.0329496                 |</pre>"
       ],
       "metadata": {},
       "output_type": "display_data",
       "text": [
        "PROGRESS: | Final   | 0.000105698       | 0.0329496                 |"
       ]
      },
      {
       "html": [
        "<pre>PROGRESS: +---------+-------------------+---------------------------+</pre>"
       ],
       "metadata": {},
       "output_type": "display_data",
       "text": [
        "PROGRESS: +---------+-------------------+---------------------------+"
       ]
      },
      {
       "html": [
        "<pre>PROGRESS: Starting Optimization.</pre>"
       ],
       "metadata": {},
       "output_type": "display_data",
       "text": [
        "PROGRESS: Starting Optimization."
       ]
      },
      {
       "html": [
        "<pre>PROGRESS: +---------+--------------+-------------------+-----------------------+-------------+</pre>"
       ],
       "metadata": {},
       "output_type": "display_data",
       "text": [
        "PROGRESS: +---------+--------------+-------------------+-----------------------+-------------+"
       ]
      },
      {
       "html": [
        "<pre>PROGRESS: | Iter.   | Elapsed Time | Approx. Objective | Approx. Training RMSE | Step Size   |</pre>"
       ],
       "metadata": {},
       "output_type": "display_data",
       "text": [
        "PROGRESS: | Iter.   | Elapsed Time | Approx. Objective | Approx. Training RMSE | Step Size   |"
       ]
      },
      {
       "html": [
        "<pre>PROGRESS: +---------+--------------+-------------------+-----------------------+-------------+</pre>"
       ],
       "metadata": {},
       "output_type": "display_data",
       "text": [
        "PROGRESS: +---------+--------------+-------------------+-----------------------+-------------+"
       ]
      },
      {
       "html": [
        "<pre>PROGRESS: | Initial | 48us         | 0.0449609         | 0.212038              |             |</pre>"
       ],
       "metadata": {},
       "output_type": "display_data",
       "text": [
        "PROGRESS: | Initial | 48us         | 0.0449609         | 0.212038              |             |"
       ]
      },
      {
       "html": [
        "<pre>PROGRESS: +---------+--------------+-------------------+-----------------------+-------------+</pre>"
       ],
       "metadata": {},
       "output_type": "display_data",
       "text": [
        "PROGRESS: +---------+--------------+-------------------+-----------------------+-------------+"
       ]
      },
      {
       "html": [
        "<pre>PROGRESS: | 1       | 229.372ms    | 0.0383364         | 0.195573              | 0.000105698 |</pre>"
       ],
       "metadata": {},
       "output_type": "display_data",
       "text": [
        "PROGRESS: | 1       | 229.372ms    | 0.0383364         | 0.195573              | 0.000105698 |"
       ]
      },
      {
       "html": [
        "<pre>PROGRESS: | 2       | 452.228ms    | 0.0329326         | 0.181237              | 6.28484e-05 |</pre>"
       ],
       "metadata": {},
       "output_type": "display_data",
       "text": [
        "PROGRESS: | 2       | 452.228ms    | 0.0329326         | 0.181237              | 6.28484e-05 |"
       ]
      },
      {
       "html": [
        "<pre>PROGRESS: | 3       | 762.905ms    | 0.0406053         | 0.20129               | 4.63688e-05 |</pre>"
       ],
       "metadata": {},
       "output_type": "display_data",
       "text": [
        "PROGRESS: | 3       | 762.905ms    | 0.0406053         | 0.20129               | 4.63688e-05 |"
       ]
      },
      {
       "html": [
        "<pre>PROGRESS: | 4       | 1.18s        | 0.039872          | 0.199403              | 3.14242e-05 |</pre>"
       ],
       "metadata": {},
       "output_type": "display_data",
       "text": [
        "PROGRESS: | 4       | 1.18s        | 0.039872          | 0.199403              | 3.14242e-05 |"
       ]
      },
      {
       "html": [
        "<pre>PROGRESS: | 5       | 1.59s        | 0.0355369         | 0.188057              | 2.23524e-05 |</pre>"
       ],
       "metadata": {},
       "output_type": "display_data",
       "text": [
        "PROGRESS: | 5       | 1.59s        | 0.0355369         | 0.188057              | 2.23524e-05 |"
       ]
      },
      {
       "html": [
        "<pre>PROGRESS: | 6       | 1.99s        | 0.033987          | 0.184001              | 1.63939e-05 |</pre>"
       ],
       "metadata": {},
       "output_type": "display_data",
       "text": [
        "PROGRESS: | 6       | 1.99s        | 0.033987          | 0.184001              | 1.63939e-05 |"
       ]
      },
      {
       "html": [
        "<pre>PROGRESS: | 10      | 3.76s        | 0.0791206         | 0.280674              | 6.64541e-06 |</pre>"
       ],
       "metadata": {},
       "output_type": "display_data",
       "text": [
        "PROGRESS: | 10      | 3.76s        | 0.0791206         | 0.280674              | 6.64541e-06 |"
       ]
      },
      {
       "html": [
        "<pre>PROGRESS: | 11      | 4.22s        | 0.0813467         | 0.284809              | 5.20259e-06 |</pre>"
       ],
       "metadata": {},
       "output_type": "display_data",
       "text": [
        "PROGRESS: | 11      | 4.22s        | 0.0813467         | 0.284809              | 5.20259e-06 |"
       ]
      },
      {
       "html": [
        "<pre>PROGRESS: | 15      | 6.04s        | 0.0323471         | 0.179491              | 9.21894e-07 |</pre>"
       ],
       "metadata": {},
       "output_type": "display_data",
       "text": [
        "PROGRESS: | 15      | 6.04s        | 0.0323471         | 0.179491              | 9.21894e-07 |"
       ]
      },
      {
       "html": [
        "<pre>PROGRESS: | 20      | 8.35s        | 0.0298045         | 0.17227               | 7.4298e-07  |</pre>"
       ],
       "metadata": {},
       "output_type": "display_data",
       "text": [
        "PROGRESS: | 20      | 8.35s        | 0.0298045         | 0.17227               | 7.4298e-07  |"
       ]
      },
      {
       "html": [
        "<pre>PROGRESS: | 25      | 10.74s       | 0.0291733         | 0.170432              | 6.28484e-07 |</pre>"
       ],
       "metadata": {},
       "output_type": "display_data",
       "text": [
        "PROGRESS: | 25      | 10.74s       | 0.0291733         | 0.170432              | 6.28484e-07 |"
       ]
      },
      {
       "html": [
        "<pre>PROGRESS: | 30      | 13.20s       | 0.0289494         | 0.169776              | 5.48162e-07 |</pre>"
       ],
       "metadata": {},
       "output_type": "display_data",
       "text": [
        "PROGRESS: | 30      | 13.20s       | 0.0289494         | 0.169776              | 5.48162e-07 |"
       ]
      },
      {
       "html": [
        "<pre>PROGRESS: | 35      | 15.51s       | 0.02884           | 0.169456              | 4.88313e-07 |</pre>"
       ],
       "metadata": {},
       "output_type": "display_data",
       "text": [
        "PROGRESS: | 35      | 15.51s       | 0.02884           | 0.169456              | 4.88313e-07 |"
       ]
      },
      {
       "html": [
        "<pre>PROGRESS: | 40      | 17.88s       | 0.0287731         | 0.16926               | 4.41778e-07 |</pre>"
       ],
       "metadata": {},
       "output_type": "display_data",
       "text": [
        "PROGRESS: | 40      | 17.88s       | 0.0287731         | 0.16926               | 4.41778e-07 |"
       ]
      },
      {
       "html": [
        "<pre>PROGRESS: | 45      | 20.17s       | 0.0287251         | 0.16912               | 4.04427e-07 |</pre>"
       ],
       "metadata": {},
       "output_type": "display_data",
       "text": [
        "PROGRESS: | 45      | 20.17s       | 0.0287251         | 0.16912               | 4.04427e-07 |"
       ]
      },
      {
       "html": [
        "<pre>PROGRESS: | 50      | 22.47s       | 0.028688          | 0.169011              | 3.73699e-07 |</pre>"
       ],
       "metadata": {},
       "output_type": "display_data",
       "text": [
        "PROGRESS: | 50      | 22.47s       | 0.028688          | 0.169011              | 3.73699e-07 |"
       ]
      },
      {
       "html": [
        "<pre>PROGRESS: +---------+--------------+-------------------+-----------------------+-------------+</pre>"
       ],
       "metadata": {},
       "output_type": "display_data",
       "text": [
        "PROGRESS: +---------+--------------+-------------------+-----------------------+-------------+"
       ]
      },
      {
       "html": [
        "<pre>PROGRESS: | Final   | 22.83s       | 0.0286819         | 0.168993              |             |</pre>"
       ],
       "metadata": {},
       "output_type": "display_data",
       "text": [
        "PROGRESS: | Final   | 22.83s       | 0.0286819         | 0.168993              |             |"
       ]
      },
      {
       "html": [
        "<pre>PROGRESS: +---------+--------------+-------------------+-----------------------+-------------+</pre>"
       ],
       "metadata": {},
       "output_type": "display_data",
       "text": [
        "PROGRESS: +---------+--------------+-------------------+-----------------------+-------------+"
       ]
      },
      {
       "html": [
        "<pre>PROGRESS: Optimization Complete: Maximum number of passes through the data reached.</pre>"
       ],
       "metadata": {},
       "output_type": "display_data",
       "text": [
        "PROGRESS: Optimization Complete: Maximum number of passes through the data reached."
       ]
      }
     ],
     "prompt_number": 186
    },
    {
     "cell_type": "markdown",
     "metadata": {},
     "source": [
      "<img src=\"//graphlab.com/learn/gallery/notebooks/images/recsys2014_palovics/graphlab_line.png\" align = \"middle\">\n",
      "\n",
      "### Making predictions\n",
      "\n",
      "- The final prediction is formulated as an ensemble of individual model prediction scores along with a weighted combination of key features."
     ]
    },
    {
     "cell_type": "code",
     "collapsed": false,
     "input": [
      "predictions = {}\n",
      "\n",
      "for key in models.keys():\n",
      "    if key == 'gradient_boosted_tree':\n",
      "        predictions[key] = models[key].predict(test, output_type='probability')\n",
      "    else:\n",
      "        predictions[key] = models[key].predict(test)"
     ],
     "language": "python",
     "metadata": {},
     "outputs": [],
     "prompt_number": 187
    },
    {
     "cell_type": "code",
     "collapsed": false,
     "input": [
      "final_test = test.select_columns([\"user_id\",\"tweet_id\",\"engagement_label\"])\n",
      "for key in predictions.keys():\n",
      "  final_test.add_column(predictions[key],key)"
     ],
     "language": "python",
     "metadata": {},
     "outputs": [],
     "prompt_number": 188
    },
    {
     "cell_type": "code",
     "collapsed": false,
     "input": [
      "final_test.add_column(test[\"rating_extreme\"],\"rating_extreme\")\n",
      "final_test.add_column(test.apply(lambda x: x[\"tweet_has_retweet\"] + x[\"tweet_is_retweet\"]),\"retweet\")\n",
      "# Final ensemble prediction score\n",
      "final_test.add_column(final_test.apply(lambda x: x['regression']  \n",
      "                                                 + x['gradient_boosted_tree']\n",
      "                                                 + x['matrix_factorization']\n",
      "                                                 + 10 * x['retweet']\n",
      "                                                 + 0.2 * x['rating_extreme']),\n",
      "                      'combination')"
     ],
     "language": "python",
     "metadata": {},
     "outputs": [
      {
       "html": [
        "<div style=\"max-height:1000px;max-width:1500px;overflow:auto;\"><table frame=\"box\" rules=\"cols\">\n",
        "    <tr>\n",
        "        <th style=\"padding-left: 1em; padding-right: 1em; text-align: center\">user_id</th>\n",
        "        <th style=\"padding-left: 1em; padding-right: 1em; text-align: center\">tweet_id</th>\n",
        "        <th style=\"padding-left: 1em; padding-right: 1em; text-align: center\">engagement_label</th>\n",
        "        <th style=\"padding-left: 1em; padding-right: 1em; text-align: center\">gradient_boosted_tree</th>\n",
        "        <th style=\"padding-left: 1em; padding-right: 1em; text-align: center\">regression</th>\n",
        "        <th style=\"padding-left: 1em; padding-right: 1em; text-align: center\">matrix_factorization</th>\n",
        "    </tr>\n",
        "    <tr>\n",
        "        <td style=\"padding-left: 1em; padding-right: 1em; text-align: center; vertical-align: top\">1493803398</td>\n",
        "        <td style=\"padding-left: 1em; padding-right: 1em; text-align: center; vertical-align: top\">421163197509271552</td>\n",
        "        <td style=\"padding-left: 1em; padding-right: 1em; text-align: center; vertical-align: top\">0</td>\n",
        "        <td style=\"padding-left: 1em; padding-right: 1em; text-align: center; vertical-align: top\">0.0199514603224</td>\n",
        "        <td style=\"padding-left: 1em; padding-right: 1em; text-align: center; vertical-align: top\">0.0280158494875</td>\n",
        "        <td style=\"padding-left: 1em; padding-right: 1em; text-align: center; vertical-align: top\">0.0319225938377</td>\n",
        "    </tr>\n",
        "    <tr>\n",
        "        <td style=\"padding-left: 1em; padding-right: 1em; text-align: center; vertical-align: top\">28817548</td>\n",
        "        <td style=\"padding-left: 1em; padding-right: 1em; text-align: center; vertical-align: top\">421782651134279680</td>\n",
        "        <td style=\"padding-left: 1em; padding-right: 1em; text-align: center; vertical-align: top\">0</td>\n",
        "        <td style=\"padding-left: 1em; padding-right: 1em; text-align: center; vertical-align: top\">0.0509049070402</td>\n",
        "        <td style=\"padding-left: 1em; padding-right: 1em; text-align: center; vertical-align: top\">0.0353506172772</td>\n",
        "        <td style=\"padding-left: 1em; padding-right: 1em; text-align: center; vertical-align: top\">0.0661288092876</td>\n",
        "    </tr>\n",
        "    <tr>\n",
        "        <td style=\"padding-left: 1em; padding-right: 1em; text-align: center; vertical-align: top\">22407039</td>\n",
        "        <td style=\"padding-left: 1em; padding-right: 1em; text-align: center; vertical-align: top\">421046616137924610</td>\n",
        "        <td style=\"padding-left: 1em; padding-right: 1em; text-align: center; vertical-align: top\">0</td>\n",
        "        <td style=\"padding-left: 1em; padding-right: 1em; text-align: center; vertical-align: top\">0.0306018203721</td>\n",
        "        <td style=\"padding-left: 1em; padding-right: 1em; text-align: center; vertical-align: top\">0.0191968573857</td>\n",
        "        <td style=\"padding-left: 1em; padding-right: 1em; text-align: center; vertical-align: top\">0.0229387109417</td>\n",
        "    </tr>\n",
        "    <tr>\n",
        "        <td style=\"padding-left: 1em; padding-right: 1em; text-align: center; vertical-align: top\">14095248</td>\n",
        "        <td style=\"padding-left: 1em; padding-right: 1em; text-align: center; vertical-align: top\">422418127599960067</td>\n",
        "        <td style=\"padding-left: 1em; padding-right: 1em; text-align: center; vertical-align: top\">0</td>\n",
        "        <td style=\"padding-left: 1em; padding-right: 1em; text-align: center; vertical-align: top\">0.0391949429229</td>\n",
        "        <td style=\"padding-left: 1em; padding-right: 1em; text-align: center; vertical-align: top\">0.0336128008404</td>\n",
        "        <td style=\"padding-left: 1em; padding-right: 1em; text-align: center; vertical-align: top\">0.0292335513739</td>\n",
        "    </tr>\n",
        "    <tr>\n",
        "        <td style=\"padding-left: 1em; padding-right: 1em; text-align: center; vertical-align: top\">106522454</td>\n",
        "        <td style=\"padding-left: 1em; padding-right: 1em; text-align: center; vertical-align: top\">426452967802142724</td>\n",
        "        <td style=\"padding-left: 1em; padding-right: 1em; text-align: center; vertical-align: top\">0</td>\n",
        "        <td style=\"padding-left: 1em; padding-right: 1em; text-align: center; vertical-align: top\">0.0368537552966</td>\n",
        "        <td style=\"padding-left: 1em; padding-right: 1em; text-align: center; vertical-align: top\">0.0338241759991</td>\n",
        "        <td style=\"padding-left: 1em; padding-right: 1em; text-align: center; vertical-align: top\">0.0319966815143</td>\n",
        "    </tr>\n",
        "    <tr>\n",
        "        <td style=\"padding-left: 1em; padding-right: 1em; text-align: center; vertical-align: top\">69351047</td>\n",
        "        <td style=\"padding-left: 1em; padding-right: 1em; text-align: center; vertical-align: top\">424631137164873728</td>\n",
        "        <td style=\"padding-left: 1em; padding-right: 1em; text-align: center; vertical-align: top\">0</td>\n",
        "        <td style=\"padding-left: 1em; padding-right: 1em; text-align: center; vertical-align: top\">0.0130662252207</td>\n",
        "        <td style=\"padding-left: 1em; padding-right: 1em; text-align: center; vertical-align: top\">0.0191968573857</td>\n",
        "        <td style=\"padding-left: 1em; padding-right: 1em; text-align: center; vertical-align: top\">0.0254324635648</td>\n",
        "    </tr>\n",
        "    <tr>\n",
        "        <td style=\"padding-left: 1em; padding-right: 1em; text-align: center; vertical-align: top\">743599747</td>\n",
        "        <td style=\"padding-left: 1em; padding-right: 1em; text-align: center; vertical-align: top\">426466861963051014</td>\n",
        "        <td style=\"padding-left: 1em; padding-right: 1em; text-align: center; vertical-align: top\">0</td>\n",
        "        <td style=\"padding-left: 1em; padding-right: 1em; text-align: center; vertical-align: top\">0.0257935822088</td>\n",
        "        <td style=\"padding-left: 1em; padding-right: 1em; text-align: center; vertical-align: top\">0.00910664564048</td>\n",
        "        <td style=\"padding-left: 1em; padding-right: 1em; text-align: center; vertical-align: top\">0.0666871207044</td>\n",
        "    </tr>\n",
        "    <tr>\n",
        "        <td style=\"padding-left: 1em; padding-right: 1em; text-align: center; vertical-align: top\">19653119</td>\n",
        "        <td style=\"padding-left: 1em; padding-right: 1em; text-align: center; vertical-align: top\">421618740145291265</td>\n",
        "        <td style=\"padding-left: 1em; padding-right: 1em; text-align: center; vertical-align: top\">0</td>\n",
        "        <td style=\"padding-left: 1em; padding-right: 1em; text-align: center; vertical-align: top\">0.0546977877362</td>\n",
        "        <td style=\"padding-left: 1em; padding-right: 1em; text-align: center; vertical-align: top\">0.0391659057175</td>\n",
        "        <td style=\"padding-left: 1em; padding-right: 1em; text-align: center; vertical-align: top\">0.0502744950112</td>\n",
        "    </tr>\n",
        "    <tr>\n",
        "        <td style=\"padding-left: 1em; padding-right: 1em; text-align: center; vertical-align: top\">288316068</td>\n",
        "        <td style=\"padding-left: 1em; padding-right: 1em; text-align: center; vertical-align: top\">421451180875980800</td>\n",
        "        <td style=\"padding-left: 1em; padding-right: 1em; text-align: center; vertical-align: top\">0</td>\n",
        "        <td style=\"padding-left: 1em; padding-right: 1em; text-align: center; vertical-align: top\">0.0731959875466</td>\n",
        "        <td style=\"padding-left: 1em; padding-right: 1em; text-align: center; vertical-align: top\">0.043405573985</td>\n",
        "        <td style=\"padding-left: 1em; padding-right: 1em; text-align: center; vertical-align: top\">0.0664064375002</td>\n",
        "    </tr>\n",
        "    <tr>\n",
        "        <td style=\"padding-left: 1em; padding-right: 1em; text-align: center; vertical-align: top\">33179232</td>\n",
        "        <td style=\"padding-left: 1em; padding-right: 1em; text-align: center; vertical-align: top\">430805658045521920</td>\n",
        "        <td style=\"padding-left: 1em; padding-right: 1em; text-align: center; vertical-align: top\">0</td>\n",
        "        <td style=\"padding-left: 1em; padding-right: 1em; text-align: center; vertical-align: top\">0.0193258382678</td>\n",
        "        <td style=\"padding-left: 1em; padding-right: 1em; text-align: center; vertical-align: top\">0.0229277118939</td>\n",
        "        <td style=\"padding-left: 1em; padding-right: 1em; text-align: center; vertical-align: top\">0.0183561970239</td>\n",
        "    </tr>\n",
        "</table>\n",
        "<table frame=\"box\" rules=\"cols\">\n",
        "    <tr>\n",
        "        <th style=\"padding-left: 1em; padding-right: 1em; text-align: center\">rating_extreme</th>\n",
        "        <th style=\"padding-left: 1em; padding-right: 1em; text-align: center\">retweet</th>\n",
        "        <th style=\"padding-left: 1em; padding-right: 1em; text-align: center\">combination</th>\n",
        "    </tr>\n",
        "    <tr>\n",
        "        <td style=\"padding-left: 1em; padding-right: 1em; text-align: center; vertical-align: top\">0.7</td>\n",
        "        <td style=\"padding-left: 1em; padding-right: 1em; text-align: center; vertical-align: top\">0</td>\n",
        "        <td style=\"padding-left: 1em; padding-right: 1em; text-align: center; vertical-align: top\">0.219889903648</td>\n",
        "    </tr>\n",
        "    <tr>\n",
        "        <td style=\"padding-left: 1em; padding-right: 1em; text-align: center; vertical-align: top\">0.8</td>\n",
        "        <td style=\"padding-left: 1em; padding-right: 1em; text-align: center; vertical-align: top\">0</td>\n",
        "        <td style=\"padding-left: 1em; padding-right: 1em; text-align: center; vertical-align: top\">0.312384333605</td>\n",
        "    </tr>\n",
        "    <tr>\n",
        "        <td style=\"padding-left: 1em; padding-right: 1em; text-align: center; vertical-align: top\">0.5</td>\n",
        "        <td style=\"padding-left: 1em; padding-right: 1em; text-align: center; vertical-align: top\">0</td>\n",
        "        <td style=\"padding-left: 1em; padding-right: 1em; text-align: center; vertical-align: top\">0.1727373887</td>\n",
        "    </tr>\n",
        "    <tr>\n",
        "        <td style=\"padding-left: 1em; padding-right: 1em; text-align: center; vertical-align: top\">0.7</td>\n",
        "        <td style=\"padding-left: 1em; padding-right: 1em; text-align: center; vertical-align: top\">0</td>\n",
        "        <td style=\"padding-left: 1em; padding-right: 1em; text-align: center; vertical-align: top\">0.242041295137</td>\n",
        "    </tr>\n",
        "    <tr>\n",
        "        <td style=\"padding-left: 1em; padding-right: 1em; text-align: center; vertical-align: top\">0.8</td>\n",
        "        <td style=\"padding-left: 1em; padding-right: 1em; text-align: center; vertical-align: top\">0</td>\n",
        "        <td style=\"padding-left: 1em; padding-right: 1em; text-align: center; vertical-align: top\">0.26267461281</td>\n",
        "    </tr>\n",
        "    <tr>\n",
        "        <td style=\"padding-left: 1em; padding-right: 1em; text-align: center; vertical-align: top\">0.5</td>\n",
        "        <td style=\"padding-left: 1em; padding-right: 1em; text-align: center; vertical-align: top\">0</td>\n",
        "        <td style=\"padding-left: 1em; padding-right: 1em; text-align: center; vertical-align: top\">0.157695546171</td>\n",
        "    </tr>\n",
        "    <tr>\n",
        "        <td style=\"padding-left: 1em; padding-right: 1em; text-align: center; vertical-align: top\">0.3</td>\n",
        "        <td style=\"padding-left: 1em; padding-right: 1em; text-align: center; vertical-align: top\">0</td>\n",
        "        <td style=\"padding-left: 1em; padding-right: 1em; text-align: center; vertical-align: top\">0.161587348554</td>\n",
        "    </tr>\n",
        "    <tr>\n",
        "        <td style=\"padding-left: 1em; padding-right: 1em; text-align: center; vertical-align: top\">0.8</td>\n",
        "        <td style=\"padding-left: 1em; padding-right: 1em; text-align: center; vertical-align: top\">0</td>\n",
        "        <td style=\"padding-left: 1em; padding-right: 1em; text-align: center; vertical-align: top\">0.304138188465</td>\n",
        "    </tr>\n",
        "    <tr>\n",
        "        <td style=\"padding-left: 1em; padding-right: 1em; text-align: center; vertical-align: top\">1.0</td>\n",
        "        <td style=\"padding-left: 1em; padding-right: 1em; text-align: center; vertical-align: top\">0</td>\n",
        "        <td style=\"padding-left: 1em; padding-right: 1em; text-align: center; vertical-align: top\">0.383007999032</td>\n",
        "    </tr>\n",
        "    <tr>\n",
        "        <td style=\"padding-left: 1em; padding-right: 1em; text-align: center; vertical-align: top\">0.7</td>\n",
        "        <td style=\"padding-left: 1em; padding-right: 1em; text-align: center; vertical-align: top\">0</td>\n",
        "        <td style=\"padding-left: 1em; padding-right: 1em; text-align: center; vertical-align: top\">0.200609747186</td>\n",
        "    </tr>\n",
        "    <tr>\n",
        "        <td style=\"padding-left: 1em; padding-right: 1em; text-align: center; vertical-align: top\">...</td>\n",
        "        <td style=\"padding-left: 1em; padding-right: 1em; text-align: center; vertical-align: top\">...</td>\n",
        "        <td style=\"padding-left: 1em; padding-right: 1em; text-align: center; vertical-align: top\">...</td>\n",
        "    </tr>\n",
        "</table>\n",
        "[21285 rows x 9 columns]<br/>Note: Only the head of the SFrame is printed.<br/>You can use print_rows(num_rows=m, num_columns=n) to print more rows and columns.\n",
        "</div>"
       ],
       "metadata": {},
       "output_type": "pyout",
       "prompt_number": 189,
       "text": [
        "Columns:\n",
        "\tuser_id\tint\n",
        "\ttweet_id\tint\n",
        "\tengagement_label\tint\n",
        "\tgradient_boosted_tree\tfloat\n",
        "\tregression\tfloat\n",
        "\tmatrix_factorization\tfloat\n",
        "\trating_extreme\tfloat\n",
        "\tretweet\tint\n",
        "\tcombination\tfloat\n",
        "\n",
        "Rows: 21285\n",
        "\n",
        "Data:\n",
        "+------------+--------------------+------------------+-----------------------+\n",
        "|  user_id   |      tweet_id      | engagement_label | gradient_boosted_tree |\n",
        "+------------+--------------------+------------------+-----------------------+\n",
        "| 1493803398 | 421163197509271552 |        0         |    0.0199514603224    |\n",
        "|  28817548  | 421782651134279680 |        0         |    0.0509049070402    |\n",
        "|  22407039  | 421046616137924610 |        0         |    0.0306018203721    |\n",
        "|  14095248  | 422418127599960067 |        0         |    0.0391949429229    |\n",
        "| 106522454  | 426452967802142724 |        0         |    0.0368537552966    |\n",
        "|  69351047  | 424631137164873728 |        0         |    0.0130662252207    |\n",
        "| 743599747  | 426466861963051014 |        0         |    0.0257935822088    |\n",
        "|  19653119  | 421618740145291265 |        0         |    0.0546977877362    |\n",
        "| 288316068  | 421451180875980800 |        0         |    0.0731959875466    |\n",
        "|  33179232  | 430805658045521920 |        0         |    0.0193258382678    |\n",
        "+------------+--------------------+------------------+-----------------------+\n",
        "+------------------+----------------------+----------------+---------+\n",
        "|    regression    | matrix_factorization | rating_extreme | retweet |\n",
        "+------------------+----------------------+----------------+---------+\n",
        "| 0.0280158494875  |   0.0319225938377    |      0.7       |    0    |\n",
        "| 0.0353506172772  |   0.0661288092876    |      0.8       |    0    |\n",
        "| 0.0191968573857  |   0.0229387109417    |      0.5       |    0    |\n",
        "| 0.0336128008404  |   0.0292335513739    |      0.7       |    0    |\n",
        "| 0.0338241759991  |   0.0319966815143    |      0.8       |    0    |\n",
        "| 0.0191968573857  |   0.0254324635648    |      0.5       |    0    |\n",
        "| 0.00910664564048 |   0.0666871207044    |      0.3       |    0    |\n",
        "| 0.0391659057175  |   0.0502744950112    |      0.8       |    0    |\n",
        "|  0.043405573985  |   0.0664064375002    |      1.0       |    0    |\n",
        "| 0.0229277118939  |   0.0183561970239    |      0.7       |    0    |\n",
        "+------------------+----------------------+----------------+---------+\n",
        "+----------------+\n",
        "|  combination   |\n",
        "+----------------+\n",
        "| 0.219889903648 |\n",
        "| 0.312384333605 |\n",
        "|  0.1727373887  |\n",
        "| 0.242041295137 |\n",
        "| 0.26267461281  |\n",
        "| 0.157695546171 |\n",
        "| 0.161587348554 |\n",
        "| 0.304138188465 |\n",
        "| 0.383007999032 |\n",
        "| 0.200609747186 |\n",
        "|      ...       |\n",
        "+----------------+\n",
        "[21285 rows x 9 columns]\n",
        "Note: Only the head of the SFrame is printed.\n",
        "You can use print_rows(num_rows=m, num_columns=n) to print more rows and columns."
       ]
      }
     ],
     "prompt_number": 189
    },
    {
     "cell_type": "markdown",
     "metadata": {},
     "source": [
      "<img src=\"//graphlab.com/learn/gallery/notebooks/images/recsys2014_palovics/graphlab_line.png\" align = \"middle\">\n",
      "\n",
      "### Evaluation"
     ]
    },
    {
     "cell_type": "code",
     "collapsed": false,
     "input": [
      "out = final_test.select_columns(['user_id','tweet_id','combination'])\n",
      "out.sort('user_id')\n",
      "out.save(\"out.csv\")"
     ],
     "language": "python",
     "metadata": {},
     "outputs": [],
     "prompt_number": 190
    },
    {
     "cell_type": "markdown",
     "metadata": {},
     "source": [
      "- We use the official evaluator of the challenge for evaluation"
     ]
    },
    {
     "cell_type": "code",
     "collapsed": false,
     "input": [
      "if not os.path.isfile('rscevaluator-0.14-jar-with-dependencies.jar'):\n",
      "    subprocess.call(['wget', 'https://github.com/recsyschallenge/RSChallengeEval/releases/download/v0.14/rscevaluator-0.14-jar-with-dependencies.jar'])\n",
      "\n",
      "import os\n",
      "os.system('java -jar rscevaluator-0.14-jar-with-dependencies.jar test_solution.csv out.csv > ndcg')"
     ],
     "language": "python",
     "metadata": {},
     "outputs": [
      {
       "metadata": {},
       "output_type": "pyout",
       "prompt_number": 191,
       "text": [
        "0"
       ]
      }
     ],
     "prompt_number": 191
    },
    {
     "cell_type": "code",
     "collapsed": false,
     "input": [
      "cat ndcg"
     ],
     "language": "python",
     "metadata": {},
     "outputs": [
      {
       "output_type": "stream",
       "stream": "stdout",
       "text": [
        "RecSys Challenge 2014 Evaluator\r\n",
        "-------------------------------\r\n",
        "\r\n",
        "Evaluated 5717 users with predictions\r\n",
        "Validated against 5717 users in test set\r\n",
        "\r\n",
        "----------------------\r\n",
        "\r\n",
        "nDCG@10: 0.872086879194325\r\n",
        "\r\n",
        "\r\n",
        "\r\n"
       ]
      }
     ],
     "prompt_number": 192
    },
    {
     "cell_type": "markdown",
     "metadata": {},
     "source": [
      " - By using GraphLab Create, we proposed a solution that is simple, fast, and effective. It includes only a few, but carefully selected and trained models, and their reasonable combination.\n",
      " - Furthermore, as this notebook indicates, our experiments are reproducible.\n",
      " - The latest version of GraphLab Create is even more powerful. Note that the result above achieved with version 1.2 is even better than our original one during the competition."
     ]
    },
    {
     "cell_type": "markdown",
     "metadata": {},
     "source": [
      "# Our best results - check our <a href=\"http://dl.acm.org/citation.cfm?id=2668071\">paper</a>\n",
      "<img src=\"//graphlab.com/learn/gallery/notebooks/images/recsys2014_palovics/res1.png\">\n",
      "<img src=\"//graphlab.com/learn/gallery/notebooks/images/recsys2014_palovics/res2.png\">"
     ]
    },
    {
     "cell_type": "code",
     "collapsed": false,
     "input": [],
     "language": "python",
     "metadata": {},
     "outputs": []
    }
   ],
   "metadata": {}
  }
 ]
}