{
 "metadata": {
  "name": "",
  "signature": "sha256:870774b9f0c264b681143c7d22517d2591583d5ac3792219199ec23f79b020f9"
 },
 "nbformat": 3,
 "nbformat_minor": 0,
 "worksheets": [
  {
   "cells": [
    {
     "cell_type": "code",
     "collapsed": false,
     "input": [
      "%pylab inline"
     ],
     "language": "python",
     "metadata": {},
     "outputs": [
      {
       "output_type": "stream",
       "stream": "stdout",
       "text": [
        "Populating the interactive namespace from numpy and matplotlib\n"
       ]
      }
     ],
     "prompt_number": 3
    },
    {
     "cell_type": "code",
     "collapsed": false,
     "input": [
      "import graphlab\n",
      "sf = graphlab.SFrame(data='http://graphlab.com/files/datasets/freebase_performances.csv')\n",
      "print sf\n",
      "g = graphlab.SGraph()\n",
      "g = g.add_edges(sf, 'actor_name', 'film_name')\n",
      "pr = graphlab.pagerank.create(g)\n",
      "pr.get('pagerank').topk(column_name='pagerank')"
     ],
     "language": "python",
     "metadata": {},
     "outputs": [
      {
       "output_type": "stream",
       "stream": "stdout",
       "text": [
        "PROGRESS: Finished parsing file http://graphlab.com/files/datasets/freebase_performances.csv\n",
        "PROGRESS: Parsing completed. Parsed 100 lines in 0.172213 secs.\n",
        "Could not detect types. Using str for each column."
       ]
      },
      {
       "output_type": "stream",
       "stream": "stdout",
       "text": [
        "\n",
        "PROGRESS: Finished parsing file http://graphlab.com/files/datasets/freebase_performances.csv\n",
        "PROGRESS: Parsing completed. Parsed 156468 lines in 0.542255 secs.\n",
        "+----+-------------------+--------------------------------+\n",
        "| X1 |     actor_name    |           character            |\n",
        "+----+-------------------+--------------------------------+\n",
        "| 0  | David A. R. White |           Adam Riley           |\n",
        "| 1  |    Lonnie Colon   |    'Captain' Robert Jackson    |\n",
        "| 2  |    Brad Heller    |          Jacob Krause          |\n",
        "| 3  |    Logan White    |            Carissa             |\n",
        "| 4  |    Monte Perlin   |      Commander Fredericks      |\n",
        "| 5  |    John Gilbert   |         Peter McCollum         |\n",
        "| 6  |    Kevin Downes   |         Charles Baker          |\n",
        "| 7  |     Asad Farr     |        Global Chairman         |\n",
        "| 8  | Don Parker Decker | President of the United States |\n",
        "| 9  |     Bree Pavey    |         Audrey Thomas          |\n",
        "+----+-------------------+--------------------------------+\n",
        "+--------------------------------+------+\n",
        "|           film_name            | year |\n",
        "+--------------------------------+------+\n",
        "| The Moment After 2: The Aw ... | 2006 |\n",
        "| The Moment After 2: The Aw ... | 2006 |\n",
        "| The Moment After 2: The Aw ... | 2006 |\n",
        "| The Moment After 2: The Aw ... | 2006 |\n",
        "| The Moment After 2: The Aw ... | 2006 |\n",
        "| The Moment After 2: The Aw ... | 2006 |\n",
        "| The Moment After 2: The Aw ... | 2006 |\n",
        "| The Moment After 2: The Aw ... | 2006 |\n",
        "| The Moment After 2: The Aw ... | 2006 |\n",
        "| The Moment After 2: The Aw ... | 2006 |\n",
        "|              ...               | ...  |\n",
        "+--------------------------------+------+\n",
        "[156468 rows x 5 columns]\n",
        "Note: Only the head of the SFrame is printed.\n",
        "You can use print_rows(num_rows=m, num_columns=n) to print more rows and columns."
       ]
      },
      {
       "output_type": "stream",
       "stream": "stdout",
       "text": [
        "\n",
        "PROGRESS: Finish iteration 1 in 0.537924 secs.\n",
        "Total L1 change in pagerank = 127198\n",
        "PROGRESS: Finish iteration 2 in 0.527851 secs.\n",
        "Total L1 change in pagerank = 58654\n",
        "PROGRESS: Finish iteration 3 in 0.505063 secs.\n",
        "Total L1 change in pagerank = 161.551\n",
        "PROGRESS: Finish iteration 4 in 0.520363 secs.\n",
        "Total L1 change in pagerank = 0\n"
       ]
      },
      {
       "html": [
        "<div style=\"max-height:1000px;max-width:1500px;overflow:auto;\"><table frame=\"box\" rules=\"cols\">\n",
        "    <tr>\n",
        "        <th style=\"padding-left: 1em; padding-right: 1em; text-align: center\">__id</th>\n",
        "        <th style=\"padding-left: 1em; padding-right: 1em; text-align: center\">pagerank</th>\n",
        "    </tr>\n",
        "    <tr>\n",
        "        <td style=\"padding-left: 1em; padding-right: 1em; text-align: center; vertical-align: top\">Redemption</td>\n",
        "        <td style=\"padding-left: 1em; padding-right: 1em; text-align: center; vertical-align: top\">11.8416871497</td>\n",
        "    </tr>\n",
        "    <tr>\n",
        "        <td style=\"padding-left: 1em; padding-right: 1em; text-align: center; vertical-align: top\">Sharknado</td>\n",
        "        <td style=\"padding-left: 1em; padding-right: 1em; text-align: center; vertical-align: top\">11.6689187354</td>\n",
        "    </tr>\n",
        "    <tr>\n",
        "        <td style=\"padding-left: 1em; padding-right: 1em; text-align: center; vertical-align: top\">The Family</td>\n",
        "        <td style=\"padding-left: 1em; padding-right: 1em; text-align: center; vertical-align: top\">10.5604230265</td>\n",
        "    </tr>\n",
        "    <tr>\n",
        "        <td style=\"padding-left: 1em; padding-right: 1em; text-align: center; vertical-align: top\">8:46</td>\n",
        "        <td style=\"padding-left: 1em; padding-right: 1em; text-align: center; vertical-align: top\">10.148125</td>\n",
        "    </tr>\n",
        "    <tr>\n",
        "        <td style=\"padding-left: 1em; padding-right: 1em; text-align: center; vertical-align: top\">Abraham Lincoln vs.<br>Zombies</td>\n",
        "        <td style=\"padding-left: 1em; padding-right: 1em; text-align: center; vertical-align: top\">9.47875</td>\n",
        "    </tr>\n",
        "    <tr>\n",
        "        <td style=\"padding-left: 1em; padding-right: 1em; text-align: center; vertical-align: top\">Dean Teaster's Ghost Town</td>\n",
        "        <td style=\"padding-left: 1em; padding-right: 1em; text-align: center; vertical-align: top\">9.19030265568</td>\n",
        "    </tr>\n",
        "    <tr>\n",
        "        <td style=\"padding-left: 1em; padding-right: 1em; text-align: center; vertical-align: top\">How Do You Write a Joe<br>Schermann Song</td>\n",
        "        <td style=\"padding-left: 1em; padding-right: 1em; text-align: center; vertical-align: top\">9.18125</td>\n",
        "    </tr>\n",
        "    <tr>\n",
        "        <td style=\"padding-left: 1em; padding-right: 1em; text-align: center; vertical-align: top\">The Showdown</td>\n",
        "        <td style=\"padding-left: 1em; padding-right: 1em; text-align: center; vertical-align: top\">8.54071428571</td>\n",
        "    </tr>\n",
        "    <tr>\n",
        "        <td style=\"padding-left: 1em; padding-right: 1em; text-align: center; vertical-align: top\">Killing Kennedy</td>\n",
        "        <td style=\"padding-left: 1em; padding-right: 1em; text-align: center; vertical-align: top\">8.52610876623</td>\n",
        "    </tr>\n",
        "    <tr>\n",
        "        <td style=\"padding-left: 1em; padding-right: 1em; text-align: center; vertical-align: top\">Meteor Apocalypse</td>\n",
        "        <td style=\"padding-left: 1em; padding-right: 1em; text-align: center; vertical-align: top\">8.52371428571</td>\n",
        "    </tr>\n",
        "</table>\n",
        "[10 rows x 2 columns]<br/>\n",
        "</div>"
       ],
       "metadata": {},
       "output_type": "pyout",
       "prompt_number": 5,
       "text": [
        "Columns:\n",
        "\t__id\tstr\n",
        "\tpagerank\tfloat\n",
        "\n",
        "Rows: 10\n",
        "\n",
        "Data:\n",
        "+--------------------------------+---------------+\n",
        "|              __id              |    pagerank   |\n",
        "+--------------------------------+---------------+\n",
        "|           Redemption           | 11.8416871497 |\n",
        "|           Sharknado            | 11.6689187354 |\n",
        "|           The Family           | 10.5604230265 |\n",
        "|              8:46              |   10.148125   |\n",
        "|  Abraham Lincoln vs. Zombies   |    9.47875    |\n",
        "|   Dean Teaster's Ghost Town    | 9.19030265568 |\n",
        "| How Do You Write a Joe Sch ... |    9.18125    |\n",
        "|          The Showdown          | 8.54071428571 |\n",
        "|        Killing Kennedy         | 8.52610876623 |\n",
        "|       Meteor Apocalypse        | 8.52371428571 |\n",
        "+--------------------------------+---------------+\n",
        "[10 rows x 2 columns]"
       ]
      }
     ],
     "prompt_number": 5
    },
    {
     "cell_type": "code",
     "collapsed": false,
     "input": [],
     "language": "python",
     "metadata": {},
     "outputs": []
    }
   ],
   "metadata": {}
  }
 ]
}