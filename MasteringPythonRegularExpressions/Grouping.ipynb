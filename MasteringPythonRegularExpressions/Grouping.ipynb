{
 "metadata": {
  "name": "",
  "signature": "sha256:fc876c1cdc04ae7746ffc0a5198994b0980c15644bc79ac5e9c6f574c039be16"
 },
 "nbformat": 3,
 "nbformat_minor": 0,
 "worksheets": [
  {
   "cells": [
    {
     "cell_type": "code",
     "collapsed": false,
     "input": [
      "%pylab inline\n",
      "import re"
     ],
     "language": "python",
     "metadata": {},
     "outputs": [
      {
       "output_type": "stream",
       "stream": "stdout",
       "text": [
        "Populating the interactive namespace from numpy and matplotlib\n"
       ]
      }
     ],
     "prompt_number": 2
    },
    {
     "cell_type": "code",
     "collapsed": false,
     "input": [
      "hr=\"--------------------------------------------------------------------------------------------------------------------------\"\n",
      "re.match(r\"(\\d-\\w){2,3}\", ur\"1-a2-b\").regs,hr,re.search(r\"(ab)+c\", ur\"ababc\").regs"
     ],
     "language": "python",
     "metadata": {},
     "outputs": [
      {
       "metadata": {},
       "output_type": "pyout",
       "prompt_number": 3,
       "text": [
        "(((0, 6), (3, 6)),\n",
        " '--------------------------------------------------------------------------------------------------------------------------',\n",
        " ((0, 5), (2, 4)))"
       ]
      }
     ],
     "prompt_number": 3
    },
    {
     "cell_type": "code",
     "collapsed": false,
     "input": [
      "re.search(\"Espana|ol\", \"Espanol\").regs, hr, re.search(\"Espana|ol\", \"Espana\").regs,hr,re.search(\"Espana|ol\", \"ol\").regs"
     ],
     "language": "python",
     "metadata": {},
     "outputs": [
      {
       "metadata": {},
       "output_type": "pyout",
       "prompt_number": 5,
       "text": [
        "(((5, 7),),\n",
        " '--------------------------------------------------------------------------------------------------------------------------',\n",
        " ((0, 6),),\n",
        " '--------------------------------------------------------------------------------------------------------------------------',\n",
        " ((0, 2),))"
       ]
      }
     ],
     "prompt_number": 5
    },
    {
     "cell_type": "code",
     "collapsed": false,
     "input": [],
     "language": "python",
     "metadata": {},
     "outputs": []
    }
   ],
   "metadata": {}
  }
 ]
}