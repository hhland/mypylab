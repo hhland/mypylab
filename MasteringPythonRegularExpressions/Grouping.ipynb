{
 "metadata": {
  "name": "",
  "signature": "sha256:4b791d55d228509c8a893acee32712994f6feb0ad94f868ea92b34dfbb38b697"
 },
 "nbformat": 3,
 "nbformat_minor": 0,
 "worksheets": [
  {
   "cells": [
    {
     "cell_type": "code",
     "collapsed": false,
     "input": [
      "%pylab inline\n",
      "import re"
     ],
     "language": "python",
     "metadata": {},
     "outputs": [
      {
       "output_type": "stream",
       "stream": "stdout",
       "text": [
        "Populating the interactive namespace from numpy and matplotlib\n"
       ]
      }
     ],
     "prompt_number": 2
    },
    {
     "cell_type": "code",
     "collapsed": false,
     "input": [
      "print re.match(r\"(\\d-\\w){2,3}\", ur\"1-a2-b\").regs\n",
      "print re.search(r\"(ab)+c\", ur\"ababc\").regs"
     ],
     "language": "python",
     "metadata": {},
     "outputs": [
      {
       "output_type": "stream",
       "stream": "stdout",
       "text": [
        "((0, 6), (3, 6))\n",
        "((0, 5), (2, 4))\n"
       ]
      }
     ],
     "prompt_number": 3
    },
    {
     "cell_type": "code",
     "collapsed": false,
     "input": [
      "print re.search(\"Espana|ol\", \"Espanol\").regs\n",
      "print re.search(\"Espana|ol\", \"Espana\").regs\n",
      "print re.search(\"Espana|ol\", \"ol\").regs"
     ],
     "language": "python",
     "metadata": {},
     "outputs": [
      {
       "output_type": "stream",
       "stream": "stdout",
       "text": [
        "((5, 7),)\n",
        "((0, 6),)\n",
        "((0, 2),)\n"
       ]
      }
     ],
     "prompt_number": 6
    },
    {
     "cell_type": "code",
     "collapsed": false,
     "input": [],
     "language": "python",
     "metadata": {},
     "outputs": []
    }
   ],
   "metadata": {}
  }
 ]
}