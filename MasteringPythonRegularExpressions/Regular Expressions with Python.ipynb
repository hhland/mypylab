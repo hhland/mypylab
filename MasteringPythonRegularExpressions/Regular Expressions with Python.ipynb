{
 "metadata": {
  "name": "",
  "signature": "sha256:99b9b935f28101d84988e1761e9dd4dd8af048ab182cbf38ca727ff9f3c3f1b1"
 },
 "nbformat": 3,
 "nbformat_minor": 0,
 "worksheets": [
  {
   "cells": [
    {
     "cell_type": "code",
     "collapsed": false,
     "input": [
      "%pylab inline\n",
      "import re"
     ],
     "language": "python",
     "metadata": {},
     "outputs": [
      {
       "output_type": "stream",
       "stream": "stdout",
       "text": [
        "Populating the interactive namespace from numpy and matplotlib\n"
       ]
      }
     ],
     "prompt_number": 2
    },
    {
     "cell_type": "code",
     "collapsed": false,
     "input": [
      "pattern = re.compile(r'\\bfoo\\b')\n",
      "pattern.match(\"foo bar\")"
     ],
     "language": "python",
     "metadata": {},
     "outputs": [
      {
       "metadata": {},
       "output_type": "pyout",
       "prompt_number": 4,
       "text": [
        "<_sre.SRE_Match at 0x3b556b0>"
       ]
      }
     ],
     "prompt_number": 4
    },
    {
     "cell_type": "code",
     "collapsed": false,
     "input": [
      "pattern = re.compile(\"\\\\\\\\\")\n",
      "mct=pattern.match(\"\\\\author\")\n",
      "print mct.regs\n",
      "\n",
      "pattern = re.compile(r\"\\\\\")\n",
      "mct=pattern.match(\"\\\\author\")\n",
      "print mct.regs"
     ],
     "language": "python",
     "metadata": {},
     "outputs": [
      {
       "output_type": "stream",
       "stream": "stdout",
       "text": [
        "((0, 1),)\n",
        "((0, 1),)\n"
       ]
      }
     ],
     "prompt_number": 11
    },
    {
     "cell_type": "code",
     "collapsed": false,
     "input": [
      "pattern = re.compile(r'<HTML>')\n",
      "print pattern.match(\"<HTML>\").regs\n",
      "print pattern.match(\"<HTML><head>\").regs\n",
      "print pattern.search(\"\u21e2<HTML>\").regs\n",
      "print pattern.match(\"\u21e2\u21e2<HTML>\"[6:]).regs\n",
      "print pattern.match(\"\u21e2\u21e2<HTML>\",6).regs"
     ],
     "language": "python",
     "metadata": {},
     "outputs": [
      {
       "output_type": "stream",
       "stream": "stdout",
       "text": [
        "((0, 6),)\n",
        "((0, 6),)\n",
        "((3, 9),)\n",
        "((0, 6),)\n",
        "((6, 12),)\n"
       ]
      }
     ],
     "prompt_number": 29
    },
    {
     "cell_type": "code",
     "collapsed": false,
     "input": [
      "pattern = re.compile(r'<HTML>$')\n",
      "print pattern.match(\"<HTML>\u21e2\", 0,6).regs\n",
      "print pattern.match(\"<HTML>\u21e2\"[:6]).regs"
     ],
     "language": "python",
     "metadata": {},
     "outputs": [
      {
       "output_type": "stream",
       "stream": "stdout",
       "text": [
        "((0, 6),)\n",
        "((0, 6),)\n"
       ]
      }
     ],
     "prompt_number": 31
    },
    {
     "cell_type": "code",
     "collapsed": false,
     "input": [
      "pattern = re.compile(r\"world\")\n",
      "print pattern.search(\"hello\u21e2world\").regs"
     ],
     "language": "python",
     "metadata": {},
     "outputs": [
      {
       "output_type": "stream",
       "stream": "stdout",
       "text": [
        "((8, 13),)\n"
       ]
      }
     ],
     "prompt_number": 32
    },
    {
     "cell_type": "code",
     "collapsed": false,
     "input": [],
     "language": "python",
     "metadata": {},
     "outputs": []
    }
   ],
   "metadata": {}
  }
 ]
}