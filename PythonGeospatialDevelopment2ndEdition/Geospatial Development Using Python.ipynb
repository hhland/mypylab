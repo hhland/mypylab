{
 "metadata": {
  "name": "",
  "signature": "sha256:fe8fa647cb3f8c43a5cf4246ffcce20442a3c5cce4c2acb5fcc260126fada506"
 },
 "nbformat": 3,
 "nbformat_minor": 0,
 "worksheets": [
  {
   "cells": [
    {
     "cell_type": "code",
     "collapsed": false,
     "input": [
      "%pylab inline\n",
      "import pyproj"
     ],
     "language": "python",
     "metadata": {},
     "outputs": [
      {
       "output_type": "stream",
       "stream": "stdout",
       "text": [
        "Populating the interactive namespace from numpy and matplotlib\n"
       ]
      }
     ],
     "prompt_number": 4
    },
    {
     "cell_type": "code",
     "collapsed": false,
     "input": [
      "lat1,long1 = (37.82,-122.42)\n",
      "lat2,long2 = (37.80,-122.44)\n",
      "geod = pyproj.Geod(ellps=\"WGS84\")\n",
      "angle1,angle2,distance = geod.inv(long1, lat1, long2, lat2)\n",
      "print \"Distance is %0.2f meters\" % distance"
     ],
     "language": "python",
     "metadata": {},
     "outputs": [
      {
       "output_type": "stream",
       "stream": "stdout",
       "text": [
        "Distance is 2833.64 meters\n"
       ]
      }
     ],
     "prompt_number": 5
    },
    {
     "cell_type": "code",
     "collapsed": false,
     "input": [
      "!cd tmp && wget http://www2.census.gov/geo/tiger/TIGER2012/STATE/tl_2012_us_state.zip"
     ],
     "language": "python",
     "metadata": {},
     "outputs": [
      {
       "output_type": "stream",
       "stream": "stdout",
       "text": [
        "--2014-12-30 17:30:37--  http://www2.census.gov/geo/tiger/TIGER2012/STATE/tl_2012_us_state.zip\r\n",
        "Resolving www2.census.gov (www2.census.gov)... failed: Name or service not known.\r\n",
        "wget: unable to resolve host address `www2.census.gov'\r\n"
       ]
      }
     ],
     "prompt_number": 8
    },
    {
     "cell_type": "code",
     "collapsed": false,
     "input": [
      "!pip install gdal"
     ],
     "language": "python",
     "metadata": {},
     "outputs": [
      {
       "output_type": "stream",
       "stream": "stdout",
       "text": [
        "Downloading/unpacking gdal\r\n"
       ]
      },
      {
       "output_type": "stream",
       "stream": "stdout",
       "text": [
        "  Cannot fetch index base URL http://pypi.python.org/simple/\r\n",
        "  Could not find any downloads that satisfy the requirement gdal\r\n",
        "No distributions at all found for gdal\r\n",
        "Storing complete log in /root/.pip/pip.log\r\n"
       ]
      }
     ],
     "prompt_number": 10
    },
    {
     "cell_type": "code",
     "collapsed": false,
     "input": [],
     "language": "python",
     "metadata": {},
     "outputs": []
    }
   ],
   "metadata": {}
  }
 ]
}