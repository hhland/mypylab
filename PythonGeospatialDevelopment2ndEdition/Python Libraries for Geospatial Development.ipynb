{
 "metadata": {
  "name": "",
  "signature": "sha256:87b6a687c522193c9f6a4353f18410d60188d8d9b651943b72d430a48ecb6a6f"
 },
 "nbformat": 3,
 "nbformat_minor": 0,
 "worksheets": [
  {
   "cells": [
    {
     "cell_type": "code",
     "collapsed": false,
     "input": [
      "%pylab inline\n",
      "from osgeo import *\n",
      "import struct"
     ],
     "language": "python",
     "metadata": {},
     "outputs": [
      {
       "output_type": "stream",
       "stream": "stdout",
       "text": [
        "Populating the interactive namespace from numpy and matplotlib\n"
       ]
      }
     ],
     "prompt_number": 3
    },
    {
     "cell_type": "code",
     "collapsed": false,
     "input": [
      "dataset = gdal.Open(\"data/e10g\")\n",
      "band = dataset.GetRasterBand(1)\n",
      "fmt = \"<\" + (\"h\" * band.XSize)\n",
      "totHeight = 0\n",
      "for y in range(band.YSize):\n",
      "    scanline = band.ReadRaster(0, y, band.XSize, 1,band.XSize, 1,band.DataType)\n",
      "    values = struct.unpack(fmt, scanline)\n",
      "    for value in values:\n",
      "        if value == -500:\n",
      "            # Special height value for the sea -> ignore.\n",
      "            continue\n",
      "        totHeight = totHeight + value\n",
      "\n",
      "        average = totHeight / (band.XSize * band.YSize)\n",
      "print \"Average height =\", average"
     ],
     "language": "python",
     "metadata": {},
     "outputs": []
    }
   ],
   "metadata": {}
  }
 ]
}