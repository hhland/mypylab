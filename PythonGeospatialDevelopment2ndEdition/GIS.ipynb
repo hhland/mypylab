{
 "metadata": {
  "name": "",
  "signature": "sha256:7f061a654f0453df1b7558edb7a7a8b97e0b0967463b3d5dde3fd68d8f3e1749"
 },
 "nbformat": 3,
 "nbformat_minor": 0,
 "worksheets": [
  {
   "cells": [
    {
     "cell_type": "code",
     "collapsed": false,
     "input": [
      "%pylab inline\n",
      "import osgeo\n",
      "import osgeo.ogr"
     ],
     "language": "python",
     "metadata": {},
     "outputs": [
      {
       "output_type": "stream",
       "stream": "stdout",
       "text": [
        "Populating the interactive namespace from numpy and matplotlib\n"
       ]
      }
     ],
     "prompt_number": 3
    },
    {
     "cell_type": "code",
     "collapsed": false,
     "input": [
      "shapefile = osgeo.ogr.Open(\"tmp/tl_2012_us_state.shp\")\n",
      "numLayers = shapefile.GetLayerCount()\n",
      "print \"Shapefile contains %d layers\" % numLayers\n",
      "print\n",
      "for layerNum in range(numLayers):\n",
      "    layer = shapefile.GetLayer(layerNum)\n",
      "    spatialRef = layer.GetSpatialRef().ExportToProj4()\n",
      "    numFeatures = layer.GetFeatureCount()\n",
      "    print \"Layer %d has spatial reference %s\" % (layerNum, spatialRef)\n",
      "    print \"Layer %d has %d features:\" % (layerNum, numFeatures)\n",
      "    print\n",
      "    for featureNum in range(numFeatures):\n",
      "        feature = layer.GetFeature(featureNum)\n",
      "        featureName = feature.GetField(\"NAME\")\n",
      "        print \"Feature %d has name %s\" % (featureNum, featureName)"
     ],
     "language": "python",
     "metadata": {},
     "outputs": [
      {
       "output_type": "stream",
       "stream": "stdout",
       "text": [
        "Shapefile contains 1 layers\n",
        "\n",
        "Layer 0 has spatial reference +proj=longlat +datum=NAD83 +no_defs \n",
        "Layer 0 has 56 features:\n",
        "\n",
        "Feature 0 has name Hawaii\n",
        "Feature 1 has name Arkansas\n",
        "Feature 2 has name New Mexico\n",
        "Feature 3 has name Montana"
       ]
      },
      {
       "output_type": "stream",
       "stream": "stdout",
       "text": [
        "\n",
        "Feature 4 has name New York\n",
        "Feature 5 has name North Dakota\n",
        "Feature 6 has name South Dakota\n",
        "Feature 7 has name Utah\n",
        "Feature 8 has name Oregon\n",
        "Feature 9 has name Washington\n",
        "Feature 10 has name American Samoa\n",
        "Feature 11 has name Idaho\n",
        "Feature 12 has name Commonwealth of the Northern Mariana Islands\n",
        "Feature 13 has name Puerto Rico\n",
        "Feature 14 has name Oklahoma\n",
        "Feature 15 has name New Jersey\n",
        "Feature 16 has name Rhode Island\n",
        "Feature 17 has name Louisiana"
       ]
      },
      {
       "output_type": "stream",
       "stream": "stdout",
       "text": [
        "\n",
        "Feature 18 has name Connecticut\n",
        "Feature 19 has name United States Virgin Islands\n",
        "Feature 20 has name West Virginia\n",
        "Feature 21 has name Ohio\n",
        "Feature 22 has name Kentucky\n",
        "Feature 23 has name Georgia\n",
        "Feature 24 has name Mississippi\n",
        "Feature 25 has name Massachusetts\n",
        "Feature 26 has name Delaware\n",
        "Feature 27 has name Vermont\n",
        "Feature 28 has name Pennsylvania\n",
        "Feature 29 has name Maryland"
       ]
      },
      {
       "output_type": "stream",
       "stream": "stdout",
       "text": [
        "\n",
        "Feature 30 has name Tennessee\n",
        "Feature 31 has name Alabama\n",
        "Feature 32 has name Virginia\n",
        "Feature 33 has name Missouri\n",
        "Feature 34 has name New Hampshire\n",
        "Feature 35 has name Maine\n",
        "Feature 36 has name South Carolina\n",
        "Feature 37 has name Iowa\n",
        "Feature 38 has name North Carolina\n",
        "Feature 39 has name Kansas"
       ]
      },
      {
       "output_type": "stream",
       "stream": "stdout",
       "text": [
        "\n",
        "Feature 40 has name Nebraska\n",
        "Feature 41 has name Wyoming\n",
        "Feature 42 has name Colorado\n",
        "Feature 43 has name Minnesota\n",
        "Feature 44 has name Wisconsin\n",
        "Feature 45 has name Michigan\n",
        "Feature 46 has name Indiana\n",
        "Feature 47 has name Alaska\n",
        "Feature 48 has name Texas"
       ]
      },
      {
       "output_type": "stream",
       "stream": "stdout",
       "text": [
        "\n",
        "Feature 49 has name Florida\n",
        "Feature 50 has name District of Columbia\n",
        "Feature 51 has name Illinois\n",
        "Feature 52 has name Guam\n",
        "Feature 53 has name Arizona\n",
        "Feature 54 has name Nevada\n",
        "Feature 55 has name California\n"
       ]
      }
     ],
     "prompt_number": 4
    },
    {
     "cell_type": "code",
     "collapsed": false,
     "input": [
      "layer = shapefile.GetLayer(0)\n",
      "feature = layer.GetFeature(2)\n",
      "print \"Feature 2 has the following attributes:\"\n",
      "print\n",
      "attributes = feature.items()\n",
      "for key,value in attributes.items():\n",
      "    print \" %s = %s\" % (key, value)\n",
      "geometry = feature.GetGeometryRef()\n",
      "geometryName = geometry.GetGeometryName()\n",
      "print\n",
      "print \"Feature's geometry data consists of a %s\" % geometryName"
     ],
     "language": "python",
     "metadata": {},
     "outputs": [
      {
       "output_type": "stream",
       "stream": "stdout",
       "text": [
        "Feature 2 has the following attributes:\n",
        "\n",
        " DIVISION = 8\n",
        " INTPTLAT = +34.4346843\n",
        " NAME = New Mexico\n",
        " STUSPS = NM\n",
        " FUNCSTAT = A\n",
        " REGION = 4\n",
        " LSAD = 00\n",
        " INTPTLON = -106.1316181\n",
        " AWATER = 756438507.0\n",
        " STATENS = 00897535\n",
        " MTFCC = G4000\n",
        " GEOID = 35\n",
        " STATEFP = 35\n",
        " ALAND = 3.14161109357e+11\n",
        "\n",
        "Feature's geometry data consists of a POLYGON\n"
       ]
      }
     ],
     "prompt_number": 5
    },
    {
     "cell_type": "code",
     "collapsed": false,
     "input": [
      "def analyzeGeometry(geometry, indent=0):\n",
      "    s = []\n",
      "    s.append(\" \" * indent)\n",
      "    s.append(geometry.GetGeometryName())\n",
      "    if geometry.GetPointCount() > 0:\n",
      "        s.append(\" with %d data points\" % geometry.GetPointCount())\n",
      "    if geometry.GetGeometryCount() > 0:\n",
      "        s.append(\" containing:\")\n",
      "    print \"\".join(s)\n",
      "\n",
      "    for i in range(geometry.GetGeometryCount()):\n",
      "        analyzeGeometry(geometry.GetGeometryRef(i), indent+1)\n",
      "\n",
      "layer = shapefile.GetLayer(0)\n",
      "feature = layer.GetFeature(2)\n",
      "geometry = feature.GetGeometryRef()\n",
      "analyzeGeometry(geometry)"
     ],
     "language": "python",
     "metadata": {},
     "outputs": [
      {
       "output_type": "stream",
       "stream": "stdout",
       "text": [
        "POLYGON containing:\n",
        " LINEARRING with 7550 data points\n"
       ]
      }
     ],
     "prompt_number": 6
    },
    {
     "cell_type": "code",
     "collapsed": false,
     "input": [
      "def findPoints(geometry, results):\n",
      "    for i in range(geometry.GetPointCount()):\n",
      "        x,y,z = geometry.GetPoint(i)\n",
      "        if results['north'] == None or results['north'][1] < y:\n",
      "            results['north'] = (x,y)\n",
      "        if results['south'] == None or results['south'][1] > y:\n",
      "            results['south'] = (x,y)\n",
      "        for i in range(geometry.GetGeometryCount()):\n",
      "            findPoints(geometry.GetGeometryRef(i), results)\n",
      "\n",
      "\n",
      "layer = shapefile.GetLayer(0)\n",
      "feature = layer.GetFeature(55)\n",
      "geometry = feature.GetGeometryRef()\n",
      "results = {'north' : None,'south' : None}\n",
      "print geometry.GetPointCount()\n",
      "findPoints(geometry, results)\n",
      "print \"Northernmost point is (%0.4f, %0.4f)\" % results['north']\n",
      "print \"Southernmost point is (%0.4f, %0.4f)\" % results['south']"
     ],
     "language": "python",
     "metadata": {},
     "outputs": [
      {
       "output_type": "stream",
       "stream": "stdout",
       "text": [
        "0\n"
       ]
      },
      {
       "ename": "TypeError",
       "evalue": "float argument required, not NoneType",
       "output_type": "pyerr",
       "traceback": [
        "\u001b[1;31m---------------------------------------------------------------------------\u001b[0m\n\u001b[1;31mTypeError\u001b[0m                                 Traceback (most recent call last)",
        "\u001b[1;32m<ipython-input-10-3397314e77a4>\u001b[0m in \u001b[0;36m<module>\u001b[1;34m()\u001b[0m\n\u001b[0;32m     16\u001b[0m \u001b[1;32mprint\u001b[0m \u001b[0mgeometry\u001b[0m\u001b[1;33m.\u001b[0m\u001b[0mGetPointCount\u001b[0m\u001b[1;33m(\u001b[0m\u001b[1;33m)\u001b[0m\u001b[1;33m\u001b[0m\u001b[0m\n\u001b[0;32m     17\u001b[0m \u001b[0mfindPoints\u001b[0m\u001b[1;33m(\u001b[0m\u001b[0mgeometry\u001b[0m\u001b[1;33m,\u001b[0m \u001b[0mresults\u001b[0m\u001b[1;33m)\u001b[0m\u001b[1;33m\u001b[0m\u001b[0m\n\u001b[1;32m---> 18\u001b[1;33m \u001b[1;32mprint\u001b[0m \u001b[1;34m\"Northernmost point is (%0.4f, %0.4f)\"\u001b[0m \u001b[1;33m%\u001b[0m \u001b[0mresults\u001b[0m\u001b[1;33m[\u001b[0m\u001b[1;34m'north'\u001b[0m\u001b[1;33m]\u001b[0m\u001b[1;33m\u001b[0m\u001b[0m\n\u001b[0m\u001b[0;32m     19\u001b[0m \u001b[1;32mprint\u001b[0m \u001b[1;34m\"Southernmost point is (%0.4f, %0.4f)\"\u001b[0m \u001b[1;33m%\u001b[0m \u001b[0mresults\u001b[0m\u001b[1;33m[\u001b[0m\u001b[1;34m'south'\u001b[0m\u001b[1;33m]\u001b[0m\u001b[1;33m\u001b[0m\u001b[0m\n",
        "\u001b[1;31mTypeError\u001b[0m: float argument required, not NoneType"
       ]
      }
     ],
     "prompt_number": 10
    },
    {
     "cell_type": "code",
     "collapsed": false,
     "input": [],
     "language": "python",
     "metadata": {},
     "outputs": []
    }
   ],
   "metadata": {}
  }
 ]
}