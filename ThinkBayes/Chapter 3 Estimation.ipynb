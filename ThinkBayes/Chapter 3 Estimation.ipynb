{
 "cells": [
  {
   "cell_type": "code",
   "execution_count": 1,
   "metadata": {
    "collapsed": false
   },
   "outputs": [
    {
     "name": "stdout",
     "output_type": "stream",
     "text": [
      "Populating the interactive namespace from numpy and matplotlib\n"
     ]
    }
   ],
   "source": [
    "%pylab inline\n"
   ]
  },
  {
   "cell_type": "code",
   "execution_count": 19,
   "metadata": {
    "collapsed": false
   },
   "outputs": [
    {
     "name": "stdout",
     "output_type": "stream",
     "text": [
      "--2015-05-07 16:29:38--  https://raw.githubusercontent.com/AllenDowney/ThinkBayes/master/thinkplot.py\n",
      "Resolving raw.githubusercontent.com (raw.githubusercontent.com)... 199.27.74.133\n",
      "Connecting to raw.githubusercontent.com (raw.githubusercontent.com)|199.27.74.133|:443... connected.\n",
      "HTTP request sent, awaiting response... 200 OK\n",
      "Length: 12500 (12K) [text/plain]\n",
      "Saving to: `thinkplot.py'\n",
      "\n",
      "100%[======================================>] 12,500      --.-K/s   in 0s      \n",
      "\n",
      "2015-05-07 16:29:40 (274 MB/s) - `thinkplot.py' saved [12500/12500]\n",
      "\n"
     ]
    }
   ],
   "source": [
    "!cd script && wget https://raw.githubusercontent.com/AllenDowney/ThinkBayes/master/thinkplot.py"
   ]
  },
  {
   "cell_type": "code",
   "execution_count": 20,
   "metadata": {
    "collapsed": false
   },
   "outputs": [
    {
     "name": "stdout",
     "output_type": "stream",
     "text": [
      "#081D58\n",
      "#253494\n",
      "#225EA8\n",
      "#1D91C0\n",
      "#41B6C4\n",
      "#7FCDBB\n",
      "#C7E9B4\n"
     ]
    }
   ],
   "source": [
    "%run script/thinkbays.py\n",
    "%run script/thinkplot.py"
   ]
  },
  {
   "cell_type": "code",
   "execution_count": 13,
   "metadata": {
    "collapsed": false
   },
   "outputs": [],
   "source": [
    "class Dice(Suite):\n",
    "    \"\"\"Represents hypotheses about which die was rolled.\"\"\"\n",
    "\n",
    "    def Likelihood(self, data, hypo):\n",
    "        \"\"\"Computes the likelihood of the data under the hypothesis.\n",
    "        hypo: integer number of sides on the die\n",
    "        data: integer die roll\n",
    "        \"\"\"\n",
    "        if hypo < data:\n",
    "            return 0\n",
    "        else:\n",
    "            return 1.0/hypo"
   ]
  },
  {
   "cell_type": "code",
   "execution_count": 14,
   "metadata": {
    "collapsed": false
   },
   "outputs": [
    {
     "name": "stdout",
     "output_type": "stream",
     "text": [
      "After one 6\n",
      "4 0.0\n",
      "6 0.392156862745\n",
      "8 0.294117647059\n",
      "12 0.196078431373\n",
      "20 0.117647058824\n",
      "After more rolls\n",
      "4 0.0\n",
      "6 0.525624178712\n",
      "8 0.295663600526\n",
      "12 0.131406044678\n",
      "20 0.0473061760841\n",
      "After more rolls\n",
      "4 0.0\n",
      "6 0.0\n",
      "8 0.735133957743\n",
      "12 0.217817468961\n",
      "20 0.0470485732956\n",
      "After more rolls\n",
      "4 0.0\n",
      "6 0.0\n",
      "8 0.817574005588\n",
      "12 0.161496099869\n",
      "20 0.020929894543\n",
      "After more rolls\n",
      "4 0.0\n",
      "6 0.0\n",
      "8 0.875712534495\n",
      "12 0.115320169152\n",
      "20 0.00896729635323\n",
      "After more rolls\n",
      "4 0.0\n",
      "6 0.0\n",
      "8 0.915845271969\n",
      "12 0.080403425797\n",
      "20 0.00375130223399\n"
     ]
    }
   ],
   "source": [
    "suite = Dice([4, 6, 8, 12, 20])\n",
    "\n",
    "suite.Update(6)\n",
    "print 'After one 6'\n",
    "suite.Print()\n",
    "\n",
    "for roll in [4, 8, 7, 7, 2]:\n",
    "    suite.Update(roll)\n",
    "    print 'After more rolls'\n",
    "    suite.Print()"
   ]
  },
  {
   "cell_type": "code",
   "execution_count": 22,
   "metadata": {
    "collapsed": false
   },
   "outputs": [
    {
     "name": "stdout",
     "output_type": "stream",
     "text": [
      "333.419893264\n",
      "Writing train1.pdf\n",
      "Writing train1.eps\n"
     ]
    },
    {
     "name": "stderr",
     "output_type": "stream",
     "text": [
      "/usr/lib/pymodules/python2.7/matplotlib/axes.py:4486: UserWarning: No labeled objects found. Use label='...' kwarg on individual plots.\n",
      "  warnings.warn(\"No labeled objects found. \"\n"
     ]
    },
    {
     "data": {
      "text/plain": [
       "<matplotlib.figure.Figure at 0x348ffd0>"
      ]
     },
     "metadata": {},
     "output_type": "display_data"
    }
   ],
   "source": [
    "class Train(Dice):\n",
    "    \"\"\"Represents hypotheses about how many trains the company has.\n",
    "    The likelihood function for the train problem is the same as\n",
    "    for the Dice problem.\n",
    "    \"\"\"\n",
    "\n",
    "hypos = xrange(1, 1001)\n",
    "suite = Train(hypos)\n",
    "\n",
    "suite.Update(60)\n",
    "print suite.Mean()\n",
    "\n",
    "PrePlot(1)\n",
    "Pmf(suite)\n",
    "Save(root='train1',\n",
    "                   xlabel='Number of trains',\n",
    "                   ylabel='Probability',\n",
    "                   formats=['pdf', 'eps'])"
   ]
  },
  {
   "cell_type": "code",
   "execution_count": null,
   "metadata": {
    "collapsed": true
   },
   "outputs": [],
   "source": []
  }
 ],
 "metadata": {
  "kernelspec": {
   "display_name": "Python 2",
   "language": "python",
   "name": "python2"
  },
  "language_info": {
   "codemirror_mode": {
    "name": "ipython",
    "version": 2
   },
   "file_extension": ".py",
   "mimetype": "text/x-python",
   "name": "python",
   "nbconvert_exporter": "python",
   "pygments_lexer": "ipython2",
   "version": "2.7.3"
  }
 },
 "nbformat": 4,
 "nbformat_minor": 0
}
