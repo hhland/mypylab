{
 "metadata": {
  "name": "",
  "signature": "sha256:e483518165d32e7075556148b1bb4e44292a2d23c4a56fb29b9974b8834a0eb3"
 },
 "nbformat": 3,
 "nbformat_minor": 0,
 "worksheets": [
  {
   "cells": [
    {
     "cell_type": "code",
     "collapsed": false,
     "input": [
      "%pylab inline\n",
      "from __future__ import print_function\n",
      "\n",
      "from time import time\n",
      "import logging\n",
      "\n",
      "\n",
      "from sklearn.cross_validation import train_test_split\n",
      "from sklearn.datasets import fetch_lfw_people\n",
      "from sklearn.grid_search import GridSearchCV\n",
      "from sklearn.metrics import classification_report\n",
      "from sklearn.metrics import confusion_matrix\n",
      "from sklearn.decomposition import RandomizedPCA\n",
      "from sklearn.svm import SVC"
     ],
     "language": "python",
     "metadata": {},
     "outputs": [
      {
       "output_type": "stream",
       "stream": "stdout",
       "text": [
        "Populating the interactive namespace from numpy and matplotlib\n"
       ]
      }
     ],
     "prompt_number": 1
    },
    {
     "cell_type": "code",
     "collapsed": false,
     "input": [
      "# Display progress logs on stdout\n",
      "logging.basicConfig(level=logging.INFO, format='%(asctime)s %(message)s')\n",
      "\n",
      "\n",
      "###############################################################################\n",
      "# Download the data, if not already on disk and load it as numpy arrays\n",
      "\n",
      "lfw_people = fetch_lfw_people(min_faces_per_person=70, resize=0.4)\n",
      "\n",
      "# introspect the images arrays to find the shapes (for plotting)\n",
      "n_samples, h, w = lfw_people.images.shape\n",
      "\n",
      "# for machine learning we use the 2 data directly (as relative pixel\n",
      "# positions info is ignored by this model)\n",
      "X = lfw_people.data\n",
      "n_features = X.shape[1]\n",
      "\n",
      "# the label to predict is the id of the person\n",
      "y = lfw_people.target\n",
      "target_names = lfw_people.target_names\n",
      "n_classes = target_names.shape[0]\n",
      "\n",
      "print(\"Total dataset size:\")\n",
      "print(\"n_samples: %d\" % n_samples)\n",
      "print(\"n_features: %d\" % n_features)\n",
      "print(\"n_classes: %d\" % n_classes)"
     ],
     "language": "python",
     "metadata": {},
     "outputs": [
      {
       "output_type": "stream",
       "stream": "stderr",
       "text": [
        "2014-10-22 17:45:23,107 Loading LFW people faces from /root/scikit_learn_data/lfw_home\n"
       ]
      },
      {
       "output_type": "stream",
       "stream": "stdout",
       "text": [
        "Total dataset size:\n",
        "n_samples: 1288\n",
        "n_features: 1850\n",
        "n_classes: 7\n"
       ]
      }
     ],
     "prompt_number": 3
    },
    {
     "cell_type": "code",
     "collapsed": false,
     "input": [
      "###############################################################################\n",
      "# Split into a training set and a test set using a stratified k fold\n",
      "\n",
      "# split into a training and testing set\n",
      "X_train, X_test, y_train, y_test = train_test_split(\n",
      "    X, y, test_size=0.25)\n",
      "X_train, X_test"
     ],
     "language": "python",
     "metadata": {},
     "outputs": [
      {
       "metadata": {},
       "output_type": "pyout",
       "prompt_number": 5,
       "text": [
        "(array([[  83.        ,   84.66666412,   92.        , ...,   21.66666603,\n",
        "           30.33333397,  101.33333588],\n",
        "        [  57.33333206,   46.66666794,   67.33333588, ...,  112.33333588,\n",
        "           74.        ,   78.66666412],\n",
        "        [  94.        ,  109.66666412,   99.        , ...,   74.66666412,\n",
        "           56.33333206,   76.66666412],\n",
        "        ..., \n",
        "        [ 106.33333588,   92.33333588,   74.66666412, ...,  189.        ,\n",
        "          194.66667175,  197.        ],\n",
        "        [  78.66666412,   83.        ,   93.        , ...,  184.66667175,\n",
        "          148.33332825,   47.        ],\n",
        "        [ 104.33333588,  103.33333588,   93.        , ...,  255.        ,\n",
        "          254.        ,  254.        ]], dtype=float32),\n",
        " array([[  21.33333397,   34.        ,   93.33333588, ...,   71.33333588,\n",
        "           67.        ,  132.        ],\n",
        "        [  96.66666412,  103.33333588,  100.66666412, ...,  107.33333588,\n",
        "          179.33332825,  102.66666412],\n",
        "        [  13.        ,   13.33333302,    9.        , ...,   39.33333206,\n",
        "           38.        ,   41.        ],\n",
        "        ..., \n",
        "        [  73.33333588,   89.        ,   79.33333588, ...,  170.        ,\n",
        "          165.        ,  163.66667175],\n",
        "        [ 109.66666412,  120.33333588,  100.33333588, ...,   45.        ,\n",
        "           38.        ,   38.        ],\n",
        "        [  89.        ,  110.        ,  129.33332825, ...,  204.        ,\n",
        "          208.        ,  207.        ]], dtype=float32))"
       ]
      }
     ],
     "prompt_number": 5
    },
    {
     "cell_type": "code",
     "collapsed": false,
     "input": [
      "###############################################################################\n",
      "# Compute a PCA (eigenfaces) on the face dataset (treated as unlabeled\n",
      "# dataset): unsupervised feature extraction / dimensionality reduction\n",
      "n_components = 150\n",
      "\n",
      "print(\"Extracting the top %d eigenfaces from %d faces\"\n",
      "      % (n_components, X_train.shape[0]))\n",
      "#t0 = time()\n",
      "%timeit pca = RandomizedPCA(n_components=n_components, whiten=True).fit(X_train)\n",
      "#print(\"done in %0.3fs\" % (time() - t0))\n",
      "\n",
      "eigenfaces = pca.components_.reshape((n_components, h, w))\n",
      "\n",
      "print(\"Projecting the input data on the eigenfaces orthonormal basis\")\n",
      "#t0 = time()\n",
      "%timeit X_train_pca = pca.transform(X_train)\n",
      "%timeit X_test_pca = pca.transform(X_test)\n",
      "#print(\"done in %0.3fs\" % (time() - t0))\n"
     ],
     "language": "python",
     "metadata": {},
     "outputs": [
      {
       "output_type": "stream",
       "stream": "stdout",
       "text": [
        "Extracting the top 150 eigenfaces from 966 faces\n",
        "1 loops, best of 3: 36.1 s per loop"
       ]
      },
      {
       "output_type": "stream",
       "stream": "stdout",
       "text": [
        "\n",
        "Projecting the input data on the eigenfaces orthonormal basis\n",
        "1 loops, best of 3: 997 ms per loop"
       ]
      },
      {
       "output_type": "stream",
       "stream": "stdout",
       "text": [
        "\n",
        "1 loops, best of 3: 320 ms per loop"
       ]
      },
      {
       "output_type": "stream",
       "stream": "stdout",
       "text": [
        "\n"
       ]
      }
     ],
     "prompt_number": 9
    },
    {
     "cell_type": "code",
     "collapsed": false,
     "input": [
      "###############################################################################\n",
      "# Train a SVM classification model\n",
      "\n",
      "print(\"Fitting the classifier to the training set\")\n",
      "#t0 = time()\n",
      "%pdb param_grid = {'C': [1e3, 5e3, 1e4, 5e4, 1e5],\n",
      "              'gamma': [0.0001, 0.0005, 0.001, 0.005, 0.01, 0.1], }\n",
      "clf = GridSearchCV(SVC(kernel='rbf', class_weight='auto'), param_grid)\n",
      "%timeit clf = clf.fit(X_train_pca, y_train)\n",
      "#print(\"done in %0.3fs\" % (time() - t0))\n",
      "print(\"Best estimator found by grid search:\")\n",
      "print(clf.best_estimator_)\n"
     ],
     "language": "python",
     "metadata": {},
     "outputs": [
      {
       "ename": "IndentationError",
       "evalue": "unexpected indent (<ipython-input-8-591141ccc1df>, line 7)",
       "output_type": "pyerr",
       "traceback": [
        "\u001b[1;36m  File \u001b[1;32m\"<ipython-input-8-591141ccc1df>\"\u001b[1;36m, line \u001b[1;32m7\u001b[0m\n\u001b[1;33m    'gamma': [0.0001, 0.0005, 0.001, 0.005, 0.01, 0.1], }\u001b[0m\n\u001b[1;37m    ^\u001b[0m\n\u001b[1;31mIndentationError\u001b[0m\u001b[1;31m:\u001b[0m unexpected indent\n"
       ]
      }
     ],
     "prompt_number": 8
    },
    {
     "cell_type": "code",
     "collapsed": false,
     "input": [
      "###############################################################################\n",
      "# Quantitative evaluation of the model quality on the test set\n",
      "\n",
      "print(\"Predicting people's names on the test set\")\n",
      "t0 = time()\n",
      "y_pred = clf.predict(X_test_pca)\n",
      "print(\"done in %0.3fs\" % (time() - t0))\n",
      "\n",
      "print(classification_report(y_test, y_pred, target_names=target_names))\n",
      "print(confusion_matrix(y_test, y_pred, labels=range(n_classes)))"
     ],
     "language": "python",
     "metadata": {},
     "outputs": []
    },
    {
     "cell_type": "code",
     "collapsed": false,
     "input": [
      "###############################################################################\n",
      "# Qualitative evaluation of the predictions using matplotlib\n",
      "\n",
      "def plot_gallery(images, titles, h, w, n_row=3, n_col=4):\n",
      "    \"\"\"Helper function to plot a gallery of portraits\"\"\"\n",
      "    plt.figure(figsize=(1.8 * n_col, 2.4 * n_row))\n",
      "    plt.subplots_adjust(bottom=0, left=.01, right=.99, top=.90, hspace=.35)\n",
      "    for i in range(n_row * n_col):\n",
      "        plt.subplot(n_row, n_col, i + 1)\n",
      "        plt.imshow(images[i].reshape((h, w)), cmap=plt.cm.gray)\n",
      "        plt.title(titles[i], size=12)\n",
      "        plt.xticks(())\n",
      "        plt.yticks(())"
     ],
     "language": "python",
     "metadata": {},
     "outputs": []
    },
    {
     "cell_type": "code",
     "collapsed": false,
     "input": [
      "# plot the result of the prediction on a portion of the test set\n",
      "\n",
      "def title(y_pred, y_test, target_names, i):\n",
      "    pred_name = target_names[y_pred[i]].rsplit(' ', 1)[-1]\n",
      "    true_name = target_names[y_test[i]].rsplit(' ', 1)[-1]\n",
      "    return 'predicted: %s\\ntrue:      %s' % (pred_name, true_name)\n",
      "\n",
      "prediction_titles = [title(y_pred, y_test, target_names, i)\n",
      "                     for i in range(y_pred.shape[0])]\n",
      "\n",
      "plot_gallery(X_test, prediction_titles, h, w)"
     ],
     "language": "python",
     "metadata": {},
     "outputs": []
    },
    {
     "cell_type": "code",
     "collapsed": false,
     "input": [
      "# plot the gallery of the most significative eigenfaces\n",
      "\n",
      "eigenface_titles = [\"eigenface %d\" % i for i in range(eigenfaces.shape[0])]\n",
      "plot_gallery(eigenfaces, eigenface_titles, h, w)\n",
      "\n",
      "plt.show()"
     ],
     "language": "python",
     "metadata": {},
     "outputs": []
    }
   ],
   "metadata": {}
  }
 ]
}