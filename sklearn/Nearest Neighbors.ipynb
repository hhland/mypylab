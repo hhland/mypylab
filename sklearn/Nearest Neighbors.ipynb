{
 "metadata": {
  "name": "",
  "signature": "sha256:39517c670b333773b105a1eccb9bf56e6fa4cdbf59a4822886fff20d8c1e08c7"
 },
 "nbformat": 3,
 "nbformat_minor": 0,
 "worksheets": [
  {
   "cells": [
    {
     "cell_type": "code",
     "collapsed": true,
     "input": [
      "%pylab inline\n",
      "from sklearn.neighbors import NearestNeighbors"
     ],
     "language": "python",
     "metadata": {},
     "outputs": [
      {
       "output_type": "stream",
       "stream": "stdout",
       "text": [
        "Populating the interactive namespace from numpy and matplotlib\n"
       ]
      }
     ],
     "prompt_number": 1
    },
    {
     "cell_type": "code",
     "collapsed": false,
     "input": [
      "x=np.array([[-1,-1],[-2,-1],[-3,-2],[1,1],[2,1],[3,2]])\n",
      "nbrs=NearestNeighbors(n_neighbors=2,algorithm=\"ball_tree\").fit(x)\n",
      "print nbrs\n",
      "plt.plot(x)\n",
      "plt.show()"
     ],
     "language": "python",
     "metadata": {},
     "outputs": [
      {
       "output_type": "stream",
       "stream": "stdout",
       "text": [
        "NearestNeighbors(algorithm=ball_tree, leaf_size=30, metric=minkowski,\n",
        "         n_neighbors=2, radius=1.0)\n"
       ]
      },
      {
       "metadata": {},
       "output_type": "display_data",
       "png": "[encoded data removed]",
       "text": [
        "<matplotlib.figure.Figure at 0x4210d90>"
       ]
      }
     ],
     "prompt_number": 2
    },
    {
     "cell_type": "code",
     "collapsed": false,
     "input": [
      "distances,indices=nbrs.kneighbors(x)\n",
      "print distances\n",
      "print indices"
     ],
     "language": "python",
     "metadata": {},
     "outputs": [
      {
       "output_type": "stream",
       "stream": "stdout",
       "text": [
        "[[ 0.          1.        ]\n",
        " [ 0.          1.        ]\n",
        " [ 0.          1.41421356]\n",
        " [ 0.          1.        ]\n",
        " [ 0.          1.        ]\n",
        " [ 0.          1.41421356]]\n",
        "[[0 1]\n",
        " [1 0]\n",
        " [2 1]\n",
        " [3 4]\n",
        " [4 3]\n",
        " [5 4]]\n"
       ]
      }
     ],
     "prompt_number": 4
    },
    {
     "cell_type": "code",
     "collapsed": true,
     "input": [],
     "language": "python",
     "metadata": {},
     "outputs": []
    }
   ],
   "metadata": {}
  }
 ]
}