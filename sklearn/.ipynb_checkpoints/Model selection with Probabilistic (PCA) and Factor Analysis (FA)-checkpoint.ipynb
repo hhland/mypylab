{
 "metadata": {
  "name": "",
  "signature": "sha256:72aa45b3e613a4e24834c822dbcb3eaf7485fad686470520f9ad670e3fd2650e"
 },
 "nbformat": 3,
 "nbformat_minor": 0,
 "worksheets": [
  {
   "cells": [
    {
     "cell_type": "code",
     "collapsed": false,
     "input": [
      "#http://scikit-learn.org/stable/auto_examples/decomposition/plot_pca_vs_fa_model_selection.html#example-decomposition-plot-pca-vs-fa-model-selection-py\n",
      "%pylab inline"
     ],
     "language": "python",
     "metadata": {},
     "outputs": [
      {
       "output_type": "stream",
       "stream": "stdout",
       "text": [
        "Populating the interactive namespace from numpy and matplotlib\n"
       ]
      },
      {
       "output_type": "stream",
       "stream": "stderr",
       "text": [
        "WARNING: pylab import has clobbered these variables: ['linalg']\n",
        "`%matplotlib` prevents importing * from pylab and numpy\n"
       ]
      }
     ],
     "prompt_number": 14
    },
    {
     "cell_type": "code",
     "collapsed": false,
     "input": [
      "from scipy import linalg\n",
      "from sklearn.decomposition import PCA, FactorAnalysis\n",
      "from sklearn.covariance import ShrunkCovariance, LedoitWolf\n",
      "from sklearn.cross_validation import cross_val_score\n",
      "from sklearn.grid_search import GridSearchCV\n"
     ],
     "language": "python",
     "metadata": {},
     "outputs": [],
     "prompt_number": 16
    },
    {
     "cell_type": "code",
     "collapsed": false,
     "input": [
      "def compute_scores(X):\n",
      "    pca = PCA()\n",
      "    fa = FactorAnalysis()\n",
      "\n",
      "    pca_scores, fa_scores = [], []\n",
      "    for n in n_components:\n",
      "        pca.n_components = n\n",
      "        fa.n_components = n\n",
      "        pca_scores.append(np.mean(cross_val_score(pca, X)))\n",
      "        fa_scores.append(np.mean(cross_val_score(fa, X)))\n",
      "\n",
      "    return pca_scores, fa_scores\n",
      "\n",
      "\n",
      "def shrunk_cov_score(X):\n",
      "    shrinkages = np.logspace(-2, 0, 30)\n",
      "    cv = GridSearchCV(ShrunkCovariance(), {'shrinkage': shrinkages})\n",
      "    return np.mean(cross_val_score(cv.fit(X).best_estimator_, X))\n",
      "\n",
      "\n",
      "def lw_score(X):\n",
      "    return np.mean(cross_val_score(LedoitWolf(), X))"
     ],
     "language": "python",
     "metadata": {},
     "outputs": [],
     "prompt_number": 18
    },
    {
     "cell_type": "code",
     "collapsed": false,
     "input": [
      "###############################################################################\n",
      "# Create the data\n",
      "\n",
      "n_samples, n_features, rank = 1000, 50, 10\n",
      "sigma = 1.\n",
      "rng = np.random.RandomState(42)\n",
      "U, _, _ = linalg.svd(rng.randn(n_features, n_features))\n",
      "X = np.dot(rng.randn(n_samples, rank), U[:, :rank].T)\n",
      "\n",
      "# Adding homoscedastic noise\n",
      "X_homo = X + sigma * rng.randn(n_samples, n_features)\n",
      "\n",
      "# Adding heteroscedastic noise\n",
      "sigmas = sigma * rng.rand(n_features) + sigma / 2.\n",
      "X_hetero = X + rng.randn(n_samples, n_features) * sigmas\n",
      "\n",
      "###############################################################################\n",
      "# Fit the models\n",
      "\n",
      "n_components = np.arange(0, n_features, 5)  # options for n_components"
     ],
     "language": "python",
     "metadata": {},
     "outputs": [],
     "prompt_number": 20
    },
    {
     "cell_type": "code",
     "collapsed": false,
     "input": [
      "for X, title in [(X_homo, 'Homoscedastic Noise'),\n",
      "                 (X_hetero, 'Heteroscedastic Noise')]:\n",
      "    pca_scores, fa_scores = compute_scores(X)\n",
      "    n_components_pca = n_components[np.argmax(pca_scores)]\n",
      "    n_components_fa = n_components[np.argmax(fa_scores)]\n",
      "\n",
      "    pca = PCA(n_components='mle')\n",
      "    pca.fit(X)\n",
      "    n_components_pca_mle = pca.n_components_\n",
      "\n",
      "    print(\"best n_components by PCA CV = %d\" % n_components_pca)\n",
      "    print(\"best n_components by FactorAnalysis CV = %d\" % n_components_fa)\n",
      "    print(\"best n_components by PCA MLE = %d\" % n_components_pca_mle)\n",
      "\n",
      "    plt.figure()\n",
      "    plt.plot(n_components, pca_scores, 'b', label='PCA scores')\n",
      "    plt.plot(n_components, fa_scores, 'r', label='FA scores')\n",
      "    plt.axvline(rank, color='g', label='TRUTH: %d' % rank, linestyle='-')\n",
      "    plt.axvline(n_components_pca, color='b',\n",
      "                label='PCA CV: %d' % n_components_pca, linestyle='--')\n",
      "    plt.axvline(n_components_fa, color='r',\n",
      "                label='FactorAnalysis CV: %d' % n_components_fa, linestyle='--')\n",
      "    plt.axvline(n_components_pca_mle, color='k',\n",
      "                label='PCA MLE: %d' % n_components_pca_mle, linestyle='--')\n",
      "\n",
      "    # compare with other covariance estimators\n",
      "    plt.axhline(shrunk_cov_score(X), color='violet',\n",
      "                label='Shrunk Covariance MLE', linestyle='-.')\n",
      "    plt.axhline(lw_score(X), color='orange',\n",
      "                label='LedoitWolf MLE' % n_components_pca_mle, linestyle='-.')\n",
      "\n",
      "    plt.xlabel('nb of components')\n",
      "    plt.ylabel('CV scores')\n",
      "    plt.legend(loc='lower right')\n",
      "    plt.title(title)"
     ],
     "language": "python",
     "metadata": {},
     "outputs": []
    }
   ],
   "metadata": {}
  }
 ]
}