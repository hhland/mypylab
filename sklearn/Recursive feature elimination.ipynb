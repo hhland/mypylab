{
 "metadata": {
  "name": "",
  "signature": "sha256:8a8630d28d3e370bb511f0d4b4c52a5c9d1d3774d9d964938eb58bf3452a76c3"
 },
 "nbformat": 3,
 "nbformat_minor": 0,
 "worksheets": [
  {
   "cells": [
    {
     "cell_type": "code",
     "collapsed": false,
     "input": [
      "%pylab inline\n",
      "\"\"\"\n",
      "A recursive feature elimination example showing the relevance of pixels in a digit classification task.\n",
      "\"\"\"\n",
      "print __doc__\n",
      "from sklearn.svm import SVC\n",
      "from sklearn.datasets import load_digits\n",
      "from sklearn.feature_selection import RFE"
     ],
     "language": "python",
     "metadata": {},
     "outputs": [
      {
       "output_type": "stream",
       "stream": "stdout",
       "text": [
        "Populating the interactive namespace from numpy and matplotlib\n",
        "\n",
        "A recursive feature elimination example showing the relevance of pixels in a digit classification task.\n",
        "\n"
       ]
      }
     ],
     "prompt_number": 1
    },
    {
     "cell_type": "code",
     "collapsed": false,
     "input": [
      "digits=load_digits()\n",
      "x,y=digits.images.reshape(len(digits.images),-1),digits.target\n",
      "print x,y"
     ],
     "language": "python",
     "metadata": {},
     "outputs": [
      {
       "output_type": "stream",
       "stream": "stdout",
       "text": [
        "[[  0.   0.   5. ...,   0.   0.   0.]\n",
        " [  0.   0.   0. ...,  10.   0.   0.]\n",
        " [  0.   0.   0. ...,  16.   9.   0.]\n",
        " ..., \n",
        " [  0.   0.   1. ...,   6.   0.   0.]\n",
        " [  0.   0.   2. ...,  12.   0.   0.]\n",
        " [  0.   0.  10. ...,  12.   1.   0.]] [0 1 2 ..., 8 9 8]\n"
       ]
      }
     ],
     "prompt_number": 2
    },
    {
     "cell_type": "code",
     "collapsed": false,
     "input": [
      "svc=SVC(kernel=\"linear\",C=1)\n",
      "rfe=RFE(estimator=svc,n_features_to_select=1,step=1)\n",
      "rfe.fit(x,y)\n",
      "ranking=rfe.ranking_.reshape(digits.images[0].shape)\n",
      "print ranking"
     ],
     "language": "python",
     "metadata": {},
     "outputs": [
      {
       "output_type": "stream",
       "stream": "stdout",
       "text": [
        "[[64 50 31 23 10 17 34 51]\n",
        " [57 37 30 43 14 32 44 52]\n",
        " [54 41 19 15 28  8 39 53]\n",
        " [55 45  9 18 20 38  1 59]\n",
        " [63 42 25 35 29 16  2 62]\n",
        " [61 40  5 11 13  6  4 58]\n",
        " [56 47 26 36 24  3 22 48]\n",
        " [60 49  7 27 33 21 12 46]]\n"
       ]
      }
     ],
     "prompt_number": 3
    },
    {
     "cell_type": "code",
     "collapsed": false,
     "input": [
      "plt.matshow(ranking)\n",
      "plt.colorbar()\n",
      "plt.title(\"Ranking of pixels with REF\")\n",
      "plt.show()"
     ],
     "language": "python",
     "metadata": {},
     "outputs": [
      {
       "metadata": {},
       "output_type": "display_data",
       "png": "[encoded data removed]",
       "text": [
        "<matplotlib.figure.Figure at 0x3a22650>"
       ]
      }
     ],
     "prompt_number": 4
    },
    {
     "cell_type": "code",
     "collapsed": true,
     "input": [],
     "language": "python",
     "metadata": {},
     "outputs": []
    }
   ],
   "metadata": {}
  }
 ]
}