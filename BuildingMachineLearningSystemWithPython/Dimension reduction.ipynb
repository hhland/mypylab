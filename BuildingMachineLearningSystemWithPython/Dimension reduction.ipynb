{
 "metadata": {
  "name": "",
  "signature": "sha256:5f603bd48c5e3dd28573e80b6a7fbd93a5851a9e270628adbc257d192198ed0c"
 },
 "nbformat": 3,
 "nbformat_minor": 0,
 "worksheets": [
  {
   "cells": [
    {
     "cell_type": "code",
     "collapsed": false,
     "input": [
      "%pylab inline\n",
      "from  scipy.stats import pearsonr,entropy"
     ],
     "language": "python",
     "metadata": {},
     "outputs": [
      {
       "output_type": "stream",
       "stream": "stdout",
       "text": [
        "Populating the interactive namespace from numpy and matplotlib\n"
       ]
      }
     ],
     "prompt_number": 2
    },
    {
     "cell_type": "code",
     "collapsed": false,
     "input": [
      "print pearsonr([1,2,3], [1,2,3.1])\n",
      "\n",
      "print pearsonr([1,2,3], [1,20,6])\n"
     ],
     "language": "python",
     "metadata": {},
     "outputs": [
      {
       "output_type": "stream",
       "stream": "stdout",
       "text": [
        "(0.99962228516121843, 0.017498096813278487)\n",
        "(0.25383654128340477, 0.83661493668227427)\n"
       ]
      }
     ],
     "prompt_number": 3
    },
    {
     "cell_type": "markdown",
     "metadata": {},
     "source": [
      "\\sum p_i \\log_2(p_i)"
     ]
    },
    {
     "cell_type": "code",
     "collapsed": false,
     "input": [
      "?entropy"
     ],
     "language": "python",
     "metadata": {},
     "outputs": [],
     "prompt_number": 11
    },
    {
     "cell_type": "markdown",
     "metadata": {},
     "source": []
    }
   ],
   "metadata": {}
  }
 ]
}