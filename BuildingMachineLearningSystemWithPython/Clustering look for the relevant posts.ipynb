{
 "metadata": {
  "name": "",
  "signature": "sha256:ea519ed60361bc8526c14d7e634625f95493e21aafc14a64d9d7acbd20124198"
 },
 "nbformat": 3,
 "nbformat_minor": 0,
 "worksheets": [
  {
   "cells": [
    {
     "cell_type": "code",
     "collapsed": false,
     "input": [
      "%pylab inline\n",
      "from sklearn.feature_extraction.text import CountVectorizer"
     ],
     "language": "python",
     "metadata": {},
     "outputs": []
    },
    {
     "cell_type": "markdown",
     "metadata": {},
     "source": [
      "\u53c2\u6570min_df\u51b3\u5b9a\u4e86CountVectorizer\u5982\u4f55\u5904\u7406\u90a3\u4e9b\u4e0d\u7ecf\u5e38\u4f7f\u7528\u7684\u8bcd\u8bed\uff08\u6700\u5c0f\u6587\u6863\u9891\u7387\uff09\u3002\u5982\u679c\u5c06\u5b83\u8bbe\u6210\u4e00\u4e2a\u6574\u6570\uff0c\u90a3\u4e48\u6240\u6709\u51fa\u73b0\u6b21\u6570\u5c0f\u4e8e\u8fd9\u4e2a\u503c\u7684\u8bcd\u8bed\u90fd\u5c06\u88ab\u6254\u6389\u3002\u5982\u679c\u5b83\u662f\u4e00\u4e2a\u6bd4\u4f8b\uff0c\u90a3\u4e48\u6240\u6709\u5728\u6574\u4e2a\u6570\u636e\u96c6\u4e2d\u51fa\u73b0\u6bd4\u4f8b\u5c0f\u4e8e\u8fd9\u4e2a\u503c\u7684\u8bcd\u8bed\u90fd\u5c06\u88ab\u6254\u6389\u3002"
     ]
    },
    {
     "cell_type": "code",
     "collapsed": false,
     "input": [
      "vectorizer = CountVectorizer(min_df=1)\n",
      "print vectorizer\n",
      "\n",
      "content = [\"How to format my hard disk\", \" Hard disk format problems \"]\n",
      "x = vectorizer.fit_transform(content)\n",
      "vectorizer.get_feature_names(),x.toarray().transpose()"
     ],
     "language": "python",
     "metadata": {},
     "outputs": [
      {
       "output_type": "stream",
       "stream": "stdout",
       "text": [
        "CountVectorizer(analyzer=u'word', binary=False, charset=None,\n",
        "        charset_error=None, decode_error=u'strict',\n",
        "        dtype=<type 'numpy.int64'>, encoding=u'utf-8', input=u'content',\n",
        "        lowercase=True, max_df=1.0, max_features=None, min_df=1,\n",
        "        ngram_range=(1, 1), preprocessor=None, stop_words=None,\n",
        "        strip_accents=None, token_pattern=u'(?u)\\\\b\\\\w\\\\w+\\\\b',\n",
        "        tokenizer=None, vocabulary=None)\n"
       ]
      },
      {
       "metadata": {},
       "output_type": "pyout",
       "prompt_number": 6,
       "text": [
        "([u'disk', u'format', u'hard', u'how', u'my', u'problems', u'to'],\n",
        " array([[1, 1],\n",
        "        [1, 1],\n",
        "        [1, 1],\n",
        "        [1, 0],\n",
        "        [1, 0],\n",
        "        [0, 1],\n",
        "        [1, 0]]))"
       ]
      }
     ],
     "prompt_number": 6
    },
    {
     "cell_type": "code",
     "collapsed": false,
     "input": [
      "\n"
     ],
     "language": "python",
     "metadata": {},
     "outputs": [
      {
       "metadata": {},
       "output_type": "pyout",
       "prompt_number": 4,
       "text": [
        "[u'disk', u'format', u'hard', u'how', u'my', u'problems', u'to']"
       ]
      }
     ],
     "prompt_number": 4
    },
    {
     "cell_type": "code",
     "collapsed": false,
     "input": [],
     "language": "python",
     "metadata": {},
     "outputs": []
    }
   ],
   "metadata": {}
  }
 ]
}