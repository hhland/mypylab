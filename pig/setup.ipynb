{
 "cells": [
  {
   "cell_type": "code",
   "execution_count": 1,
   "metadata": {
    "collapsed": false
   },
   "outputs": [
    {
     "name": "stdout",
     "output_type": "stream",
     "text": [
      "\u001b[0m\u001b[01;34mlib\u001b[0m                    pig_1418801717990.log  pig_magic.py    Untitled.ipynb\r\n",
      "magic.ipynb            pig_1418801987395.log  \u001b[01;34mscript\u001b[0m\r\n",
      "pig_1418800208834.log  pig_1418802063591.log  \u001b[01;34mtmp\u001b[0m\r\n",
      "pig_1418801677729.log  pigbank.ipynb          tutorial.ipynb\r\n"
     ]
    }
   ],
   "source": [
    "ls"
   ]
  },
  {
   "cell_type": "code",
   "execution_count": 2,
   "metadata": {
    "collapsed": false
   },
   "outputs": [
    {
     "name": "stdout",
     "output_type": "stream",
     "text": [
      "bash: cd: ls: No such file or directory\r\n"
     ]
    }
   ],
   "source": [
    "cd ls"
   ]
  },
  {
   "cell_type": "code",
   "execution_count": 3,
   "metadata": {
    "collapsed": false
   },
   "outputs": [
    {
     "name": "stdout",
     "output_type": "stream",
     "text": []
    }
   ],
   "source": [
    "cd lib"
   ]
  },
  {
   "cell_type": "code",
   "execution_count": 4,
   "metadata": {
    "collapsed": false
   },
   "outputs": [
    {
     "name": "stdout",
     "output_type": "stream",
     "text": [
      "\u001b[0m\u001b[01;31mpiggybank.jar\u001b[0m  \u001b[01;31mtutorial.jar\u001b[0m\r\n"
     ]
    }
   ],
   "source": [
    "ls"
   ]
  },
  {
   "cell_type": "code",
   "execution_count": 5,
   "metadata": {
    "collapsed": false
   },
   "outputs": [
    {
     "name": "stdout",
     "output_type": "stream",
     "text": [
      "--2016-01-08 12:56:11--  https://repository.apache.org/content/groups/public/org/apache/datafu/datafu-pig-incubating/1.3.0/datafu-pig-incubating-1.3.0.jar\r\n",
      "Resolving repository.apache.org (repository.apache.org)... 140.211.11.112\r\n",
      "Connecting to repository.apache.org (repository.apache.org)|140.211.11.112|:443... connected.\r\n",
      "HTTP request sent, awaiting response... 200 OK\r\n",
      "Length: 1932258 (1.8M) [application/java-archive]\r\n",
      "Saving to: `datafu-pig-incubating-1.3.0.jar'\r\n",
      "\r\n",
      "\r",
      " 0% [                                       ] 0           --.-K/s              \r",
      " 1% [                                       ] 37,983      96.0K/s              \r",
      " 5% [=>                                     ] 114,183      144K/s              \r",
      "12% [====>                                  ] 250,183      210K/s              \r",
      "19% [======>                                ] 369,287      232K/s              \r",
      "19% [======>                                ] 385,671      158K/s              \r",
      "31% [===========>                           ] 606,855      200K/s              \r",
      "34% [============>                          ] 666,183      173K/s  eta 7s      \r",
      "37% [=============>                         ] 721,543      155K/s  eta 7s      \r",
      "47% [=================>                     ] 918,151      181K/s  eta 5s      \r",
      "49% [==================>                    ] 959,111      158K/s  eta 5s      \r",
      "54% [====================>                  ] 1,057,415    163K/s  eta 5s      \r",
      "55% [====================>                  ] 1,065,607    146K/s  eta 5s      \r",
      "58% [=====================>                 ] 1,138,183    145K/s  eta 5s      \r",
      "60% [======================>                ] 1,162,183    128K/s  eta 5s      \r",
      "61% [=======================>               ] 1,196,679    122K/s  eta 5s      \r",
      "63% [=======================>               ] 1,229,447    119K/s  eta 5s      \r",
      "63% [=======================>               ] 1,234,183   96.5K/s  eta 5s      \r",
      "65% [========================>              ] 1,262,215   87.4K/s  eta 5s      \r",
      "65% [========================>              ] 1,274,183   88.4K/s  eta 5s      \r",
      "67% [=========================>             ] 1,303,175   90.0K/s  eta 5s      \r",
      "68% [=========================>             ] 1,327,751   61.4K/s  eta 5s      \r",
      "70% [==========================>            ] 1,360,519   62.6K/s  eta 5s      \r",
      "70% [==========================>            ] 1,368,711   52.6K/s  eta 5s      \r",
      "71% [==========================>            ] 1,385,095   58.1K/s  eta 5s      \r",
      "72% [===========================>           ] 1,401,479   46.8K/s  eta 5s      \r",
      "73% [===========================>           ] 1,417,863   40.4K/s  eta 5s      \r",
      "74% [===========================>           ] 1,434,183   39.8K/s  eta 5s      \r",
      "74% [============================>          ] 1,442,439   36.0K/s  eta 5s      \r",
      "75% [============================>          ] 1,450,183   33.3K/s  eta 5s      \r",
      "75% [============================>          ] 1,458,183   32.8K/s  eta 5s      \r",
      "76% [============================>          ] 1,474,183   31.0K/s  eta 5s      \r",
      "76% [============================>          ] 1,482,183   30.5K/s  eta 5s      \r",
      "77% [=============================>         ] 1,491,591   27.6K/s  eta 5s      \r",
      "77% [=============================>         ] 1,506,183   27.0K/s  eta 5s      \r",
      "78% [=============================>         ] 1,516,167   23.3K/s  eta 5s      \r",
      "79% [=============================>         ] 1,530,183   23.2K/s  eta 5s      \r",
      "80% [==============================>        ] 1,546,183   25.9K/s  eta 5s      \r",
      "81% [==============================>        ] 1,565,319   28.0K/s  eta 5s      \r",
      "82% [===============================>       ] 1,586,183   29.0K/s  eta 4s      \r",
      "83% [===============================>       ] 1,610,183   35.0K/s  eta 4s      \r",
      "84% [===============================>       ] 1,630,855   39.5K/s  eta 4s      \r",
      "85% [================================>      ] 1,658,183   44.3K/s  eta 3s      \r",
      "87% [=================================>     ] 1,688,199   49.6K/s  eta 3s      \r",
      "89% [=================================>     ] 1,722,183   54.5K/s  eta 3s      \r",
      "91% [==================================>    ] 1,770,119   64.1K/s  eta 2s      \r",
      "92% [===================================>   ] 1,786,183   63.4K/s  eta 2s      \r",
      "95% [====================================>  ] 1,850,183   74.9K/s  eta 2s      \r",
      "98% [=====================================> ] 1,901,191   82.6K/s  eta 0s      \r",
      "99% [=====================================> ] 1,930,183   74.7K/s  eta 0s      \r",
      "100%[======================================>] 1,932,258   75.1K/s   in 24s     \r\n",
      "\r\n",
      "2016-01-08 12:56:38 (77.8 KB/s) - `datafu-pig-incubating-1.3.0.jar' saved [1932258/1932258]\r\n",
      "\r\n"
     ]
    }
   ],
   "source": [
    "wget https://repository.apache.org/content/groups/public/org/apache/datafu/datafu-pig-incubating/1.3.0/datafu-pig-incubating-1.3.0.jar"
   ]
  },
  {
   "cell_type": "code",
   "execution_count": 6,
   "metadata": {
    "collapsed": false
   },
   "outputs": [
    {
     "name": "stdout",
     "output_type": "stream",
     "text": [
      "\u001b[0m\u001b[01;31mdatafu-pig-incubating-1.3.0.jar\u001b[0m  \u001b[01;31mpiggybank.jar\u001b[0m  \u001b[01;31mtutorial.jar\u001b[0m\r\n"
     ]
    }
   ],
   "source": [
    "ls"
   ]
  },
  {
   "cell_type": "code",
   "execution_count": null,
   "metadata": {
    "collapsed": true
   },
   "outputs": [],
   "source": []
  }
 ],
 "metadata": {
  "kernelspec": {
   "display_name": "Bash",
   "language": "bash",
   "name": "bash"
  },
  "language_info": {
   "codemirror_mode": "shell",
   "file_extension": ".sh",
   "mimetype": "text/x-sh",
   "name": "bash"
  }
 },
 "nbformat": 4,
 "nbformat_minor": 0
}
