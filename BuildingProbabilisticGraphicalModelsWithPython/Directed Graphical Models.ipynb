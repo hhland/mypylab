{
 "metadata": {
  "name": "",
  "signature": "sha256:8adbe326d630e698c2130f8019d406ba255e774b0c4690526d26bdb4d85ef4d1"
 },
 "nbformat": 3,
 "nbformat_minor": 0,
 "worksheets": [
  {
   "cells": [
    {
     "cell_type": "code",
     "collapsed": false,
     "input": [
      "%pylab inline\n",
      "from libpgm.graphskeleton import GraphSkeleton\n",
      "from libpgm.nodedata import NodeData\n",
      "from libpgm.discretebayesiannetwork import DiscreteBayesianNetwork\n",
      "from libpgm.tablecpdfactorization import TableCPDFactorization"
     ],
     "language": "python",
     "metadata": {},
     "outputs": [
      {
       "output_type": "stream",
       "stream": "stdout",
       "text": [
        "Populating the interactive namespace from numpy and matplotlib\n"
       ]
      }
     ],
     "prompt_number": 1
    },
    {
     "cell_type": "code",
     "collapsed": false,
     "input": [
      "%%file data/job_interview.json\n",
      "{\t\n",
      "\t\"V\": [\"Offer\", \"Interview\", \"Grades\", \"Admission\", \"Experience\"],\n",
      "\t\"E\": [[\"Grades\", \"Interview\"],\n",
      "\t\t[\"Experience\", \"Interview\"],\n",
      "\t\t[\"Grades\", \"Admission\"],\n",
      "\t\t[\"Interview\", \"Offer\"]],\n",
      "\t\"Vdata\": {\n",
      "\t\t\"Offer\": {\n",
      "\t\t\t\"ord\": 4,\n",
      "\t\t\t\"numoutcomes\": 2,\n",
      "\t\t\t\"vals\": [\"0\", \"1\"],\n",
      "\t\t\t\"parents\": [\"Interview\"],\n",
      "\t\t\t\"children\": None,\n",
      "\t\t\t\"cprob\": {\n",
      "\t\t\t\t\"['0']\": [.9, .1],\n",
      "\t\t\t\t\"['1']\": [.4, .6],\n",
      "\t\t\t\t\"['2']\": [.01, .99]\n",
      "\t\t\t}\n",
      "\t\t},\n",
      "\t\t\n",
      "\t\t\"Admission\": {\n",
      "\t\t\t\"ord\": 3,\n",
      "\t\t\t\"numoutcomes\": 2,\n",
      "\t\t\t\"vals\": [\"0\", \"1\"],\n",
      "\t\t\t\"parents\": [\"Grades\"],\n",
      "\t\t\t\"children\": None,\n",
      "\t\t\t\"cprob\": {\n",
      "\t\t\t\t\"['0']\": [.7, .3],\n",
      "\t\t\t\t\"['1']\": [.2, .8]\n",
      "\t\t\t}\n",
      "\t\t},\n",
      "\t\t\n",
      "\t\t\"Interview\": {\n",
      "\t\t\t\"ord\": 2,\n",
      "\t\t\t\"numoutcomes\": 3,\n",
      "\t\t\t\"vals\": [\"0\", \"1\", \"2\"],\n",
      "\t\t\t\"parents\": [\"Experience\", \"Grades\"],\n",
      "\t\t\t\"children\": [\"Offer\"],\n",
      "\t\t\t\"cprob\": {\n",
      "\t\t\t\t\"['0', '0']\": [.8, .18, .02],\n",
      "\t\t\t\t\"['0', '1']\": [.3, .6, .1],\n",
      "                \"['1', '0']\": [.3, .4, .3],\n",
      "                \"['1', '1']\": [.1, .2, .7]\n",
      "            }\n",
      "\t\t},\n",
      "\t\t\n",
      "\t\t\"Grades\": {\n",
      "\t\t\t\"ord\": 1,\n",
      "\t\t\t\"numoutcomes\": 2,\n",
      "\t\t\t\"vals\": [\"0\", \"1\"],\n",
      "\t\t\t\"parents\": None,\n",
      "\t\t\t\"children\": [\"Admission\", \"Interview\"],\n",
      "\t\t\t\"cprob\": [.7, .3]\n",
      "\t\t},\n",
      "\t\t\n",
      "\t\t\"Experience\": {\n",
      "\t\t\t\"ord\": 0,\n",
      "\t\t\t\"numoutcomes\": 2,\n",
      "\t\t\t\"vals\": [\"0\", \"1\"],\n",
      "\t\t\t\"parents\": None,\n",
      "\t\t\t\"children\": [\"Interview\"],\n",
      "\t\t\t\"cprob\":  [.6, .4]\n",
      "\t\t}\n",
      "\t}\n",
      "}\n"
     ],
     "language": "python",
     "metadata": {},
     "outputs": [
      {
       "output_type": "stream",
       "stream": "stdout",
       "text": [
        "Overwriting data/job_interview.json\n"
       ]
      }
     ],
     "prompt_number": 2
    },
    {
     "cell_type": "code",
     "collapsed": false,
     "input": [
      "def getTableCPD():\n",
      "    nd = NodeData()\n",
      "    skel = GraphSkeleton()\n",
      "    jsonpath=\"data/job_interview.json\"\n",
      "    nd.load(jsonpath)\n",
      "    skel.load(jsonpath)\n",
      "    # load bayesian network\n",
      "    bn = DiscreteBayesianNetwork(skel, nd)\n",
      "    tablecpd=TableCPDFactorization(bn)\n",
      "    return tablecpd\n",
      "\n",
      "tcpd=getTableCPD()\n",
      "tcpd"
     ],
     "language": "python",
     "metadata": {},
     "outputs": [
      {
       "metadata": {},
       "output_type": "pyout",
       "prompt_number": 3,
       "text": [
        "<libpgm.tablecpdfactorization.TableCPDFactorization instance at 0x2a81b00>"
       ]
      }
     ],
     "prompt_number": 3
    },
    {
     "cell_type": "code",
     "collapsed": false,
     "input": [
      "tcpd.specificquery(dict(Offer='1'),dict())"
     ],
     "language": "python",
     "metadata": {},
     "outputs": [
      {
       "metadata": {},
       "output_type": "pyout",
       "prompt_number": 4,
       "text": [
        "0.432816"
       ]
      }
     ],
     "prompt_number": 4
    },
    {
     "cell_type": "code",
     "collapsed": false,
     "input": [],
     "language": "python",
     "metadata": {},
     "outputs": []
    },
    {
     "cell_type": "code",
     "collapsed": false,
     "input": [],
     "language": "python",
     "metadata": {},
     "outputs": []
    },
    {
     "cell_type": "code",
     "collapsed": false,
     "input": [],
     "language": "python",
     "metadata": {},
     "outputs": []
    }
   ],
   "metadata": {}
  }
 ]
}