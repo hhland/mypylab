{
 "metadata": {
  "name": "",
  "signature": "sha256:82fc868ea1aa40a4d81e2c25c8a1f31705c707dd3f6813abede4df72a4e8d288"
 },
 "nbformat": 3,
 "nbformat_minor": 0,
 "worksheets": [
  {
   "cells": [
    {
     "cell_type": "code",
     "collapsed": false,
     "input": [
      "%pylab inline\n",
      "\n",
      "from libpgm.nodedata import NodeData\n",
      "from libpgm.graphskeleton import GraphSkeleton\n",
      "from libpgm.discretebayesiannetwork import DiscreteBayesianNetwork\n",
      "from libpgm.pgmlearner import PGMLearner"
     ],
     "language": "python",
     "metadata": {},
     "outputs": [
      {
       "output_type": "stream",
       "stream": "stdout",
       "text": [
        "Populating the interactive namespace from numpy and matplotlib\n"
       ]
      }
     ],
     "prompt_number": 3
    },
    {
     "cell_type": "code",
     "collapsed": false,
     "input": [
      "hr=\"-\"*160\n",
      "\n",
      "nd=NodeData()\n",
      "skel=GraphSkeleton()\n",
      "fpath=\"data/job_interview.json\"\n",
      "nd.load(fpath)\n",
      "skel.load(fpath)\n",
      "skel.toporder()\n",
      "bn=DiscreteBayesianNetwork(skel,nd)\n",
      "\n",
      "bn.randomsample(2)"
     ],
     "language": "python",
     "metadata": {},
     "outputs": [
      {
       "metadata": {},
       "output_type": "pyout",
       "prompt_number": 6,
       "text": [
        "[{u'Admission': u'1',\n",
        "  u'Experience': u'0',\n",
        "  u'Grades': u'0',\n",
        "  u'Interview': u'0',\n",
        "  u'Offer': u'0'},\n",
        " {u'Admission': u'0',\n",
        "  u'Experience': u'1',\n",
        "  u'Grades': u'0',\n",
        "  u'Interview': u'2',\n",
        "  u'Offer': u'1'}]"
       ]
      }
     ],
     "prompt_number": 6
    },
    {
     "cell_type": "code",
     "collapsed": false,
     "input": [],
     "language": "python",
     "metadata": {},
     "outputs": []
    }
   ],
   "metadata": {}
  }
 ]
}