{
 "metadata": {
  "name": ""
 },
 "nbformat": 3,
 "nbformat_minor": 0,
 "worksheets": [
  {
   "cells": [
    {
     "cell_type": "code",
     "collapsed": false,
     "input": [
      "from sympy import init_printing,init_session\n",
      "from sympy.printing.mathml import print_mathml\n",
      "init_printing()\n",
      "init_session()"
     ],
     "language": "python",
     "metadata": {},
     "outputs": [
      {
       "output_type": "stream",
       "stream": "stdout",
       "text": [
        "\n",
        "Welcome to pylab, a matplotlib-based Python environment [backend: module://IPython.zmq.pylab.backend_inline].\n",
        "For more information, type 'help(pylab)'."
       ]
      },
      {
       "output_type": "stream",
       "stream": "stdout",
       "text": [
        "IPython console for SymPy 0.7.5 (Python 2.7.3-64-bit) (ground types: python)\n",
        "\n",
        "These commands were executed:\n",
        ">>> from __future__ import division\n",
        ">>> from sympy import *\n",
        ">>> x, y, z, t = symbols('x y z t')\n",
        ">>> k, m, n = symbols('k m n', integer=True)\n",
        ">>> f, g, h = symbols('f g h', cls=Function)\n",
        "\n",
        "Documentation can be found at http://www.sympy.org"
       ]
      }
     ],
     "prompt_number": 16
    },
    {
     "cell_type": "code",
     "collapsed": false,
     "input": [
      "fml0=sqrt(1/x)\n",
      "fml1=Integral(fml0,x)\n",
      "fml1"
     ],
     "language": "python",
     "metadata": {},
     "outputs": [
      {
       "latex": [
        "$$\\int \\sqrt{\\frac{1}{x}}\\, dx$$"
       ],
       "metadata": {},
       "output_type": "pyout",
       "png": "[encoded data removed]",
       "prompt_number": 17,
       "text": [
        "\u2320           \n",
        "\u23ae     ___   \n",
        "\u23ae    \u2571 1    \n",
        "\u23ae   \u2571  \u2500  dx\n",
        "\u23ae \u2572\u2571   x    \n",
        "\u2321           "
       ]
      }
     ],
     "prompt_number": 17
    },
    {
     "cell_type": "code",
     "collapsed": false,
     "input": [
      "print str(fml1)\n",
      "print srepr(fml1)\n",
      "print pprint(fml1)\n",
      "print latex(fml1)\n",
      "print_mathml(fml1)"
     ],
     "language": "python",
     "metadata": {},
     "outputs": [
      {
       "output_type": "stream",
       "stream": "stdout",
       "text": [
        "Integral(sqrt(1/x), x)\n",
        "Integral(Pow(Pow(Symbol('x'), Integer(-1)), Rational(1, 2)), Tuple(Symbol('x')))\n",
        "\u2320           \n",
        "\u23ae     ___   \n",
        "\u23ae    \u2571 1    \n",
        "\u23ae   \u2571  \u2500  dx\n",
        "\u23ae \u2572\u2571   x    \n",
        "\u2321           \n",
        "None\n",
        "\\int \\sqrt{\\frac{1}{x}}\\, dx\n",
        "<apply>\n",
        "\t<int/>\n",
        "\t<bvar>\n",
        "\t\t<ci>x</ci>\n",
        "\t</bvar>\n",
        "\t<apply>\n",
        "\t\t<root/>\n",
        "\t\t<apply>\n",
        "\t\t\t<power/>\n",
        "\t\t\t<ci>x</ci>\n",
        "\t\t\t<cn>-1</cn>\n",
        "\t\t</apply>\n",
        "\t</apply>\n",
        "</apply>"
       ]
      }
     ],
     "prompt_number": 19
    },
    {
     "cell_type": "code",
     "collapsed": true,
     "input": [],
     "language": "python",
     "metadata": {},
     "outputs": []
    }
   ],
   "metadata": {}
  }
 ]
}