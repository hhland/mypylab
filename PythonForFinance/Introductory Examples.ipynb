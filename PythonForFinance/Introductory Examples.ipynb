{
 "metadata": {
  "name": "",
  "signature": "sha256:ac1643a05d8b040fdc6fb17c71417e91dd19eacc648786b8dda64abfb45cb31e"
 },
 "nbformat": 3,
 "nbformat_minor": 0,
 "worksheets": [
  {
   "cells": [
    {
     "cell_type": "code",
     "collapsed": false,
     "input": [
      "%pylab inline"
     ],
     "language": "python",
     "metadata": {},
     "outputs": [
      {
       "output_type": "stream",
       "stream": "stdout",
       "text": [
        "Populating the interactive namespace from numpy and matplotlib\n"
       ]
      }
     ],
     "prompt_number": 1
    },
    {
     "cell_type": "code",
     "collapsed": false,
     "input": [
      "%%file script/bsm.py\n",
      "\n",
      "#\n",
      "#\tValuation\tof\tEuropean\tcall\toptions\tin\tBlack-Scholes-Merton\tmodel\n",
      "#\tincl.\tVega\tfunction\tand\timplied\tvolatility\testimation\n",
      "#\tbsm_functions.py\n",
      "#\n",
      "#\tAnalytical\tBlack-Scholes-Merton\t(BSM)\tFormula\n",
      "def\tbsm_call_value(S0,\tK,\tT,\tr,\tsigma):\n",
      "\t\"\"\"Valuation\tof\tEuropean\tcall\toption\tin\tBSM\tmodel.\n",
      "\t\t\t\tAnalytical\tformula.\n",
      "\t\t\t\tParameters\n",
      "\t\t\t\t==========\n",
      "\t\t\t\tS0\t:\tfloat\n",
      "\t\t\t\t\t\t\t\tinitial\tstock/index\tlevel\n",
      "\t\t\t\tK\t:\tfloat\n",
      "\t\t\t\t\t\t\t\tstrike\tprice\n",
      "\t\t\t\tT\t:\tfloat\n",
      "\t\t\t\t\t\t\t\tmaturity\tdate\t(in\tyear\tfractions)\n",
      "\t\t\t\tr\t:\tfloat\n",
      "\t\t\t\t\t\t\t\tconstant\trisk-free\tshort\trate\n",
      "\t\t\t\tsigma\t:\tfloat\n",
      "\t\t\t\t\t\t\t\tvolatility\tfactor\tin\tdiffusion\tterm\n",
      "\t\t\t\tReturns\n",
      "\t\t\t\t=======\n",
      "\t\t\t\tvalue\t:\tfloat\n",
      "\t\t\t\t\t\t\t\tpresent\tvalue\tof\tthe\tEuropean\tcall\toption\n",
      "\t\"\"\"\n",
      "\tfrom\tmath\timport\tlog,\tsqrt,\texp\n",
      "\tfrom\tscipy\timport\tstats\n",
      "\tS0=\tfloat(S0)\n",
      "\td1=\t(log(S0\t/\tK)\t+\t(r\t+\t0.5\t*\tsigma\t**\t2)\t*\tT)\t/\t(sigma\t*\tsqrt(T))\n",
      "\td2=\t(log(S0\t/\tK)\t+\t(r\t-\t0.5\t*\tsigma\t**\t2)\t*\tT)\t/\t(sigma\t*\tsqrt(T))\n",
      "\tvalue=(S0\t*stats.norm.cdf(d1,0.0,1.0)-K*exp(-r\t*\tT)\t*stats.norm.cdf(d2,0.0,1.0))\n",
      "\treturn\tvalue\n",
      "\n",
      "\n",
      "def\tbsm_vega(S0,K,T,r,sigma):\n",
      "    \"\"\"\tVega\tof\tEuropean\toption\tin\tBSM\tmodel.\n",
      "\t\t\t\tParameters\n",
      "\t\t\t\t==========\n",
      "\t\t\t\tS0\t:\tfloat\n",
      "\t\t\t\t\t\t\t\tinitial\tstock/index\tlevel\n",
      "\t\t\t\tK\t:\tfloat\n",
      "\t\t\t\t\t\t\t\tstrike\tprice\n",
      "\t\t\t\tT\t:\tfloat\n",
      "\t\t\t\t\t\t\t\tmaturity\tdate\t(in\tyear\tfractions)\n",
      "\t\t\t\tr\t:\tfloat\n",
      "\t\t\t\t\t\t\t\tconstant\trisk-free\tshort\trate\n",
      "\t\t\t\tsigma\t:\tfloat\n",
      "\t\t\t\t\t\t\t\tvolatility\tfactor\tin\tdiffusion\tterm\n",
      "\t\t\t\tReturns\n",
      "\t\t\t\t=======\n",
      "\t\t\t\tvega\t:\tfloat\n",
      "\t\t\t\t\t\t\t\tpartial\tderivative\tof\tBSM\tformula\twith\trespect\n",
      "\t\t\t\t\t\t\t\tto\tsigma,\ti.e.\tVega\n",
      "\t\"\"\"\n",
      "    from math import log,sqrt\n",
      "    from scipy import stats\n",
      "    S0=float(S0)\n",
      "    d1=\t(log(S0/K)+(r+0.5*sigma**2)*T/(sigma*sqrt(T)))\n",
      "    vega =\tS0*stats.norm.cdf(d1,0.0,1.0)*sqrt(T)\n",
      "    return\tvega\n",
      "\n",
      "\n",
      "#\tImplied\tvolatility\tfunction\n",
      "def\tbsm_call_imp_vol(S0,\tK,\tT,\tr,\tC0,\tsigma_est,\tit=100):\n",
      "    \"\"\"\tImplied\tvolatility\tof\tEuropean\tcall\toption\tin\tBSM\tmodel.\n",
      "\t\t\t\tParameters\n",
      "\t\t\t\t==========\n",
      "\t\t\t\tS0\t:\tfloat\n",
      "\t\t\t\t\t\t\t\tinitial\tstock/index\tlevel\n",
      "\t\t\t\tK\t:\tfloat\n",
      "\t\t\t\t\t\t\t\tstrike\tprice\n",
      "\t\t\t\tT\t:\tfloat\n",
      "\t\t\t\t\t\t\t\tmaturity\tdate\t(in\tyear\tfractions)\n",
      "\t\t\t\tr\t:\tfloat\n",
      "\t\t\t\t\t\t\t\tconstant\trisk-free\tshort\trate\n",
      "\t\t\t\tsigma_est\t:\tfloat\n",
      "\t\t\t\t\t\t\t\testimate\tof\timpl.\tvolatility\n",
      "\t\t\t\tit\t:\tinteger\n",
      "\t\t\t\t\t\t\t\tnumber\tof\titerations\n",
      "\t\t\t\tReturns\n",
      "\t\t\t\t=======\n",
      "\t\t\t\tsimga_est\t:\tfloat\n",
      "\t\t\t\t\t\t\t\tnumerically\testimated\timplied\tvolatility\n",
      "\t\"\"\"\n",
      "    for i in\trange(it):\n",
      "\t\tsigma_est\t-=\t((bsm_call_value(S0,\tK,\tT,\tr,\tsigma_est)\t-\tC0)/bsm_vega(S0,\tK,\tT,\tr,\tsigma_est))\n",
      "    return\tsigma_est"
     ],
     "language": "python",
     "metadata": {},
     "outputs": [
      {
       "output_type": "stream",
       "stream": "stdout",
       "text": [
        "Overwriting script/bsm.py\n"
       ]
      }
     ],
     "prompt_number": 26
    },
    {
     "cell_type": "code",
     "collapsed": false,
     "input": [
      "%run script/bsm.py"
     ],
     "language": "python",
     "metadata": {},
     "outputs": [],
     "prompt_number": 27
    },
    {
     "cell_type": "code",
     "collapsed": false,
     "input": [],
     "language": "python",
     "metadata": {},
     "outputs": []
    }
   ],
   "metadata": {}
  }
 ]
}