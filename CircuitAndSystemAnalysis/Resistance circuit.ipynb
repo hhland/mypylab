{
 "metadata": {
  "name": "",
  "signature": "sha256:c42921ac13a7f315d5afb7e43520f7059cd12e6e59383ea749d78a683ae430ab"
 },
 "nbformat": 3,
 "nbformat_minor": 0,
 "worksheets": [
  {
   "cells": [
    {
     "cell_type": "code",
     "collapsed": false,
     "input": [
      "%pylab inline\n",
      "%load_ext oct2py.ipython"
     ],
     "language": "python",
     "metadata": {},
     "outputs": [
      {
       "output_type": "stream",
       "stream": "stdout",
       "text": [
        "Populating the interactive namespace from numpy and matplotlib\n"
       ]
      }
     ],
     "prompt_number": 1
    },
    {
     "cell_type": "markdown",
     "metadata": {},
     "source": [
      "#\u4f8b \uff16 \uff0d\uff11 \u7f51 \u5b54\u65b9\u7a0b \u7684 \u6c42\u89e3\n",
      "\u7535\u8def \u5982 \u56fe \uff16 \uff0d\uff11 \u6240\u793a \uff0c \u5df2 \u77e5 \uff32\uff11 \uff1d\uff16\u03a9\uff0c \uff32\uff12 \uff1d\uff14 \u03a9\uff0c \uff32\uff13 \uff1d\uff13 \u03a9\uff0c \uff56\uff33\uff11 \uff1d\uff14\uff12 \uff36\uff0c \uff56\uff33\uff12 \uff1d \uff0d\uff11\uff10\uff36\uff0c\n",
      "\u5199 \u51fa \u7535\u8def \u7684 \u7f51 \u5b54\u65b9\u7a0b\uff0c \u5e76\u6c42\u7535\u6d41 \uff49\uff11 \u548c \uff49\uff12 \u3002"
     ]
    },
    {
     "cell_type": "code",
     "collapsed": false,
     "input": [
      "%%octave\n",
      "r1=6;r2=4;r3=3;vs1=42;vs2=-10;\n",
      "a=[r1+r3,-r3;-r3,r2+r3]\n",
      "b=[vs1;-vs2]\n",
      "x=a\\b"
     ],
     "language": "python",
     "metadata": {},
     "outputs": [
      {
       "metadata": {},
       "output_type": "display_data",
       "text": [
        "a =\n",
        "\n",
        "        9       -3\n",
        "       -3        7\n",
        "\n",
        "b =\n",
        "\n",
        "       42\n",
        "       10\n",
        "\n",
        "x =\n",
        "\n",
        "  6.00000\n",
        "  4.00000"
       ]
      }
     ],
     "prompt_number": 3
    },
    {
     "cell_type": "code",
     "collapsed": false,
     "input": [],
     "language": "python",
     "metadata": {},
     "outputs": []
    }
   ],
   "metadata": {}
  }
 ]
}