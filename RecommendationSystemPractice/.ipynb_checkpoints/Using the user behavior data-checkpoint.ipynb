{
 "metadata": {
  "name": "",
  "signature": "sha256:964f63995a68c51db13379dc2c279764aa06173e821ef031f54e1a4eaf3c7600"
 },
 "nbformat": 3,
 "nbformat_minor": 0,
 "worksheets": [
  {
   "cells": [
    {
     "cell_type": "code",
     "collapsed": false,
     "input": [
      "%pylab inline"
     ],
     "language": "python",
     "metadata": {},
     "outputs": [
      {
       "output_type": "stream",
       "stream": "stdout",
       "text": [
        "Populating the interactive namespace from numpy and matplotlib\n"
       ]
      }
     ],
     "prompt_number": 1
    },
    {
     "cell_type": "code",
     "collapsed": false,
     "input": [
      "def SplitData(data, M, k, seed):\n",
      "    test = []\n",
      "    train = []\n",
      "    random.seed(seed)\n",
      "    for user, item in data:\n",
      "        if random.randint(0,M) == k:\n",
      "            test.append([user,item])\n",
      "        else:\n",
      "            train.append([user,item])\n",
      "    return train, test\n",
      "\n",
      "\n",
      "\n",
      "def Recommend(user, train, W):\n",
      "    rank = dict()\n",
      "    interacted_items = train[user]\n",
      "    for v, wuv in sorted(W[u].items, key=itemgetter(1), \\\n",
      "        reverse=True)[0:K]:\n",
      "        for i, rvi in train[v].items:\n",
      "            if i in interacted_items:\n",
      "                #we should filter items user interacted before\n",
      "                continue\n",
      "            rank[i] += wuv * rvi\n",
      "    return rank\n",
      "\n"
     ],
     "language": "python",
     "metadata": {},
     "outputs": [],
     "prompt_number": 10
    },
    {
     "cell_type": "code",
     "collapsed": false,
     "input": [
      "def Recall(train, test, N):\n",
      "    hit = 0\n",
      "    all = 0\n",
      "    for user in train.keys():\n",
      "        tu = test[user]\n",
      "        rank = Recommend(user,train, N)\n",
      "        for item, pui in rank:\n",
      "            if item in tu:\n",
      "                hit += 1\n",
      "        all += len(tu)\n",
      "    return hit / (all * 1.0)"
     ],
     "language": "python",
     "metadata": {},
     "outputs": [],
     "prompt_number": 7
    },
    {
     "cell_type": "code",
     "collapsed": false,
     "input": [
      "def Precision(train, test, N):\n",
      "    hit = 0\n",
      "    all = 0\n",
      "    for user in train.keys():\n",
      "        tu = test[user]\n",
      "        rank = Recommend(user,train, N)\n",
      "        for item, pui in rank:\n",
      "            if item in tu:\n",
      "                hit += 1\n",
      "        all += N\n",
      "    return hit / (all * 1.0)"
     ],
     "language": "python",
     "metadata": {},
     "outputs": [],
     "prompt_number": 8
    },
    {
     "cell_type": "code",
     "collapsed": false,
     "input": [
      "\n",
      "def Coverage(train, test, N):\n",
      "    recommend_items = set()\n",
      "    all_items = set()\n",
      "    for user in train.keys():\n",
      "        for item in train[user].keys():\n",
      "            all_items.add(item)\n",
      "        rank = Recommend(user,train, N)\n",
      "        for item, pui in rank:\n",
      "            recommend_items.add(item)\n",
      "    return len(recommend_items) / (len(all_items) * 1.0)"
     ],
     "language": "python",
     "metadata": {},
     "outputs": [],
     "prompt_number": 9
    },
    {
     "cell_type": "code",
     "collapsed": false,
     "input": [
      "def Popularity(train, test, N):\n",
      "    item_popularity = dict()\n",
      "    for user, items in train.items():\n",
      "        for item in items.keys():\n",
      "            if item not in item_popularity:\n",
      "                item_popularity[item] = 0\n",
      "            item_popularity[item] += 1\n",
      "    ret = 0\n",
      "    n = 0\n",
      "    for user in train.keys():\n",
      "        rank = Recommend(user,train, N)\n",
      "        for item, pui in rank:\n",
      "            ret += math.log(1 + item_popularity[item])\n",
      "            n += 1\n",
      "    ret /= n * 1.0\n",
      "    return ret"
     ],
     "language": "python",
     "metadata": {},
     "outputs": [],
     "prompt_number": 11
    },
    {
     "cell_type": "code",
     "collapsed": false,
     "input": [
      "def UserSimilarity(train):\n",
      "    # build inverse table for item_users\n",
      "    item_users = dict()\n",
      "    for u, items in train.items():\n",
      "        for i in items.keys():\n",
      "            if i not in item_users:\n",
      "                item_users[i] = set()\n",
      "            item_users[i].add(u)\n",
      "\n",
      "    #calculate co-rated items between users\n",
      "    C = dict()\n",
      "    N = dict()\n",
      "    for i, users in item_users.items():\n",
      "        for u in users:\n",
      "            N[u] += 1\n",
      "            for v in users:\n",
      "                if u == v:\n",
      "                    continue\n",
      "        C[u][v] += 1\n",
      "\n",
      "    #calculate finial similarity matrix W\n",
      "    W = dict()\n",
      "    for u, related_users in C.items():\n",
      "        for v, cuv in related_users.items():\n",
      "            W[u][v] = cuv / math.sqrt(N[u] * N[v])\n",
      "    return W"
     ],
     "language": "python",
     "metadata": {},
     "outputs": [],
     "prompt_number": 12
    },
    {
     "cell_type": "code",
     "collapsed": false,
     "input": [],
     "language": "python",
     "metadata": {},
     "outputs": []
    }
   ],
   "metadata": {}
  }
 ]
}