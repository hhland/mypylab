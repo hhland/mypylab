{
 "metadata": {
  "name": "",
  "signature": "sha256:e67641b636aed0f27cf566f2fa00eed00ffdf04d172b6c0281d43d8cd61d542a"
 },
 "nbformat": 3,
 "nbformat_minor": 0,
 "worksheets": [
  {
   "cells": [
    {
     "cell_type": "code",
     "collapsed": false,
     "input": [
      "%pylab inline"
     ],
     "language": "python",
     "metadata": {},
     "outputs": [
      {
       "output_type": "stream",
       "stream": "stdout",
       "text": [
        "Populating the interactive namespace from numpy and matplotlib\n"
       ]
      }
     ],
     "prompt_number": 1
    },
    {
     "cell_type": "code",
     "collapsed": false,
     "input": [
      "N=10000\n",
      "lognormal_values = np.random.lognormal(size=N)\n",
      "dummy, bins, dummy = plt.hist(lognormal_values, np.sqrt(N),normed=True, lw=1)\n",
      "sigma = 1\n",
      "mu = 0\n",
      "x = np.linspace(min(bins), max(bins), len(bins))\n",
      "pdf = np.exp(-(np.log(x) - mu)**2 / (2 * sigma**2))/ (x * sigma * np.sqrt(2 * np.pi)) \n",
      "plt.plot(x, pdf,lw=3) \n",
      "plt.show()"
     ],
     "language": "python",
     "metadata": {},
     "outputs": [
      {
       "metadata": {},
       "output_type": "display_data",
       "png": "[encoded data removed]",
       "text": [
        "<matplotlib.figure.Figure at 0x244ca50>"
       ]
      }
     ],
     "prompt_number": 2
    },
    {
     "cell_type": "code",
     "collapsed": false,
     "input": [],
     "language": "python",
     "metadata": {},
     "outputs": []
    }
   ],
   "metadata": {}
  }
 ]
}