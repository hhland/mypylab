{
 "metadata": {
  "name": "",
  "signature": "sha256:5cdf4a28ccc6505642b69bc5424289d810311c698ba29cc9560155991b4e4c45"
 },
 "nbformat": 3,
 "nbformat_minor": 0,
 "worksheets": [
  {
   "cells": [
    {
     "cell_type": "code",
     "collapsed": false,
     "input": [
      "%pylab inline"
     ],
     "language": "python",
     "metadata": {},
     "outputs": [
      {
       "output_type": "stream",
       "stream": "stdout",
       "text": [
        "Populating the interactive namespace from numpy and matplotlib\n"
       ]
      }
     ],
     "prompt_number": 1
    },
    {
     "cell_type": "code",
     "collapsed": false,
     "input": [
      "\"\"\"create matrix\"\"\"\n",
      "A = np.mat('1 2 3; 4 5 6; 7 8 9') \n",
      "print \"Creation from string\", A \n",
      "print \"transpose A\", A.T \n",
      "print \"Inverse A\", A.I \n",
      "print \"Check Inverse\", A * A.I\n",
      "\n",
      "print \"Creation from array\", np.mat(np.arange(9).reshape(3, 3))"
     ],
     "language": "python",
     "metadata": {},
     "outputs": [
      {
       "output_type": "stream",
       "stream": "stdout",
       "text": [
        "Creation from string [[1 2 3]\n",
        " [4 5 6]\n",
        " [7 8 9]]\n",
        "transpose A [[1 4 7]\n",
        " [2 5 8]\n",
        " [3 6 9]]\n",
        "Inverse A "
       ]
      },
      {
       "output_type": "stream",
       "stream": "stdout",
       "text": [
        "[[  2.25125019e+15  -4.50250038e+15   2.25125019e+15]\n",
        " [ -4.50250038e+15   9.00500077e+15  -4.50250038e+15]\n",
        " [  2.25125019e+15  -4.50250038e+15   2.25125019e+15]]\n",
        "Check Inverse [[ 1.  0.  0.]\n",
        " [-2.  0.  2.]\n",
        " [ 0.  0. -4.]]\n",
        "Creation from array [[0 1 2]\n",
        " [3 4 5]\n",
        " [6 7 8]]\n"
       ]
      }
     ],
     "prompt_number": 2
    },
    {
     "cell_type": "code",
     "collapsed": false,
     "input": [
      "\"\"\"\u4ece\u5df2\u6709\u77e9\u9635\u521b\u5efa\u65b0\u77e9\u9635 \"\"\"\n",
      "A = np.eye(2) \n",
      "print \"A\", A \n",
      "B = 2 * A \n",
      "print \"B\", B\n",
      "print \"Compound matrix\\n\", np.bmat(\"A B; A B\")"
     ],
     "language": "python",
     "metadata": {},
     "outputs": [
      {
       "output_type": "stream",
       "stream": "stdout",
       "text": [
        "A [[ 1.  0.]\n",
        " [ 0.  1.]]\n",
        "B [[ 2.  0.]\n",
        " [ 0.  2.]]\n",
        "Compound matrix\n",
        "[[ 1.  0.  2.  0.]\n",
        " [ 0.  1.  0.  2.]\n",
        " [ 1.  0.  2.  0.]\n",
        " [ 0.  1.  0.  2.]]\n"
       ]
      }
     ],
     "prompt_number": 3
    },
    {
     "cell_type": "code",
     "collapsed": false,
     "input": [
      "\"\"\"create general functions\"\"\"\n",
      "def ultimate_answer(a):\n",
      "    result = np.zeros_like(a) \n",
      "    result.flat = 42\n",
      "    return result\n",
      "\n",
      "ufunc = np.frompyfunc(ultimate_answer, 1, 1) \n",
      "print \"The answer\", ufunc(np.arange(4))\n",
      "\n",
      "print \"The answer\", ufunc(np.arange(4).reshape(2,2))"
     ],
     "language": "python",
     "metadata": {},
     "outputs": [
      {
       "output_type": "stream",
       "stream": "stdout",
       "text": [
        "The answer [array(42) array(42) array(42) array(42)]\n",
        "The answer [[array(42) array(42)]\n",
        " [array(42) array(42)]]\n"
       ]
      }
     ],
     "prompt_number": 9
    },
    {
     "cell_type": "code",
     "collapsed": false,
     "input": [
      "\"\"\"create general functions on add\"\"\"\n",
      "a = np.arange(9)\n",
      "print a\n",
      "print \"Reduce\", np.add.reduce(a)\n",
      "print \"Accumulate\", np.add.accumulate(a)\n",
      "print \"Reduceat\", np.add.reduceat(a, [0, 5, 2, 7])\n",
      "print \"Reduceat step I\", np.add.reduce(a[0:5])\n",
      "print \"Reduceat step II\", a[5]\n",
      "print \"Reduceat step III\", np.add.reduce(a[2:7]) \n",
      "print \"Reduceat step IV\", np.add.reduce(a[7:]) \n",
      "print \"Outer\", np.add.outer(np.arange(3), a)"
     ],
     "language": "python",
     "metadata": {},
     "outputs": [
      {
       "output_type": "stream",
       "stream": "stdout",
       "text": [
        "[0 1 2 3 4 5 6 7 8]\n",
        "Reduce 36\n",
        "Accumulate [ 0  1  3  6 10 15 21 28 36]\n",
        "Reduceat [10  5 20 15]\n",
        "Reduceat step I 10\n",
        "Reduceat step II 5\n",
        "Reduceat step III 20\n",
        "Reduceat step IV 15\n",
        "Outer [[ 0  1  2  3  4  5  6  7  8]\n",
        " [ 1  2  3  4  5  6  7  8  9]\n",
        " [ 2  3  4  5  6  7  8  9 10]]\n"
       ]
      }
     ],
     "prompt_number": 11
    },
    {
     "cell_type": "code",
     "collapsed": false,
     "input": [
      "\"\"\"\u6570\u7ec4\u7684\u9664\u6cd5\u8fd0\u7b97\"\"\"\n",
      "\n",
      "a = np.array([2, 6, 5]) \n",
      "b = np.array([1, 2, 3])\n",
      "\n",
      "print \"Divide\", np.divide(a, b), np.divide(b, a) \n",
      "print \"True Divide\", np.true_divide(a, b), np.true_divide(b, a) \n",
      "print \"Floor Divide\", np.floor_divide(a, b), np.floor_divide(b, a) \n",
      "c = 3.14 * b\n",
      "print \"Floor Divide 2\", np.floor_divide(c, b), np.floor_divide(b, c) \n",
      "print \"/ operator\", a/b, b/a \n",
      "print \"// operator\", a//b, b//a \n",
      "print \"// operator 2\", c//b, b//c"
     ],
     "language": "python",
     "metadata": {},
     "outputs": []
    }
   ],
   "metadata": {}
  }
 ]
}