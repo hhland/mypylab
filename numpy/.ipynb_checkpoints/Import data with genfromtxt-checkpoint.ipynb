{
 "metadata": {
  "name": "",
  "signature": "sha256:c8f23124c0890e0960e37dedc12cbe75836bd0d4418dcceaef4bc6c0731bbf84"
 },
 "nbformat": 3,
 "nbformat_minor": 0,
 "worksheets": [
  {
   "cells": [
    {
     "cell_type": "code",
     "collapsed": false,
     "input": [
      "%pylab inline\n",
      "from StringIO import StringIO\n",
      "data0=\"1,2,3\\n4,5,6\"\n",
      "data0"
     ],
     "language": "python",
     "metadata": {},
     "outputs": [
      {
       "output_type": "stream",
       "stream": "stdout",
       "text": [
        "Populating the interactive namespace from numpy and matplotlib\n"
       ]
      },
      {
       "metadata": {},
       "output_type": "pyout",
       "prompt_number": 1,
       "text": [
        "'1,2,3\\n4,5,6'"
       ]
      }
     ],
     "prompt_number": 1
    },
    {
     "cell_type": "code",
     "collapsed": false,
     "input": [
      "str0=StringIO(data0)\n",
      "arr0=np.genfromtxt(str0,delimiter=\",\")\n",
      "arr0"
     ],
     "language": "python",
     "metadata": {},
     "outputs": [
      {
       "metadata": {},
       "output_type": "pyout",
       "prompt_number": 2,
       "text": [
        "array([[ 1.,  2.,  3.],\n",
        "       [ 4.,  5.,  6.]])"
       ]
      }
     ],
     "prompt_number": 2
    },
    {
     "cell_type": "code",
     "collapsed": false,
     "input": [
      "data1=\"1  2  3\\n 4  567\\n890123 4\" \n",
      "str1=StringIO(data1)\n",
      "arr1=np.genfromtxt(str1,delimiter=3)\n",
      "print arr1"
     ],
     "language": "python",
     "metadata": {},
     "outputs": [
      {
       "output_type": "stream",
       "stream": "stdout",
       "text": [
        "[[   1.    2.    3.]\n",
        " [   4.   56.    7.]\n",
        " [ 890.  123.    4.]]\n"
       ]
      }
     ],
     "prompt_number": 3
    },
    {
     "cell_type": "code",
     "collapsed": false,
     "input": [
      "data2=\"123456789\\n 4   7 9\\n   4567 9\"\n",
      "str2=StringIO(data2)\n",
      "arr2=np.genfromtxt(str2,delimiter=[4,3,2])\n",
      "print arr2"
     ],
     "language": "python",
     "metadata": {},
     "outputs": [
      {
       "output_type": "stream",
       "stream": "stdout",
       "text": [
        "[[ 1234.   567.    89.]\n",
        " [    4.     7.     9.]\n",
        " [    4.   567.     9.]]\n"
       ]
      }
     ],
     "prompt_number": 4
    },
    {
     "cell_type": "code",
     "collapsed": false,
     "input": [
      "data3=\"1, abc, 2\\n3, xxx, 4\"\n",
      "str3=StringIO(data3)\n",
      "arr3=np.genfromtxt(str3,dtype=\"|S5\")\n",
      "print arr3\n",
      "str4=StringIO(data3)\n",
      "arr4=np.genfromtxt(str4,dtype=\"|S5\",autostrip=True)\n",
      "print arr3"
     ],
     "language": "python",
     "metadata": {},
     "outputs": [
      {
       "output_type": "stream",
       "stream": "stdout",
       "text": [
        "[['1,' 'abc,' '2']\n",
        " ['3,' 'xxx,' '4']]\n",
        "[['1,' 'abc,' '2']\n",
        " ['3,' 'xxx,' '4']]\n"
       ]
      }
     ],
     "prompt_number": 5
    },
    {
     "cell_type": "code",
     "collapsed": true,
     "input": [],
     "language": "python",
     "metadata": {},
     "outputs": [],
     "prompt_number": 5
    },
    {
     "cell_type": "code",
     "collapsed": false,
     "input": [],
     "language": "python",
     "metadata": {},
     "outputs": []
    }
   ],
   "metadata": {}
  }
 ]
}