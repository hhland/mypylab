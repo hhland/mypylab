{
 "metadata": {
  "name": "",
  "signature": "sha256:63d29faae5dde4d3f73d5120ed35db8b952a0077c5eec152da999e80473b8033"
 },
 "nbformat": 3,
 "nbformat_minor": 0,
 "worksheets": [
  {
   "cells": [
    {
     "cell_type": "code",
     "collapsed": false,
     "input": [
      "%pylab inline\n",
      "m,n=np.arange(33),np.arange(33)\n",
      "m,n"
     ],
     "language": "python",
     "metadata": {},
     "outputs": [
      {
       "output_type": "stream",
       "stream": "stdout",
       "text": [
        "Populating the interactive namespace from numpy and matplotlib\n"
       ]
      },
      {
       "metadata": {},
       "output_type": "pyout",
       "prompt_number": 2,
       "text": [
        "(array([ 0,  1,  2,  3,  4,  5,  6,  7,  8,  9, 10, 11, 12, 13, 14, 15, 16,\n",
        "        17, 18, 19, 20, 21, 22, 23, 24, 25, 26, 27, 28, 29, 30, 31, 32]),\n",
        " array([ 0,  1,  2,  3,  4,  5,  6,  7,  8,  9, 10, 11, 12, 13, 14, 15, 16,\n",
        "        17, 18, 19, 20, 21, 22, 23, 24, 25, 26, 27, 28, 29, 30, 31, 32]))"
       ]
      }
     ],
     "prompt_number": 2
    },
    {
     "cell_type": "code",
     "collapsed": false,
     "input": [
      "a=np.subtract.outer(m**2,n**2)\n",
      "print a\n",
      "b=2*np.multiply.outer(m,n)\n",
      "print b\n",
      "c=np.add.outer(m**2,n**2)\n",
      "print c"
     ],
     "language": "python",
     "metadata": {},
     "outputs": [
      {
       "output_type": "stream",
       "stream": "stdout",
       "text": [
        "[[    0    -1    -4 ...,  -900  -961 -1024]\n",
        " [    1     0    -3 ...,  -899  -960 -1023]\n",
        " [    4     3     0 ...,  -896  -957 -1020]\n",
        " ..., \n",
        " [  900   899   896 ...,     0   -61  -124]\n",
        " [  961   960   957 ...,    61     0   -63]\n",
        " [ 1024  1023  1020 ...,   124    63     0]]\n",
        "[[   0    0    0 ...,    0    0    0]\n",
        " [   0    2    4 ...,   60   62   64]\n",
        " [   0    4    8 ...,  120  124  128]\n",
        " ..., \n",
        " [   0   60  120 ..., 1800 1860 1920]\n",
        " [   0   62  124 ..., 1860 1922 1984]\n",
        " [   0   64  128 ..., 1920 1984 2048]]\n",
        "[[   0    1    4 ...,  900  961 1024]\n",
        " [   1    2    5 ...,  901  962 1025]\n",
        " [   4    5    8 ...,  904  965 1028]\n",
        " ..., \n",
        " [ 900  901  904 ..., 1800 1861 1924]\n",
        " [ 961  962  965 ..., 1861 1922 1985]\n",
        " [1024 1025 1028 ..., 1924 1985 2048]]\n"
       ]
      }
     ],
     "prompt_number": 3
    },
    {
     "cell_type": "code",
     "collapsed": false,
     "input": [
      "idx=np.where((a+b+c)==1000)\n",
      "np.testing.assert_equal(a[idx]**2+b[idx]**2,c[idx]**2)\n",
      "print a[idx]*b[idx]*c[idx]"
     ],
     "language": "python",
     "metadata": {},
     "outputs": [
      {
       "output_type": "stream",
       "stream": "stdout",
       "text": [
        "[31875000]\n"
       ]
      }
     ],
     "prompt_number": 4
    },
    {
     "cell_type": "code",
     "collapsed": true,
     "input": [],
     "language": "python",
     "metadata": {},
     "outputs": []
    }
   ],
   "metadata": {}
  }
 ]
}