{
 "metadata": {
  "name": "",
  "signature": "sha256:1b92623bff3f54449608feaee5a0230afebff06ad779af6386a78bbfe6951c8a"
 },
 "nbformat": 3,
 "nbformat_minor": 0,
 "worksheets": [
  {
   "cells": [
    {
     "cell_type": "code",
     "collapsed": false,
     "input": [
      "%pylab inline"
     ],
     "language": "python",
     "metadata": {},
     "outputs": [
      {
       "output_type": "stream",
       "stream": "stdout",
       "text": [
        "Populating the interactive namespace from numpy and matplotlib\n"
       ]
      }
     ],
     "prompt_number": 1
    },
    {
     "cell_type": "code",
     "collapsed": false,
     "input": [
      "\"\"\"\n",
      "fibonacci number\n",
      "\"\"\"\n",
      "\n",
      "phi=(1+np.sqrt(5))/2\n",
      "print phi\n",
      "n=np.log(4*10**6*np.sqrt(5)+0.5)/np.log(phi)\n",
      "print n\n",
      "n=np.arange(1,n)\n",
      "print n\n",
      "fib=(phi**n-(-1/phi)**n)/np.sqrt(5)\n",
      "fib[:9]"
     ],
     "language": "python",
     "metadata": {},
     "outputs": [
      {
       "output_type": "stream",
       "stream": "stdout",
       "text": [
        "1.61803398875\n",
        "33.2629480359\n",
        "[  1.   2.   3.   4.   5.   6.   7.   8.   9.  10.  11.  12.  13.  14.  15.\n",
        "  16.  17.  18.  19.  20.  21.  22.  23.  24.  25.  26.  27.  28.  29.  30.\n",
        "  31.  32.  33.]\n"
       ]
      },
      {
       "metadata": {},
       "output_type": "pyout",
       "prompt_number": 3,
       "text": [
        "array([  1.,   1.,   2.,   3.,   5.,   8.,  13.,  21.,  34.])"
       ]
      }
     ],
     "prompt_number": 3
    },
    {
     "cell_type": "code",
     "collapsed": false,
     "input": [
      "fib= fib.astype(int)\n",
      "print fib\n",
      "\n",
      "evenitem=fib[fib%2==0]\n",
      "print evenitem\n",
      "print evenitem.sum()"
     ],
     "language": "python",
     "metadata": {},
     "outputs": [
      {
       "output_type": "stream",
       "stream": "stdout",
       "text": [
        "[      1       1       2       3       5       8      13      21      34\n",
        "      55      89     144     233     377     610     987    1597    2584\n",
        "    4181    6765   10946   17711   28657   46368   75025  121393  196418\n",
        "  317811  514229  832040 1346269 2178309 3524578]\n",
        "[      2       8      34     144     610    2584   10946   46368  196418\n",
        "  832040 3524578]\n",
        "4613732\n"
       ]
      }
     ],
     "prompt_number": 4
    },
    {
     "cell_type": "code",
     "collapsed": false,
     "input": [],
     "language": "python",
     "metadata": {},
     "outputs": []
    }
   ],
   "metadata": {}
  }
 ]
}