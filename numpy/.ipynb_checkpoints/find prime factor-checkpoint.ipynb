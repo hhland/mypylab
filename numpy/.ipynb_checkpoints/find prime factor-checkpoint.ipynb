{
 "metadata": {
  "name": "",
  "signature": "sha256:8077bc3792ba0ce45a2d1b70f680681a22aaa841cf97e426b05c64d272ee2254"
 },
 "nbformat": 3,
 "nbformat_minor": 0,
 "worksheets": [
  {
   "cells": [
    {
     "cell_type": "heading",
     "level": 6,
     "metadata": {},
     "source": [
      "%pylab inline"
     ]
    },
    {
     "cell_type": "code",
     "collapsed": false,
     "input": [
      "N=600851475143\n",
      "LIM=10**6\n",
      "\n",
      "def factor(n):\n",
      "    a=np.ceil(np.sqrt(n))\n",
      "    print \"n:{0},a:{1}\".format(n,a)\n",
      "    lim=min(n,LIM)\n",
      "    a=np.arange(a,a+lim)\n",
      "    b2=a**2-n\n",
      "    fractions=np.modf(numpy.sqrt(b2))[0]\n",
      "    indices=np.where(fractions==0)\n",
      "    a=numpy.ravel(np.take(a,indices))[0]\n",
      "    a=int(a)\n",
      "    b=np.sqrt(a**2-n)\n",
      "    b=int(b)\n",
      "    c,d=a+b,a-b\n",
      "    if c==1 or d==1:\n",
      "        return\n",
      "    print \"c:{0},d:{1}\".format(c,d)\n",
      "    factor(c)\n",
      "    factor(d)\n",
      "    "
     ],
     "language": "python",
     "metadata": {},
     "outputs": [],
     "prompt_number": 15
    },
    {
     "cell_type": "code",
     "collapsed": false,
     "input": [
      "factor(N)"
     ],
     "language": "python",
     "metadata": {},
     "outputs": [
      {
       "output_type": "stream",
       "stream": "stdout",
       "text": [
        "n:600851475143,a:775147.0\n",
        "c:1234169,d:486847"
       ]
      },
      {
       "output_type": "stream",
       "stream": "stdout",
       "text": [
        "\n",
        "n:1234169,a:1111.0\n",
        "c:1471,d:839\n",
        "n:1471,a:39.0\n",
        "n:839,a:29.0\n",
        "n:486847,a:698.0\n",
        "c:6857,d:71"
       ]
      },
      {
       "output_type": "stream",
       "stream": "stdout",
       "text": [
        "\n",
        "n:6857,a:83.0\n",
        "n:71,a:9.0\n"
       ]
      }
     ],
     "prompt_number": 16
    },
    {
     "cell_type": "code",
     "collapsed": false,
     "input": [],
     "language": "python",
     "metadata": {},
     "outputs": []
    }
   ],
   "metadata": {}
  }
 ]
}