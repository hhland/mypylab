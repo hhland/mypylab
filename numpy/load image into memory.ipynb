{
 "metadata": {
  "name": "",
  "signature": "sha256:4aa0774bc1b7ab27d15353aca6f6c33011a0c6cbaffd6841514fab4a88347f05"
 },
 "nbformat": 3,
 "nbformat_minor": 0,
 "worksheets": [
  {
   "cells": [
    {
     "cell_type": "code",
     "collapsed": false,
     "input": [
      "%pylab inline\n",
      "import sys\n",
      "N,NSQUARES=512,30\n",
      "\n",
      "if(len(sys.argv)==2):\n",
      "    NSQUARES=int(sys.argv[1])\n",
      "\n"
     ],
     "language": "python",
     "metadata": {},
     "outputs": [
      {
       "output_type": "stream",
       "stream": "stdout",
       "text": [
        "Populating the interactive namespace from numpy and matplotlib\n"
       ]
      }
     ],
     "prompt_number": 1
    },
    {
     "cell_type": "code",
     "collapsed": false,
     "input": [
      "img=zeros((N,N),np.uint8)\n",
      "centers=np.random.random_integers(0,N,size=(NSQUARES,2))\n",
      "print centers\n",
      "radii=np.random.randint(0,N/9,size=NSQUARES)\n",
      "print radii\n",
      "colors=np.random.randint(100,255,size=NSQUARES)\n",
      "print colors"
     ],
     "language": "python",
     "metadata": {},
     "outputs": [
      {
       "output_type": "stream",
       "stream": "stdout",
       "text": [
        "[[222  62]\n",
        " [372 441]\n",
        " [303 346]\n",
        " [218 244]\n",
        " [179 455]\n",
        " [173 310]\n",
        " [260 266]\n",
        " [ 99 217]\n",
        " [ 62   7]\n",
        " [350 370]\n",
        " [111 397]\n",
        " [185 108]\n",
        " [152 400]\n",
        " [430 190]\n",
        " [160 150]\n",
        " [428  98]\n",
        " [134  30]\n",
        " [442 296]\n",
        " [ 70  16]\n",
        " [ 85 307]\n",
        " [427 258]\n",
        " [277 497]\n",
        " [496  78]\n",
        " [391  97]\n",
        " [489 429]\n",
        " [216 462]\n",
        " [459 482]\n",
        " [295 130]\n",
        " [324 424]\n",
        " [102 503]]\n",
        "[25  0 28 42 25 10 39 33 26 39 35 46 53  7 29 20 33  9 24 21 34 21 35 16 50\n",
        " 18 53 18 47 37]\n",
        "[148 197 192 143 135 183 208 137 149 183 189 102 189 233 243 187 210 166\n",
        " 197 238 254 131 125 168 157 195 171 151 146 209]\n"
       ]
      }
     ],
     "prompt_number": 2
    },
    {
     "cell_type": "code",
     "collapsed": true,
     "input": [
      "for i in xrange(NSQUARES):\n",
      "    xinds=range(centers[i][0]-radii[i],centers[i][0]+radii[i])\n",
      "    xinds=np.clip(xinds,0,N-1)\n",
      "    yinds=range(centers[i][1]-radii[i],centers[i][1]+radii[i])\n",
      "    yinds=np.clip(yinds,0,N-1)\n",
      "    \n",
      "    if len(xinds)==0 or len(yinds)==0:\n",
      "        continue\n",
      "    \n",
      "    coor=np.meshgrid(xinds,yinds)\n",
      "    img[coor]=colors[i]"
     ],
     "language": "python",
     "metadata": {},
     "outputs": [],
     "prompt_number": 3
    },
    {
     "cell_type": "code",
     "collapsed": true,
     "input": [
      "fname=\"random_squares.raw\"\n",
      "img.tofile(fname)\n",
      "img_memmap=np.memmap(fname,shape=img.shape)"
     ],
     "language": "python",
     "metadata": {},
     "outputs": [],
     "prompt_number": 4
    },
    {
     "cell_type": "code",
     "collapsed": false,
     "input": [
      "plt.imshow(img_memmap)\n",
      "plt.axis(\"off\")\n",
      "plt.show()"
     ],
     "language": "python",
     "metadata": {},
     "outputs": [
      {
       "metadata": {},
       "output_type": "display_data",
       "png": "[encoded data removed]",
       "text": [
        "<matplotlib.figure.Figure at 0x31a3a90>"
       ]
      }
     ],
     "prompt_number": 5
    },
    {
     "cell_type": "code",
     "collapsed": true,
     "input": [],
     "language": "python",
     "metadata": {},
     "outputs": []
    }
   ],
   "metadata": {}
  }
 ]
}