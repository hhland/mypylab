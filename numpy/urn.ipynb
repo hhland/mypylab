{
 "metadata": {
  "name": "",
  "signature": "sha256:dfc120679af0105dccfcc8c5e71ed102dac798a08c334287695ce5d9d03ede78"
 },
 "nbformat": 3,
 "nbformat_minor": 0,
 "worksheets": [
  {
   "cells": [
    {
     "cell_type": "code",
     "collapsed": false,
     "input": [
      "%pylab inline"
     ],
     "language": "python",
     "metadata": {},
     "outputs": [
      {
       "output_type": "stream",
       "stream": "stdout",
       "text": [
        "Populating the interactive namespace from numpy and matplotlib\n"
       ]
      }
     ],
     "prompt_number": 1
    },
    {
     "cell_type": "code",
     "collapsed": false,
     "input": [
      "points = np.zeros(100)\n",
      "outcomes = np.random.hypergeometric(25, 1, 3, size=len(points))\n",
      "\n",
      "for i in range(len(points)): \n",
      "   if outcomes[i] == 3:\n",
      "      points[i] = points[i - 1] + 1 \n",
      "   elif outcomes[i] == 2:\n",
      "      points[i] = points[i - 1] - 6 \n",
      "else:\n",
      "      print outcomes[i]\n",
      "\n",
      "plot(np.arange(len(points)), points) \n",
      "show()"
     ],
     "language": "python",
     "metadata": {},
     "outputs": [
      {
       "output_type": "stream",
       "stream": "stdout",
       "text": [
        "2\n"
       ]
      },
      {
       "metadata": {},
       "output_type": "display_data",
       "png": "[encoded data removed]",
       "text": [
        "<matplotlib.figure.Figure at 0x34737d0>"
       ]
      }
     ],
     "prompt_number": 2
    },
    {
     "cell_type": "code",
     "collapsed": false,
     "input": [],
     "language": "python",
     "metadata": {},
     "outputs": []
    }
   ],
   "metadata": {}
  }
 ]
}