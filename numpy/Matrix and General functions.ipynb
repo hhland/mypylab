{
 "metadata": {
  "name": "",
  "signature": "sha256:df0181fac90f8f8b4b314ef4b1d10290fe67b859974e2b75927a6efd7e01141f"
 },
 "nbformat": 3,
 "nbformat_minor": 0,
 "worksheets": [
  {
   "cells": [
    {
     "cell_type": "code",
     "collapsed": false,
     "input": [
      "%pylab inline"
     ],
     "language": "python",
     "metadata": {},
     "outputs": [
      {
       "output_type": "stream",
       "stream": "stdout",
       "text": [
        "Populating the interactive namespace from numpy and matplotlib\n"
       ]
      }
     ],
     "prompt_number": 1
    },
    {
     "cell_type": "code",
     "collapsed": false,
     "input": [
      "\"\"\"create matrix\"\"\"\n",
      "A = np.mat('1 2 3; 4 5 6; 7 8 9') \n",
      "print \"Creation from string\", A \n",
      "print \"transpose A\", A.T \n",
      "print \"Inverse A\", A.I \n",
      "print \"Check Inverse\", A * A.I\n",
      "\n",
      "print \"Creation from array\", np.mat(np.arange(9).reshape(3, 3))"
     ],
     "language": "python",
     "metadata": {},
     "outputs": [
      {
       "output_type": "stream",
       "stream": "stdout",
       "text": [
        "Creation from string [[1 2 3]\n",
        " [4 5 6]\n",
        " [7 8 9]]\n",
        "transpose A [[1 4 7]\n",
        " [2 5 8]\n",
        " [3 6 9]]\n",
        "Inverse A "
       ]
      },
      {
       "output_type": "stream",
       "stream": "stdout",
       "text": [
        "[[  2.25125019e+15  -4.50250038e+15   2.25125019e+15]\n",
        " [ -4.50250038e+15   9.00500077e+15  -4.50250038e+15]\n",
        " [  2.25125019e+15  -4.50250038e+15   2.25125019e+15]]\n",
        "Check Inverse [[ 1.  0.  0.]\n",
        " [-2.  0.  2.]\n",
        " [ 0.  0. -4.]]\n",
        "Creation from array [[0 1 2]\n",
        " [3 4 5]\n",
        " [6 7 8]]\n"
       ]
      }
     ],
     "prompt_number": 2
    },
    {
     "cell_type": "code",
     "collapsed": false,
     "input": [
      "\"\"\"\u4ece\u5df2\u6709\u77e9\u9635\u521b\u5efa\u65b0\u77e9\u9635 \"\"\"\n",
      "A = np.eye(2) \n",
      "print \"A\", A \n",
      "B = 2 * A \n",
      "print \"B\", B\n",
      "print \"Compound matrix\\n\", np.bmat(\"A B; A B\")"
     ],
     "language": "python",
     "metadata": {},
     "outputs": [
      {
       "output_type": "stream",
       "stream": "stdout",
       "text": [
        "A [[ 1.  0.]\n",
        " [ 0.  1.]]\n",
        "B [[ 2.  0.]\n",
        " [ 0.  2.]]\n",
        "Compound matrix\n",
        "[[ 1.  0.  2.  0.]\n",
        " [ 0.  1.  0.  2.]\n",
        " [ 1.  0.  2.  0.]\n",
        " [ 0.  1.  0.  2.]]\n"
       ]
      }
     ],
     "prompt_number": 3
    },
    {
     "cell_type": "code",
     "collapsed": false,
     "input": [
      "\"\"\"create general functions\"\"\"\n",
      "def ultimate_answer(a):\n",
      "    result = np.zeros_like(a) \n",
      "    result.flat = 42\n",
      "    return result\n",
      "\n",
      "ufunc = np.frompyfunc(ultimate_answer, 1, 1) \n",
      "print \"The answer\", ufunc(np.arange(4))\n",
      "\n",
      "print \"The answer\", ufunc(np.arange(4).reshape(2,2))"
     ],
     "language": "python",
     "metadata": {},
     "outputs": [
      {
       "output_type": "stream",
       "stream": "stdout",
       "text": [
        "The answer [array(42) array(42) array(42) array(42)]\n",
        "The answer [[array(42) array(42)]\n",
        " [array(42) array(42)]]\n"
       ]
      }
     ],
     "prompt_number": 9
    },
    {
     "cell_type": "code",
     "collapsed": false,
     "input": [
      "\"\"\"create general functions on add\"\"\"\n",
      "a = np.arange(9)\n",
      "print a\n",
      "print \"Reduce\", np.add.reduce(a)\n",
      "print \"Accumulate\", np.add.accumulate(a)\n",
      "print \"Reduceat\", np.add.reduceat(a, [0, 5, 2, 7])\n",
      "print \"Reduceat step I\", np.add.reduce(a[0:5])\n",
      "print \"Reduceat step II\", a[5]\n",
      "print \"Reduceat step III\", np.add.reduce(a[2:7]) \n",
      "print \"Reduceat step IV\", np.add.reduce(a[7:]) \n",
      "print \"Outer\", np.add.outer(np.arange(3), a)"
     ],
     "language": "python",
     "metadata": {},
     "outputs": [
      {
       "output_type": "stream",
       "stream": "stdout",
       "text": [
        "[0 1 2 3 4 5 6 7 8]\n",
        "Reduce 36\n",
        "Accumulate [ 0  1  3  6 10 15 21 28 36]\n",
        "Reduceat [10  5 20 15]\n",
        "Reduceat step I 10\n",
        "Reduceat step II 5\n",
        "Reduceat step III 20\n",
        "Reduceat step IV 15\n",
        "Outer [[ 0  1  2  3  4  5  6  7  8]\n",
        " [ 1  2  3  4  5  6  7  8  9]\n",
        " [ 2  3  4  5  6  7  8  9 10]]\n"
       ]
      }
     ],
     "prompt_number": 11
    },
    {
     "cell_type": "code",
     "collapsed": false,
     "input": [
      "\"\"\"\u6570\u7ec4\u7684\u9664\u6cd5\u8fd0\u7b97\"\"\"\n",
      "\n",
      "a = np.array([2, 6, 5]) \n",
      "b = np.array([1, 2, 3])\n",
      "\n",
      "print \"Divide\", np.divide(a, b), np.divide(b, a) \n",
      "print \"True Divide\", np.true_divide(a, b), np.true_divide(b, a) \n",
      "print \"Floor Divide\", np.floor_divide(a, b), np.floor_divide(b, a) \n",
      "c = 3.14 * b\n",
      "print \"Floor Divide 2\", np.floor_divide(c, b), np.floor_divide(b, c) \n",
      "print \"/ operator\", a/b, b/a \n",
      "print \"// operator\", a//b, b//a \n",
      "print \"// operator 2\", c//b, b//c"
     ],
     "language": "python",
     "metadata": {},
     "outputs": [
      {
       "output_type": "stream",
       "stream": "stdout",
       "text": [
        "Divide [2 3 1] [0 0 0]\n",
        "True Divide [ 2.          3.          1.66666667] [ 0.5         0.33333333  0.6       ]\n",
        "Floor Divide [2 3 1] [0 0 0]\n",
        "Floor Divide 2 [ 3.  3.  3.] [ 0.  0.  0.]\n",
        "/ operator [2 3 1] [0 0 0]\n",
        "// operator [2 3 1] [0 0 0]\n",
        "// operator 2 [ 3.  3.  3.] [ 0.  0.  0.]\n"
       ]
      }
     ],
     "prompt_number": 12
    },
    {
     "cell_type": "code",
     "collapsed": false,
     "input": [
      "\"\"\" mod cal \"\"\"\n",
      "a = np.arange(-4, 4)\n",
      "\n",
      "print \"Remainder\", np.remainder(a, 2)\n",
      "print \"Mod\", np.mod(a, 2)\n",
      "print \"% operator\", a % 2\n",
      "print \"Fmod\", np.fmod(a, 2)"
     ],
     "language": "python",
     "metadata": {},
     "outputs": [
      {
       "output_type": "stream",
       "stream": "stdout",
       "text": [
        "Remainder [0 1 0 1 0 1 0 1]\n",
        "Mod [0 1 0 1 0 1 0 1]\n",
        "% operator [0 1 0 1 0 1 0 1]\n",
        "Fmod [ 0 -1  0 -1  0  1  0  1]\n"
       ]
      }
     ],
     "prompt_number": 13
    },
    {
     "cell_type": "code",
     "collapsed": false,
     "input": [
      "\"\"\" Fibonacci \"\"\"\n",
      "F = np.matrix([[1, 1], [1, 0]]) \n",
      "print \"F\", F\n",
      "print \"8th Fibonacci\", (F ** 7)[0, 0] \n",
      "n = np.arange(1, 9)\n",
      "\n",
      "sqrt5 = np.sqrt(5) \n",
      "phi = (1 + sqrt5)/2\n",
      "fibonacci = np.rint((phi**n - (-1/phi)**n)/sqrt5) \n",
      "print \"Fibonacci\", fibonacci"
     ],
     "language": "python",
     "metadata": {},
     "outputs": [
      {
       "output_type": "stream",
       "stream": "stdout",
       "text": [
        "F [[1 1]\n",
        " [1 0]]\n",
        "8th Fibonacci 21\n",
        "Fibonacci [  1.   1.   2.   3.   5.   8.  13.  21.]\n"
       ]
      }
     ],
     "prompt_number": 14
    },
    {
     "cell_type": "code",
     "collapsed": false,
     "input": [
      "\"\"\"\u7ed8\u5236\u5229\u8428\u8339\u66f2\u7ebf\"\"\"\n",
      "\n",
      "a = float(raw_input())\n",
      "b = float(raw_input())\n",
      "t = np.linspace(-np.pi, np.pi, 201)\n",
      "x = np.sin(a * t + np.pi/2)\n",
      "y = np.sin(b * t)\n",
      "plot(x, y)"
     ],
     "language": "python",
     "metadata": {},
     "outputs": [
      {
       "name": "stdout",
       "output_type": "stream",
       "stream": "stdout",
       "text": [
        "8\n"
       ]
      },
      {
       "name": "stdout",
       "output_type": "stream",
       "stream": "stdout",
       "text": [
        "9\n"
       ]
      },
      {
       "metadata": {},
       "output_type": "pyout",
       "prompt_number": 15,
       "text": [
        "[<matplotlib.lines.Line2D at 0x43df790>]"
       ]
      },
      {
       "metadata": {},
       "output_type": "display_data",
       "png": "[encoded data removed]",
       "text": [
        "<matplotlib.figure.Figure at 0x3276f50>"
       ]
      }
     ],
     "prompt_number": 15
    },
    {
     "cell_type": "code",
     "collapsed": false,
     "input": [
      "\"\"\"\n",
      "\u7ed8\u5236\u65b9\u6ce2\n",
      "\"\"\"\n",
      "t = np.linspace(-np.pi, np.pi, 201) \n",
      "k = np.arange(1, float(raw_input())) \n",
      "k = 2 * k - 1 \n",
      "f = np.zeros_like(t)\n",
      "\n",
      "for i in range(len(t)):\n",
      "    f[i] = np.sum(np.sin(k * t[i])/k)\n",
      "\n",
      "f = (4 / np.pi) * f\n",
      "plot(t, f)"
     ],
     "language": "python",
     "metadata": {},
     "outputs": [
      {
       "name": "stdout",
       "output_type": "stream",
       "stream": "stdout",
       "text": [
        "99\n"
       ]
      },
      {
       "metadata": {},
       "output_type": "pyout",
       "prompt_number": 18,
       "text": [
        "[<matplotlib.lines.Line2D at 0x48e0a10>]"
       ]
      },
      {
       "metadata": {},
       "output_type": "display_data",
       "png": "[encoded data removed]",
       "text": [
        "<matplotlib.figure.Figure at 0x451d250>"
       ]
      }
     ],
     "prompt_number": 18
    },
    {
     "cell_type": "code",
     "collapsed": false,
     "input": [
      "\"\"\"\n",
      "\u7ed8\u5236\u952f\u9f7f\u6ce2\u548c\u4e09\u89d2\u6ce2\n",
      "\"\"\"\n",
      "t = np.linspace(-np.pi, np.pi, 201) \n",
      "k = np.arange(1, float(raw_input())) \n",
      "f = np.zeros_like(t)\n",
      "\n",
      "for i in range(len(t)):\n",
      "     f[i] = np.sum(np.sin(2 * np.pi * k * t[i])/k)\n",
      "f = (-2 / np.pi) * f \n",
      "plot(t, f, lw=1.0) \n",
      "plot(t, np.abs(f), lw=2.0) "
     ],
     "language": "python",
     "metadata": {},
     "outputs": [
      {
       "name": "stdout",
       "output_type": "stream",
       "stream": "stdout",
       "text": [
        "82\n"
       ]
      },
      {
       "metadata": {},
       "output_type": "pyout",
       "prompt_number": 19,
       "text": [
        "[<matplotlib.lines.Line2D at 0x46c2b50>]"
       ]
      },
      {
       "metadata": {},
       "output_type": "display_data",
       "png": "[encoded data removed]",
       "text": [
        "<matplotlib.figure.Figure at 0x46c2250>"
       ]
      }
     ],
     "prompt_number": 19
    },
    {
     "cell_type": "code",
     "collapsed": false,
     "input": [
      "\"\"\"\n",
      "\u73a9\u8f6c\u4e8c\u8fdb\u5236\u4f4d\n",
      "\"\"\"\n",
      "x = np.arange(-9, 9) \n",
      "y = -x\n",
      "print \"Sign different?\", (x ^ y) < 0\n",
      "print \"Sign different?\", np.less(np.bitwise_xor(x, y), 0) \n",
      "print \"Power of 2?\\n\", x, \"\\n\", (x & (x - 1)) == 0\n",
      "print \"Power of 2?\\n\", x, \"\\n\", np.equal(np.bitwise_and(x, (x - 1)), 0)\n",
      "print \"Modulus 4\\n\", x, \"\\n\", x & ((1 << 2) - 1)\n",
      "print \"Modulus 4\\n\", x, \"\\n\", np.bitwise_and(x, np.left_shift(1, 2) - 1)"
     ],
     "language": "python",
     "metadata": {},
     "outputs": [
      {
       "output_type": "stream",
       "stream": "stdout",
       "text": [
        "Sign different? [ True  True  True  True  True  True  True  True  True False  True  True\n",
        "  True  True  True  True  True  True]\n",
        "Sign different? [ True  True  True  True  True  True  True  True  True False  True  True\n",
        "  True  True  True  True  True  True]\n",
        "Power of 2?\n",
        "[-9 -8 -7 -6 -5 -4 -3 -2 -1  0  1  2  3  4  5  6  7  8] \n",
        "[False False False False False False False False False  True  True  True\n",
        " False  True False False False  True]\n",
        "Power of 2?\n",
        "[-9 -8 -7 -6 -5 -4 -3 -2 -1  0  1  2  3  4  5  6  7  8] \n",
        "[False False False False False False False False False  True  True  True\n",
        " False  True False False False  True]\n",
        "Modulus 4\n",
        "[-9 -8 -7 -6 -5 -4 -3 -2 -1  0  1  2  3  4  5  6  7  8] \n",
        "[3 0 1 2 3 0 1 2 3 0 1 2 3 0 1 2 3 0]\n",
        "Modulus 4\n",
        "[-9 -8 -7 -6 -5 -4 -3 -2 -1  0  1  2  3  4  5  6  7  8] \n",
        "[3 0 1 2 3 0 1 2 3 0 1 2 3 0 1 2 3 0]\n"
       ]
      }
     ],
     "prompt_number": 20
    },
    {
     "cell_type": "code",
     "collapsed": false,
     "input": [],
     "language": "python",
     "metadata": {},
     "outputs": []
    }
   ],
   "metadata": {}
  }
 ]
}