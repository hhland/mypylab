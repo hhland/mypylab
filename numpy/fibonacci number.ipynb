{
 "metadata": {
  "name": "numpy: fibonacci number"
 }, 
 "nbformat": 2, 
 "worksheets": [
  {
   "cells": [
    {
     "cell_type": "code", 
     "collapsed": false, 
     "input": [
      "phi=(1+np.sqrt(5))/2", 
      "phi"
     ], 
     "language": "python", 
     "outputs": [
      {
       "output_type": "pyout", 
       "prompt_number": 1, 
       "text": [
        "1.6180339887498949"
       ]
      }
     ], 
     "prompt_number": 1
    }, 
    {
     "cell_type": "code", 
     "collapsed": false, 
     "input": [
      "n=np.log(4*10**6*np.sqrt(5)+0.5)/np.log(phi)", 
      "n"
     ], 
     "language": "python", 
     "outputs": [
      {
       "output_type": "pyout", 
       "prompt_number": 2, 
       "text": [
        "33.262948035868249"
       ]
      }
     ], 
     "prompt_number": 2
    }, 
    {
     "cell_type": "code", 
     "collapsed": false, 
     "input": [
      "n=np.arange(1,n)", 
      "n"
     ], 
     "language": "python", 
     "outputs": [
      {
       "output_type": "pyout", 
       "prompt_number": 3, 
       "text": [
        "array([  1.,   2.,   3.,   4.,   5.,   6.,   7.,   8.,   9.,  10.,  11.,", 
        "        12.,  13.,  14.,  15.,  16.,  17.,  18.,  19.,  20.,  21.,  22.,", 
        "        23.,  24.,  25.,  26.,  27.,  28.,  29.,  30.,  31.,  32.,  33.])"
       ]
      }
     ], 
     "prompt_number": 3
    }, 
    {
     "cell_type": "code", 
     "collapsed": false, 
     "input": [
      "fib=(phi**n-(-1/phi)**n)/np.sqrt(5)", 
      "fib[:9]"
     ], 
     "language": "python", 
     "outputs": [
      {
       "output_type": "pyout", 
       "prompt_number": 4, 
       "text": [
        "array([  1.,   1.,   2.,   3.,   5.,   8.,  13.,  21.,  34.])"
       ]
      }
     ], 
     "prompt_number": 4
    }, 
    {
     "cell_type": "code", 
     "collapsed": false, 
     "input": [
      "fib= fib.astype(int)", 
      "fib"
     ], 
     "language": "python", 
     "outputs": [
      {
       "output_type": "pyout", 
       "prompt_number": 5, 
       "text": [
        "array([      1,       1,       2,       3,       5,       8,      13,", 
        "            21,      34,      55,      89,     144,     233,     377,", 
        "           610,     987,    1597,    2584,    4181,    6765,   10946,", 
        "         17711,   28657,   46368,   75025,  121393,  196418,  317811,", 
        "        514229,  832040, 1346269, 2178309, 3524578])"
       ]
      }
     ], 
     "prompt_number": 5
    }, 
    {
     "cell_type": "code", 
     "collapsed": false, 
     "input": [
      "evenitem=fib[fib%2==0]", 
      "print evenitem", 
      "print evenitem.sum()"
     ], 
     "language": "python", 
     "outputs": [
      {
       "output_type": "stream", 
       "stream": "stdout", 
       "text": [
        "[      2       8      34     144     610    2584   10946   46368  196418", 
        "  832040 3524578]", 
        "4613732"
       ]
      }
     ], 
     "prompt_number": 7
    }, 
    {
     "cell_type": "code", 
     "collapsed": true, 
     "input": [], 
     "language": "python", 
     "outputs": []
    }
   ]
  }
 ]
}