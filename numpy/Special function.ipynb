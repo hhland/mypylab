{
 "metadata": {
  "name": "",
  "signature": "sha256:6d8c5aae3be1348ba0986ee0fcfbbce81d3b347f8292f21cdff20faf6cd233db"
 },
 "nbformat": 3,
 "nbformat_minor": 0,
 "worksheets": [
  {
   "cells": [
    {
     "cell_type": "code",
     "collapsed": false,
     "input": [
      "%pylab inline"
     ],
     "language": "python",
     "metadata": {},
     "outputs": [
      {
       "output_type": "stream",
       "stream": "stdout",
       "text": [
        "Populating the interactive namespace from numpy and matplotlib\n"
       ]
      }
     ],
     "prompt_number": 1
    },
    {
     "cell_type": "code",
     "collapsed": false,
     "input": [
      "%%file lex.py\n",
      "\n",
      "import numpy as np \n",
      "import datetime\n",
      "def datestr2num(s):\n",
      "    return datetime.datetime.strptime(s, \"%d-%m-%Y\").toordinal()\n",
      "\n",
      "dates,closes=np.loadtxt('AAPL.csv', delimiter=',', usecols=(1, 6), converters={1:datestr2num}, unpack=True) \n",
      "indices = np.lexsort((dates, closes))\n",
      "\n",
      "print \"Indices\", indices\n",
      "print [\"%s %s\" % (datetime.date.fromordinal(int(dates[i])), \n",
      "closes[i]) for i in indices]"
     ],
     "language": "python",
     "metadata": {},
     "outputs": [
      {
       "output_type": "stream",
       "stream": "stdout",
       "text": [
        "Writing lex.py\n"
       ]
      }
     ],
     "prompt_number": 4
    },
    {
     "cell_type": "code",
     "collapsed": false,
     "input": [
      "%run "
     ],
     "language": "python",
     "metadata": {},
     "outputs": [],
     "prompt_number": 3
    },
    {
     "cell_type": "code",
     "collapsed": false,
     "input": [],
     "language": "python",
     "metadata": {},
     "outputs": []
    }
   ],
   "metadata": {}
  }
 ]
}