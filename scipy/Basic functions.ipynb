{
 "metadata": {
  "name": "",
  "signature": "sha256:ed20834f92ed91035b3f28709d574558361fdb9b473611153f02a22d12cac855"
 },
 "nbformat": 3,
 "nbformat_minor": 0,
 "worksheets": [
  {
   "cells": [
    {
     "cell_type": "code",
     "collapsed": false,
     "input": [
      "%pylab inline\n",
      "#http://docs.scipy.org/doc/scipy/reference/tutorial/basic.html\n",
      "v0=concatenate(([3],[0]*5,arange(-1,1.002,2/9.0)))\n",
      "v1=r_[3,[0]*5,-1:1:10j]\n",
      "print v0,v1"
     ],
     "language": "python",
     "metadata": {},
     "outputs": [
      {
       "output_type": "stream",
       "stream": "stdout",
       "text": [
        "Populating the interactive namespace from numpy and matplotlib\n",
        "[ 3.          0.          0.          0.          0.          0.         -1.\n",
        " -0.77777778 -0.55555556 -0.33333333 -0.11111111  0.11111111  0.33333333\n",
        "  0.55555556  0.77777778  1.        ] [ 3.          0.          0.          0.          0.          0.         -1.\n",
        " -0.77777778 -0.55555556 -0.33333333 -0.11111111  0.11111111  0.33333333\n",
        "  0.55555556  0.77777778  1.        ]\n"
       ]
      }
     ],
     "prompt_number": 1
    },
    {
     "cell_type": "code",
     "collapsed": false,
     "input": [
      "grid0=mgrid[0:5,0:5]\n",
      "grid1=mgrid[0:5:4,0:5:4]\n",
      "\n",
      "p0=poly1d([3,4,5])\n",
      "print p0\n",
      "print p0*p0\n",
      "print p0.integ(k=6)\n",
      "print p0.deriv()\n",
      "print p0([4,5])"
     ],
     "language": "python",
     "metadata": {},
     "outputs": [
      {
       "output_type": "stream",
       "stream": "stdout",
       "text": [
        "   2\n",
        "3 x + 4 x + 5\n",
        "   4      3      2\n",
        "9 x + 24 x + 46 x + 40 x + 25\n",
        "   3     2\n",
        "1 x + 2 x + 5 x + 6\n",
        " \n",
        "6 x + 4\n",
        "[ 69 100]\n"
       ]
      }
     ],
     "prompt_number": 2
    },
    {
     "cell_type": "code",
     "collapsed": false,
     "input": [
      "def addsub(a,b):\n",
      "    if a>b:\n",
      "        return a-b\n",
      "    else:\n",
      "        return a+b\n",
      "\n",
      "vec_addsub=vectorize(addsub)\n",
      "\n",
      "vec_addsub([0,3,6,9],[1,3,5,7])"
     ],
     "language": "python",
     "metadata": {},
     "outputs": [
      {
       "metadata": {},
       "output_type": "pyout",
       "prompt_number": 3,
       "text": [
        "array([1, 6, 1, 2])"
       ]
      }
     ],
     "prompt_number": 3
    },
    {
     "cell_type": "code",
     "collapsed": false,
     "input": [
      "na=np.cast[\"f\"](np.pi)\n",
      "print na"
     ],
     "language": "python",
     "metadata": {},
     "outputs": [
      {
       "output_type": "stream",
       "stream": "stdout",
       "text": [
        "3.14159274101\n"
       ]
      }
     ],
     "prompt_number": 4
    },
    {
     "cell_type": "code",
     "collapsed": false,
     "input": [
      "x=r_[-2:3]\n",
      "print x\n",
      "sel=np.select([x>3,x>=0],[0,x+2])\n",
      "print sel"
     ],
     "language": "python",
     "metadata": {},
     "outputs": [
      {
       "output_type": "stream",
       "stream": "stdout",
       "text": [
        "[-2 -1  0  1  2]\n",
        "[0 0 2 3 4]\n"
       ]
      }
     ],
     "prompt_number": 5
    },
    {
     "cell_type": "code",
     "collapsed": true,
     "input": [],
     "language": "python",
     "metadata": {},
     "outputs": []
    }
   ],
   "metadata": {}
  }
 ]
}