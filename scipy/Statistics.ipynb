{
 "metadata": {
  "name": "",
  "signature": "sha256:378db2377c36f3d8656215ccb0d09c02dacb02e8d87084cc9f100f268ca3d854"
 },
 "nbformat": 3,
 "nbformat_minor": 0,
 "worksheets": [
  {
   "cells": [
    {
     "cell_type": "code",
     "collapsed": false,
     "input": [
      "%pylab inline\n",
      "from scipy.stats import geom,stats"
     ],
     "language": "python",
     "metadata": {},
     "outputs": [
      {
       "output_type": "stream",
       "stream": "stdout",
       "text": [
        "Populating the interactive namespace from numpy and matplotlib\n"
       ]
      },
      {
       "output_type": "stream",
       "stream": "stderr",
       "text": [
        "WARNING: pylab import has clobbered these variables: ['dist', 'sample']\n",
        "`%matplotlib` prevents importing * from pylab and numpy\n"
       ]
      }
     ],
     "prompt_number": 9
    },
    {
     "cell_type": "code",
     "collapsed": false,
     "input": [
      "#Continuous and D iscrete D istributions\n",
      "\n",
      "# Here set up the parameters for the geometric distribution.\n",
      "p = 0.5\n",
      "dist = geom(p)\n",
      "# Set up the sample range.\n",
      "x = np.linspace(0, 5, 1000)\n",
      "# Retrieving geom's PMF and CDF\n",
      "pmf = dist.pmf(x)\n",
      "cdf = dist.cdf(x)\n",
      "# Here we draw out 500 random values.\n",
      "sample = dist.rvs(500)\n",
      "sample"
     ],
     "language": "python",
     "metadata": {},
     "outputs": [
      {
       "metadata": {},
       "output_type": "pyout",
       "prompt_number": 8,
       "text": [
        "array([4, 1, 1, 1, 4, 1, 2, 1, 1, 3, 1, 4, 1, 1, 1, 5, 1, 1, 2, 2, 1, 1, 2,\n",
        "       1, 1, 1, 2, 5, 2, 5, 1, 1, 1, 1, 1, 1, 4, 1, 3, 2, 2, 2, 2, 1, 9, 3,\n",
        "       1, 4, 2, 2, 1, 1, 4, 2, 3, 2, 2, 2, 1, 2, 1, 3, 4, 5, 1, 1, 4, 3, 2,\n",
        "       1, 1, 1, 3, 1, 1, 1, 2, 5, 1, 2, 2, 5, 2, 1, 1, 1, 1, 1, 5, 2, 1, 3,\n",
        "       6, 2, 1, 1, 2, 2, 1, 1, 1, 2, 1, 1, 2, 1, 1, 1, 1, 3, 5, 1, 3, 2, 2,\n",
        "       3, 1, 5, 1, 1, 4, 1, 2, 1, 6, 2, 2, 2, 4, 1, 1, 1, 1, 1, 1, 1, 1, 2,\n",
        "       3, 1, 2, 3, 1, 6, 2, 2, 3, 1, 1, 2, 1, 2, 2, 2, 1, 2, 1, 2, 2, 1, 1,\n",
        "       2, 3, 2, 1, 1, 4, 1, 1, 2, 1, 4, 3, 5, 2, 2, 1, 2, 2, 1, 3, 1, 2, 2,\n",
        "       1, 4, 2, 3, 1, 2, 2, 2, 1, 5, 1, 1, 3, 2, 1, 5, 1, 1, 2, 2, 1, 1, 1,\n",
        "       2, 1, 2, 8, 2, 3, 1, 2, 2, 2, 2, 2, 2, 1, 1, 1, 2, 3, 1, 2, 2, 1, 2,\n",
        "       1, 7, 1, 1, 1, 5, 4, 1, 3, 1, 2, 3, 1, 1, 1, 2, 1, 3, 2, 4, 1, 1, 1,\n",
        "       2, 2, 4, 1, 4, 2, 2, 1, 1, 1, 3, 1, 1, 2, 1, 4, 2, 4, 1, 3, 3, 4, 1,\n",
        "       1, 1, 3, 1, 1, 3, 2, 1, 4, 3, 2, 4, 2, 4, 1, 2, 1, 1, 1, 2, 1, 4, 1,\n",
        "       7, 2, 1, 2, 1, 2, 2, 1, 2, 1, 2, 1, 1, 1, 1, 1, 2, 2, 1, 2, 7, 4, 3,\n",
        "       2, 1, 1, 1, 2, 1, 3, 3, 1, 3, 2, 2, 1, 1, 3, 1, 3, 3, 2, 2, 3, 4, 1,\n",
        "       1, 2, 2, 1, 1, 2, 2, 4, 1, 1, 2, 2, 5, 2, 1, 2, 2, 2, 3, 2, 1, 4, 1,\n",
        "       2, 2, 1, 1, 1, 1, 2, 1, 1, 1, 1, 2, 1, 4, 2, 1, 1, 3, 3, 2, 1, 1, 1,\n",
        "       1, 1, 3, 4, 3, 1, 1, 1, 2, 1, 2, 4, 1, 1, 2, 3, 1, 5, 2, 2, 4, 1, 6,\n",
        "       1, 1, 2, 1, 1, 1, 2, 1, 1, 1, 5, 2, 2, 2, 1, 1, 4, 1, 1, 1, 6, 1, 2,\n",
        "       4, 2, 3, 1, 2, 1, 1, 1, 1, 5, 1, 1, 2, 4, 1, 1, 4, 2, 1, 1, 1, 2, 1,\n",
        "       2, 1, 5, 1, 2, 1, 1, 3, 1, 1, 2, 3, 2, 2, 2, 1, 2, 5, 1, 2, 2, 1, 1,\n",
        "       1, 1, 2, 2, 2, 2, 3, 2, 1, 1, 2, 4, 1, 1, 2, 2, 2])"
       ]
      }
     ],
     "prompt_number": 8
    },
    {
     "cell_type": "code",
     "collapsed": false,
     "input": [
      "#Functions\n",
      "\n",
      "# Generating a normal distribution sample\n",
      "# with 100 elements\n",
      "sample = np.random.randn(100)\n",
      "# normaltest tests the null hypothesis.\n",
      "out = stats.normaltest(sample)\n",
      "print('normaltest output')\n",
      "print('Z-score = ' + str(out[0]))\n",
      "print('P-value = ' + str(out[1]))\n",
      "# kstest is the Kolmogorov-Smirnov test for goodness of fit.\n",
      "# Here its sample is being tested against the normal distribution.\n",
      "# D is the KS statistic and the closer it is to 0 the better.\n",
      "out = stats.kstest(sample, 'norm')\n",
      "print('\\nkstest output for the Normal distribution')\n",
      "print(' D = ' + str(out[0]))\n",
      "print('P-value = ' + str(out[1]))\n",
      "# Similarly, this can be easily tested against other distributions,\n",
      "# like the Wald distribution.\n",
      "out = stats.kstest(sample, 'wald')\n",
      "print('\\nkstest output for the Wald distribution')\n",
      "print(' D = ' + str(out[0]))\n",
      "print('P-value = ' + str(out[1]))"
     ],
     "language": "python",
     "metadata": {},
     "outputs": [
      {
       "output_type": "stream",
       "stream": "stdout",
       "text": [
        "normaltest output\n",
        "Z-score = 1.86043059141\n",
        "P-value = 0.394468773797\n",
        "\n",
        "kstest output for the Normal distribution\n",
        " D = 0.067577303859\n",
        "P-value = 0.767860966845\n",
        "\n",
        "kstest output for the Wald distribution\n",
        " D = 0.523860583915\n",
        "P-value = 0.0\n"
       ]
      }
     ],
     "prompt_number": 10
    },
    {
     "cell_type": "code",
     "collapsed": false,
     "input": [],
     "language": "python",
     "metadata": {},
     "outputs": []
    }
   ],
   "metadata": {}
  }
 ]
}