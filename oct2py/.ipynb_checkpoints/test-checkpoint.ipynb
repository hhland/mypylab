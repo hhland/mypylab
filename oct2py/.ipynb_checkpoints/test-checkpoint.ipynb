{
 "metadata": {
  "name": "oct2py"
 }, 
 "nbformat": 2, 
 "worksheets": [
  {
   "cells": [
    {
     "cell_type": "code", 
     "collapsed": true, 
     "input": [
      "from oct2py import octave"
     ], 
     "language": "python", 
     "outputs": [], 
     "prompt_number": 1
    }, 
    {
     "cell_type": "code", 
     "collapsed": false, 
     "input": [
      "!cp /d/git/oct2py/example/roundtrip.m ./", 
      "%run /d/git/oct2py/example/roundtrip.py"
     ], 
     "language": "python", 
     "outputs": [
      {
       "output_type": "stream", 
       "stream": "stdout", 
       "text": [
        "["
       ]
      }, 
      {
       "output_type": "stream", 
       "stream": "stdout", 
       "text": [
        "array([[ 1.,  2.],", 
        "       [ 3.,  4.]]),", 
        " dtype('float64'),", 
        " array([[ 1.,  2.],", 
        "       [ 3.,  4.]]),", 
        " u'double',", 
        " dtype('float64')]"
       ]
      }
     ], 
     "prompt_number": 3
    }, 
    {
     "cell_type": "code", 
     "collapsed": true, 
     "input": [], 
     "language": "python", 
     "outputs": []
    }
   ]
  }
 ]
}