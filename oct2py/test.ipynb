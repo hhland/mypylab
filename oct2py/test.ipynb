{
 "metadata": {
  "name": "",
  "signature": "sha256:b0e032870f53468590f99ac22a2885a67a6c87569c5ac4c075b5a98b01bfb746"
 },
 "nbformat": 3,
 "nbformat_minor": 0,
 "worksheets": [
  {
   "cells": [
    {
     "cell_type": "code",
     "collapsed": true,
     "input": [
      "from oct2py import octave"
     ],
     "language": "python",
     "metadata": {},
     "outputs": [],
     "prompt_number": 2
    },
    {
     "cell_type": "code",
     "collapsed": false,
     "input": [
      "!cp /d/git/oct2py/example/roundtrip.m ./\n",
      "%cat /d/git/oct2py/example/roundtrip.m"
     ],
     "language": "python",
     "metadata": {},
     "outputs": [
      {
       "output_type": "stream",
       "stream": "stdout",
       "text": [
        "cp: cannot stat `/d/git/oct2py/example/roundtrip.m': No such file or directory\r\n"
       ]
      },
      {
       "output_type": "stream",
       "stream": "stdout",
       "text": [
        "cat: /d/git/oct2py/example/roundtrip.m: No such file or directory\r\n"
       ]
      }
     ],
     "prompt_number": 3
    },
    {
     "cell_type": "code",
     "collapsed": true,
     "input": [
      "%run /d/git/oct2py/example/roundtrip.py"
     ],
     "language": "python",
     "metadata": {},
     "outputs": [
      {
       "output_type": "stream",
       "stream": "stderr",
       "text": [
        "ERROR: File `u'/d/git/oct2py/example/roundtrip.py'` not found.\n"
       ]
      }
     ],
     "prompt_number": 4
    },
    {
     "cell_type": "code",
     "collapsed": false,
     "input": [],
     "language": "python",
     "metadata": {},
     "outputs": []
    }
   ],
   "metadata": {}
  }
 ]
}