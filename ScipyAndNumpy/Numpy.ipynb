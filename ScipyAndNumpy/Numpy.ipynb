{
 "cells": [
  {
   "cell_type": "code",
   "execution_count": 1,
   "metadata": {
    "collapsed": false
   },
   "outputs": [
    {
     "name": "stdout",
     "output_type": "stream",
     "text": [
      "Populating the interactive namespace from numpy and matplotlib\n"
     ]
    }
   ],
   "source": [
    "%pylab inline"
   ]
  },
  {
   "cell_type": "code",
   "execution_count": 2,
   "metadata": {
    "collapsed": true
   },
   "outputs": [],
   "source": [
    "hr=120*\"-\""
   ]
  },
  {
   "cell_type": "code",
   "execution_count": 3,
   "metadata": {
    "collapsed": false
   },
   "outputs": [
    {
     "data": {
      "text/plain": [
       "array([(1, 2.0, 'Hello'), (2, 3.0, 'World')], \n",
       "      dtype=[('f0', '<i4'), ('f1', '<f4'), ('f2', 'S10')])"
      ]
     },
     "execution_count": 3,
     "metadata": {},
     "output_type": "execute_result"
    }
   ],
   "source": [
    "recarr = np.zeros((2,), dtype=('i4,f4,a10'))\n",
    "toadd = [(1,2.,'Hello'),(2,3.,\"World\")]\n",
    "recarr[:] = toadd\n",
    "\n",
    "recarr"
   ]
  },
  {
   "cell_type": "code",
   "execution_count": 6,
   "metadata": {
    "collapsed": false
   },
   "outputs": [
    {
     "data": {
      "text/plain": [
       "([(1, 0.0, 'Hello'), (2, 1.0, 'World')],\n",
       " '------------------------------------------------------------------------------------------------------------------------',\n",
       " array([1, 2], dtype=int32))"
      ]
     },
     "execution_count": 6,
     "metadata": {},
     "output_type": "execute_result"
    }
   ],
   "source": [
    "# Creating an array of zeros and defining column types\n",
    "recarr = np.zeros((2,), dtype=('i4,f4,a10'))\n",
    "# Now creating the columns we want to put\n",
    "# in the recarray\n",
    "col1 = np.arange(2) + 1\n",
    "col2 = np.arange(2, dtype=np.float32)\n",
    "col3 = ['Hello', 'World']\n",
    "# Here we create a list of tuples that is\n",
    "# identical to the previous toadd list.\n",
    "toadd = zip(col1, col2, col3)\n",
    "# Assigning values to recarr\n",
    "recarr[:] = toadd\n",
    "# Assigning names to each column, which\n",
    "# are now by default called 'f0', 'f1', and 'f2'.\n",
    "recarr.dtype.names = ('Integers' , 'Floats', 'Strings')\n",
    "# If we want to access one of the columns by its name, we\n",
    "# can do the following.\n",
    "toadd,hr,recarr['Integers']\n",
    "# array([1, 2], dtype=int32)"
   ]
  },
  {
   "cell_type": "code",
   "execution_count": 7,
   "metadata": {
    "collapsed": false
   },
   "outputs": [
    {
     "data": {
      "text/plain": [
       "array([3, 4])"
      ]
     },
     "execution_count": 7,
     "metadata": {},
     "output_type": "execute_result"
    }
   ],
   "source": [
    "alist=[[1,2],[3,4]]\n",
    "# Converting the list defined above into an array\n",
    "arr = np.array(alist)\n",
    "# To return the (0,1) element we use ...\n",
    "arr[0,1]\n",
    "# Now to access the last column, we simply use ...\n",
    "arr[:,1]\n",
    "# Accessing the columns is achieved in the same way,\n",
    "# which is the bottom row.\n",
    "arr[1,:]\n"
   ]
  },
  {
   "cell_type": "code",
   "execution_count": 8,
   "metadata": {
    "collapsed": false
   },
   "outputs": [
    {
     "data": {
      "text/plain": [
       "(array([False, False, False,  True,  True], dtype=bool),\n",
       " '------------------------------------------------------------------------------------------------------------------------',\n",
       " array([3, 4]))"
      ]
     },
     "execution_count": 8,
     "metadata": {},
     "output_type": "execute_result"
    }
   ],
   "source": [
    "# Creating an array\n",
    "arr = np.arange(5)\n",
    "# Creating the index array\n",
    "index = np.where(arr > 2)\n",
    "\n",
    "# Creating the desired array\n",
    "new_arr = arr[index]\n",
    "new_arr = np.delete(arr, index)\n",
    "index = arr > 2\n",
    "\n",
    "new_arr = arr[index]\n",
    "\n",
    "index,hr,new_arr"
   ]
  },
  {
   "cell_type": "code",
   "execution_count": null,
   "metadata": {
    "collapsed": true
   },
   "outputs": [],
   "source": []
  }
 ],
 "metadata": {
  "kernelspec": {
   "display_name": "Python 2",
   "language": "python",
   "name": "python2"
  },
  "language_info": {
   "codemirror_mode": {
    "name": "ipython",
    "version": 2
   },
   "file_extension": ".py",
   "mimetype": "text/x-python",
   "name": "python",
   "nbconvert_exporter": "python",
   "pygments_lexer": "ipython2",
   "version": "2.7.3"
  }
 },
 "nbformat": 4,
 "nbformat_minor": 0
}
