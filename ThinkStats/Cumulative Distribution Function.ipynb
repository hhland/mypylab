{
 "metadata": {
  "name": "",
  "signature": "sha256:ad1d0b3907188764a93f7a0b2a75c6fcbb3a33449527867f92abad6e19f134e0"
 },
 "nbformat": 3,
 "nbformat_minor": 0,
 "worksheets": [
  {
   "cells": [
    {
     "cell_type": "code",
     "collapsed": false,
     "input": [
      "%pylab inline"
     ],
     "language": "python",
     "metadata": {},
     "outputs": [
      {
       "output_type": "stream",
       "stream": "stdout",
       "text": [
        "Populating the interactive namespace from numpy and matplotlib\n"
       ]
      }
     ],
     "prompt_number": 1
    },
    {
     "cell_type": "code",
     "collapsed": false,
     "input": [
      "%%file script/relay.py\n",
      "import urllib\n",
      "\n",
      "import myplot\n",
      "import Pmf\n",
      "\n",
      "results = 'http://www.coolrunning.com/results/10/ma/Apr25_27thAn_set1.shtml'\n",
      "\n",
      "\"\"\"\n",
      "Sample line.\n",
      "\n",
      "Place Div/Tot  Div   Guntime Nettime  Pace  Name                   Ag S Race# City/state              \n",
      "===== ======== ===== ======= =======  ===== ====================== == = ===== ======================= \n",
      "    1   1/362  M2039   30:43   30:42   4:57 Brian Harvey           22 M  1422 Allston MA              \n",
      "\"\"\"\n",
      "\n",
      "def ConvertPaceToSpeed(pace):\n",
      "    \"\"\"Converts pace in MM:SS per mile to MPH.\"\"\"\n",
      "    m, s = [int(x) for x in pace.split(':')]\n",
      "    secs = m*60 + s\n",
      "    mph  = 1.0 / secs * 60 * 60 \n",
      "    return mph\n",
      "\n",
      "\n",
      "def CleanLine(line):\n",
      "    \"\"\"Converts a line from coolrunning results to a tuple of values.\"\"\"\n",
      "    t = line.split()\n",
      "    if len(t) < 6:\n",
      "        return None\n",
      "    \n",
      "    place, divtot, div, gun, net, pace = t[0:6]\n",
      "\n",
      "    if not '/' in divtot:\n",
      "        return None\n",
      "\n",
      "    for time in [gun, net, pace]:\n",
      "        if ':' not in time:\n",
      "            return None\n",
      "\n",
      "    return place, divtot, div, gun, net, pace\n",
      "\n",
      "\n",
      "def ReadResults(url=results):\n",
      "    \"\"\"Read results from coolrunning and return a list of tuples.\"\"\"\n",
      "    results = []\n",
      "    conn = urllib.urlopen(url)\n",
      "    for line in conn.fp:\n",
      "        t = CleanLine(line)\n",
      "        if t:\n",
      "            results.append(t)\n",
      "    return results\n",
      "\n",
      "\n",
      "def GetSpeeds(results, column=5):\n",
      "    \"\"\"Extract the pace column and return a list of speeds in MPH.\"\"\"\n",
      "    speeds = []\n",
      "    for t in results:\n",
      "        pace = t[column]\n",
      "        speed = ConvertPaceToSpeed(pace)\n",
      "        speeds.append(speed)\n",
      "    return speeds\n",
      "\n",
      "\n",
      "def main():\n",
      "    results = ReadResults()\n",
      "    speeds = GetSpeeds(results)\n",
      "    pmf = Pmf.MakePmfFromList(speeds, 'speeds')\n",
      "    myplot.Pmf(pmf)\n",
      "    myplot.Show(title='PMF of running speed',\n",
      "               xlabel='speed (mph)',\n",
      "               ylabel='probability')\n",
      "\n",
      "\n",
      "if __name__ == '__main__':\n",
      "    main()\n"
     ],
     "language": "python",
     "metadata": {},
     "outputs": [
      {
       "output_type": "stream",
       "stream": "stdout",
       "text": [
        "Overwriting script/relay.py\n"
       ]
      }
     ],
     "prompt_number": 5
    },
    {
     "cell_type": "code",
     "collapsed": false,
     "input": [
      "%run script/relay.py"
     ],
     "language": "python",
     "metadata": {},
     "outputs": [
      {
       "metadata": {},
       "output_type": "display_data",
       "png": "[encoded data removed]",
       "text": [
        "<matplotlib.figure.Figure at 0x3877510>"
       ]
      }
     ],
     "prompt_number": 8
    },
    {
     "cell_type": "code",
     "collapsed": false,
     "input": [
      "%%file script/relay_soln.py\n",
      "import relay\n",
      "import Cdf\n",
      "import Pmf\n",
      "import myplot\n",
      "\n",
      "\n",
      "def BiasPmf(pmf, speed, name=None):\n",
      "    \"\"\"Returns a new Pmf representing speeds observed at a given speed.\n",
      "\n",
      "    The chance of observing a runner is proportional to the difference\n",
      "    in speed.\n",
      "\n",
      "    Args:\n",
      "        pmf: distribution of actual speeds\n",
      "        speed: speed of the observing runner\n",
      "        name: string name for the new dist\n",
      "\n",
      "    Returns:\n",
      "        Pmf object\n",
      "    \"\"\"\n",
      "    new = pmf.Copy(name=name)\n",
      "    for val, prob in new.Items():\n",
      "        diff = abs(val - speed)\n",
      "        new.Mult(val, diff)\n",
      "    new.Normalize()\n",
      "    return new\n",
      "\n",
      "\n",
      "def main():\n",
      "    results = relay.ReadResults()\n",
      "    speeds = relay.GetSpeeds(results)\n",
      "\n",
      "    # plot the distribution of actual speeds\n",
      "    pmf = Pmf.MakePmfFromList(speeds, 'actual speeds')\n",
      "\n",
      "    # myplot.Clf()\n",
      "    # myplot.Hist(pmf)\n",
      "    # myplot.Save(root='observed_speeds',\n",
      "    #             title='PMF of running speed',\n",
      "    #             xlabel='speed (mph)',\n",
      "    #             ylabel='probability')\n",
      "\n",
      "    # plot the biased distribution seen by the observer\n",
      "    biased = BiasPmf(pmf, 7.5, name='observed speeds')\n",
      "\n",
      "    myplot.Clf()\n",
      "    myplot.Hist(biased)\n",
      "    myplot.Save(root='observed_speeds',\n",
      "                title='PMF of running speed',\n",
      "                xlabel='speed (mph)',\n",
      "                ylabel='probability')\n",
      "\n",
      "    cdf = Cdf.MakeCdfFromPmf(biased)\n",
      "\n",
      "    myplot.Clf()\n",
      "    myplot.Cdf(cdf)\n",
      "    myplot.show(root='observed_speeds_cdf',\n",
      "                title='CDF of running speed',\n",
      "                xlabel='speed (mph)',\n",
      "                ylabel='cumulative probability')\n",
      "    \n",
      "\n",
      "if __name__ == '__main__':\n",
      "    main()\n"
     ],
     "language": "python",
     "metadata": {},
     "outputs": [
      {
       "output_type": "stream",
       "stream": "stdout",
       "text": [
        "Overwriting script/relay_soln.py\n"
       ]
      }
     ],
     "prompt_number": 16
    },
    {
     "cell_type": "code",
     "collapsed": false,
     "input": [
      "%run script/relay_soln.py"
     ],
     "language": "python",
     "metadata": {},
     "outputs": [
      {
       "output_type": "stream",
       "stream": "stdout",
       "text": [
        "Writing observed_speeds.pdf\n",
        "Writing"
       ]
      },
      {
       "output_type": "stream",
       "stream": "stdout",
       "text": [
        " observed_speeds.eps\n"
       ]
      },
      {
       "metadata": {},
       "output_type": "display_data",
       "png": "[encoded data removed]",
       "text": [
        "<matplotlib.figure.Figure at 0x3add510>"
       ]
      }
     ],
     "prompt_number": 17
    },
    {
     "cell_type": "code",
     "collapsed": false,
     "input": [
      "def PercentileRank(scores, your_score): \n",
      "    count = 0\n",
      "    for score in scores:\n",
      "        if score <= your_score: \n",
      "            count += 1\n",
      "        percentile_rank = 100.0 * count / len(scores) \n",
      "    return percentile_rank\n",
      "\n",
      "def Percentile(scores, percentile_rank): \n",
      "    scores.sort()\n",
      "    for score in scores:\n",
      "        if PercentileRank(scores, score) >= percentile_rank: \n",
      "            return score"
     ],
     "language": "python",
     "metadata": {},
     "outputs": [],
     "prompt_number": 18
    },
    {
     "cell_type": "code",
     "collapsed": false,
     "input": [
      "hr=\"-\"*120\n",
      "ri=randint(100,size=100)\n",
      "pr=PercentileRank(ri,70)\n",
      "pt=Percentile(ri,pr)\n",
      "ri,hr,pr,hr,pt"
     ],
     "language": "python",
     "metadata": {},
     "outputs": [
      {
       "metadata": {},
       "output_type": "pyout",
       "prompt_number": 26,
       "text": [
        "(array([ 1,  2,  2,  2,  2,  4,  5,  7,  8,  8,  8,  9,  9, 11, 11, 11, 12,\n",
        "        14, 15, 15, 16, 17, 17, 18, 19, 19, 20, 20, 21, 21, 22, 22, 23, 23,\n",
        "        23, 24, 24, 24, 25, 28, 28, 28, 33, 33, 37, 39, 39, 40, 41, 41, 41,\n",
        "        44, 45, 46, 47, 48, 53, 54, 55, 57, 57, 58, 58, 61, 62, 65, 65, 69,\n",
        "        70, 72, 75, 76, 77, 78, 78, 78, 78, 78, 79, 81, 82, 82, 82, 83, 84,\n",
        "        84, 84, 85, 85, 86, 90, 90, 91, 92, 95, 96, 96, 96, 98, 99]),\n",
        " '------------------------------------------------------------------------------------------------------------------------',\n",
        " 69.0,\n",
        " '------------------------------------------------------------------------------------------------------------------------',\n",
        " 70)"
       ]
      }
     ],
     "prompt_number": 26
    },
    {
     "cell_type": "code",
     "collapsed": false,
     "input": [
      "%%file script/relay_cdf.py\n",
      "import relay\n",
      "import Cdf\n",
      "import myplot\n",
      "\n",
      "\n",
      "def main():\n",
      "    results = relay.ReadResults()\n",
      "    speeds = relay.GetSpeeds(results)\n",
      "\n",
      "    # plot the distribution of actual speeds\n",
      "    cdf = Cdf.MakeCdfFromList(speeds, 'speeds')\n",
      "\n",
      "    myplot.Cdf(cdf)\n",
      "    myplot.Show(root='relay_cdf',\n",
      "                title='CDF of running speed',\n",
      "                xlabel='speed (mph)',\n",
      "                ylabel='probability')\n",
      "\n",
      "\n",
      "if __name__ == '__main__':\n",
      "    main()"
     ],
     "language": "python",
     "metadata": {},
     "outputs": [
      {
       "output_type": "stream",
       "stream": "stdout",
       "text": [
        "Writing script/relay_cdf.py\n"
       ]
      }
     ],
     "prompt_number": 27
    },
    {
     "cell_type": "code",
     "collapsed": false,
     "input": [
      "%run script/relay_cdf.py"
     ],
     "language": "python",
     "metadata": {},
     "outputs": [
      {
       "metadata": {},
       "output_type": "display_data",
       "png": "[encoded data removed]",
       "text": [
        "<matplotlib.figure.Figure at 0x37a1e90>"
       ]
      }
     ],
     "prompt_number": 28
    },
    {
     "cell_type": "code",
     "collapsed": false,
     "input": [],
     "language": "python",
     "metadata": {},
     "outputs": []
    }
   ],
   "metadata": {}
  }
 ]
}