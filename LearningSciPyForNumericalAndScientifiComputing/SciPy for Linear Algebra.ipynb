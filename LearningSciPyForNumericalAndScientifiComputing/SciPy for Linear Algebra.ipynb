{
 "metadata": {
  "name": "",
  "signature": "sha256:c29f85053a00dee56f7f74908b982c1dbe0c97f4f0499e570288d4f1d891eb91"
 },
 "nbformat": 3,
 "nbformat_minor": 0,
 "worksheets": [
  {
   "cells": [
    {
     "cell_type": "code",
     "collapsed": false,
     "input": [
      "%pylab inline\n",
      "import scipy\n",
      "import scipy.sparse"
     ],
     "language": "python",
     "metadata": {},
     "outputs": [
      {
       "output_type": "stream",
       "stream": "stdout",
       "text": [
        "Populating the interactive namespace from numpy and matplotlib\n"
       ]
      }
     ],
     "prompt_number": 9
    },
    {
     "cell_type": "code",
     "collapsed": false,
     "input": [
      "a=numpy.matrix(\"1,2,3;4,5,6\")\n",
      "print a\n",
      "a=numpy.matrix([[1,2,3],[4,5,6]])\n",
      "print a"
     ],
     "language": "python",
     "metadata": {},
     "outputs": [
      {
       "output_type": "stream",
       "stream": "stdout",
       "text": [
        "[[1 2 3]\n",
        " [4 5 6]]\n",
        "[[1 2 3]\n",
        " [4 5 6]]\n"
       ]
      }
     ],
     "prompt_number": 7
    },
    {
     "cell_type": "code",
     "collapsed": false,
     "input": [
      "rows=numpy.array([0,1,2,3])\n",
      "cols=numpy.array([1,2,3,4])\n",
      "vals=numpy.array([10,20,30,40])\n",
      "a=scipy.sparse.coo_matrix( (vals,(rows,cols)) )\n",
      "print a,a.todense()"
     ],
     "language": "python",
     "metadata": {},
     "outputs": [
      {
       "output_type": "stream",
       "stream": "stdout",
       "text": [
        "   (0, 1)\t10\n",
        "  (1, 2)\t20\n",
        "  (2, 3)\t30\n",
        "  (3, 4)\t40 [[ 0 10  0  0  0]\n",
        " [ 0  0 20  0  0]\n",
        " [ 0  0  0 30  0]\n",
        " [ 0  0  0  0 40]]\n"
       ]
      }
     ],
     "prompt_number": 15
    },
    {
     "cell_type": "code",
     "collapsed": false,
     "input": [],
     "language": "python",
     "metadata": {},
     "outputs": []
    }
   ],
   "metadata": {}
  }
 ]
}