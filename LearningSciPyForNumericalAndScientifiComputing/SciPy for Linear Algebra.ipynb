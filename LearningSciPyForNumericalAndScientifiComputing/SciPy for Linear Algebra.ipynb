{
 "metadata": {
  "name": "",
  "signature": "sha256:53f50ba6a0b50be6a6ccf19915054131940ec55b79e1d929caf57ef362febd98"
 },
 "nbformat": 3,
 "nbformat_minor": 0,
 "worksheets": [
  {
   "cells": [
    {
     "cell_type": "code",
     "collapsed": false,
     "input": [
      "%pylab inline\n",
      "import scipy\n",
      "import scipy.sparse\n",
      "import scipy.linalg"
     ],
     "language": "python",
     "metadata": {},
     "outputs": [
      {
       "output_type": "stream",
       "stream": "stdout",
       "text": [
        "Populating the interactive namespace from numpy and matplotlib\n"
       ]
      }
     ],
     "prompt_number": 13
    },
    {
     "cell_type": "code",
     "collapsed": false,
     "input": [
      "a=numpy.matrix(\"1,2,3;4,5,6\")\n",
      "print a\n",
      "a=numpy.matrix([[1,2,3],[4,5,6]])\n",
      "print a"
     ],
     "language": "python",
     "metadata": {},
     "outputs": [
      {
       "output_type": "stream",
       "stream": "stdout",
       "text": [
        "[[1 2 3]\n",
        " [4 5 6]]\n",
        "[[1 2 3]\n",
        " [4 5 6]]\n"
       ]
      }
     ],
     "prompt_number": 3
    },
    {
     "cell_type": "code",
     "collapsed": false,
     "input": [
      "rows=numpy.array([0,1,2,3])\n",
      "cols=numpy.array([1,2,3,4])\n",
      "vals=numpy.array([10,20,30,40])\n",
      "a=scipy.sparse.coo_matrix( (vals,(rows,cols)) )\n",
      "print a,a.todense()"
     ],
     "language": "python",
     "metadata": {},
     "outputs": [
      {
       "output_type": "stream",
       "stream": "stdout",
       "text": [
        "  (0, 1)\t10\n",
        "  (1, 2)\t20\n",
        "  (2, 3)\t30\n",
        "  (3, 4)\t40 [[ 0 10  0  0  0]\n",
        " [ 0  0 20  0  0]\n",
        " [ 0  0  0 30  0]\n",
        " [ 0  0  0  0 40]]\n"
       ]
      }
     ],
     "prompt_number": 4
    },
    {
     "cell_type": "code",
     "collapsed": false,
     "input": [
      "scipy.sparse.isspmatrix_coo(a)"
     ],
     "language": "python",
     "metadata": {},
     "outputs": [
      {
       "metadata": {},
       "output_type": "pyout",
       "prompt_number": 5,
       "text": [
        "True"
       ]
      }
     ],
     "prompt_number": 5
    },
    {
     "cell_type": "code",
     "collapsed": false,
     "input": [
      "B=numpy.mat(numpy.ones((3,3)))\n",
      "W=numpy.mat(numpy.zeros((3,3)))\n",
      "print numpy.bmat('B,W;W,B')"
     ],
     "language": "python",
     "metadata": {},
     "outputs": [
      {
       "output_type": "stream",
       "stream": "stdout",
       "text": [
        "[[ 1.  1.  1.  0.  0.  0.]\n",
        " [ 1.  1.  1.  0.  0.  0.]\n",
        " [ 1.  1.  1.  0.  0.  0.]\n",
        " [ 0.  0.  0.  1.  1.  1.]\n",
        " [ 0.  0.  0.  1.  1.  1.]\n",
        " [ 0.  0.  0.  1.  1.  1.]]\n"
       ]
      }
     ],
     "prompt_number": 6
    },
    {
     "cell_type": "code",
     "collapsed": false,
     "input": [
      "a=numpy.array([[1,2],[3,4]])\n",
      "a*a"
     ],
     "language": "python",
     "metadata": {},
     "outputs": [
      {
       "metadata": {},
       "output_type": "pyout",
       "prompt_number": 7,
       "text": [
        "array([[ 1,  4],\n",
        "       [ 9, 16]])"
       ]
      }
     ],
     "prompt_number": 7
    },
    {
     "cell_type": "code",
     "collapsed": false,
     "input": [
      " A=numpy.mat(a)\n",
      "numpy.multiply(A,A)"
     ],
     "language": "python",
     "metadata": {},
     "outputs": [
      {
       "metadata": {},
       "output_type": "pyout",
       "prompt_number": 10,
       "text": [
        "matrix([[ 1,  4],\n",
        "        [ 9, 16]])"
       ]
      }
     ],
     "prompt_number": 10
    },
    {
     "cell_type": "code",
     "collapsed": false,
     "input": [
      "a=numpy.arange(5); A=numpy.mat(a)\n",
      "a.shape, A.shape, a.transpose().shape, A.transpose().shape"
     ],
     "language": "python",
     "metadata": {},
     "outputs": [
      {
       "metadata": {},
       "output_type": "pyout",
       "prompt_number": 11,
       "text": [
        "((5,), (1, 5), (5,), (5, 1))"
       ]
      }
     ],
     "prompt_number": 11
    },
    {
     "cell_type": "code",
     "collapsed": false,
     "input": [
      "%%debug\n",
      "A=scipy.linalg.hadamard(8)\n",
      "zero_sum_rows = (numpy.sum(A,0)==0)\n",
      "B=A[zero_sum_rows,:]\n",
      "print B[0:3,:]"
     ],
     "language": "python",
     "metadata": {},
     "outputs": [
      {
       "output_type": "stream",
       "stream": "stdout",
       "text": [
        "NOTE: Enter 'c' at the ipdb>  prompt to continue execution.\n",
        "> \u001b[1;32m<string>\u001b[0m(2)\u001b[0;36m<module>\u001b[1;34m()\u001b[0m\n",
        "\n"
       ]
      },
      {
       "name": "stdout",
       "output_type": "stream",
       "stream": "stdout",
       "text": [
        "ipdb> n\n"
       ]
      },
      {
       "output_type": "stream",
       "stream": "stdout",
       "text": [
        "> \u001b[1;32m<string>\u001b[0m(3)\u001b[0;36m<module>\u001b[1;34m()\u001b[0m\n",
        "\n"
       ]
      },
      {
       "name": "stdout",
       "output_type": "stream",
       "stream": "stdout",
       "text": [
        "ipdb> p A\n"
       ]
      },
      {
       "output_type": "stream",
       "stream": "stdout",
       "text": [
        "array([[ 1,  1,  1,  1,  1,  1,  1,  1],\n",
        "       [ 1, -1,  1, -1,  1, -1,  1, -1],\n",
        "       [ 1,  1, -1, -1,  1,  1, -1, -1],\n",
        "       [ 1, -1, -1,  1,  1, -1, -1,  1],\n",
        "       [ 1,  1,  1,  1, -1, -1, -1, -1],\n",
        "       [ 1, -1,  1, -1, -1,  1, -1,  1],\n",
        "       [ 1,  1, -1, -1, -1, -1,  1,  1],\n",
        "       [ 1, -1, -1,  1, -1,  1,  1, -1]])\n"
       ]
      },
      {
       "name": "stdout",
       "output_type": "stream",
       "stream": "stdout",
       "text": [
        "ipdb> c\n"
       ]
      },
      {
       "output_type": "stream",
       "stream": "stdout",
       "text": [
        "[[ 1 -1  1 -1  1 -1  1 -1]\n",
        " [ 1  1 -1 -1  1  1 -1 -1]\n",
        " [ 1 -1 -1  1  1 -1 -1  1]]\n"
       ]
      }
     ],
     "prompt_number": 16
    },
    {
     "cell_type": "code",
     "collapsed": false,
     "input": [
      "A = numpy.matrix(\"1+1j, 2-1j; 3-1j, 4+1j\")\n",
      "print A.T; print A.H"
     ],
     "language": "python",
     "metadata": {},
     "outputs": [
      {
       "output_type": "stream",
       "stream": "stdout",
       "text": [
        "[[ 1.+1.j  3.-1.j]\n",
        " [ 2.-1.j  4.+1.j]]\n",
        "[[ 1.-1.j  3.+1.j]\n",
        " [ 2.+1.j  4.-1.j]]\n"
       ]
      }
     ],
     "prompt_number": 17
    },
    {
     "cell_type": "code",
     "collapsed": false,
     "input": [
      "%%debug\n",
      "mu=1/numpy.sqrt(2)\n",
      "A=numpy.matrix([[mu,0,mu],[0,1,0],[mu,0,-mu]])\n",
      "B=scipy.linalg.kron(A,A)\n",
      "print B[:,0:-1:2]"
     ],
     "language": "python",
     "metadata": {},
     "outputs": [
      {
       "output_type": "stream",
       "stream": "stdout",
       "text": [
        "NOTE: Enter 'c' at the ipdb>  prompt to continue execution.\n",
        "> \u001b[1;32m<string>\u001b[0m(2)\u001b[0;36m<module>\u001b[1;34m()\u001b[0m\n",
        "\n"
       ]
      },
      {
       "name": "stdout",
       "output_type": "stream",
       "stream": "stdout",
       "text": [
        "ipdb> n\n"
       ]
      },
      {
       "output_type": "stream",
       "stream": "stdout",
       "text": [
        "> \u001b[1;32m<string>\u001b[0m(3)\u001b[0;36m<module>\u001b[1;34m()\u001b[0m\n",
        "\n"
       ]
      },
      {
       "name": "stdout",
       "output_type": "stream",
       "stream": "stdout",
       "text": [
        "ipdb> p  mu\n"
       ]
      },
      {
       "output_type": "stream",
       "stream": "stdout",
       "text": [
        "0.70710678118654746\n"
       ]
      },
      {
       "name": "stdout",
       "output_type": "stream",
       "stream": "stdout",
       "text": [
        "ipdb> n\n"
       ]
      },
      {
       "output_type": "stream",
       "stream": "stdout",
       "text": [
        "> \u001b[1;32m<string>\u001b[0m(4)\u001b[0;36m<module>\u001b[1;34m()\u001b[0m\n",
        "\n"
       ]
      },
      {
       "name": "stdout",
       "output_type": "stream",
       "stream": "stdout",
       "text": [
        "ipdb> p A\n"
       ]
      },
      {
       "output_type": "stream",
       "stream": "stdout",
       "text": [
        "matrix([[ 0.70710678,  0.        ,  0.70710678],\n",
        "        [ 0.        ,  1.        ,  0.        ],\n",
        "        [ 0.70710678,  0.        , -0.70710678]])\n"
       ]
      },
      {
       "name": "stdout",
       "output_type": "stream",
       "stream": "stdout",
       "text": [
        "ipdb> c\n"
       ]
      },
      {
       "output_type": "stream",
       "stream": "stdout",
       "text": [
        "[[ 0.5  0.5  0.   0.5]\n",
        " [ 0.   0.   0.   0. ]\n",
        " [ 0.5 -0.5  0.   0.5]\n",
        " [ 0.   0.   0.   0. ]\n",
        " [ 0.   0.   1.   0. ]\n",
        " [ 0.  -0.   0.   0. ]\n",
        " [ 0.5  0.5  0.  -0.5]\n",
        " [ 0.   0.   0.  -0. ]\n",
        " [ 0.5 -0.5  0.  -0.5]]\n"
       ]
      }
     ],
     "prompt_number": 21
    },
    {
     "cell_type": "code",
     "collapsed": false,
     "input": [
      "A=numpy.matrix(\"1,1j;21,3\")\n",
      "print A**2; print numpy.asarray(A)**2"
     ],
     "language": "python",
     "metadata": {},
     "outputs": [
      {
       "output_type": "stream",
       "stream": "stdout",
       "text": [
        "[[  1.+21.j   0. +4.j]\n",
        " [ 84. +0.j   9.+21.j]]\n",
        "[[   1.+0.j   -1.+0.j]\n",
        " [ 441.+0.j    9.+0.j]]\n"
       ]
      }
     ],
     "prompt_number": 22
    },
    {
     "cell_type": "code",
     "collapsed": false,
     "input": [
      "a=numpy.arange(0,2*numpy.pi,1.6)\n",
      "A = scipy.linalg.toeplitz(a)\n",
      "print A\n",
      "print numpy.exp(A)\n",
      "print scipy.linalg.expm(A)"
     ],
     "language": "python",
     "metadata": {},
     "outputs": [
      {
       "output_type": "stream",
       "stream": "stdout",
       "text": [
        "[[ 0.   1.6  3.2  4.8]\n",
        " [ 1.6  0.   1.6  3.2]\n",
        " [ 3.2  1.6  0.   1.6]\n",
        " [ 4.8  3.2  1.6  0. ]]\n",
        "[[   1.            4.95303242   24.5325302   121.51041752]\n",
        " [   4.95303242    1.            4.95303242   24.5325302 ]\n",
        " [  24.5325302     4.95303242    1.            4.95303242]\n",
        " [ 121.51041752   24.5325302     4.95303242    1.        ]]\n",
        "[[ 1271.76972856   916.49316549   916.63015271  1271.70874469]\n",
        " [  916.49316549   660.86560972   660.5306514    916.63015271]\n",
        " [  916.63015271   660.5306514    660.86560972   916.49316549]\n",
        " [ 1271.70874469   916.63015271   916.49316549  1271.76972856]]"
       ]
      },
      {
       "output_type": "stream",
       "stream": "stdout",
       "text": [
        "\n"
       ]
      }
     ],
     "prompt_number": 23
    },
    {
     "cell_type": "code",
     "collapsed": false,
     "input": [
      "x=10**100; y=9; v=numpy.matrix([x,y])\n",
      "scipy.linalg.norm(v,2)"
     ],
     "language": "python",
     "metadata": {},
     "outputs": [
      {
       "metadata": {},
       "output_type": "pyout",
       "prompt_number": 24,
       "text": [
        "1e+100"
       ]
      }
     ],
     "prompt_number": 24
    },
    {
     "cell_type": "code",
     "collapsed": false,
     "input": [
      "img=scipy.misc.lena()\n",
      "U,s,Vh=svd(img)      \n",
      "A = numpy.dot( U[:,0:32],  numpy.dot( numpy.diag(s[0:32]),Vh[0:32,:]))\n",
      "\n",
      "plt.subplot(121,aspect='equal'); plt.imshow(img); plt.gray()\n",
      "plt.subplot(122,aspect='equal'); plt.imshow(A)\n"
     ],
     "language": "python",
     "metadata": {},
     "outputs": [
      {
       "metadata": {},
       "output_type": "pyout",
       "prompt_number": 27,
       "text": [
        "<matplotlib.image.AxesImage at 0x3680c10>"
       ]
      },
      {
       "metadata": {},
       "output_type": "display_data",
       "png": "[encoded data removed]",
       "text": [
        "<matplotlib.figure.Figure at 0x21db210>"
       ]
      }
     ],
     "prompt_number": 27
    },
    {
     "cell_type": "markdown",
     "metadata": {},
     "source": [
      "#Solvers\n",
      "One of the main applications of linear algebra is to the solution of large systems  \n",
      "of linear equations. For the basic systems of the form Ax=b, for any square matrix  \n",
      "A and a general matrix b (with as many rows as columns in A), we have two generic \n",
      "methods to fnd x (solve for dense matrices and spsolve for sparse matrices), with \n",
      "the following syntax:"
     ]
    },
    {
     "cell_type": "code",
     "collapsed": false,
     "input": [
      "%%debug\n",
      "solve(A, b, sym_pos=False, lower=False, overwrite_a=False, overwrite_b=False, debug=False)\n",
      "spsolve(A, b[:, permc_spec, use_umfpack])"
     ],
     "language": "python",
     "metadata": {},
     "outputs": [
      {
       "output_type": "stream",
       "stream": "stdout",
       "text": [
        "NOTE: Enter 'c' at the ipdb>  prompt to continue execution.\n",
        "> \u001b[1;32m<string>\u001b[0m(2)\u001b[0;36m<module>\u001b[1;34m()\u001b[0m\n",
        "\n"
       ]
      },
      {
       "name": "stdout",
       "output_type": "stream",
       "stream": "stdout",
       "text": [
        "ipdb> n\n"
       ]
      },
      {
       "output_type": "stream",
       "stream": "stdout",
       "text": [
        "TypeError: \"solve() got an unexpected keyword argument 'sym_pos'\"\n",
        "> \u001b[1;32m<string>\u001b[0m(2)\u001b[0;36m<module>\u001b[1;34m()\u001b[0m\n",
        "\n"
       ]
      },
      {
       "name": "stdout",
       "output_type": "stream",
       "stream": "stdout",
       "text": [
        "ipdb> p b\n"
       ]
      },
      {
       "output_type": "stream",
       "stream": "stdout",
       "text": [
        "matrix([[0],\n",
        "        [1],\n",
        "        [2]])\n"
       ]
      },
      {
       "name": "stdout",
       "output_type": "stream",
       "stream": "stdout",
       "text": [
        "ipdb> c\n"
       ]
      },
      {
       "output_type": "stream",
       "stream": "stdout",
       "text": [
        "\u001b[1;31m---------------------------------------------------------------------------\u001b[0m\n",
        "\u001b[1;31mTypeError\u001b[0m                                 Traceback (most recent call last)\n",
        "\u001b[1;31mTypeError\u001b[0m: solve() got an unexpected keyword argument 'sym_pos'\n"
       ]
      }
     ],
     "prompt_number": 32
    },
    {
     "cell_type": "code",
     "collapsed": false,
     "input": [
      "A=numpy.mat(numpy.eye(3,k=1))\n",
      "b=numpy.mat(numpy.arange(3)).T\n",
      "xinfo=scipy.linalg.lstsq(A,b)\n",
      "print xinfo[0].T      # output the solution"
     ],
     "language": "python",
     "metadata": {},
     "outputs": [
      {
       "output_type": "stream",
       "stream": "stdout",
       "text": [
        "[[ 0.  0.  1.]]\n"
       ]
      }
     ],
     "prompt_number": 30
    },
    {
     "cell_type": "code",
     "collapsed": false,
     "input": [],
     "language": "python",
     "metadata": {},
     "outputs": []
    }
   ],
   "metadata": {}
  }
 ]
}